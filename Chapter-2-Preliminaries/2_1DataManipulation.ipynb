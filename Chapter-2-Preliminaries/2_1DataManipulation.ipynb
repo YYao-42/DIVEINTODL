{
  "nbformat": 4,
  "nbformat_minor": 0,
  "metadata": {
    "kernelspec": {
      "display_name": "Python 3",
      "name": "python3"
    },
    "language_info": {
      "name": "python"
    },
    "colab": {
      "name": "2-1DataManipulation.ipynb",
      "provenance": [],
      "collapsed_sections": [],
      "include_colab_link": true
    }
  },
  "cells": [
    {
      "cell_type": "markdown",
      "metadata": {
        "id": "view-in-github",
        "colab_type": "text"
      },
      "source": [
        "<a href=\"https://colab.research.google.com/github/YYao-42/DIVEINTODL/blob/main/2_1DataManipulation.ipynb\" target=\"_parent\"><img src=\"https://colab.research.google.com/assets/colab-badge.svg\" alt=\"Open In Colab\"/></a>"
      ]
    },
    {
      "cell_type": "markdown",
      "metadata": {
        "origin_pos": 0,
        "id": "k6fATyrGx8pl"
      },
      "source": [
        "# Data Manipulation\n",
        "\n",
        "Two important things we need to do with data: \n",
        "1. Acquire them; \n",
        "2. Process them once they are inside the computer.  \n",
        "\n",
        "There is no\n",
        "point in acquiring data without some way to store it, so let us get our hands\n",
        "dirty first by playing with synthetic data.  To start, we introduce the\n",
        "$n$-dimensional array, which is also called the *tensor*.\n",
        "\n",
        "No matter which framework you use,\n",
        "its *tensor class* (`ndarray` in MXNet,\n",
        "`Tensor` in both PyTorch and TensorFlow) is similar to NumPy's `ndarray` with\n",
        "a few killer features.\n",
        "1. GPU is well-supported to accelerate the computation\n",
        "whereas NumPy only supports CPU computation.\n",
        "2. The tensor class\n",
        "supports automatic differentiation.\n",
        "\n",
        "These properties make the tensor class suitable for deep learning.\n",
        "\n",
        "## Getting Started\n"
      ]
    },
    {
      "cell_type": "markdown",
      "metadata": {
        "origin_pos": 2,
        "tab": [
          "pytorch"
        ],
        "id": "nwz5Nn9fx8pu"
      },
      "source": [
        "(**To start, we import `torch`. Note that though it's called PyTorch, we should\n",
        "import `torch` instead of `pytorch`.**)\n"
      ]
    },
    {
      "cell_type": "code",
      "metadata": {
        "origin_pos": 5,
        "tab": [
          "pytorch"
        ],
        "id": "Wi3sv6RJx8pw"
      },
      "source": [
        "import torch"
      ],
      "execution_count": 1,
      "outputs": []
    },
    {
      "cell_type": "markdown",
      "metadata": {
        "origin_pos": 7,
        "id": "uNCT1ofdx8pz"
      },
      "source": [
        "[**A tensor represents a (possibly multi-dimensional) array of numerical values.**]\n",
        "\n",
        "*Unless otherwise specified, a new tensor\n",
        "will be stored in main memory and designated for CPU-based computation.*\n",
        "\n",
        "With one axis, a tensor corresponds (in math) to a *vector*.\n",
        "With two axes, a tensor corresponds to a *matrix*.\n",
        "Tensors with more than two axes do not have special\n",
        "mathematical names.\n",
        "\n",
        "To start, we can use `arange` to create a row vector `x`\n",
        "containing the first 12 integers starting with 0,\n",
        "though they are created as floats by default.\n",
        "Each of the values in a tensor is called an *element* of the tensor.\n",
        "For instance, there are 12 elements in the tensor `x`.\n"
      ]
    },
    {
      "cell_type": "code",
      "metadata": {
        "origin_pos": 9,
        "tab": [
          "pytorch"
        ],
        "id": "jGaoe5fax8p1",
        "colab": {
          "base_uri": "https://localhost:8080/"
        },
        "outputId": "650c79a2-adf2-45a6-9089-d0d20704f7c1"
      },
      "source": [
        "x = torch.arange(12)\n",
        "x"
      ],
      "execution_count": 2,
      "outputs": [
        {
          "output_type": "execute_result",
          "data": {
            "text/plain": [
              "tensor([ 0,  1,  2,  3,  4,  5,  6,  7,  8,  9, 10, 11])"
            ]
          },
          "metadata": {},
          "execution_count": 2
        }
      ]
    },
    {
      "cell_type": "markdown",
      "metadata": {
        "origin_pos": 11,
        "id": "jdLBIgYdx8p3"
      },
      "source": [
        "**We can access a tensor's *shape*** (the length along each axis)\n",
        "by inspecting its `shape` property.\n"
      ]
    },
    {
      "cell_type": "code",
      "metadata": {
        "origin_pos": 12,
        "tab": [
          "pytorch"
        ],
        "id": "lW7cgxAbx8p5",
        "colab": {
          "base_uri": "https://localhost:8080/"
        },
        "outputId": "f99bf529-9cad-49a2-c526-29aaefeff8a5"
      },
      "source": [
        "x.shape"
      ],
      "execution_count": 3,
      "outputs": [
        {
          "output_type": "execute_result",
          "data": {
            "text/plain": [
              "torch.Size([12])"
            ]
          },
          "metadata": {},
          "execution_count": 3
        }
      ]
    },
    {
      "cell_type": "markdown",
      "metadata": {
        "id": "Ic59wg9E4uGe"
      },
      "source": [
        "Or we can use `.size()`\n",
        "\n",
        "`.shape` is an alias for `.size()`, and was added to more closely match numpy. (https://github.com/pytorch/pytorch/issues/5544)"
      ]
    },
    {
      "cell_type": "code",
      "metadata": {
        "colab": {
          "base_uri": "https://localhost:8080/"
        },
        "id": "SpEjsDUJ4NcZ",
        "outputId": "27cfee30-97d3-480e-d2bc-603f31bff99a"
      },
      "source": [
        "x.size()"
      ],
      "execution_count": 5,
      "outputs": [
        {
          "output_type": "execute_result",
          "data": {
            "text/plain": [
              "torch.Size([12])"
            ]
          },
          "metadata": {},
          "execution_count": 5
        }
      ]
    },
    {
      "cell_type": "markdown",
      "metadata": {
        "origin_pos": 13,
        "id": "nqbonel5x8p8"
      },
      "source": [
        "If we just want to know the total number of elements in a tensor,\n",
        "i.e., the product of all of the shape elements,\n",
        "we can inspect its size using `.numer`.\n",
        "Because we are dealing with a vector here,\n",
        "the single element of its `shape` is identical to its size.\n"
      ]
    },
    {
      "cell_type": "code",
      "metadata": {
        "origin_pos": 15,
        "tab": [
          "pytorch"
        ],
        "id": "qIpotg7kx8p_",
        "colab": {
          "base_uri": "https://localhost:8080/"
        },
        "outputId": "664ef3ab-e6f0-4497-b470-bdd983a5da69"
      },
      "source": [
        "x.numel()"
      ],
      "execution_count": 6,
      "outputs": [
        {
          "output_type": "execute_result",
          "data": {
            "text/plain": [
              "12"
            ]
          },
          "metadata": {},
          "execution_count": 6
        }
      ]
    },
    {
      "cell_type": "markdown",
      "metadata": {
        "origin_pos": 17,
        "id": "yAyzwxT5x8qD"
      },
      "source": [
        "To [**change the shape of a tensor without altering\n",
        "either the number of elements or their values**],\n",
        "we can invoke the `reshape` function.\n",
        "For example, we can transform our tensor, `x`,\n",
        "from a row vector with shape (12,) to a matrix with shape (3, 4).\n"
      ]
    },
    {
      "cell_type": "code",
      "metadata": {
        "origin_pos": 18,
        "tab": [
          "pytorch"
        ],
        "id": "vyl58jPkx8qF",
        "colab": {
          "base_uri": "https://localhost:8080/"
        },
        "outputId": "fc8f0371-28c9-40e1-9e48-69f0d8fbb707"
      },
      "source": [
        "X = x.reshape(3, 4)\n",
        "X"
      ],
      "execution_count": 7,
      "outputs": [
        {
          "output_type": "execute_result",
          "data": {
            "text/plain": [
              "tensor([[ 0,  1,  2,  3],\n",
              "        [ 4,  5,  6,  7],\n",
              "        [ 8,  9, 10, 11]])"
            ]
          },
          "metadata": {},
          "execution_count": 7
        }
      ]
    },
    {
      "cell_type": "markdown",
      "metadata": {
        "id": "BBN-mb0F5cAC"
      },
      "source": [
        "Reshaping by manually specifying every dimension is unnecessary.\n",
        "If our target shape is a matrix with shape (height, width),\n",
        "then after we know the width, the height is given implicitly.\n",
        "Why should we have to perform the division ourselves?\n",
        "In the example above, to get a matrix with 3 rows,\n",
        "we specified both that it should have 3 rows and 4 columns.\n",
        "Fortunately, tensors can automatically work out one dimension given the rest.\n",
        "**We invoke this capability by placing `-1` for the dimension\n",
        "that we would like tensors to automatically infer.**\n",
        "In our case, instead of calling `x.reshape(3, 4)`,\n",
        "we could have equivalently called `x.reshape(-1, 4)` or `x.reshape(3, -1)`."
      ]
    },
    {
      "cell_type": "code",
      "metadata": {
        "colab": {
          "base_uri": "https://localhost:8080/"
        },
        "id": "b4pC4z9g5kMa",
        "outputId": "e8416bdd-3ccc-4920-e3a8-149024bdb6b6"
      },
      "source": [
        "X = x.reshape(3, -1)\n",
        "X"
      ],
      "execution_count": 8,
      "outputs": [
        {
          "output_type": "execute_result",
          "data": {
            "text/plain": [
              "tensor([[ 0,  1,  2,  3],\n",
              "        [ 4,  5,  6,  7],\n",
              "        [ 8,  9, 10, 11]])"
            ]
          },
          "metadata": {},
          "execution_count": 8
        }
      ]
    },
    {
      "cell_type": "markdown",
      "metadata": {
        "origin_pos": 20,
        "id": "cK3_UX9tx8qG"
      },
      "source": [
        "\n",
        "\n",
        "Typically, we will want our matrices initialized\n",
        "either with zeros, ones, some other constants,\n",
        "or numbers randomly sampled from a specific distribution.\n",
        "[**We can create a tensor representing a tensor with all elements\n",
        "set to 0**] \n",
        "and a shape of (2, 3, 4) as follows:\n"
      ]
    },
    {
      "cell_type": "code",
      "metadata": {
        "origin_pos": 22,
        "tab": [
          "pytorch"
        ],
        "id": "AquOkdkrx8qI",
        "colab": {
          "base_uri": "https://localhost:8080/"
        },
        "outputId": "372e8a9e-351e-4e3f-9ba8-c3e6cb5bd03e"
      },
      "source": [
        "torch.zeros((2, 3, 4))"
      ],
      "execution_count": 9,
      "outputs": [
        {
          "output_type": "execute_result",
          "data": {
            "text/plain": [
              "tensor([[[0., 0., 0., 0.],\n",
              "         [0., 0., 0., 0.],\n",
              "         [0., 0., 0., 0.]],\n",
              "\n",
              "        [[0., 0., 0., 0.],\n",
              "         [0., 0., 0., 0.],\n",
              "         [0., 0., 0., 0.]]])"
            ]
          },
          "metadata": {},
          "execution_count": 9
        }
      ]
    },
    {
      "cell_type": "markdown",
      "metadata": {
        "origin_pos": 24,
        "id": "a56mmSX_x8qK"
      },
      "source": [
        "Similarly, we can create tensors with each element set to 1 as follows:\n"
      ]
    },
    {
      "cell_type": "code",
      "metadata": {
        "origin_pos": 26,
        "tab": [
          "pytorch"
        ],
        "id": "n4EHOZzbx8qL",
        "colab": {
          "base_uri": "https://localhost:8080/"
        },
        "outputId": "d4fad4e8-7f97-487a-ebf3-002280b62e20"
      },
      "source": [
        "torch.ones((2, 3, 4))"
      ],
      "execution_count": 10,
      "outputs": [
        {
          "output_type": "execute_result",
          "data": {
            "text/plain": [
              "tensor([[[1., 1., 1., 1.],\n",
              "         [1., 1., 1., 1.],\n",
              "         [1., 1., 1., 1.]],\n",
              "\n",
              "        [[1., 1., 1., 1.],\n",
              "         [1., 1., 1., 1.],\n",
              "         [1., 1., 1., 1.]]])"
            ]
          },
          "metadata": {},
          "execution_count": 10
        }
      ]
    },
    {
      "cell_type": "markdown",
      "metadata": {
        "origin_pos": 28,
        "id": "DRCGnsfbx8qM"
      },
      "source": [
        "Often, we want to [**randomly sample the values\n",
        "for each element in a tensor**]\n",
        "from some probability distribution.\n",
        "For example, when we construct arrays to serve\n",
        "as parameters in a neural network, we will\n",
        "typically initialize their values randomly.\n",
        "The following snippet creates a tensor with shape (3, 4).\n",
        "Each of its elements is randomly sampled\n",
        "from a standard Gaussian (normal) distribution\n",
        "with a mean of 0 and a standard deviation of 1.\n"
      ]
    },
    {
      "cell_type": "code",
      "metadata": {
        "origin_pos": 30,
        "tab": [
          "pytorch"
        ],
        "id": "Ejn9G7Z9x8qM",
        "colab": {
          "base_uri": "https://localhost:8080/"
        },
        "outputId": "bb6045e5-4758-4477-ac2e-496eee0ca622"
      },
      "source": [
        "torch.randn(3, 4)"
      ],
      "execution_count": 11,
      "outputs": [
        {
          "output_type": "execute_result",
          "data": {
            "text/plain": [
              "tensor([[-0.2871,  0.1779, -1.1630, -0.1997],\n",
              "        [ 0.2509, -1.6472,  1.3583,  0.8380],\n",
              "        [-0.2295, -0.4366,  0.3665, -0.1927]])"
            ]
          },
          "metadata": {},
          "execution_count": 11
        }
      ]
    },
    {
      "cell_type": "markdown",
      "metadata": {
        "origin_pos": 32,
        "id": "nvyCqPSUx8qN"
      },
      "source": [
        "We can also [**specify the exact values for each element**] in the desired tensor\n",
        "by supplying a Python list (or list of lists) containing the numerical values.\n",
        "Here, *the outermost list corresponds to axis 0, and the inner list to axis 1*.\n"
      ]
    },
    {
      "cell_type": "code",
      "metadata": {
        "origin_pos": 34,
        "tab": [
          "pytorch"
        ],
        "id": "JIc8ZPgZx8qN",
        "colab": {
          "base_uri": "https://localhost:8080/"
        },
        "outputId": "e6c12d88-de17-4e3e-906c-c7e01c35b0a5"
      },
      "source": [
        "torch.tensor([[2, 1, 4, 3], [1, 2, 3, 4], [4, 3, 2, 1]])"
      ],
      "execution_count": 12,
      "outputs": [
        {
          "output_type": "execute_result",
          "data": {
            "text/plain": [
              "tensor([[2, 1, 4, 3],\n",
              "        [1, 2, 3, 4],\n",
              "        [4, 3, 2, 1]])"
            ]
          },
          "metadata": {},
          "execution_count": 12
        }
      ]
    },
    {
      "cell_type": "markdown",
      "metadata": {
        "origin_pos": 36,
        "id": "bF1Sd7C_x8qO"
      },
      "source": [
        "## Operations\n",
        "\n",
        "*Elementwise* operations apply a standard scalar operation\n",
        "to each element of an array.\n",
        "For functions that take two arrays as inputs,\n",
        "elementwise operations apply some standard binary operator\n",
        "on each pair of corresponding elements from the two arrays.\n",
        "\n",
        "In mathematical notation, we denote a *binary* scalar operator\n",
        "(taking two real inputs, and yielding one output)\n",
        "by the signature $f: \\mathbb{R}, \\mathbb{R} \\rightarrow \\mathbb{R}$.\n",
        "Given any two vectors $\\mathbf{u}$ and $\\mathbf{v}$ *of the same shape*,\n",
        "and a binary operator $f$, we can produce a vector\n",
        "$\\mathbf{c} = F(\\mathbf{u},\\mathbf{v})$\n",
        "by setting $c_i \\gets f(u_i, v_i)$ for all $i$,\n",
        "where $c_i, u_i$, and $v_i$ are the $i^\\mathrm{th}$ elements\n",
        "of vectors $\\mathbf{c}, \\mathbf{u}$, and $\\mathbf{v}$.\n",
        "Here, we produced the vector-valued\n",
        "$F: \\mathbb{R}^d, \\mathbb{R}^d \\rightarrow \\mathbb{R}^d$\n",
        "by *lifting* the scalar function to an elementwise vector operation.\n",
        "\n",
        "The **common standard arithmetic operators**\n",
        "(`+`, `-`, `*`, `/`, and `**`)\n",
        "**have all been *lifted* to elementwise operations\n",
        "for any identically-shaped tensors of arbitrary shape**.\n",
        "We can call elementwise operations on any two tensors of the same shape.\n"
      ]
    },
    {
      "cell_type": "code",
      "metadata": {
        "origin_pos": 38,
        "tab": [
          "pytorch"
        ],
        "id": "NKT65lKCx8qQ",
        "colab": {
          "base_uri": "https://localhost:8080/"
        },
        "outputId": "ece2c9aa-efef-4022-9225-95e4a4b3f082"
      },
      "source": [
        "x = torch.tensor([1.0, 2, 4, 8])\n",
        "y = torch.tensor([2, 2, 2, 2])\n",
        "x + y, x - y, x * y, x / y, x**y  # The ** operator is exponentiation"
      ],
      "execution_count": 13,
      "outputs": [
        {
          "output_type": "execute_result",
          "data": {
            "text/plain": [
              "(tensor([ 3.,  4.,  6., 10.]),\n",
              " tensor([-1.,  0.,  2.,  6.]),\n",
              " tensor([ 2.,  4.,  8., 16.]),\n",
              " tensor([0.5000, 1.0000, 2.0000, 4.0000]),\n",
              " tensor([ 1.,  4., 16., 64.]))"
            ]
          },
          "metadata": {},
          "execution_count": 13
        }
      ]
    },
    {
      "cell_type": "markdown",
      "metadata": {
        "origin_pos": 40,
        "id": "8uxHKxnyx8qS"
      },
      "source": [
        "Many (**more operations can be applied elementwise**),\n",
        "including unary operators like exponentiation.\n"
      ]
    },
    {
      "cell_type": "code",
      "metadata": {
        "origin_pos": 42,
        "tab": [
          "pytorch"
        ],
        "id": "ralqUGUfx8qT",
        "colab": {
          "base_uri": "https://localhost:8080/"
        },
        "outputId": "95eb2af5-19ba-440d-96d2-ea7870bc6f36"
      },
      "source": [
        "torch.exp(x)"
      ],
      "execution_count": 14,
      "outputs": [
        {
          "output_type": "execute_result",
          "data": {
            "text/plain": [
              "tensor([2.7183e+00, 7.3891e+00, 5.4598e+01, 2.9810e+03])"
            ]
          },
          "metadata": {},
          "execution_count": 14
        }
      ]
    },
    {
      "cell_type": "markdown",
      "metadata": {
        "origin_pos": 44,
        "id": "46X2P23Ix8qV"
      },
      "source": [
        "The linear algebra options will be explained in 2-3LinearAlgebra.\n",
        "\n"
      ]
    },
    {
      "cell_type": "markdown",
      "metadata": {
        "id": "0ycsPmqx9NPN"
      },
      "source": [
        "We can also [***concatenate* multiple tensors together,**]\n",
        "stacking them end-to-end to form a larger tensor.\n",
        "We just need to provide a list of tensors\n",
        "and tell the system along which axis to concatenate.\n",
        "The example below shows what happens when we concatenate\n",
        "two matrices along rows (axis 0, the first element of the shape)\n",
        "vs. columns (axis 1, the second element of the shape).\n",
        "We can see that the first output tensor's axis-0 length ($6$)\n",
        "is the sum of the two input tensors' axis-0 lengths ($3 + 3$);\n",
        "while the second output tensor's axis-1 length ($8$)\n",
        "is the sum of the two input tensors' axis-1 lengths ($4 + 4$)."
      ]
    },
    {
      "cell_type": "code",
      "metadata": {
        "origin_pos": 46,
        "tab": [
          "pytorch"
        ],
        "id": "nx8zZAoLx8qV",
        "colab": {
          "base_uri": "https://localhost:8080/"
        },
        "outputId": "f6c91ff9-d4c6-484d-b667-23501008e155"
      },
      "source": [
        "X = torch.arange(12, dtype=torch.float32).reshape((3, 4))\n",
        "Y = torch.tensor([[2.0, 1, 4, 3], [1, 2, 3, 4], [4, 3, 2, 1]])\n",
        "torch.cat((X, Y), dim=0), torch.cat((X, Y), dim=1)"
      ],
      "execution_count": 15,
      "outputs": [
        {
          "output_type": "execute_result",
          "data": {
            "text/plain": [
              "(tensor([[ 0.,  1.,  2.,  3.],\n",
              "         [ 4.,  5.,  6.,  7.],\n",
              "         [ 8.,  9., 10., 11.],\n",
              "         [ 2.,  1.,  4.,  3.],\n",
              "         [ 1.,  2.,  3.,  4.],\n",
              "         [ 4.,  3.,  2.,  1.]]),\n",
              " tensor([[ 0.,  1.,  2.,  3.,  2.,  1.,  4.,  3.],\n",
              "         [ 4.,  5.,  6.,  7.,  1.,  2.,  3.,  4.],\n",
              "         [ 8.,  9., 10., 11.,  4.,  3.,  2.,  1.]]))"
            ]
          },
          "metadata": {},
          "execution_count": 15
        }
      ]
    },
    {
      "cell_type": "markdown",
      "metadata": {
        "origin_pos": 48,
        "id": "Iu68ljf9x8qW"
      },
      "source": [
        "Sometimes, we want to [**construct a binary tensor via *logical statements*.**]\n",
        "Take `X == Y` as an example.\n",
        "For each position, if `X` and `Y` are equal at that position,\n",
        "the corresponding entry in the new tensor takes a value of 1,\n",
        "meaning that the logical statement `X == Y` is true at that position;\n",
        "otherwise that position takes 0.\n"
      ]
    },
    {
      "cell_type": "code",
      "metadata": {
        "origin_pos": 49,
        "tab": [
          "pytorch"
        ],
        "id": "86XYX_pEx8qW",
        "colab": {
          "base_uri": "https://localhost:8080/"
        },
        "outputId": "d31e95c3-93c1-44b1-f174-bc710b285a3f"
      },
      "source": [
        "X == Y"
      ],
      "execution_count": 16,
      "outputs": [
        {
          "output_type": "execute_result",
          "data": {
            "text/plain": [
              "tensor([[False,  True, False,  True],\n",
              "        [False, False, False, False],\n",
              "        [False, False, False, False]])"
            ]
          },
          "metadata": {},
          "execution_count": 16
        }
      ]
    },
    {
      "cell_type": "markdown",
      "metadata": {
        "origin_pos": 50,
        "id": "dswyJIIMx8qX"
      },
      "source": [
        "[**Summing all the elements in the tensor**] yields a tensor with only one element.\n"
      ]
    },
    {
      "cell_type": "code",
      "metadata": {
        "origin_pos": 51,
        "tab": [
          "pytorch"
        ],
        "id": "yFiI3lWXx8qY",
        "colab": {
          "base_uri": "https://localhost:8080/"
        },
        "outputId": "d5bd67b8-dec0-478f-ecdd-338085a2e4fc"
      },
      "source": [
        "X.sum()"
      ],
      "execution_count": 17,
      "outputs": [
        {
          "output_type": "execute_result",
          "data": {
            "text/plain": [
              "tensor(66.)"
            ]
          },
          "metadata": {},
          "execution_count": 17
        }
      ]
    },
    {
      "cell_type": "code",
      "metadata": {
        "colab": {
          "base_uri": "https://localhost:8080/"
        },
        "id": "iYA1fM3O9h0n",
        "outputId": "e56a8341-eca1-46fa-a013-6c6155bb767d"
      },
      "source": [
        "X.sum(axis=0)"
      ],
      "execution_count": 21,
      "outputs": [
        {
          "output_type": "execute_result",
          "data": {
            "text/plain": [
              "tensor([12., 15., 18., 21.])"
            ]
          },
          "metadata": {},
          "execution_count": 21
        }
      ]
    },
    {
      "cell_type": "code",
      "metadata": {
        "colab": {
          "base_uri": "https://localhost:8080/"
        },
        "id": "Y8Hq4fGC9l1X",
        "outputId": "80887909-7f08-43b0-e5be-f540d8cf1a6e"
      },
      "source": [
        "X.sum(axis=1)"
      ],
      "execution_count": 19,
      "outputs": [
        {
          "output_type": "execute_result",
          "data": {
            "text/plain": [
              "tensor([ 6., 22., 38.])"
            ]
          },
          "metadata": {},
          "execution_count": 19
        }
      ]
    },
    {
      "cell_type": "markdown",
      "metadata": {
        "origin_pos": 53,
        "id": "CjUqBL4-x8qY"
      },
      "source": [
        "## Broadcasting Mechanism\n",
        "\n",
        "In the above section, we saw how to perform elementwise operations\n",
        "on two tensors of the same shape. Under certain conditions,\n",
        "even when shapes differ, we can still [**perform elementwise operations\n",
        "by invoking the *broadcasting mechanism*.**]\n",
        "This mechanism works in the following way:\n",
        "First, expand one or both arrays\n",
        "by copying elements appropriately\n",
        "so that after this transformation,\n",
        "the two tensors have the same shape.\n",
        "Second, carry out the elementwise operations\n",
        "on the resulting arrays.\n",
        "\n",
        "In most cases, we broadcast along an axis where an array\n",
        "initially only has length 1, such as in the following example:\n"
      ]
    },
    {
      "cell_type": "code",
      "metadata": {
        "origin_pos": 55,
        "tab": [
          "pytorch"
        ],
        "id": "ZiydA4Yfx8qY",
        "colab": {
          "base_uri": "https://localhost:8080/"
        },
        "outputId": "dcb7d695-de79-4e2b-8778-a1348f7deee8"
      },
      "source": [
        "a = torch.arange(3).reshape((3, 1))\n",
        "b = torch.arange(2).reshape((1, 2))\n",
        "a, b"
      ],
      "execution_count": 22,
      "outputs": [
        {
          "output_type": "execute_result",
          "data": {
            "text/plain": [
              "(tensor([[0],\n",
              "         [1],\n",
              "         [2]]), tensor([[0, 1]]))"
            ]
          },
          "metadata": {},
          "execution_count": 22
        }
      ]
    },
    {
      "cell_type": "markdown",
      "metadata": {
        "origin_pos": 57,
        "id": "eu3YsERix8qZ"
      },
      "source": [
        "Since `a` and `b` are $3\\times1$ and $1\\times2$ matrices respectively,\n",
        "their shapes do not match up if we want to add them.\n",
        "We *broadcast* the entries of both matrices into a larger $3\\times2$ matrix as follows:\n",
        "for matrix `a` it replicates the columns\n",
        "and for matrix `b` it replicates the rows\n",
        "before adding up both elementwise.\n"
      ]
    },
    {
      "cell_type": "code",
      "metadata": {
        "origin_pos": 58,
        "tab": [
          "pytorch"
        ],
        "id": "-H9uT-Sbx8qZ",
        "colab": {
          "base_uri": "https://localhost:8080/"
        },
        "outputId": "d3a39c5a-a404-4c53-88e2-4544c8f64c41"
      },
      "source": [
        "a + b"
      ],
      "execution_count": 23,
      "outputs": [
        {
          "output_type": "execute_result",
          "data": {
            "text/plain": [
              "tensor([[0, 1],\n",
              "        [1, 2],\n",
              "        [2, 3]])"
            ]
          },
          "metadata": {},
          "execution_count": 23
        }
      ]
    },
    {
      "cell_type": "markdown",
      "metadata": {
        "origin_pos": 59,
        "id": "Oro1wnu0x8qa"
      },
      "source": [
        "## Indexing and Slicing\n",
        "\n",
        "Just as in any other Python array, elements in a tensor can be accessed by index.\n",
        "As in any Python array, the first element has index 0\n",
        "and ranges are specified to include the first but *before* the last element.\n",
        "As in standard Python lists, we can access elements\n",
        "according to their relative position to the end of the list\n",
        "by using negative indices.\n",
        "\n",
        "Thus, [**`[-1]` selects the last element and `[1:3]`\n",
        "selects the second and the third elements**] as follows:\n"
      ]
    },
    {
      "cell_type": "code",
      "metadata": {
        "colab": {
          "base_uri": "https://localhost:8080/"
        },
        "id": "nMq-3S4Y--WR",
        "outputId": "7b68f965-d087-4644-c6c5-6c6b7d14cc0c"
      },
      "source": [
        "X"
      ],
      "execution_count": 24,
      "outputs": [
        {
          "output_type": "execute_result",
          "data": {
            "text/plain": [
              "tensor([[ 0.,  1.,  2.,  3.],\n",
              "        [ 4.,  5.,  6.,  7.],\n",
              "        [ 8.,  9., 10., 11.]])"
            ]
          },
          "metadata": {},
          "execution_count": 24
        }
      ]
    },
    {
      "cell_type": "code",
      "metadata": {
        "origin_pos": 60,
        "tab": [
          "pytorch"
        ],
        "id": "Dp5Eeqkyx8qa",
        "colab": {
          "base_uri": "https://localhost:8080/"
        },
        "outputId": "2de3b4c6-8e48-4ab6-d16b-ab2bd560f067"
      },
      "source": [
        "X[-1], X[1:3]"
      ],
      "execution_count": 25,
      "outputs": [
        {
          "output_type": "execute_result",
          "data": {
            "text/plain": [
              "(tensor([ 8.,  9., 10., 11.]), tensor([[ 4.,  5.,  6.,  7.],\n",
              "         [ 8.,  9., 10., 11.]]))"
            ]
          },
          "metadata": {},
          "execution_count": 25
        }
      ]
    },
    {
      "cell_type": "markdown",
      "metadata": {
        "origin_pos": 61,
        "tab": [
          "pytorch"
        ],
        "id": "n6UGc0b6x8qb"
      },
      "source": [
        "Beyond reading, (**we can also write elements of a matrix by specifying indices.**)\n"
      ]
    },
    {
      "cell_type": "code",
      "metadata": {
        "origin_pos": 63,
        "tab": [
          "pytorch"
        ],
        "id": "pI5KF77Ex8qb",
        "colab": {
          "base_uri": "https://localhost:8080/"
        },
        "outputId": "1ea6cddd-4661-476c-c4cf-82424a35f7f0"
      },
      "source": [
        "X[1, 2] = 9\n",
        "X"
      ],
      "execution_count": 26,
      "outputs": [
        {
          "output_type": "execute_result",
          "data": {
            "text/plain": [
              "tensor([[ 0.,  1.,  2.,  3.],\n",
              "        [ 4.,  5.,  9.,  7.],\n",
              "        [ 8.,  9., 10., 11.]])"
            ]
          },
          "metadata": {},
          "execution_count": 26
        }
      ]
    },
    {
      "cell_type": "markdown",
      "metadata": {
        "origin_pos": 65,
        "id": "7lFuwxLtx8qc"
      },
      "source": [
        "If we want [**to assign multiple elements the same value,\n",
        "we simply index all of them and then assign them the value.**]\n",
        "For instance, `[0:2, :]` accesses the first and second rows,\n",
        "where `:` takes all the elements along axis 1 (column).\n",
        "While we discussed indexing for matrices,\n",
        "this obviously also works for vectors\n",
        "and for tensors of more than 2 dimensions.\n"
      ]
    },
    {
      "cell_type": "code",
      "metadata": {
        "origin_pos": 66,
        "tab": [
          "pytorch"
        ],
        "id": "hvgLR9P6x8qc",
        "colab": {
          "base_uri": "https://localhost:8080/"
        },
        "outputId": "4ee062ab-22a5-4d23-a083-203eadea548c"
      },
      "source": [
        "X[0:2, :] = 12\n",
        "X"
      ],
      "execution_count": 27,
      "outputs": [
        {
          "output_type": "execute_result",
          "data": {
            "text/plain": [
              "tensor([[12., 12., 12., 12.],\n",
              "        [12., 12., 12., 12.],\n",
              "        [ 8.,  9., 10., 11.]])"
            ]
          },
          "metadata": {},
          "execution_count": 27
        }
      ]
    },
    {
      "cell_type": "markdown",
      "metadata": {
        "origin_pos": 68,
        "id": "KP42fo5fx8qd"
      },
      "source": [
        "## Saving Memory\n",
        "\n",
        "[**Running operations can cause new memory to be\n",
        "allocated to host results.**]\n",
        "For example, if we write `Y = X + Y`,\n",
        "we will dereference the tensor that `Y` used to point to\n",
        "and instead point `Y` at the newly allocated memory.\n",
        "In the following example, we demonstrate this with Python's `id()` function,\n",
        "which gives us the exact address of the referenced object in memory.\n",
        "After running `Y = Y + X`, we will find that `id(Y)` points to a different location.\n",
        "That is because Python first evaluates `Y + X`,\n",
        "allocating new memory for the result and then makes `Y`\n",
        "point to this new location in memory.\n"
      ]
    },
    {
      "cell_type": "code",
      "metadata": {
        "origin_pos": 69,
        "tab": [
          "pytorch"
        ],
        "id": "KTHKGLD9x8qd",
        "colab": {
          "base_uri": "https://localhost:8080/"
        },
        "outputId": "41075153-85e6-4594-d56d-0741428fa550"
      },
      "source": [
        "before = id(Y)\n",
        "Y = Y + X\n",
        "id(Y) == before"
      ],
      "execution_count": 28,
      "outputs": [
        {
          "output_type": "execute_result",
          "data": {
            "text/plain": [
              "False"
            ]
          },
          "metadata": {},
          "execution_count": 28
        }
      ]
    },
    {
      "cell_type": "markdown",
      "metadata": {
        "origin_pos": 70,
        "id": "cV33OqqXx8qd"
      },
      "source": [
        "This might be undesirable for two reasons.\n",
        "First, we do not want to run around\n",
        "allocating memory unnecessarily all the time.\n",
        "In machine learning, we might have\n",
        "hundreds of megabytes of parameters\n",
        "and update all of them multiple times per second.\n",
        "Typically, we will want to perform these updates *in place*.\n",
        "Second, we might point at the same parameters from multiple variables.\n",
        "If we do not update in place, other references will still point to\n",
        "the old memory location, making it possible for parts of our code\n",
        "to inadvertently reference stale parameters.\n"
      ]
    },
    {
      "cell_type": "markdown",
      "metadata": {
        "origin_pos": 71,
        "tab": [
          "pytorch"
        ],
        "id": "MV-f66-8x8qe"
      },
      "source": [
        "Fortunately, (**performing in-place operations**) is easy.\n",
        "We can assign the result of an operation\n",
        "to a previously allocated array with slice notation,\n",
        "e.g., `Y[:] = <expression>`.\n",
        "To illustrate this concept, we first create a new matrix `Z`\n",
        "with the same shape as another `Y`,\n",
        "using `zeros_like` to allocate a block of $0$ entries.\n"
      ]
    },
    {
      "cell_type": "code",
      "metadata": {
        "origin_pos": 74,
        "tab": [
          "pytorch"
        ],
        "id": "ymQgfeBWx8qe",
        "colab": {
          "base_uri": "https://localhost:8080/"
        },
        "outputId": "ae73de94-e2c3-454b-e866-6e46fbfb4ad8"
      },
      "source": [
        "Z = torch.zeros_like(Y)\n",
        "print('id(Z):', id(Z))\n",
        "Z[:] = X + Y\n",
        "print('id(Z):', id(Z))"
      ],
      "execution_count": 29,
      "outputs": [
        {
          "output_type": "stream",
          "text": [
            "id(Z): 140111563077264\n",
            "id(Z): 140111563077264\n"
          ],
          "name": "stdout"
        }
      ]
    },
    {
      "cell_type": "markdown",
      "metadata": {
        "origin_pos": 76,
        "tab": [
          "pytorch"
        ],
        "id": "jJIlacRGx8qe"
      },
      "source": [
        "[**If the value of `X` is not reused in subsequent computations,\n",
        "we can also use `X[:] = X + Y` or `X += Y`\n",
        "to reduce the memory overhead of the operation.**]\n"
      ]
    },
    {
      "cell_type": "code",
      "metadata": {
        "origin_pos": 78,
        "tab": [
          "pytorch"
        ],
        "id": "W54u7C4Nx8qe",
        "colab": {
          "base_uri": "https://localhost:8080/"
        },
        "outputId": "5644dce3-4efe-45ec-8dbc-8aae84f6109d"
      },
      "source": [
        "before = id(X)\n",
        "X += Y\n",
        "id(X) == before"
      ],
      "execution_count": 30,
      "outputs": [
        {
          "output_type": "execute_result",
          "data": {
            "text/plain": [
              "True"
            ]
          },
          "metadata": {},
          "execution_count": 30
        }
      ]
    },
    {
      "cell_type": "markdown",
      "metadata": {
        "origin_pos": 80,
        "id": "Wo2TLDa3x8qf"
      },
      "source": [
        "## Conversion to Other Python Objects\n"
      ]
    },
    {
      "cell_type": "markdown",
      "metadata": {
        "origin_pos": 82,
        "tab": [
          "pytorch"
        ],
        "id": "U5S1Wqutx8qf"
      },
      "source": [
        "[**Converting to a NumPy tensor (`ndarray`)**], or vice versa, is easy.\n",
        "The torch Tensor and numpy array will share their underlying memory\n",
        "locations, and changing one through an in-place operation will also\n",
        "change the other.\n"
      ]
    },
    {
      "cell_type": "code",
      "metadata": {
        "origin_pos": 84,
        "tab": [
          "pytorch"
        ],
        "id": "KOOmWO8px8qf",
        "colab": {
          "base_uri": "https://localhost:8080/"
        },
        "outputId": "a6b2f80e-ebe2-4ba1-c664-94288b0caf97"
      },
      "source": [
        "A = X.numpy()\n",
        "B = torch.from_numpy(A)\n",
        "type(A), type(B)"
      ],
      "execution_count": 31,
      "outputs": [
        {
          "output_type": "execute_result",
          "data": {
            "text/plain": [
              "(numpy.ndarray, torch.Tensor)"
            ]
          },
          "metadata": {},
          "execution_count": 31
        }
      ]
    },
    {
      "cell_type": "markdown",
      "metadata": {
        "origin_pos": 86,
        "id": "qlqt0nDox8qf"
      },
      "source": [
        "To (**convert a size-1 tensor to a Python scalar**),\n",
        "we can invoke the `item` function or Python's built-in functions.\n"
      ]
    },
    {
      "cell_type": "code",
      "metadata": {
        "origin_pos": 88,
        "tab": [
          "pytorch"
        ],
        "id": "ChycEz1Gx8qg",
        "colab": {
          "base_uri": "https://localhost:8080/"
        },
        "outputId": "8114aa84-7035-4843-b747-b6f9c71dac91"
      },
      "source": [
        "a = torch.tensor([3.5])\n",
        "a, a.item(), float(a), int(a)"
      ],
      "execution_count": 32,
      "outputs": [
        {
          "output_type": "execute_result",
          "data": {
            "text/plain": [
              "(tensor([3.5000]), 3.5, 3.5, 3)"
            ]
          },
          "metadata": {},
          "execution_count": 32
        }
      ]
    },
    {
      "cell_type": "markdown",
      "metadata": {
        "origin_pos": 90,
        "id": "gcZfs_Qvx8qg"
      },
      "source": [
        "## Summary\n",
        "\n",
        "* The main interface to store and manipulate data for deep learning is the tensor ($n$-dimensional array). It provides a variety of functionalities including basic mathematics operations, broadcasting, indexing, slicing, memory saving, and conversion to other Python objects.\n",
        "\n",
        "\n",
        "## Exercises\n",
        "\n",
        "1. Run the code in this section. Change the conditional statement `X == Y` in this section to `X < Y` or `X > Y`, and then see what kind of tensor you can get.\n",
        "1. Replace the two tensors that operate by element in the broadcasting mechanism with other shapes, e.g., 3-dimensional tensors. Is the result the same as expected?\n"
      ]
    },
    {
      "cell_type": "markdown",
      "metadata": {
        "origin_pos": 92,
        "tab": [
          "pytorch"
        ],
        "id": "NXUR6t3ex8qg"
      },
      "source": [
        "[Discussions](https://discuss.d2l.ai/t/27)\n"
      ]
    }
  ]
}
