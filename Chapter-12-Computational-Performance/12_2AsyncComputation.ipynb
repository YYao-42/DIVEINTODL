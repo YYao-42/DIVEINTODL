{
  "nbformat": 4,
  "nbformat_minor": 0,
  "metadata": {
    "kernelspec": {
      "display_name": "Python 3",
      "name": "python3"
    },
    "language_info": {
      "name": "python"
    },
    "colab": {
      "name": "async-computation.ipynb",
      "provenance": [],
      "include_colab_link": true
    }
  },
  "cells": [
    {
      "cell_type": "markdown",
      "metadata": {
        "id": "view-in-github",
        "colab_type": "text"
      },
      "source": [
        "<a href=\"https://colab.research.google.com/github/YYao-42/DIVEINTODL/blob/main/Chapter-12-Computational-Performance/12_2AsyncComputation.ipynb\" target=\"_parent\"><img src=\"https://colab.research.google.com/assets/colab-badge.svg\" alt=\"Open In Colab\"/></a>"
      ]
    },
    {
      "cell_type": "markdown",
      "metadata": {
        "id": "2QGKrUska_p5"
      },
      "source": [
        "The following additional libraries are needed to run this\n",
        "notebook. Note that running on Colab is experimental, please report a Github\n",
        "issue if you have any problem."
      ]
    },
    {
      "cell_type": "code",
      "metadata": {
        "id": "c8Ci5EIGa_p9"
      },
      "source": [
        "!pip install d2l==0.17.0\n",
        "!pip install -U mxnet-cu101==1.7.0\n"
      ],
      "execution_count": null,
      "outputs": []
    },
    {
      "cell_type": "markdown",
      "metadata": {
        "origin_pos": 0,
        "id": "m3RM9IzYa_qA"
      },
      "source": [
        "# Asynchronous Computation\n",
        ":label:`sec_async`\n",
        "\n",
        "Today's computers are highly parallel systems, consisting of multiple CPU cores (often multiple threads per core), multiple processing elements per GPU, and often multiple GPUs per device. In short, we can process many different things at the same time, often on different devices. Unfortunately Python is not a great way of writing parallel and asynchronous code, at least not without some extra help. After all, Python is single-threaded and this is unlikely to change in the future. Deep learning frameworks such as MXNet and TensorFlow adopt an *asynchronous programming* model to improve performance,\n",
        "while PyTorch uses Python's own scheduler leading to a different performance trade-off.\n",
        "For PyTorch, by default, GPU operations are asynchronous. When you call a function that uses the GPU, the operations are enqueued to the particular device, but not necessarily executed until later. This allows us to execute more computations in parallel, including operations on the CPU or other GPUs.\n",
        "\n",
        "Hence, understanding how asynchronous programming works helps us to develop more efficient programs, by proactively reducing computational requirements and mutual dependencies. This allows us to reduce memory overhead and increase processor utilization.\n"
      ]
    },
    {
      "cell_type": "code",
      "metadata": {
        "origin_pos": 1,
        "tab": [
          "mxnet"
        ],
        "id": "UOKFPkPga_qC"
      },
      "source": [
        "import os\n",
        "import subprocess\n",
        "import numpy\n",
        "from mxnet import autograd, gluon, np, npx\n",
        "from mxnet.gluon import nn\n",
        "from d2l import mxnet as d2l\n",
        "\n",
        "npx.set_np()"
      ],
      "execution_count": null,
      "outputs": []
    },
    {
      "cell_type": "markdown",
      "metadata": {
        "origin_pos": 3,
        "id": "662vVtvka_qD"
      },
      "source": [
        "## Asynchrony via Backend\n"
      ]
    },
    {
      "cell_type": "markdown",
      "metadata": {
        "origin_pos": 4,
        "tab": [
          "mxnet"
        ],
        "id": "gv70syxCa_qE"
      },
      "source": [
        "For a warmup consider the following toy problem: we want to generate a random matrix and multiply it. Let us do that both in NumPy and in `mxnet.np` to see the difference.\n"
      ]
    },
    {
      "cell_type": "code",
      "metadata": {
        "origin_pos": 6,
        "tab": [
          "mxnet"
        ],
        "id": "C2q0xcfEa_qH",
        "outputId": "12543845-b78b-4c59-a5ef-a405343f19dc"
      },
      "source": [
        "with d2l.Benchmark('numpy'):\n",
        "    for _ in range(10):\n",
        "        a = numpy.random.normal(size=(1000, 1000))\n",
        "        b = numpy.dot(a, a)\n",
        "\n",
        "with d2l.Benchmark('mxnet.np'):\n",
        "    for _ in range(10):\n",
        "        a = np.random.normal(size=(1000, 1000))\n",
        "        b = np.dot(a, a)"
      ],
      "execution_count": null,
      "outputs": [
        {
          "name": "stdout",
          "output_type": "stream",
          "text": [
            "numpy: 1.0544 sec\n",
            "mxnet.np: 0.0125 sec\n"
          ]
        }
      ]
    },
    {
      "cell_type": "markdown",
      "metadata": {
        "origin_pos": 8,
        "tab": [
          "mxnet"
        ],
        "id": "2Xy2Aq6Aa_qN"
      },
      "source": [
        "The benchmark output via MXNet is orders of magnitude faster. Since both are executed on the same processor something else must be going on.\n",
        "Forcing MXNet to finish all the backend computation prior to returning shows what happened previously: computation is executed by the backend while the frontend returns control to Python.\n"
      ]
    },
    {
      "cell_type": "code",
      "metadata": {
        "origin_pos": 10,
        "tab": [
          "mxnet"
        ],
        "id": "2Phr3oi2a_qP",
        "outputId": "2c676d71-25a5-423e-c0f0-eedf4c094b6e"
      },
      "source": [
        "with d2l.Benchmark():\n",
        "    for _ in range(10):\n",
        "        a = np.random.normal(size=(1000, 1000))\n",
        "        b = np.dot(a, a)\n",
        "    npx.waitall()"
      ],
      "execution_count": null,
      "outputs": [
        {
          "name": "stdout",
          "output_type": "stream",
          "text": [
            "Done: 1.1065 sec\n"
          ]
        }
      ]
    },
    {
      "cell_type": "markdown",
      "metadata": {
        "origin_pos": 12,
        "tab": [
          "mxnet"
        ],
        "id": "FvFm_XvPa_qS"
      },
      "source": [
        "Broadly speaking, MXNet has a frontend for direct interactions with users, e.g., via Python, as well as a backend used by the system to perform the computation. \n",
        "As shown in :numref:`fig_frontends`, users can write MXNet programs in various frontend languages, such as Python, R, Scala, and C++. Regardless of the frontend programming language used, the execution of MXNet programs occurs primarily in the backend of C++ implementations. Operations issued by the frontend language are passed on to the backend for execution. \n",
        "The backend manages its own threads that continuously collect and execute queued tasks. Note that for this to work the backend must be able to keep track of the dependencies between various steps in the computational graph. Hence, it is not possible to parallelize operations that depend on each other.\n"
      ]
    },
    {
      "cell_type": "markdown",
      "metadata": {
        "origin_pos": 14,
        "id": "HtjIBWSja_qT"
      },
      "source": [
        "![Programming language frontends and deep learning framework backends.](https://github.com/d2l-ai/d2l-en-colab/blob/master/img/frontends.png?raw=1)\n",
        ":width:`300px`\n",
        ":label:`fig_frontends`\n",
        "\n",
        "Let us look at another toy example to understand the dependency graph a bit better.\n"
      ]
    },
    {
      "cell_type": "code",
      "metadata": {
        "origin_pos": 15,
        "tab": [
          "mxnet"
        ],
        "id": "mpoF4rvAa_qT",
        "outputId": "2fa82035-5d29-4522-9474-735de373f7f3"
      },
      "source": [
        "x = np.ones((1, 2))\n",
        "y = np.ones((1, 2))\n",
        "z = x * y + 2\n",
        "z"
      ],
      "execution_count": null,
      "outputs": [
        {
          "data": {
            "text/plain": [
              "array([[3., 3.]])"
            ]
          },
          "execution_count": 4,
          "metadata": {},
          "output_type": "execute_result"
        }
      ]
    },
    {
      "cell_type": "markdown",
      "metadata": {
        "origin_pos": 17,
        "id": "gL3Q4DUTa_qU"
      },
      "source": [
        "![The backend tracks dependencies between various steps in the computational graph.](http://d2l.ai/_images/asyncgraph.svg)\n",
        ":label:`fig_asyncgraph`\n",
        "\n",
        "\n",
        "\n",
        "The code snippet above is also illustrated in :numref:`fig_asyncgraph`.\n",
        "Whenever the Python frontend thread executes one of the first three statements, it simply returns the task to the backend queue. When the last statement's results need to be *printed*, the Python frontend thread will wait for the C++ backend thread to finish computing the result of the variable `z`. One benefit of this design is that the Python frontend thread does not need to perform actual computations. Thus, there is little impact on the program's overall performance, regardless of Python's performance. :numref:`fig_threading` illustrates how frontend and backend interact.\n",
        "\n",
        "![Interactions of the frontend and backend.](http://d2l.ai/_images/threading.svg)\n",
        ":label:`fig_threading`\n",
        "\n",
        "\n",
        "\n",
        "\n",
        "## Barriers and Blockers\n"
      ]
    },
    {
      "cell_type": "markdown",
      "metadata": {
        "origin_pos": 18,
        "tab": [
          "mxnet"
        ],
        "id": "fhseZVsna_qV"
      },
      "source": [
        "There are a number of operations that will force Python to wait for completion:\n",
        "\n",
        "* Most obviously `npx.waitall()` waits until all computation has completed, regardless of when the compute instructions were issued. In practice it is a bad idea to use this operator unless absolutely necessary since it can lead to poor performance.\n",
        "* If we just want to wait until a specific variable is available we can call `z.wait_to_read()`. In this case MXNet blocks return to Python until the variable `z` has been computed. Other computation may well continue afterwards.\n",
        "\n",
        "Let us see how this works in practice.\n"
      ]
    },
    {
      "cell_type": "code",
      "metadata": {
        "origin_pos": 19,
        "tab": [
          "mxnet"
        ],
        "id": "GkPOquuHa_qX",
        "outputId": "db7d94ff-5c98-4873-daa3-9a28492f9102"
      },
      "source": [
        "with d2l.Benchmark('waitall'):\n",
        "    b = np.dot(a, a)\n",
        "    npx.waitall()\n",
        "\n",
        "with d2l.Benchmark('wait_to_read'):\n",
        "    b = np.dot(a, a)\n",
        "    b.wait_to_read()"
      ],
      "execution_count": null,
      "outputs": [
        {
          "name": "stdout",
          "output_type": "stream",
          "text": [
            "waitall: 0.0138 sec\n",
            "wait_to_read: 0.0045 sec\n"
          ]
        }
      ]
    },
    {
      "cell_type": "markdown",
      "metadata": {
        "origin_pos": 20,
        "tab": [
          "mxnet"
        ],
        "id": "1sJMTPxQa_qY"
      },
      "source": [
        "Both operations take approximately the same time to complete. Besides the obvious blocking operations we recommend that you are aware of *implicit* blockers. Printing a variable clearly requires the variable to be available and is thus a blocker. Last, conversions to NumPy via `z.asnumpy()` and conversions to scalars via `z.item()` are blocking, since NumPy has no notion of asynchrony. It needs access to the values just like the `print` function. \n",
        "\n",
        "Copying small amounts of data frequently from MXNet's scope to NumPy and back can destroy performance of an otherwise efficient code, since each such operation requires the computational graph to evaluate all intermediate results needed to get the relevant term *before* anything else can be done.\n"
      ]
    },
    {
      "cell_type": "code",
      "metadata": {
        "origin_pos": 21,
        "tab": [
          "mxnet"
        ],
        "id": "WtPYv4RIa_qY",
        "outputId": "166bf728-665e-4b13-e3a6-7d7234f5ad2c"
      },
      "source": [
        "with d2l.Benchmark('numpy conversion'):\n",
        "    b = np.dot(a, a)\n",
        "    b.asnumpy()\n",
        "\n",
        "with d2l.Benchmark('scalar conversion'):\n",
        "    b = np.dot(a, a)\n",
        "    b.sum().item()"
      ],
      "execution_count": null,
      "outputs": [
        {
          "name": "stdout",
          "output_type": "stream",
          "text": [
            "numpy conversion: 0.0117 sec\n",
            "scalar conversion: 0.0212 sec\n"
          ]
        }
      ]
    },
    {
      "cell_type": "markdown",
      "metadata": {
        "origin_pos": 22,
        "id": "mrRBz2OMa_qZ"
      },
      "source": [
        "## Improving Computation\n"
      ]
    },
    {
      "cell_type": "markdown",
      "metadata": {
        "origin_pos": 23,
        "tab": [
          "mxnet"
        ],
        "id": "rqT5Oj-3a_qZ"
      },
      "source": [
        "On a heavily multithreaded system (even regular laptops have 4 threads or more and on multi-socket servers this number can exceed 256) the overhead of scheduling operations can become significant. This is why it is highly desirable to have computation and scheduling occur asynchronously and in parallel. To illustrate the benefit of doing so let us see what happens if we increment a variable by 1 multiple times, both in sequence or asynchronously. We simulate synchronous execution by inserting a `wait_to_read` barrier in between each addition.\n"
      ]
    },
    {
      "cell_type": "code",
      "metadata": {
        "origin_pos": 24,
        "tab": [
          "mxnet"
        ],
        "id": "jO3Ndwuma_qa",
        "outputId": "98a50a29-af2d-4614-b6e8-a2bd731e9eae"
      },
      "source": [
        "with d2l.Benchmark('synchronous'):\n",
        "    for _ in range(10000):\n",
        "        y = x + 1\n",
        "        y.wait_to_read()\n",
        "\n",
        "with d2l.Benchmark('asynchronous'):\n",
        "    for _ in range(10000):\n",
        "        y = x + 1\n",
        "    npx.waitall()"
      ],
      "execution_count": null,
      "outputs": [
        {
          "name": "stdout",
          "output_type": "stream",
          "text": [
            "synchronous: 1.0607 sec\n"
          ]
        },
        {
          "name": "stdout",
          "output_type": "stream",
          "text": [
            "asynchronous: 0.8800 sec\n"
          ]
        }
      ]
    },
    {
      "cell_type": "markdown",
      "metadata": {
        "origin_pos": 25,
        "tab": [
          "mxnet"
        ],
        "id": "mbR13Ttqa_qb"
      },
      "source": [
        "A slightly simplified interaction between the Python frontend thread and the C++ backend thread can be summarized as follows:\n",
        "1. The frontend orders the backend to insert the computation task `y = x + 1` into the queue.\n",
        "1. The backend then receives the computation tasks from the queue and performs the actual computations.\n",
        "1. The backend then returns the computation results to the frontend.\n",
        "Assume that the durations of these three stages are $t_1, t_2$ and $t_3$, respectively. If we do not use asynchronous programming, the total time taken to perform 10000 computations is approximately $10000 (t_1+ t_2 + t_3)$. If asynchronous programming is used, the total time taken to perform 10000 computations can be reduced to $t_1 + 10000 t_2 + t_3$ (assuming $10000 t_2 > 9999t_1$), since the frontend does not have to wait for the backend to return computation results for each loop.\n"
      ]
    },
    {
      "cell_type": "markdown",
      "metadata": {
        "origin_pos": 26,
        "id": "kFpFFMoKa_qd"
      },
      "source": [
        "## Summary\n",
        "\n",
        "\n",
        "* Deep learning frameworks may decouple the Python frontend from an execution backend. This allows for fast asynchronous insertion of commands into the backend and associated parallelism.\n",
        "* Asynchrony leads to a rather responsive frontend. However, use caution not to overfill the task queue since it may lead to excessive memory consumption. It is recommended to synchronize for each minibatch to keep frontend and backend approximately synchronized.\n",
        "* Chip vendors offer sophisticated performance analysis tools to obtain a much more fine-grained insight into the efficiency of deep learning.\n"
      ]
    },
    {
      "cell_type": "markdown",
      "metadata": {
        "origin_pos": 27,
        "tab": [
          "mxnet"
        ],
        "id": "VeAD7vQVa_qe"
      },
      "source": [
        "* Be aware of the fact that conversions from MXNet's memory management to Python will force the backend to wait until  the specific variable is ready. Functions such as `print`, `asnumpy` and `item` all have this effect. This can be desirable but a careless use of synchronization can ruin performance.\n"
      ]
    },
    {
      "cell_type": "markdown",
      "metadata": {
        "origin_pos": 28,
        "id": "XjzLs_gwa_qf"
      },
      "source": [
        "## Exercises\n"
      ]
    },
    {
      "cell_type": "markdown",
      "metadata": {
        "origin_pos": 29,
        "tab": [
          "mxnet"
        ],
        "id": "zVuWn9tKa_qg"
      },
      "source": [
        "1. We mentioned above that using asynchronous computation can reduce the total amount of time needed to perform 10000 computations to $t_1 + 10000 t_2 + t_3$. Why do we have to assume $10000 t_2 > 9999 t_1$ here?\n",
        "1. Measure the difference between `waitall` and `wait_to_read`. Hint: perform a number of instructions and synchronize for an intermediate result.\n"
      ]
    },
    {
      "cell_type": "markdown",
      "metadata": {
        "origin_pos": 31,
        "tab": [
          "mxnet"
        ],
        "id": "mKzQ1E0Aa_qh"
      },
      "source": [
        "[Discussions](https://discuss.d2l.ai/t/361)\n"
      ]
    }
  ]
}