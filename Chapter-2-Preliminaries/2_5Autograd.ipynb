{
  "nbformat": 4,
  "nbformat_minor": 0,
  "metadata": {
    "kernelspec": {
      "display_name": "Python 3",
      "name": "python3"
    },
    "language_info": {
      "name": "python"
    },
    "colab": {
      "name": "2_5Autograd.ipynb",
      "provenance": [],
      "include_colab_link": true
    }
  },
  "cells": [
    {
      "cell_type": "markdown",
      "metadata": {
        "id": "view-in-github",
        "colab_type": "text"
      },
      "source": [
        "<a href=\"https://colab.research.google.com/github/YYao-42/DIVEINTODL/blob/main/Chapter-2-Preliminaries/2_5Autograd.ipynb\" target=\"_parent\"><img src=\"https://colab.research.google.com/assets/colab-badge.svg\" alt=\"Open In Colab\"/></a>"
      ]
    },
    {
      "cell_type": "markdown",
      "metadata": {
        "origin_pos": 0,
        "id": "UYGgdN0oJgde"
      },
      "source": [
        "# Automatic Differentiation\n",
        "Differentiation is a crucial step in nearly all deep learning optimization algorithms.\n",
        "While the calculations for taking these derivatives are straightforward,\n",
        "requiring only some basic calculus,\n",
        "for complex models, working out the updates by hand\n",
        "can be a pain (and often error-prone).\n",
        "\n",
        "Deep learning frameworks expedite this work\n",
        "by automatically calculating derivatives, i.e., *automatic differentiation*.\n",
        "In practice,\n",
        "based on our designed model\n",
        "the system builds a *computational graph*,\n",
        "tracking which data combined through\n",
        "which operations to produce the output.\n",
        "**Automatic differentiation enables the system to subsequently backpropagate gradients.\n",
        "Here, *backpropagate* simply means to trace through the computational graph,\n",
        "filling in the partial derivatives with respect to each parameter.**\n",
        "\n",
        "\n"
      ]
    },
    {
      "cell_type": "markdown",
      "metadata": {
        "id": "u-f_XTkrKBDV"
      },
      "source": [
        "\n",
        "## A Simple Example\n",
        "\n",
        "As a toy example, say that we are interested\n",
        "in (**differentiating the function\n",
        "$y = 2\\mathbf{x}^{\\top}\\mathbf{x}$\n",
        "with respect to the column vector $\\mathbf{x}$.**)\n",
        "To start, let us create the variable `x` and assign it an initial value."
      ]
    },
    {
      "cell_type": "code",
      "metadata": {
        "origin_pos": 2,
        "tab": [
          "pytorch"
        ],
        "id": "cs9nhLYnJgdm",
        "colab": {
          "base_uri": "https://localhost:8080/"
        },
        "outputId": "d43bccfb-dd83-42f9-8cae-2272157fa83a"
      },
      "source": [
        "import torch\n",
        "\n",
        "x = torch.arange(4.0)\n",
        "x"
      ],
      "execution_count": 1,
      "outputs": [
        {
          "output_type": "execute_result",
          "data": {
            "text/plain": [
              "tensor([0., 1., 2., 3.])"
            ]
          },
          "metadata": {},
          "execution_count": 1
        }
      ]
    },
    {
      "cell_type": "markdown",
      "metadata": {
        "origin_pos": 4,
        "id": "F-SeRLOSJgdq"
      },
      "source": [
        "[**Before we even calculate the gradient\n",
        "of $y$ with respect to $\\mathbf{x}$,\n",
        "we will need a place to store it.**]\n",
        "It is important that we do not allocate new memory\n",
        "every time we take a derivative with respect to a parameter\n",
        "because we will often update the same parameters\n",
        "thousands or millions of times\n",
        "and could quickly run out of memory.\n",
        "Note that a gradient of a scalar-valued function\n",
        "with respect to a vector $\\mathbf{x}$\n",
        "is itself vector-valued and has the same shape as $\\mathbf{x}$.\n"
      ]
    },
    {
      "cell_type": "code",
      "metadata": {
        "origin_pos": 6,
        "tab": [
          "pytorch"
        ],
        "id": "9S11WimyJgdr"
      },
      "source": [
        "x.requires_grad_(True)  # Same as `x = torch.arange(4.0, requires_grad=True)`\n",
        "x.grad  # The default value is None"
      ],
      "execution_count": 2,
      "outputs": []
    },
    {
      "cell_type": "markdown",
      "metadata": {
        "origin_pos": 8,
        "id": "XfK7fIwcJgds"
      },
      "source": [
        "(**Now let us calculate $y$.**)\n"
      ]
    },
    {
      "cell_type": "code",
      "metadata": {
        "origin_pos": 10,
        "tab": [
          "pytorch"
        ],
        "id": "HVunD-YKJgdu",
        "colab": {
          "base_uri": "https://localhost:8080/"
        },
        "outputId": "cc67fbae-470d-40e3-f2cb-c3e522bbb922"
      },
      "source": [
        "y = 2 * torch.dot(x, x)\n",
        "y"
      ],
      "execution_count": 3,
      "outputs": [
        {
          "output_type": "execute_result",
          "data": {
            "text/plain": [
              "tensor(28., grad_fn=<MulBackward0>)"
            ]
          },
          "metadata": {},
          "execution_count": 3
        }
      ]
    },
    {
      "cell_type": "markdown",
      "metadata": {
        "origin_pos": 12,
        "id": "A2Sg2HL5Jgdv"
      },
      "source": [
        "Since `x` is a vector of length 4,\n",
        "an dot product of `x` and `x` is performed,\n",
        "yielding the scalar output that we assign to `y`.\n",
        "Next, [**we can automatically calculate the gradient of `y`\n",
        "with respect to each component of `x`**]\n",
        "by calling the function for backpropagation and printing the gradient.\n"
      ]
    },
    {
      "cell_type": "code",
      "metadata": {
        "origin_pos": 14,
        "tab": [
          "pytorch"
        ],
        "id": "nI8Qhve9Jgdy",
        "colab": {
          "base_uri": "https://localhost:8080/"
        },
        "outputId": "5fdb2316-3a38-4904-eab5-9767ceb6a566"
      },
      "source": [
        "y.backward()\n",
        "x.grad"
      ],
      "execution_count": 4,
      "outputs": [
        {
          "output_type": "execute_result",
          "data": {
            "text/plain": [
              "tensor([ 0.,  4.,  8., 12.])"
            ]
          },
          "metadata": {},
          "execution_count": 4
        }
      ]
    },
    {
      "cell_type": "markdown",
      "metadata": {
        "origin_pos": 16,
        "id": "c289pbA3Jgd0"
      },
      "source": [
        "(**The gradient of the function $y = 2\\mathbf{x}^{\\top}\\mathbf{x}$\n",
        "with respect to $\\mathbf{x}$ should be $4\\mathbf{x}$.**)\n",
        "Let us quickly verify that our desired gradient was calculated correctly.\n"
      ]
    },
    {
      "cell_type": "code",
      "metadata": {
        "origin_pos": 18,
        "tab": [
          "pytorch"
        ],
        "id": "M-_PCxj6Jgd2",
        "colab": {
          "base_uri": "https://localhost:8080/"
        },
        "outputId": "82877b03-79fe-44d2-d395-d1db54ae7aa8"
      },
      "source": [
        "x.grad == 4 * x"
      ],
      "execution_count": 5,
      "outputs": [
        {
          "output_type": "execute_result",
          "data": {
            "text/plain": [
              "tensor([True, True, True, True])"
            ]
          },
          "metadata": {},
          "execution_count": 5
        }
      ]
    },
    {
      "cell_type": "markdown",
      "metadata": {
        "origin_pos": 20,
        "id": "k2w-hOdaJgd3"
      },
      "source": [
        "[**Now let us calculate another function of `x`.**]\n"
      ]
    },
    {
      "cell_type": "code",
      "metadata": {
        "origin_pos": 22,
        "tab": [
          "pytorch"
        ],
        "id": "1LC4Gv37Jgd4",
        "colab": {
          "base_uri": "https://localhost:8080/"
        },
        "outputId": "bacc00e9-c9ba-48c7-fd9b-03c92774361e"
      },
      "source": [
        "# PyTorch accumulates the gradient in default, we need to clear the previous\n",
        "# values\n",
        "x.grad.zero_()\n",
        "y = x.sum() # y = 1^T x\n",
        "y.backward()\n",
        "x.grad"
      ],
      "execution_count": 6,
      "outputs": [
        {
          "output_type": "execute_result",
          "data": {
            "text/plain": [
              "tensor([1., 1., 1., 1.])"
            ]
          },
          "metadata": {},
          "execution_count": 6
        }
      ]
    },
    {
      "cell_type": "markdown",
      "metadata": {
        "origin_pos": 24,
        "id": "I3IK68TaJgd4"
      },
      "source": [
        "## Backward for Non-Scalar Variables\n",
        "\n",
        "Technically, when `y` is not a scalar,\n",
        "the most natural interpretation of the differentiation of a vector `y`\n",
        "with respect to a vector `x` is a matrix.\n",
        "For higher-order and higher-dimensional `y` and `x`,\n",
        "the differentiation result could be a high-order tensor.\n",
        "\n",
        "However, while these more exotic objects do show up\n",
        "in advanced machine learning (including [**in deep learning**]),\n",
        "more often (**when we are calling backward on a vector,**)\n",
        "we are trying to calculate the derivatives of the loss functions\n",
        "for each constituent of a *batch* of training examples.\n",
        "Here, (**our intent is**) not to calculate the differentiation matrix\n",
        "but rather (**the sum of the partial derivatives\n",
        "computed individually for each example**) in the batch.\n"
      ]
    },
    {
      "cell_type": "code",
      "metadata": {
        "origin_pos": 26,
        "tab": [
          "pytorch"
        ],
        "id": "C22bfv2UJgd5",
        "colab": {
          "base_uri": "https://localhost:8080/"
        },
        "outputId": "31aa3e4b-4f34-4700-fd5d-085dee638da3"
      },
      "source": [
        "# Invoking `backward` on a non-scalar requires passing in a `gradient` argument\n",
        "# which specifies the gradient of the differentiated function w.r.t `self`.\n",
        "# In our case, we simply want to sum the partial derivatives, so passing\n",
        "# in a gradient of ones is appropriate\n",
        "x.grad.zero_()\n",
        "y = x * x\n",
        "# y.backward(torch.ones(len(x))) equivalent to the below\n",
        "y.sum().backward()\n",
        "x.grad"
      ],
      "execution_count": 7,
      "outputs": [
        {
          "output_type": "execute_result",
          "data": {
            "text/plain": [
              "tensor([0., 2., 4., 6.])"
            ]
          },
          "metadata": {},
          "execution_count": 7
        }
      ]
    },
    {
      "cell_type": "markdown",
      "metadata": {
        "origin_pos": 28,
        "id": "K1YiHVsKJgd6"
      },
      "source": [
        "## Detaching Computation\n",
        "\n",
        "Sometimes, we wish to [**move some calculations\n",
        "outside of the recorded computational graph.**]\n",
        "For example, say that `y` was calculated as a function of `x`,\n",
        "and that subsequently `z` was calculated as a function of both `y` and `x`.\n",
        "Now, imagine that we wanted to calculate\n",
        "the gradient of `z` with respect to `x`,\n",
        "but wanted for some reason to treat `y` as a constant,\n",
        "and only take into account the role\n",
        "that `x` played after `y` was calculated.\n",
        "\n",
        "Here, we can detach `y` to return a new variable `u`\n",
        "that has the same value as `y` but discards any information\n",
        "about how `y` was computed in the computational graph.\n",
        "In other words, the gradient will not flow backwards through `u` to `x`.\n",
        "Thus, the following backpropagation function computes\n",
        "the partial derivative of `z = u * x` with respect to `x` while treating `u` as a constant,\n",
        "instead of the partial derivative of `z = x * x * x` with respect to `x`.\n"
      ]
    },
    {
      "cell_type": "code",
      "metadata": {
        "origin_pos": 30,
        "tab": [
          "pytorch"
        ],
        "id": "A8AkT5VtJgd7",
        "colab": {
          "base_uri": "https://localhost:8080/"
        },
        "outputId": "b7ad0da1-ffd3-4334-cf13-ae0893ec9ab7"
      },
      "source": [
        "x.grad.zero_()\n",
        "y = x * x\n",
        "u = y.detach()\n",
        "z = u * x # Elementwise. x.grad should be equal to u if u is treated as a constant\n",
        "\n",
        "z.sum().backward()\n",
        "x.grad == u"
      ],
      "execution_count": 8,
      "outputs": [
        {
          "output_type": "execute_result",
          "data": {
            "text/plain": [
              "tensor([True, True, True, True])"
            ]
          },
          "metadata": {},
          "execution_count": 8
        }
      ]
    },
    {
      "cell_type": "markdown",
      "metadata": {
        "origin_pos": 32,
        "id": "Ilw7MuyXJgd8"
      },
      "source": [
        "Since the computation of `y` was recorded,\n",
        "we can subsequently invoke backpropagation on `y` to get the derivative of `y = x * x` with respect to `x`, which is `2 * x`.\n"
      ]
    },
    {
      "cell_type": "code",
      "metadata": {
        "origin_pos": 34,
        "tab": [
          "pytorch"
        ],
        "id": "vaxPK6qFJgd9",
        "colab": {
          "base_uri": "https://localhost:8080/"
        },
        "outputId": "c4d6338a-e4ec-4385-c22e-22f401a691fe"
      },
      "source": [
        "x.grad.zero_()\n",
        "y.sum().backward()\n",
        "x.grad == 2 * x"
      ],
      "execution_count": 9,
      "outputs": [
        {
          "output_type": "execute_result",
          "data": {
            "text/plain": [
              "tensor([True, True, True, True])"
            ]
          },
          "metadata": {},
          "execution_count": 9
        }
      ]
    },
    {
      "cell_type": "markdown",
      "metadata": {
        "origin_pos": 36,
        "id": "hhckGxc6Jgd9"
      },
      "source": [
        "## Computing the Gradient of Python Control Flow\n",
        "\n",
        "One benefit of using automatic differentiation\n",
        "is that [**even if**] building the computational graph of (**a function\n",
        "required passing through a maze of Python control flow**)\n",
        "(e.g., conditionals, loops, and arbitrary function calls),\n",
        "(**we can still calculate the gradient of the resulting variable.**)\n",
        "In the following snippet, note that\n",
        "the number of iterations of the `while` loop\n",
        "and the evaluation of the `if` statement\n",
        "both depend on the value of the input `a`.\n"
      ]
    },
    {
      "cell_type": "code",
      "metadata": {
        "origin_pos": 38,
        "tab": [
          "pytorch"
        ],
        "id": "wgP0BbeJJgd-"
      },
      "source": [
        "def f(a):\n",
        "    b = a * 2\n",
        "    while b.norm() < 1000:\n",
        "        b = b * 2\n",
        "    if b.sum() > 0:\n",
        "        c = b\n",
        "    else:\n",
        "        c = 100 * b\n",
        "    return c"
      ],
      "execution_count": 10,
      "outputs": []
    },
    {
      "cell_type": "markdown",
      "metadata": {
        "origin_pos": 40,
        "id": "TcF20TU_Jgd-"
      },
      "source": [
        "Let us compute the gradient.\n"
      ]
    },
    {
      "cell_type": "code",
      "metadata": {
        "origin_pos": 42,
        "tab": [
          "pytorch"
        ],
        "id": "0iAaDQNyJgd_"
      },
      "source": [
        "a = torch.randn(size=(), requires_grad=True)\n",
        "d = f(a)\n",
        "d.backward()"
      ],
      "execution_count": 11,
      "outputs": []
    },
    {
      "cell_type": "markdown",
      "metadata": {
        "origin_pos": 44,
        "id": "UATyfVBGJgd_"
      },
      "source": [
        "We can now analyze the `f` function defined above.\n",
        "Note that it is piecewise linear in its input `a`.\n",
        "In other words, for any `a` there exists some constant scalar `k`\n",
        "such that `f(a) = k * a`, where the value of `k` depends on the input `a`.\n",
        "Consequently `d / a` allows us to verify that the gradient is correct.\n"
      ]
    },
    {
      "cell_type": "code",
      "metadata": {
        "origin_pos": 46,
        "tab": [
          "pytorch"
        ],
        "id": "Vpfp_TwNJgeA",
        "colab": {
          "base_uri": "https://localhost:8080/"
        },
        "outputId": "99233ad5-e2c0-4fd1-cc72-0ef47415c1a8"
      },
      "source": [
        "a.grad == d / a"
      ],
      "execution_count": 12,
      "outputs": [
        {
          "output_type": "execute_result",
          "data": {
            "text/plain": [
              "tensor(True)"
            ]
          },
          "metadata": {},
          "execution_count": 12
        }
      ]
    },
    {
      "cell_type": "markdown",
      "metadata": {
        "origin_pos": 48,
        "id": "6pzthGFDJgeB"
      },
      "source": [
        "## Summary\n",
        "\n",
        "* Deep learning frameworks can automate the calculation of derivatives. To use it, we first attach gradients to those variables with respect to which we desire partial derivatives. We then record the computation of our target value, execute its function for backpropagation, and access the resulting gradient.\n",
        "\n",
        "\n",
        "## Exercises\n",
        "\n",
        "1. Why is the second derivative much more expensive to compute than the first derivative?\n",
        "1. After running the function for backpropagation, immediately run it again and see what happens.\n",
        "1. In the control flow example where we calculate the derivative of `d` with respect to `a`, what would happen if we changed the variable `a` to a random vector or matrix. At this point, the result of the calculation `f(a)` is no longer a scalar. What happens to the result? How do we analyze this?\n",
        "1. Redesign an example of finding the gradient of the control flow. Run and analyze the result.\n",
        "1. Let $f(x) = \\sin(x)$. Plot $f(x)$ and $\\frac{df(x)}{dx}$, where the latter is computed without exploiting that $f'(x) = \\cos(x)$.\n"
      ]
    },
    {
      "cell_type": "markdown",
      "metadata": {
        "origin_pos": 50,
        "tab": [
          "pytorch"
        ],
        "id": "etKVQbDnJgeB"
      },
      "source": [
        "[Discussions](https://discuss.d2l.ai/t/35)\n"
      ]
    }
  ]
}