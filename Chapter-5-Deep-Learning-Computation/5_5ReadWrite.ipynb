{
  "nbformat": 4,
  "nbformat_minor": 0,
  "metadata": {
    "kernelspec": {
      "display_name": "Python 3",
      "name": "python3"
    },
    "language_info": {
      "name": "python"
    },
    "colab": {
      "name": "5_5ReadWrite.ipynb",
      "provenance": [],
      "include_colab_link": true
    }
  },
  "cells": [
    {
      "cell_type": "markdown",
      "metadata": {
        "id": "view-in-github",
        "colab_type": "text"
      },
      "source": [
        "<a href=\"https://colab.research.google.com/github/YYao-42/DIVEINTODL/blob/main/Chapter-5-Deep-Learning-Computation/5_5ReadWrite.ipynb\" target=\"_parent\"><img src=\"https://colab.research.google.com/assets/colab-badge.svg\" alt=\"Open In Colab\"/></a>"
      ]
    },
    {
      "cell_type": "markdown",
      "metadata": {
        "origin_pos": 0,
        "id": "Rfo9Va-kAn2y"
      },
      "source": [
        "# File I/O\n",
        "\n",
        "So far we discussed how to process data and how\n",
        "to build, train, and test deep learning models.\n",
        "However, at some point, we will hopefully be happy enough\n",
        "with the learned models that we will want\n",
        "to save the results for later use in various contexts\n",
        "(perhaps even to make predictions in deployment).\n",
        "Additionally, when running a long training process,\n",
        "the best practice is to periodically save intermediate results (checkpointing)\n",
        "to ensure that we do not lose several days worth of computation\n",
        "if we trip over the power cord of our server.\n",
        "Thus it is time to learn how to load and store\n",
        "both individual weight vectors and entire models.\n",
        "This section addresses both issues.\n",
        "\n",
        "## (**Loading and Saving Tensors**)\n",
        "\n",
        "For individual tensors, we can directly\n",
        "invoke the `load` and `save` functions\n",
        "to read and write them respectively.\n",
        "Both functions require that we supply a name,\n",
        "and `save` requires as input the variable to be saved.\n"
      ]
    },
    {
      "cell_type": "code",
      "metadata": {
        "origin_pos": 2,
        "tab": [
          "pytorch"
        ],
        "id": "X0MS_qKrAn25"
      },
      "source": [
        "import torch\n",
        "from torch import nn\n",
        "from torch.nn import functional as F\n",
        "\n",
        "x = torch.arange(4)\n",
        "torch.save(x, 'x-file')"
      ],
      "execution_count": 1,
      "outputs": []
    },
    {
      "cell_type": "markdown",
      "metadata": {
        "origin_pos": 4,
        "id": "7yY1s50ZAn27"
      },
      "source": [
        "We can now read the data from the stored file back into memory.\n"
      ]
    },
    {
      "cell_type": "code",
      "metadata": {
        "origin_pos": 6,
        "tab": [
          "pytorch"
        ],
        "id": "aFPGe-2oAn28",
        "colab": {
          "base_uri": "https://localhost:8080/"
        },
        "outputId": "d888f7b7-905e-44d4-b913-44b202b44168"
      },
      "source": [
        "x2 = torch.load('x-file')\n",
        "x2"
      ],
      "execution_count": 2,
      "outputs": [
        {
          "output_type": "execute_result",
          "data": {
            "text/plain": [
              "tensor([0, 1, 2, 3])"
            ]
          },
          "metadata": {},
          "execution_count": 2
        }
      ]
    },
    {
      "cell_type": "markdown",
      "metadata": {
        "origin_pos": 8,
        "id": "E7FZ1GQiAn2_"
      },
      "source": [
        "We can [**store a list of tensors and read them back into memory.**]\n"
      ]
    },
    {
      "cell_type": "code",
      "metadata": {
        "origin_pos": 10,
        "tab": [
          "pytorch"
        ],
        "id": "pJoP5vBwAn2_",
        "colab": {
          "base_uri": "https://localhost:8080/"
        },
        "outputId": "84948130-971a-4598-f5b7-964c1f23ec95"
      },
      "source": [
        "y = torch.zeros(4)\n",
        "torch.save([x, y], 'x-files')\n",
        "x2, y2 = torch.load('x-files')\n",
        "(x2, y2)"
      ],
      "execution_count": 3,
      "outputs": [
        {
          "output_type": "execute_result",
          "data": {
            "text/plain": [
              "(tensor([0, 1, 2, 3]), tensor([0., 0., 0., 0.]))"
            ]
          },
          "metadata": {},
          "execution_count": 3
        }
      ]
    },
    {
      "cell_type": "markdown",
      "metadata": {
        "origin_pos": 12,
        "id": "uVuqeKzZAn3B"
      },
      "source": [
        "We can even [**write and read a dictionary that maps\n",
        "from strings to tensors.**]\n",
        "This is convenient when we want\n",
        "to read or write all the weights in a model.\n"
      ]
    },
    {
      "cell_type": "code",
      "metadata": {
        "origin_pos": 14,
        "tab": [
          "pytorch"
        ],
        "id": "1td1WtSVAn3E",
        "colab": {
          "base_uri": "https://localhost:8080/"
        },
        "outputId": "700eb516-4d12-4e42-f075-0c073623137b"
      },
      "source": [
        "mydict = {'x': x, 'y': y}\n",
        "torch.save(mydict, 'mydict')\n",
        "mydict2 = torch.load('mydict')\n",
        "mydict2"
      ],
      "execution_count": 4,
      "outputs": [
        {
          "output_type": "execute_result",
          "data": {
            "text/plain": [
              "{'x': tensor([0, 1, 2, 3]), 'y': tensor([0., 0., 0., 0.])}"
            ]
          },
          "metadata": {},
          "execution_count": 4
        }
      ]
    },
    {
      "cell_type": "markdown",
      "metadata": {
        "origin_pos": 16,
        "id": "0QX7GNQmAn3G"
      },
      "source": [
        "## [**Loading and Saving Model Parameters**]\n",
        "\n",
        "Saving individual weight vectors (or other tensors) is useful,\n",
        "but it gets very tedious if we want to save\n",
        "(and later load) an entire model.\n",
        "After all, we might have hundreds of\n",
        "parameter groups sprinkled throughout.\n",
        "For this reason the deep learning framework provides built-in functionalities\n",
        "to load and save entire networks.\n",
        "An important detail to note is that this\n",
        "saves model *parameters* and not the entire model.\n",
        "For example, if we have a 3-layer MLP,\n",
        "we need to specify the architecture separately.\n",
        "The reason for this is that the models themselves can contain arbitrary code,\n",
        "hence they cannot be serialized as naturally.\n",
        "Thus, in order to reinstate a model, we need\n",
        "to generate the architecture in code\n",
        "and then load the parameters from disk.\n",
        "(**Let us start with our familiar MLP.**)\n"
      ]
    },
    {
      "cell_type": "code",
      "metadata": {
        "origin_pos": 18,
        "tab": [
          "pytorch"
        ],
        "id": "ysZeTqKeAn3J"
      },
      "source": [
        "class MLP(nn.Module):\n",
        "    def __init__(self):\n",
        "        super().__init__()\n",
        "        self.hidden = nn.Linear(20, 256)\n",
        "        self.output = nn.Linear(256, 10)\n",
        "\n",
        "    def forward(self, x):\n",
        "        return self.output(F.relu(self.hidden(x)))\n",
        "\n",
        "net = MLP()\n",
        "X = torch.randn(size=(2, 20))\n",
        "Y = net(X)"
      ],
      "execution_count": 5,
      "outputs": []
    },
    {
      "cell_type": "markdown",
      "metadata": {
        "origin_pos": 20,
        "id": "EVWB5LfFAn3K"
      },
      "source": [
        "Next, we [**store the parameters of the model as a file**] with the name \"mlp.params\".\n"
      ]
    },
    {
      "cell_type": "code",
      "metadata": {
        "origin_pos": 22,
        "tab": [
          "pytorch"
        ],
        "id": "T9aa7h2-An3K"
      },
      "source": [
        "torch.save(net.state_dict(), 'mlp.params')"
      ],
      "execution_count": 6,
      "outputs": []
    },
    {
      "cell_type": "markdown",
      "metadata": {
        "origin_pos": 24,
        "id": "79y_w3TFAn3L"
      },
      "source": [
        "To recover the model, we instantiate a clone\n",
        "of the original MLP model.\n",
        "Instead of randomly initializing the model parameters,\n",
        "we [**read the parameters stored in the file directly**].\n"
      ]
    },
    {
      "cell_type": "code",
      "metadata": {
        "origin_pos": 26,
        "tab": [
          "pytorch"
        ],
        "id": "tRMkuuYaAn3M",
        "colab": {
          "base_uri": "https://localhost:8080/"
        },
        "outputId": "20cc338f-7c9a-4a1d-de7f-e9c426e89d5e"
      },
      "source": [
        "clone = MLP()\n",
        "clone.load_state_dict(torch.load('mlp.params'))\n",
        "clone.eval()"
      ],
      "execution_count": 7,
      "outputs": [
        {
          "output_type": "execute_result",
          "data": {
            "text/plain": [
              "MLP(\n",
              "  (hidden): Linear(in_features=20, out_features=256, bias=True)\n",
              "  (output): Linear(in_features=256, out_features=10, bias=True)\n",
              ")"
            ]
          },
          "metadata": {},
          "execution_count": 7
        }
      ]
    },
    {
      "cell_type": "markdown",
      "metadata": {
        "origin_pos": 28,
        "id": "kU7eKLRvAn3N"
      },
      "source": [
        "Since both instances have the same model parameters,\n",
        "the computational result of the same input `X` should be the same.\n",
        "Let us verify this.\n"
      ]
    },
    {
      "cell_type": "code",
      "metadata": {
        "origin_pos": 30,
        "tab": [
          "pytorch"
        ],
        "id": "pGYX7z73An3N",
        "colab": {
          "base_uri": "https://localhost:8080/"
        },
        "outputId": "a688da18-398a-40e3-aaef-21470b1d90f6"
      },
      "source": [
        "Y_clone = clone(X)\n",
        "Y_clone == Y"
      ],
      "execution_count": 8,
      "outputs": [
        {
          "output_type": "execute_result",
          "data": {
            "text/plain": [
              "tensor([[True, True, True, True, True, True, True, True, True, True],\n",
              "        [True, True, True, True, True, True, True, True, True, True]])"
            ]
          },
          "metadata": {},
          "execution_count": 8
        }
      ]
    },
    {
      "cell_type": "markdown",
      "metadata": {
        "origin_pos": 32,
        "id": "nKMGd0LvAn3O"
      },
      "source": [
        "## Summary\n",
        "\n",
        "* The `save` and `load` functions can be used to perform file I/O for tensor objects.\n",
        "* We can save and load the entire sets of parameters for a network via a parameter dictionary.\n",
        "* Saving the architecture has to be done in code rather than in parameters.\n",
        "\n",
        "## Exercises\n",
        "\n",
        "1. Even if there is no need to deploy trained models to a different device, what are the practical benefits of storing model parameters?\n",
        "1. Assume that we want to reuse only parts of a network to be incorporated into a network of a different architecture. How would you go about using, say the first two layers from a previous network in a new network?\n",
        "1. How would you go about saving the network architecture and parameters? What restrictions would you impose on the architecture?\n"
      ]
    },
    {
      "cell_type": "markdown",
      "metadata": {
        "origin_pos": 34,
        "tab": [
          "pytorch"
        ],
        "id": "kt-lK92yAn3O"
      },
      "source": [
        "[Discussions](https://discuss.d2l.ai/t/61)\n"
      ]
    }
  ]
}