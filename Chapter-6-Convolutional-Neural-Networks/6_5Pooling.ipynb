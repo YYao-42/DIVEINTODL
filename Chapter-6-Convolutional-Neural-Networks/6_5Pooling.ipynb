{
  "nbformat": 4,
  "nbformat_minor": 0,
  "metadata": {
    "kernelspec": {
      "display_name": "Python 3",
      "name": "python3"
    },
    "language_info": {
      "name": "python"
    },
    "colab": {
      "name": "6_5Pooling.ipynb",
      "provenance": [],
      "include_colab_link": true
    }
  },
  "cells": [
    {
      "cell_type": "markdown",
      "metadata": {
        "id": "view-in-github",
        "colab_type": "text"
      },
      "source": [
        "<a href=\"https://colab.research.google.com/github/YYao-42/DIVEINTODL/blob/main/Chapter-6-Convolutional-Neural-Networks/6_5Pooling.ipynb\" target=\"_parent\"><img src=\"https://colab.research.google.com/assets/colab-badge.svg\" alt=\"Open In Colab\"/></a>"
      ]
    },
    {
      "cell_type": "markdown",
      "metadata": {
        "id": "n0sPwkcgQp05"
      },
      "source": [
        "The following additional libraries are needed to run this\n",
        "notebook. Note that running on Colab is experimental, please report a Github\n",
        "issue if you have any problem."
      ]
    },
    {
      "cell_type": "code",
      "metadata": {
        "id": "27Cq92uMQp0_",
        "colab": {
          "base_uri": "https://localhost:8080/"
        },
        "outputId": "674f4e3d-c081-4632-a833-2e681c26ea9b"
      },
      "source": [
        "!pip install d2l==0.17.0\n"
      ],
      "execution_count": 1,
      "outputs": [
        {
          "output_type": "stream",
          "name": "stdout",
          "text": [
            "Collecting d2l==0.17.0\n",
            "  Downloading d2l-0.17.0-py3-none-any.whl (83 kB)\n",
            "\u001b[?25l\r\u001b[K     |████                            | 10 kB 18.2 MB/s eta 0:00:01\r\u001b[K     |███████▉                        | 20 kB 9.8 MB/s eta 0:00:01\r\u001b[K     |███████████▉                    | 30 kB 6.6 MB/s eta 0:00:01\r\u001b[K     |███████████████▊                | 40 kB 6.1 MB/s eta 0:00:01\r\u001b[K     |███████████████████▊            | 51 kB 5.0 MB/s eta 0:00:01\r\u001b[K     |███████████████████████▋        | 61 kB 5.1 MB/s eta 0:00:01\r\u001b[K     |███████████████████████████▋    | 71 kB 5.3 MB/s eta 0:00:01\r\u001b[K     |███████████████████████████████▌| 81 kB 6.0 MB/s eta 0:00:01\r\u001b[K     |████████████████████████████████| 83 kB 1.1 MB/s \n",
            "\u001b[?25hRequirement already satisfied: requests in /usr/local/lib/python3.7/dist-packages (from d2l==0.17.0) (2.23.0)\n",
            "Requirement already satisfied: jupyter in /usr/local/lib/python3.7/dist-packages (from d2l==0.17.0) (1.0.0)\n",
            "Requirement already satisfied: numpy in /usr/local/lib/python3.7/dist-packages (from d2l==0.17.0) (1.19.5)\n",
            "Requirement already satisfied: pandas in /usr/local/lib/python3.7/dist-packages (from d2l==0.17.0) (1.1.5)\n",
            "Requirement already satisfied: matplotlib in /usr/local/lib/python3.7/dist-packages (from d2l==0.17.0) (3.2.2)\n",
            "Requirement already satisfied: ipykernel in /usr/local/lib/python3.7/dist-packages (from jupyter->d2l==0.17.0) (4.10.1)\n",
            "Requirement already satisfied: nbconvert in /usr/local/lib/python3.7/dist-packages (from jupyter->d2l==0.17.0) (5.6.1)\n",
            "Requirement already satisfied: jupyter-console in /usr/local/lib/python3.7/dist-packages (from jupyter->d2l==0.17.0) (5.2.0)\n",
            "Requirement already satisfied: qtconsole in /usr/local/lib/python3.7/dist-packages (from jupyter->d2l==0.17.0) (5.1.1)\n",
            "Requirement already satisfied: ipywidgets in /usr/local/lib/python3.7/dist-packages (from jupyter->d2l==0.17.0) (7.6.3)\n",
            "Requirement already satisfied: notebook in /usr/local/lib/python3.7/dist-packages (from jupyter->d2l==0.17.0) (5.3.1)\n",
            "Requirement already satisfied: jupyter-client in /usr/local/lib/python3.7/dist-packages (from ipykernel->jupyter->d2l==0.17.0) (5.3.5)\n",
            "Requirement already satisfied: tornado>=4.0 in /usr/local/lib/python3.7/dist-packages (from ipykernel->jupyter->d2l==0.17.0) (5.1.1)\n",
            "Requirement already satisfied: traitlets>=4.1.0 in /usr/local/lib/python3.7/dist-packages (from ipykernel->jupyter->d2l==0.17.0) (5.0.5)\n",
            "Requirement already satisfied: ipython>=4.0.0 in /usr/local/lib/python3.7/dist-packages (from ipykernel->jupyter->d2l==0.17.0) (5.5.0)\n",
            "Requirement already satisfied: pygments in /usr/local/lib/python3.7/dist-packages (from ipython>=4.0.0->ipykernel->jupyter->d2l==0.17.0) (2.6.1)\n",
            "Requirement already satisfied: prompt-toolkit<2.0.0,>=1.0.4 in /usr/local/lib/python3.7/dist-packages (from ipython>=4.0.0->ipykernel->jupyter->d2l==0.17.0) (1.0.18)\n",
            "Requirement already satisfied: simplegeneric>0.8 in /usr/local/lib/python3.7/dist-packages (from ipython>=4.0.0->ipykernel->jupyter->d2l==0.17.0) (0.8.1)\n",
            "Requirement already satisfied: pexpect in /usr/local/lib/python3.7/dist-packages (from ipython>=4.0.0->ipykernel->jupyter->d2l==0.17.0) (4.8.0)\n",
            "Requirement already satisfied: decorator in /usr/local/lib/python3.7/dist-packages (from ipython>=4.0.0->ipykernel->jupyter->d2l==0.17.0) (4.4.2)\n",
            "Requirement already satisfied: setuptools>=18.5 in /usr/local/lib/python3.7/dist-packages (from ipython>=4.0.0->ipykernel->jupyter->d2l==0.17.0) (57.4.0)\n",
            "Requirement already satisfied: pickleshare in /usr/local/lib/python3.7/dist-packages (from ipython>=4.0.0->ipykernel->jupyter->d2l==0.17.0) (0.7.5)\n",
            "Requirement already satisfied: six>=1.9.0 in /usr/local/lib/python3.7/dist-packages (from prompt-toolkit<2.0.0,>=1.0.4->ipython>=4.0.0->ipykernel->jupyter->d2l==0.17.0) (1.15.0)\n",
            "Requirement already satisfied: wcwidth in /usr/local/lib/python3.7/dist-packages (from prompt-toolkit<2.0.0,>=1.0.4->ipython>=4.0.0->ipykernel->jupyter->d2l==0.17.0) (0.2.5)\n",
            "Requirement already satisfied: ipython-genutils in /usr/local/lib/python3.7/dist-packages (from traitlets>=4.1.0->ipykernel->jupyter->d2l==0.17.0) (0.2.0)\n",
            "Requirement already satisfied: widgetsnbextension~=3.5.0 in /usr/local/lib/python3.7/dist-packages (from ipywidgets->jupyter->d2l==0.17.0) (3.5.1)\n",
            "Requirement already satisfied: jupyterlab-widgets>=1.0.0 in /usr/local/lib/python3.7/dist-packages (from ipywidgets->jupyter->d2l==0.17.0) (1.0.0)\n",
            "Requirement already satisfied: nbformat>=4.2.0 in /usr/local/lib/python3.7/dist-packages (from ipywidgets->jupyter->d2l==0.17.0) (5.1.3)\n",
            "Requirement already satisfied: jsonschema!=2.5.0,>=2.4 in /usr/local/lib/python3.7/dist-packages (from nbformat>=4.2.0->ipywidgets->jupyter->d2l==0.17.0) (2.6.0)\n",
            "Requirement already satisfied: jupyter-core in /usr/local/lib/python3.7/dist-packages (from nbformat>=4.2.0->ipywidgets->jupyter->d2l==0.17.0) (4.7.1)\n",
            "Requirement already satisfied: terminado>=0.8.1 in /usr/local/lib/python3.7/dist-packages (from notebook->jupyter->d2l==0.17.0) (0.11.0)\n",
            "Requirement already satisfied: jinja2 in /usr/local/lib/python3.7/dist-packages (from notebook->jupyter->d2l==0.17.0) (2.11.3)\n",
            "Requirement already satisfied: Send2Trash in /usr/local/lib/python3.7/dist-packages (from notebook->jupyter->d2l==0.17.0) (1.8.0)\n",
            "Requirement already satisfied: python-dateutil>=2.1 in /usr/local/lib/python3.7/dist-packages (from jupyter-client->ipykernel->jupyter->d2l==0.17.0) (2.8.2)\n",
            "Requirement already satisfied: pyzmq>=13 in /usr/local/lib/python3.7/dist-packages (from jupyter-client->ipykernel->jupyter->d2l==0.17.0) (22.2.1)\n",
            "Requirement already satisfied: ptyprocess in /usr/local/lib/python3.7/dist-packages (from terminado>=0.8.1->notebook->jupyter->d2l==0.17.0) (0.7.0)\n",
            "Requirement already satisfied: MarkupSafe>=0.23 in /usr/local/lib/python3.7/dist-packages (from jinja2->notebook->jupyter->d2l==0.17.0) (2.0.1)\n",
            "Requirement already satisfied: pyparsing!=2.0.4,!=2.1.2,!=2.1.6,>=2.0.1 in /usr/local/lib/python3.7/dist-packages (from matplotlib->d2l==0.17.0) (2.4.7)\n",
            "Requirement already satisfied: cycler>=0.10 in /usr/local/lib/python3.7/dist-packages (from matplotlib->d2l==0.17.0) (0.10.0)\n",
            "Requirement already satisfied: kiwisolver>=1.0.1 in /usr/local/lib/python3.7/dist-packages (from matplotlib->d2l==0.17.0) (1.3.1)\n",
            "Requirement already satisfied: bleach in /usr/local/lib/python3.7/dist-packages (from nbconvert->jupyter->d2l==0.17.0) (4.0.0)\n",
            "Requirement already satisfied: mistune<2,>=0.8.1 in /usr/local/lib/python3.7/dist-packages (from nbconvert->jupyter->d2l==0.17.0) (0.8.4)\n",
            "Requirement already satisfied: entrypoints>=0.2.2 in /usr/local/lib/python3.7/dist-packages (from nbconvert->jupyter->d2l==0.17.0) (0.3)\n",
            "Requirement already satisfied: defusedxml in /usr/local/lib/python3.7/dist-packages (from nbconvert->jupyter->d2l==0.17.0) (0.7.1)\n",
            "Requirement already satisfied: testpath in /usr/local/lib/python3.7/dist-packages (from nbconvert->jupyter->d2l==0.17.0) (0.5.0)\n",
            "Requirement already satisfied: pandocfilters>=1.4.1 in /usr/local/lib/python3.7/dist-packages (from nbconvert->jupyter->d2l==0.17.0) (1.4.3)\n",
            "Requirement already satisfied: packaging in /usr/local/lib/python3.7/dist-packages (from bleach->nbconvert->jupyter->d2l==0.17.0) (21.0)\n",
            "Requirement already satisfied: webencodings in /usr/local/lib/python3.7/dist-packages (from bleach->nbconvert->jupyter->d2l==0.17.0) (0.5.1)\n",
            "Requirement already satisfied: pytz>=2017.2 in /usr/local/lib/python3.7/dist-packages (from pandas->d2l==0.17.0) (2018.9)\n",
            "Requirement already satisfied: qtpy in /usr/local/lib/python3.7/dist-packages (from qtconsole->jupyter->d2l==0.17.0) (1.10.0)\n",
            "Requirement already satisfied: certifi>=2017.4.17 in /usr/local/lib/python3.7/dist-packages (from requests->d2l==0.17.0) (2021.5.30)\n",
            "Requirement already satisfied: chardet<4,>=3.0.2 in /usr/local/lib/python3.7/dist-packages (from requests->d2l==0.17.0) (3.0.4)\n",
            "Requirement already satisfied: idna<3,>=2.5 in /usr/local/lib/python3.7/dist-packages (from requests->d2l==0.17.0) (2.10)\n",
            "Requirement already satisfied: urllib3!=1.25.0,!=1.25.1,<1.26,>=1.21.1 in /usr/local/lib/python3.7/dist-packages (from requests->d2l==0.17.0) (1.24.3)\n",
            "Installing collected packages: d2l\n",
            "Successfully installed d2l-0.17.0\n"
          ]
        }
      ]
    },
    {
      "cell_type": "markdown",
      "metadata": {
        "origin_pos": 0,
        "id": "rp-en3gHQp1B"
      },
      "source": [
        "# Pooling\n",
        ":label:`sec_pooling`\n",
        "\n",
        "\n",
        "Often, as we process images, we want to gradually\n",
        "reduce the spatial resolution of our hidden representations,\n",
        "aggregating information so that\n",
        "the higher up we go in the network,\n",
        "the larger the receptive field (in the input)\n",
        "to which each hidden node is sensitive.\n",
        "\n",
        "Often our ultimate task asks some global question about the image,\n",
        "e.g., *does it contain a cat?*\n",
        "So typically the units of our final layer should be sensitive\n",
        "to the entire input.\n",
        "By gradually aggregating information, yielding coarser and coarser maps,\n",
        "we accomplish this goal of ultimately learning a global representation,\n",
        "while keeping all of the advantages of convolutional layers at the intermediate layers of processing.\n",
        "\n",
        "Moreover, when detecting lower-level features, such as edges\n",
        "(as discussed in :numref:`sec_conv_layer`),\n",
        "we often want our representations to be somewhat invariant to translation.\n",
        "For instance, if we take the image `X`\n",
        "with a sharp delineation between black and white\n",
        "and shift the whole image by one pixel to the right,\n",
        "i.e., `Z[i, j] = X[i, j + 1]`,\n",
        "then the output for the new image `Z` might be vastly different.\n",
        "The edge will have shifted by one pixel.\n",
        "In reality, objects hardly ever occur exactly at the same place.\n",
        "In fact, even with a tripod and a stationary object,\n",
        "vibration of the camera due to the movement of the shutter\n",
        "might shift everything by a pixel or so\n",
        "(high-end cameras are loaded with special features to address this problem).\n",
        "\n",
        "This section introduces *pooling layers*,\n",
        "which serve the dual purposes of\n",
        "mitigating the sensitivity of convolutional layers to location\n",
        "and of spatially downsampling representations.\n",
        "\n",
        "## Maximum Pooling and Average Pooling\n",
        "\n",
        "Like convolutional layers, *pooling* operators\n",
        "consist of a fixed-shape window that is slid over\n",
        "all regions in the input according to its stride,\n",
        "computing a single output for each location traversed\n",
        "by the fixed-shape window (sometimes known as the *pooling window*).\n",
        "However, unlike the cross-correlation computation\n",
        "of the inputs and kernels in the convolutional layer,\n",
        "the pooling layer contains no parameters (there is no *kernel*).\n",
        "Instead, pooling operators are deterministic,\n",
        "typically calculating either the maximum or the average value\n",
        "of the elements in the pooling window.\n",
        "These operations are called *maximum pooling* (*max pooling* for short)\n",
        "and *average pooling*, respectively.\n",
        "\n",
        "\n",
        "In both cases, as with the cross-correlation operator,\n",
        "we can think of the pooling window\n",
        "as starting from the upper-left of the input tensor\n",
        "and sliding across the input tensor from left to right and top to bottom.\n",
        "At each location that the pooling window hits,\n",
        "it computes the maximum or average\n",
        "value of the input subtensor in the window,\n",
        "depending on whether max or average pooling is employed.\n",
        "\n",
        "\n",
        "![Maximum pooling with a pooling window shape of $2\\times 2$. The shaded portions are the first output element as well as the input tensor elements used for the output computation: $\\max(0, 1, 3, 4)=4$.](http://d2l.ai/_images/pooling.svg)\n",
        ":label:`fig_pooling`\n",
        "\n",
        "The output tensor in :numref:`fig_pooling`  has a height of 2 and a width of 2.\n",
        "The four elements are derived from the maximum value in each pooling window:\n",
        "\n",
        "$$\n",
        "\\max(0, 1, 3, 4)=4,\\\\\n",
        "\\max(1, 2, 4, 5)=5,\\\\\n",
        "\\max(3, 4, 6, 7)=7,\\\\\n",
        "\\max(4, 5, 7, 8)=8.\\\\\n",
        "$$\n",
        "\n",
        "A pooling layer with a pooling window shape of $p \\times q$\n",
        "is called a $p \\times q$ pooling layer.\n",
        "The pooling operation is called $p \\times q$ pooling.\n",
        "\n",
        "Let us return to the object edge detection example\n",
        "mentioned at the beginning of this section.\n",
        "Now we will use the output of the convolutional layer\n",
        "as the input for $2\\times 2$ maximum pooling.\n",
        "Set the convolutional layer input as `X` and the pooling layer output as `Y`. Whether or not the values of `X[i, j]` and `X[i, j + 1]` are different,\n",
        "or `X[i, j + 1]` and `X[i, j + 2]` are different,\n",
        "the pooling layer always outputs `Y[i, j] = 1`.\n",
        "That is to say, using the $2\\times 2$ maximum pooling layer,\n",
        "we can still detect if the pattern recognized by the convolutional layer\n",
        "moves no more than one element in height or width.\n",
        "\n",
        "In the code below, we (**implement the forward propagation\n",
        "of the pooling layer**) in the `pool2d` function.\n",
        "This function is similar to the `corr2d` function\n",
        "in :numref:`sec_conv_layer`.\n",
        "However, here we have no kernel, computing the output\n",
        "as either the maximum or the average of each region in the input.\n"
      ]
    },
    {
      "cell_type": "code",
      "metadata": {
        "origin_pos": 2,
        "tab": [
          "pytorch"
        ],
        "id": "YjQCUnT0Qp1E"
      },
      "source": [
        "import torch\n",
        "from torch import nn\n",
        "from d2l import torch as d2l"
      ],
      "execution_count": 2,
      "outputs": []
    },
    {
      "cell_type": "code",
      "metadata": {
        "origin_pos": 3,
        "tab": [
          "pytorch"
        ],
        "id": "pGbIB4qqQp1G"
      },
      "source": [
        "def pool2d(X, pool_size, mode='max'):\n",
        "    p_h, p_w = pool_size\n",
        "    Y = torch.zeros((X.shape[0] - p_h + 1, X.shape[1] - p_w + 1))\n",
        "    for i in range(Y.shape[0]):\n",
        "        for j in range(Y.shape[1]):\n",
        "            if mode == 'max':\n",
        "                Y[i, j] = X[i:i + p_h, j:j + p_w].max()\n",
        "            elif mode == 'avg':\n",
        "                Y[i, j] = X[i:i + p_h, j:j + p_w].mean()\n",
        "    return Y"
      ],
      "execution_count": 3,
      "outputs": []
    },
    {
      "cell_type": "markdown",
      "metadata": {
        "origin_pos": 5,
        "id": "ob_UwE_HQp1H"
      },
      "source": [
        "We can construct the input tensor `X` in :numref:`fig_pooling` to [**validate the output of the two-dimensional maximum pooling layer**].\n"
      ]
    },
    {
      "cell_type": "code",
      "metadata": {
        "origin_pos": 6,
        "tab": [
          "pytorch"
        ],
        "id": "KxZh0AMrQp1I",
        "colab": {
          "base_uri": "https://localhost:8080/"
        },
        "outputId": "86c18b92-3c11-41c9-998a-dd9858cdd901"
      },
      "source": [
        "X = torch.tensor([[0.0, 1.0, 2.0], [3.0, 4.0, 5.0], [6.0, 7.0, 8.0]])\n",
        "pool2d(X, (2, 2))"
      ],
      "execution_count": 4,
      "outputs": [
        {
          "output_type": "execute_result",
          "data": {
            "text/plain": [
              "tensor([[4., 5.],\n",
              "        [7., 8.]])"
            ]
          },
          "metadata": {},
          "execution_count": 4
        }
      ]
    },
    {
      "cell_type": "markdown",
      "metadata": {
        "origin_pos": 7,
        "id": "HaGalLQXQp1L"
      },
      "source": [
        "Also, we experiment with (**the average pooling layer**).\n"
      ]
    },
    {
      "cell_type": "code",
      "metadata": {
        "origin_pos": 8,
        "tab": [
          "pytorch"
        ],
        "id": "zn9hkxZvQp1N",
        "colab": {
          "base_uri": "https://localhost:8080/"
        },
        "outputId": "784b273e-5021-42fa-aa30-9eac988f5dbe"
      },
      "source": [
        "pool2d(X, (2, 2), 'avg')"
      ],
      "execution_count": 5,
      "outputs": [
        {
          "output_type": "execute_result",
          "data": {
            "text/plain": [
              "tensor([[2., 3.],\n",
              "        [5., 6.]])"
            ]
          },
          "metadata": {},
          "execution_count": 5
        }
      ]
    },
    {
      "cell_type": "markdown",
      "metadata": {
        "origin_pos": 9,
        "id": "9r5pjWJHQp1P"
      },
      "source": [
        "## [**Padding and Stride**]\n",
        "\n",
        "As with convolutional layers, pooling layers\n",
        "can also change the output shape.\n",
        "And as before, we can alter the operation to achieve a desired output shape\n",
        "by padding the input and adjusting the stride.\n",
        "We can demonstrate the use of padding and strides\n",
        "in pooling layers via the built-in two-dimensional maximum pooling layer from the deep learning framework.\n",
        "We first construct an input tensor `X` whose shape has four dimensions,\n",
        "where the number of examples (batch size) and number of channels are both 1.\n"
      ]
    },
    {
      "cell_type": "code",
      "metadata": {
        "origin_pos": 11,
        "tab": [
          "pytorch"
        ],
        "id": "pckCpfbGQp1Q",
        "colab": {
          "base_uri": "https://localhost:8080/"
        },
        "outputId": "62cf52d9-0e83-4b6f-ed34-118338e3858a"
      },
      "source": [
        "X = torch.arange(16, dtype=torch.float32).reshape((1, 1, 4, 4))\n",
        "X"
      ],
      "execution_count": 6,
      "outputs": [
        {
          "output_type": "execute_result",
          "data": {
            "text/plain": [
              "tensor([[[[ 0.,  1.,  2.,  3.],\n",
              "          [ 4.,  5.,  6.,  7.],\n",
              "          [ 8.,  9., 10., 11.],\n",
              "          [12., 13., 14., 15.]]]])"
            ]
          },
          "metadata": {},
          "execution_count": 6
        }
      ]
    },
    {
      "cell_type": "markdown",
      "metadata": {
        "origin_pos": 13,
        "id": "5y0pWtGyQp1R"
      },
      "source": [
        "By default, (**the stride and the pooling window in the instance from the framework's built-in class\n",
        "have the same shape.**)\n",
        "Below, we use a pooling window of shape `(3, 3)`,\n",
        "so we get a stride shape of `(3, 3)` by default.\n"
      ]
    },
    {
      "cell_type": "code",
      "metadata": {
        "origin_pos": 15,
        "tab": [
          "pytorch"
        ],
        "id": "uLY5yDxBQp1R",
        "colab": {
          "base_uri": "https://localhost:8080/"
        },
        "outputId": "223e5060-e1c5-46a9-ab6f-1705ae4172bf"
      },
      "source": [
        "pool2d = nn.MaxPool2d(3)\n",
        "pool2d(X)"
      ],
      "execution_count": 7,
      "outputs": [
        {
          "output_type": "stream",
          "name": "stderr",
          "text": [
            "/usr/local/lib/python3.7/dist-packages/torch/nn/functional.py:718: UserWarning: Named tensors and all their associated APIs are an experimental feature and subject to change. Please do not use them for anything important until they are released as stable. (Triggered internally at  /pytorch/c10/core/TensorImpl.h:1156.)\n",
            "  return torch.max_pool2d(input, kernel_size, stride, padding, dilation, ceil_mode)\n"
          ]
        },
        {
          "output_type": "execute_result",
          "data": {
            "text/plain": [
              "tensor([[[[10.]]]])"
            ]
          },
          "metadata": {},
          "execution_count": 7
        }
      ]
    },
    {
      "cell_type": "markdown",
      "metadata": {
        "origin_pos": 17,
        "id": "fkFV6EZcQp1S"
      },
      "source": [
        "[**The stride and padding can be manually specified.**]\n"
      ]
    },
    {
      "cell_type": "code",
      "metadata": {
        "origin_pos": 19,
        "tab": [
          "pytorch"
        ],
        "id": "pdL-ooFzQp1T",
        "colab": {
          "base_uri": "https://localhost:8080/"
        },
        "outputId": "93d45738-1550-4701-80e9-9e48f16202d7"
      },
      "source": [
        "pool2d = nn.MaxPool2d(3, padding=1, stride=2)\n",
        "pool2d(X)"
      ],
      "execution_count": 8,
      "outputs": [
        {
          "output_type": "execute_result",
          "data": {
            "text/plain": [
              "tensor([[[[ 5.,  7.],\n",
              "          [13., 15.]]]])"
            ]
          },
          "metadata": {},
          "execution_count": 8
        }
      ]
    },
    {
      "cell_type": "markdown",
      "metadata": {
        "origin_pos": 22,
        "tab": [
          "pytorch"
        ],
        "id": "Ao-l8xSCQp1U"
      },
      "source": [
        "Of course, we can (**specify an arbitrary rectangular pooling window\n",
        "and specify the padding and stride for height and width**), respectively.\n"
      ]
    },
    {
      "cell_type": "code",
      "metadata": {
        "origin_pos": 25,
        "tab": [
          "pytorch"
        ],
        "id": "_KRB6FXWQp1U",
        "colab": {
          "base_uri": "https://localhost:8080/"
        },
        "outputId": "56b68da8-6960-4f63-a69e-a0c6c5cbdc22"
      },
      "source": [
        "pool2d = nn.MaxPool2d((2, 3), stride=(2, 3), padding=(0, 1))\n",
        "pool2d(X)"
      ],
      "execution_count": 9,
      "outputs": [
        {
          "output_type": "execute_result",
          "data": {
            "text/plain": [
              "tensor([[[[ 5.,  7.],\n",
              "          [13., 15.]]]])"
            ]
          },
          "metadata": {},
          "execution_count": 9
        }
      ]
    },
    {
      "cell_type": "markdown",
      "metadata": {
        "origin_pos": 27,
        "id": "Q6zkrdIpQp1U"
      },
      "source": [
        "## Multiple Channels\n",
        "\n",
        "When processing multi-channel input data,\n",
        "[**the pooling layer pools each input channel separately**],\n",
        "rather than summing the inputs up over channels\n",
        "as in a convolutional layer.\n",
        "This means that the number of output channels for the pooling layer\n",
        "is the same as the number of input channels.\n",
        "Below, we will concatenate tensors `X` and `X + 1`\n",
        "on the channel dimension to construct an input with 2 channels.\n"
      ]
    },
    {
      "cell_type": "code",
      "metadata": {
        "origin_pos": 29,
        "tab": [
          "pytorch"
        ],
        "id": "K4RQzWfaQp1V",
        "colab": {
          "base_uri": "https://localhost:8080/"
        },
        "outputId": "7201aa20-b33a-45ad-bc58-6dbb4e5237b3"
      },
      "source": [
        "X = torch.cat((X, X + 1), 1)\n",
        "X"
      ],
      "execution_count": 10,
      "outputs": [
        {
          "output_type": "execute_result",
          "data": {
            "text/plain": [
              "tensor([[[[ 0.,  1.,  2.,  3.],\n",
              "          [ 4.,  5.,  6.,  7.],\n",
              "          [ 8.,  9., 10., 11.],\n",
              "          [12., 13., 14., 15.]],\n",
              "\n",
              "         [[ 1.,  2.,  3.,  4.],\n",
              "          [ 5.,  6.,  7.,  8.],\n",
              "          [ 9., 10., 11., 12.],\n",
              "          [13., 14., 15., 16.]]]])"
            ]
          },
          "metadata": {},
          "execution_count": 10
        }
      ]
    },
    {
      "cell_type": "markdown",
      "metadata": {
        "origin_pos": 31,
        "id": "37DsdZALQp1W"
      },
      "source": [
        "As we can see, the number of output channels is still 2 after pooling.\n"
      ]
    },
    {
      "cell_type": "code",
      "metadata": {
        "origin_pos": 33,
        "tab": [
          "pytorch"
        ],
        "id": "Cy9W7_zoQp1W",
        "colab": {
          "base_uri": "https://localhost:8080/"
        },
        "outputId": "705675cd-0fc6-4153-924b-1477bb53ffc9"
      },
      "source": [
        "pool2d = nn.MaxPool2d(3, padding=1, stride=2)\n",
        "pool2d(X)"
      ],
      "execution_count": 11,
      "outputs": [
        {
          "output_type": "execute_result",
          "data": {
            "text/plain": [
              "tensor([[[[ 5.,  7.],\n",
              "          [13., 15.]],\n",
              "\n",
              "         [[ 6.,  8.],\n",
              "          [14., 16.]]]])"
            ]
          },
          "metadata": {},
          "execution_count": 11
        }
      ]
    },
    {
      "cell_type": "markdown",
      "metadata": {
        "origin_pos": 36,
        "id": "3f0sz86cQp1X"
      },
      "source": [
        "## Summary\n",
        "\n",
        "* Taking the input elements in the pooling window, the maximum pooling operation assigns the maximum value as the output and the average pooling operation assigns the average value as the output.\n",
        "* One of the major benefits of a pooling layer is to alleviate the excessive sensitivity of the convolutional layer to location.\n",
        "* We can specify the padding and stride for the pooling layer.\n",
        "* Maximum pooling, combined with a stride larger than 1 can be used to reduce the spatial dimensions (e.g., width and height).\n",
        "* The pooling layer's number of output channels is the same as the number of input channels.\n",
        "\n",
        "\n",
        "## Exercises\n",
        "\n",
        "1. Can you implement average pooling as a special case of a convolution layer? If so, do it.\n",
        "1. Can you implement maximum pooling as a special case of a convolution layer? If so, do it.\n",
        "1. What is the computational cost of the pooling layer? Assume that the input to the pooling layer is of size $c\\times h\\times w$, the pooling window has a shape of $p_h\\times p_w$ with a padding of $(p_h, p_w)$ and a stride of $(s_h, s_w)$.\n",
        "1. Why do you expect maximum pooling and average pooling to work differently?\n",
        "1. Do we need a separate minimum pooling layer? Can you replace it with another operation?\n",
        "1. Is there another operation between average and maximum pooling that you could consider (hint: recall the softmax)? Why might it not be so popular?\n"
      ]
    },
    {
      "cell_type": "markdown",
      "metadata": {
        "origin_pos": 38,
        "tab": [
          "pytorch"
        ],
        "id": "1UIyVjlsQp1X"
      },
      "source": [
        "[Discussions](https://discuss.d2l.ai/t/72)\n"
      ]
    }
  ]
}