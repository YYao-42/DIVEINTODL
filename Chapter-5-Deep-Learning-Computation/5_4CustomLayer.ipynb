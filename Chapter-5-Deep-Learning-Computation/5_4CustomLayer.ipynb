{
  "nbformat": 4,
  "nbformat_minor": 0,
  "metadata": {
    "kernelspec": {
      "display_name": "Python 3",
      "name": "python3"
    },
    "language_info": {
      "name": "python"
    },
    "colab": {
      "name": "5_4CustomLayer.ipynb",
      "provenance": [],
      "include_colab_link": true
    }
  },
  "cells": [
    {
      "cell_type": "markdown",
      "metadata": {
        "id": "view-in-github",
        "colab_type": "text"
      },
      "source": [
        "<a href=\"https://colab.research.google.com/github/YYao-42/DIVEINTODL/blob/main/Chapter-5-Deep-Learning-Computation/5_4CustomLayer.ipynb\" target=\"_parent\"><img src=\"https://colab.research.google.com/assets/colab-badge.svg\" alt=\"Open In Colab\"/></a>"
      ]
    },
    {
      "cell_type": "markdown",
      "metadata": {
        "origin_pos": 0,
        "id": "oTh7d68W7hN0"
      },
      "source": [
        "# Custom Layers\n",
        "\n",
        "One factor behind deep learning's success\n",
        "is the availability of a wide range of layers\n",
        "that can be composed in creative ways\n",
        "to design architectures suitable\n",
        "for a wide variety of tasks.\n",
        "For instance, researchers have invented layers\n",
        "specifically for handling images, text,\n",
        "looping over sequential data,\n",
        "and\n",
        "performing dynamic programming.\n",
        "Sooner or later, you will encounter or invent\n",
        "a layer that does not exist yet in the deep learning framework.\n",
        "In these cases, you must build a custom layer.\n",
        "In this section, we show you how.\n",
        "\n",
        "## (**Layers without Parameters**)\n",
        "\n",
        "To start, we construct a custom layer\n",
        "that does not have any parameters of its own.\n",
        "This should look familiar if you recall our\n",
        "introduction to block in :numref:`sec_model_construction`.\n",
        "The following `CenteredLayer` class simply\n",
        "subtracts the mean from its input.\n",
        "To build it, we simply need to inherit\n",
        "from the base layer class and implement the forward propagation function.\n"
      ]
    },
    {
      "cell_type": "code",
      "metadata": {
        "origin_pos": 2,
        "tab": [
          "pytorch"
        ],
        "id": "2J3-fEiW7hN9"
      },
      "source": [
        "import torch\n",
        "from torch import nn\n",
        "from torch.nn import functional as F\n",
        "\n",
        "class CenteredLayer(nn.Module):\n",
        "    def __init__(self):\n",
        "        super().__init__()\n",
        "\n",
        "    def forward(self, X):\n",
        "        return X - X.mean()"
      ],
      "execution_count": 1,
      "outputs": []
    },
    {
      "cell_type": "markdown",
      "metadata": {
        "origin_pos": 4,
        "id": "kbN99sya7hOA"
      },
      "source": [
        "Let us verify that our layer works as intended by feeding some data through it.\n"
      ]
    },
    {
      "cell_type": "code",
      "metadata": {
        "origin_pos": 6,
        "tab": [
          "pytorch"
        ],
        "id": "fbg4_GKG7hOB",
        "colab": {
          "base_uri": "https://localhost:8080/"
        },
        "outputId": "2d8203c8-8711-405a-9df2-8492d8ef8524"
      },
      "source": [
        "layer = CenteredLayer()\n",
        "layer(torch.FloatTensor([1, 2, 3, 4, 5]))"
      ],
      "execution_count": 2,
      "outputs": [
        {
          "output_type": "execute_result",
          "data": {
            "text/plain": [
              "tensor([-2., -1.,  0.,  1.,  2.])"
            ]
          },
          "metadata": {},
          "execution_count": 2
        }
      ]
    },
    {
      "cell_type": "markdown",
      "metadata": {
        "origin_pos": 8,
        "id": "sMQnwMj27hOE"
      },
      "source": [
        "We can now [**incorporate our layer as a component\n",
        "in constructing more complex models.**]\n"
      ]
    },
    {
      "cell_type": "code",
      "metadata": {
        "origin_pos": 10,
        "tab": [
          "pytorch"
        ],
        "id": "6A2jQWai7hOF"
      },
      "source": [
        "net = nn.Sequential(nn.Linear(8, 128), CenteredLayer())"
      ],
      "execution_count": 3,
      "outputs": []
    },
    {
      "cell_type": "markdown",
      "metadata": {
        "origin_pos": 12,
        "id": "SXUwjVvn7hOG"
      },
      "source": [
        "As an extra sanity check, we can send random data\n",
        "through the network and check that the mean is in fact 0.\n",
        "Because we are dealing with floating point numbers,\n",
        "we may still see a very small nonzero number\n",
        "due to quantization.\n"
      ]
    },
    {
      "cell_type": "code",
      "metadata": {
        "origin_pos": 14,
        "tab": [
          "pytorch"
        ],
        "id": "W_E7azFu7hOJ",
        "colab": {
          "base_uri": "https://localhost:8080/"
        },
        "outputId": "4d647626-5cbd-46c7-f5d7-7f6ff583bbf1"
      },
      "source": [
        "Y = net(torch.rand(4, 8))\n",
        "Y.mean()"
      ],
      "execution_count": 4,
      "outputs": [
        {
          "output_type": "execute_result",
          "data": {
            "text/plain": [
              "tensor(-3.7253e-09, grad_fn=<MeanBackward0>)"
            ]
          },
          "metadata": {},
          "execution_count": 4
        }
      ]
    },
    {
      "cell_type": "markdown",
      "metadata": {
        "origin_pos": 16,
        "id": "uX7i5_tV7hOL"
      },
      "source": [
        "## [**Layers with Parameters**]\n",
        "\n",
        "Now that we know how to define simple layers,\n",
        "let us move on to defining layers with parameters\n",
        "that can be adjusted through training.\n",
        "We can use built-in functions to create parameters, which\n",
        "provide some basic housekeeping functionality.\n",
        "In particular, they govern access, initialization,\n",
        "sharing, saving, and loading model parameters.\n",
        "This way, among other benefits, we will not need to write\n",
        "custom serialization routines for every custom layer.\n",
        "\n",
        "Now let us implement our own version of the  fully-connected layer.\n",
        "Recall that this layer requires two parameters,\n",
        "one to represent the weight and the other for the bias.\n",
        "In this implementation, we bake in the ReLU activation as a default.\n",
        "This layer requires to input arguments: `in_units` and `units`, which\n",
        "denote the number of inputs and outputs, respectively.\n"
      ]
    },
    {
      "cell_type": "code",
      "metadata": {
        "origin_pos": 18,
        "tab": [
          "pytorch"
        ],
        "id": "N8d-Tsv37hON"
      },
      "source": [
        "class MyLinear(nn.Module):\n",
        "    def __init__(self, in_units, units):\n",
        "        super().__init__()\n",
        "        self.weight = nn.Parameter(torch.randn(in_units, units))\n",
        "        self.bias = nn.Parameter(torch.randn(units,))\n",
        "\n",
        "    def forward(self, X):\n",
        "        linear = torch.matmul(X, self.weight.data) + self.bias.data\n",
        "        return F.relu(linear)"
      ],
      "execution_count": 5,
      "outputs": []
    },
    {
      "cell_type": "markdown",
      "metadata": {
        "origin_pos": 21,
        "tab": [
          "pytorch"
        ],
        "id": "TwX9Ac5x7hOS"
      },
      "source": [
        "Next, we instantiate the `MyLinear` class\n",
        "and access its model parameters.\n"
      ]
    },
    {
      "cell_type": "code",
      "metadata": {
        "origin_pos": 23,
        "tab": [
          "pytorch"
        ],
        "id": "maO-43IW7hOS",
        "colab": {
          "base_uri": "https://localhost:8080/"
        },
        "outputId": "c4937f5a-54fa-4910-8d28-ad960d412109"
      },
      "source": [
        "linear = MyLinear(5, 3)\n",
        "linear.weight"
      ],
      "execution_count": 6,
      "outputs": [
        {
          "output_type": "execute_result",
          "data": {
            "text/plain": [
              "Parameter containing:\n",
              "tensor([[ 0.3944,  0.1734, -0.8327],\n",
              "        [ 0.3865, -0.1795, -0.2907],\n",
              "        [-1.2842, -2.0580,  0.9972],\n",
              "        [ 0.9891, -0.4244,  0.3405],\n",
              "        [ 1.3115, -0.5478,  0.1648]], requires_grad=True)"
            ]
          },
          "metadata": {},
          "execution_count": 6
        }
      ]
    },
    {
      "cell_type": "markdown",
      "metadata": {
        "origin_pos": 25,
        "id": "PrgQoXL-7hOT"
      },
      "source": [
        "We can [**directly carry out forward propagation calculations using custom layers.**]\n"
      ]
    },
    {
      "cell_type": "code",
      "metadata": {
        "origin_pos": 27,
        "tab": [
          "pytorch"
        ],
        "id": "7pBt-FlY7hOU",
        "colab": {
          "base_uri": "https://localhost:8080/"
        },
        "outputId": "b6350f69-1a64-48c8-820b-4405a919586d"
      },
      "source": [
        "linear(torch.rand(2, 5))"
      ],
      "execution_count": 7,
      "outputs": [
        {
          "output_type": "execute_result",
          "data": {
            "text/plain": [
              "tensor([[0.1394, 0.0000, 0.0000],\n",
              "        [0.0000, 0.0000, 0.0000]])"
            ]
          },
          "metadata": {},
          "execution_count": 7
        }
      ]
    },
    {
      "cell_type": "markdown",
      "metadata": {
        "origin_pos": 29,
        "id": "ktpstWC47hOV"
      },
      "source": [
        "We can also (**construct models using custom layers.**)\n",
        "Once we have that we can use it just like the built-in fully-connected layer.\n"
      ]
    },
    {
      "cell_type": "code",
      "metadata": {
        "origin_pos": 31,
        "tab": [
          "pytorch"
        ],
        "id": "NJM9-_WW7hOV",
        "colab": {
          "base_uri": "https://localhost:8080/"
        },
        "outputId": "75607d2b-2c3e-4352-d6f4-1b92fbe98ef5"
      },
      "source": [
        "net = nn.Sequential(MyLinear(64, 8), MyLinear(8, 1))\n",
        "net(torch.rand(2, 64))"
      ],
      "execution_count": 8,
      "outputs": [
        {
          "output_type": "execute_result",
          "data": {
            "text/plain": [
              "tensor([[7.3869],\n",
              "        [4.5915]])"
            ]
          },
          "metadata": {},
          "execution_count": 8
        }
      ]
    },
    {
      "cell_type": "markdown",
      "metadata": {
        "origin_pos": 33,
        "id": "gMnedzvn7hOW"
      },
      "source": [
        "## Summary\n",
        "\n",
        "* We can design custom layers via the basic layer class. This allows us to define flexible new layers that behave differently from any existing layers in the library.\n",
        "* Once defined, custom layers can be invoked in arbitrary contexts and architectures.\n",
        "* Layers can have local parameters, which can be created through built-in functions.\n",
        "\n",
        "\n",
        "## Exercises\n",
        "\n",
        "1. Design a layer that takes an input and computes a tensor reduction,\n",
        "   i.e., it returns $y_k = \\sum_{i, j} W_{ijk} x_i x_j$.\n",
        "1. Design a layer that returns the leading half of the Fourier coefficients of the data.\n"
      ]
    },
    {
      "cell_type": "markdown",
      "metadata": {
        "origin_pos": 35,
        "tab": [
          "pytorch"
        ],
        "id": "8ANGy9I-7hOW"
      },
      "source": [
        "[Discussions](https://discuss.d2l.ai/t/59)\n"
      ]
    }
  ]
}