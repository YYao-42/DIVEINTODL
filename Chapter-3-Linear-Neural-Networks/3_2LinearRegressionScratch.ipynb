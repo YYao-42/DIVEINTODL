{
  "nbformat": 4,
  "nbformat_minor": 0,
  "metadata": {
    "kernelspec": {
      "display_name": "Python 3",
      "name": "python3"
    },
    "language_info": {
      "name": "python"
    },
    "colab": {
      "name": "3_2LinearRegressionScratch.ipynb",
      "provenance": [],
      "include_colab_link": true
    }
  },
  "cells": [
    {
      "cell_type": "markdown",
      "metadata": {
        "id": "view-in-github",
        "colab_type": "text"
      },
      "source": [
        "<a href=\"https://colab.research.google.com/github/YYao-42/DIVEINTODL/blob/main/Chapter-3-Linear-Neural-Networks/3_2LinearRegressionScratch.ipynb\" target=\"_parent\"><img src=\"https://colab.research.google.com/assets/colab-badge.svg\" alt=\"Open In Colab\"/></a>"
      ]
    },
    {
      "cell_type": "markdown",
      "metadata": {
        "id": "ovbijoZj4dV1"
      },
      "source": [
        "The following additional libraries are needed to run this\n",
        "notebook. Note that running on Colab is experimental, please report a Github\n",
        "issue if you have any problem."
      ]
    },
    {
      "cell_type": "code",
      "metadata": {
        "id": "RW2cE9wX4dV7",
        "colab": {
          "base_uri": "https://localhost:8080/"
        },
        "outputId": "d7b53d40-9938-457c-a264-274a4b7d539e"
      },
      "source": [
        "!pip install d2l==0.17.0\n"
      ],
      "execution_count": 1,
      "outputs": [
        {
          "output_type": "stream",
          "text": [
            "Collecting d2l==0.17.0\n",
            "  Downloading d2l-0.17.0-py3-none-any.whl (83 kB)\n",
            "\u001b[?25l\r\u001b[K     |████                            | 10 kB 18.8 MB/s eta 0:00:01\r\u001b[K     |███████▉                        | 20 kB 25.5 MB/s eta 0:00:01\r\u001b[K     |███████████▉                    | 30 kB 26.5 MB/s eta 0:00:01\r\u001b[K     |███████████████▊                | 40 kB 17.9 MB/s eta 0:00:01\r\u001b[K     |███████████████████▊            | 51 kB 15.4 MB/s eta 0:00:01\r\u001b[K     |███████████████████████▋        | 61 kB 12.8 MB/s eta 0:00:01\r\u001b[K     |███████████████████████████▋    | 71 kB 12.8 MB/s eta 0:00:01\r\u001b[K     |███████████████████████████████▌| 81 kB 14.2 MB/s eta 0:00:01\r\u001b[K     |████████████████████████████████| 83 kB 661 kB/s \n",
            "\u001b[?25hRequirement already satisfied: requests in /usr/local/lib/python3.7/dist-packages (from d2l==0.17.0) (2.23.0)\n",
            "Requirement already satisfied: pandas in /usr/local/lib/python3.7/dist-packages (from d2l==0.17.0) (1.1.5)\n",
            "Requirement already satisfied: matplotlib in /usr/local/lib/python3.7/dist-packages (from d2l==0.17.0) (3.2.2)\n",
            "Requirement already satisfied: numpy in /usr/local/lib/python3.7/dist-packages (from d2l==0.17.0) (1.19.5)\n",
            "Requirement already satisfied: jupyter in /usr/local/lib/python3.7/dist-packages (from d2l==0.17.0) (1.0.0)\n",
            "Requirement already satisfied: jupyter-console in /usr/local/lib/python3.7/dist-packages (from jupyter->d2l==0.17.0) (5.2.0)\n",
            "Requirement already satisfied: ipykernel in /usr/local/lib/python3.7/dist-packages (from jupyter->d2l==0.17.0) (4.10.1)\n",
            "Requirement already satisfied: nbconvert in /usr/local/lib/python3.7/dist-packages (from jupyter->d2l==0.17.0) (5.6.1)\n",
            "Requirement already satisfied: notebook in /usr/local/lib/python3.7/dist-packages (from jupyter->d2l==0.17.0) (5.3.1)\n",
            "Requirement already satisfied: qtconsole in /usr/local/lib/python3.7/dist-packages (from jupyter->d2l==0.17.0) (5.1.1)\n",
            "Requirement already satisfied: ipywidgets in /usr/local/lib/python3.7/dist-packages (from jupyter->d2l==0.17.0) (7.6.3)\n",
            "Requirement already satisfied: ipython>=4.0.0 in /usr/local/lib/python3.7/dist-packages (from ipykernel->jupyter->d2l==0.17.0) (5.5.0)\n",
            "Requirement already satisfied: tornado>=4.0 in /usr/local/lib/python3.7/dist-packages (from ipykernel->jupyter->d2l==0.17.0) (5.1.1)\n",
            "Requirement already satisfied: jupyter-client in /usr/local/lib/python3.7/dist-packages (from ipykernel->jupyter->d2l==0.17.0) (5.3.5)\n",
            "Requirement already satisfied: traitlets>=4.1.0 in /usr/local/lib/python3.7/dist-packages (from ipykernel->jupyter->d2l==0.17.0) (5.0.5)\n",
            "Requirement already satisfied: prompt-toolkit<2.0.0,>=1.0.4 in /usr/local/lib/python3.7/dist-packages (from ipython>=4.0.0->ipykernel->jupyter->d2l==0.17.0) (1.0.18)\n",
            "Requirement already satisfied: pygments in /usr/local/lib/python3.7/dist-packages (from ipython>=4.0.0->ipykernel->jupyter->d2l==0.17.0) (2.6.1)\n",
            "Requirement already satisfied: pickleshare in /usr/local/lib/python3.7/dist-packages (from ipython>=4.0.0->ipykernel->jupyter->d2l==0.17.0) (0.7.5)\n",
            "Requirement already satisfied: decorator in /usr/local/lib/python3.7/dist-packages (from ipython>=4.0.0->ipykernel->jupyter->d2l==0.17.0) (4.4.2)\n",
            "Requirement already satisfied: pexpect in /usr/local/lib/python3.7/dist-packages (from ipython>=4.0.0->ipykernel->jupyter->d2l==0.17.0) (4.8.0)\n",
            "Requirement already satisfied: setuptools>=18.5 in /usr/local/lib/python3.7/dist-packages (from ipython>=4.0.0->ipykernel->jupyter->d2l==0.17.0) (57.4.0)\n",
            "Requirement already satisfied: simplegeneric>0.8 in /usr/local/lib/python3.7/dist-packages (from ipython>=4.0.0->ipykernel->jupyter->d2l==0.17.0) (0.8.1)\n",
            "Requirement already satisfied: six>=1.9.0 in /usr/local/lib/python3.7/dist-packages (from prompt-toolkit<2.0.0,>=1.0.4->ipython>=4.0.0->ipykernel->jupyter->d2l==0.17.0) (1.15.0)\n",
            "Requirement already satisfied: wcwidth in /usr/local/lib/python3.7/dist-packages (from prompt-toolkit<2.0.0,>=1.0.4->ipython>=4.0.0->ipykernel->jupyter->d2l==0.17.0) (0.2.5)\n",
            "Requirement already satisfied: ipython-genutils in /usr/local/lib/python3.7/dist-packages (from traitlets>=4.1.0->ipykernel->jupyter->d2l==0.17.0) (0.2.0)\n",
            "Requirement already satisfied: widgetsnbextension~=3.5.0 in /usr/local/lib/python3.7/dist-packages (from ipywidgets->jupyter->d2l==0.17.0) (3.5.1)\n",
            "Requirement already satisfied: nbformat>=4.2.0 in /usr/local/lib/python3.7/dist-packages (from ipywidgets->jupyter->d2l==0.17.0) (5.1.3)\n",
            "Requirement already satisfied: jupyterlab-widgets>=1.0.0 in /usr/local/lib/python3.7/dist-packages (from ipywidgets->jupyter->d2l==0.17.0) (1.0.0)\n",
            "Requirement already satisfied: jsonschema!=2.5.0,>=2.4 in /usr/local/lib/python3.7/dist-packages (from nbformat>=4.2.0->ipywidgets->jupyter->d2l==0.17.0) (2.6.0)\n",
            "Requirement already satisfied: jupyter-core in /usr/local/lib/python3.7/dist-packages (from nbformat>=4.2.0->ipywidgets->jupyter->d2l==0.17.0) (4.7.1)\n",
            "Requirement already satisfied: terminado>=0.8.1 in /usr/local/lib/python3.7/dist-packages (from notebook->jupyter->d2l==0.17.0) (0.11.0)\n",
            "Requirement already satisfied: jinja2 in /usr/local/lib/python3.7/dist-packages (from notebook->jupyter->d2l==0.17.0) (2.11.3)\n",
            "Requirement already satisfied: Send2Trash in /usr/local/lib/python3.7/dist-packages (from notebook->jupyter->d2l==0.17.0) (1.8.0)\n",
            "Requirement already satisfied: pyzmq>=13 in /usr/local/lib/python3.7/dist-packages (from jupyter-client->ipykernel->jupyter->d2l==0.17.0) (22.2.1)\n",
            "Requirement already satisfied: python-dateutil>=2.1 in /usr/local/lib/python3.7/dist-packages (from jupyter-client->ipykernel->jupyter->d2l==0.17.0) (2.8.2)\n",
            "Requirement already satisfied: ptyprocess in /usr/local/lib/python3.7/dist-packages (from terminado>=0.8.1->notebook->jupyter->d2l==0.17.0) (0.7.0)\n",
            "Requirement already satisfied: MarkupSafe>=0.23 in /usr/local/lib/python3.7/dist-packages (from jinja2->notebook->jupyter->d2l==0.17.0) (2.0.1)\n",
            "Requirement already satisfied: cycler>=0.10 in /usr/local/lib/python3.7/dist-packages (from matplotlib->d2l==0.17.0) (0.10.0)\n",
            "Requirement already satisfied: kiwisolver>=1.0.1 in /usr/local/lib/python3.7/dist-packages (from matplotlib->d2l==0.17.0) (1.3.1)\n",
            "Requirement already satisfied: pyparsing!=2.0.4,!=2.1.2,!=2.1.6,>=2.0.1 in /usr/local/lib/python3.7/dist-packages (from matplotlib->d2l==0.17.0) (2.4.7)\n",
            "Requirement already satisfied: mistune<2,>=0.8.1 in /usr/local/lib/python3.7/dist-packages (from nbconvert->jupyter->d2l==0.17.0) (0.8.4)\n",
            "Requirement already satisfied: pandocfilters>=1.4.1 in /usr/local/lib/python3.7/dist-packages (from nbconvert->jupyter->d2l==0.17.0) (1.4.3)\n",
            "Requirement already satisfied: bleach in /usr/local/lib/python3.7/dist-packages (from nbconvert->jupyter->d2l==0.17.0) (4.0.0)\n",
            "Requirement already satisfied: testpath in /usr/local/lib/python3.7/dist-packages (from nbconvert->jupyter->d2l==0.17.0) (0.5.0)\n",
            "Requirement already satisfied: defusedxml in /usr/local/lib/python3.7/dist-packages (from nbconvert->jupyter->d2l==0.17.0) (0.7.1)\n",
            "Requirement already satisfied: entrypoints>=0.2.2 in /usr/local/lib/python3.7/dist-packages (from nbconvert->jupyter->d2l==0.17.0) (0.3)\n",
            "Requirement already satisfied: webencodings in /usr/local/lib/python3.7/dist-packages (from bleach->nbconvert->jupyter->d2l==0.17.0) (0.5.1)\n",
            "Requirement already satisfied: packaging in /usr/local/lib/python3.7/dist-packages (from bleach->nbconvert->jupyter->d2l==0.17.0) (21.0)\n",
            "Requirement already satisfied: pytz>=2017.2 in /usr/local/lib/python3.7/dist-packages (from pandas->d2l==0.17.0) (2018.9)\n",
            "Requirement already satisfied: qtpy in /usr/local/lib/python3.7/dist-packages (from qtconsole->jupyter->d2l==0.17.0) (1.10.0)\n",
            "Requirement already satisfied: urllib3!=1.25.0,!=1.25.1,<1.26,>=1.21.1 in /usr/local/lib/python3.7/dist-packages (from requests->d2l==0.17.0) (1.24.3)\n",
            "Requirement already satisfied: certifi>=2017.4.17 in /usr/local/lib/python3.7/dist-packages (from requests->d2l==0.17.0) (2021.5.30)\n",
            "Requirement already satisfied: idna<3,>=2.5 in /usr/local/lib/python3.7/dist-packages (from requests->d2l==0.17.0) (2.10)\n",
            "Requirement already satisfied: chardet<4,>=3.0.2 in /usr/local/lib/python3.7/dist-packages (from requests->d2l==0.17.0) (3.0.4)\n",
            "Installing collected packages: d2l\n",
            "Successfully installed d2l-0.17.0\n"
          ],
          "name": "stdout"
        }
      ]
    },
    {
      "cell_type": "markdown",
      "metadata": {
        "origin_pos": 0,
        "id": "VoY6jSVJ4dV-"
      },
      "source": [
        "# Linear Regression Implementation from Scratch\n",
        ":label:`sec_linear_scratch`\n",
        "\n",
        "Now that you understand the key ideas behind linear regression,\n",
        "we can begin to work through a hands-on implementation in code.\n",
        "In this section, (**we will implement the entire method from scratch,\n",
        "including the data pipeline, the model,\n",
        "the loss function, and the minibatch stochastic gradient descent optimizer.**)\n",
        "While modern deep learning frameworks can automate nearly all of this work,\n",
        "implementing things from scratch is the only way\n",
        "to make sure that you really know what you are doing.\n",
        "Moreover, when it comes time to customize models,\n",
        "defining our own layers or loss functions,\n",
        "understanding how things work under the hood will prove handy.\n",
        "In this section, we will rely only on tensors and auto differentiation.\n",
        "Afterwards, we will introduce a more concise implementation,\n",
        "taking advantage of bells and whistles of deep learning frameworks.\n"
      ]
    },
    {
      "cell_type": "code",
      "metadata": {
        "origin_pos": 2,
        "tab": [
          "pytorch"
        ],
        "id": "v1cIVAfm4dWA"
      },
      "source": [
        "%matplotlib inline\n",
        "import random\n",
        "import torch\n",
        "from d2l import torch as d2l\n"
      ],
      "execution_count": 2,
      "outputs": []
    },
    {
      "cell_type": "markdown",
      "metadata": {
        "origin_pos": 4,
        "id": "tPhLB6gV4dWB"
      },
      "source": [
        "## Generating the Dataset\n",
        "\n",
        "To keep things simple, we will [**construct an artificial dataset\n",
        "according to a linear model with additive noise.**]\n",
        "Our task will be to recover this model's parameters\n",
        "using the finite set of examples contained in our dataset.\n",
        "We will keep the data low-dimensional so we can visualize it easily.\n",
        "In the following code snippet, we generate a dataset\n",
        "containing 1000 examples, each consisting of 2 features\n",
        "sampled from a standard normal distribution.\n",
        "Thus our synthetic dataset will be a matrix\n",
        "$\\mathbf{X}\\in \\mathbb{R}^{1000 \\times 2}$.\n",
        "\n",
        "(**The true parameters generating our dataset will be\n",
        "$\\mathbf{w} = [2, -3.4]^\\top$ and $b = 4.2$,\n",
        "and**) our synthetic labels will be assigned according\n",
        "to the following linear model with the noise term $\\epsilon$:\n",
        "\n",
        "(**$$\\mathbf{y}= \\mathbf{X} \\mathbf{w} + b + \\mathbf\\epsilon.$$**)\n",
        "\n",
        "You could think of $\\epsilon$ as capturing potential\n",
        "measurement errors on the features and labels.\n",
        "We will assume that the standard assumptions hold and thus\n",
        "that $\\epsilon$ obeys a normal distribution with mean of 0.\n",
        "To make our problem easy, we will set its standard deviation to 0.01.\n",
        "The following code generates our synthetic dataset.\n"
      ]
    },
    {
      "cell_type": "code",
      "metadata": {
        "origin_pos": 5,
        "tab": [
          "pytorch"
        ],
        "id": "N6Hb8kPT4dWD"
      },
      "source": [
        "def synthetic_data(w, b, num_examples): \n",
        "    \"\"\"Generate y = Xw + b + noise.\"\"\"\n",
        "    X = torch.normal(0, 1, (num_examples, len(w)))\n",
        "    y = torch.matmul(X, w) + b\n",
        "    y += torch.normal(0, 0.01, y.shape)\n",
        "    return X, y.reshape((-1, 1))"
      ],
      "execution_count": 4,
      "outputs": []
    },
    {
      "cell_type": "code",
      "metadata": {
        "origin_pos": 7,
        "tab": [
          "pytorch"
        ],
        "id": "TRVVdNH14dWF"
      },
      "source": [
        "true_w = torch.tensor([2, -3.4])\n",
        "true_b = 4.2\n",
        "features, labels = synthetic_data(true_w, true_b, 1000)"
      ],
      "execution_count": 5,
      "outputs": []
    },
    {
      "cell_type": "markdown",
      "metadata": {
        "origin_pos": 8,
        "id": "6ux76z274dWH"
      },
      "source": [
        "Note that [**each row in `features` consists of a 2-dimensional data example\n",
        "and that each row in `labels` consists of a 1-dimensional label value (a scalar).**]\n"
      ]
    },
    {
      "cell_type": "code",
      "metadata": {
        "origin_pos": 9,
        "tab": [
          "pytorch"
        ],
        "id": "mBzOcKAR4dWJ",
        "colab": {
          "base_uri": "https://localhost:8080/"
        },
        "outputId": "550b1dfc-6376-4b62-a58c-2c2ff8ecc52d"
      },
      "source": [
        "print('features:', features[0], '\\nlabel:', labels[0])"
      ],
      "execution_count": 6,
      "outputs": [
        {
          "output_type": "stream",
          "text": [
            "features: tensor([-0.5708, -1.4032]) \n",
            "label: tensor([7.8259])\n"
          ],
          "name": "stdout"
        }
      ]
    },
    {
      "cell_type": "markdown",
      "metadata": {
        "origin_pos": 10,
        "id": "62C5_b9b4dWN"
      },
      "source": [
        "By generating a scatter plot using the second feature `features[:, 1]` and `labels`,\n",
        "we can clearly observe the linear correlation between the two.\n"
      ]
    },
    {
      "cell_type": "code",
      "metadata": {
        "origin_pos": 11,
        "tab": [
          "pytorch"
        ],
        "id": "H9jmtBce4dWO",
        "colab": {
          "base_uri": "https://localhost:8080/",
          "height": 248
        },
        "outputId": "97d97175-1ef3-421d-e9f6-eeae6672f81b"
      },
      "source": [
        "d2l.set_figsize()\n",
        "# The semicolon is for displaying the plot only\n",
        "d2l.plt.scatter(features[:, (1)].detach().numpy(),\n",
        "                labels.detach().numpy(), 1);"
      ],
      "execution_count": 7,
      "outputs": [
        {
          "output_type": "display_data",
          "data": {
            "text/plain": [
              "<Figure size 252x180 with 1 Axes>"
            ],
            "image/svg+xml": "<?xml version=\"1.0\" encoding=\"utf-8\" standalone=\"no\"?>\n<!DOCTYPE svg PUBLIC \"-//W3C//DTD SVG 1.1//EN\"\n  \"http://www.w3.org/Graphics/SVG/1.1/DTD/svg11.dtd\">\n<!-- Created with matplotlib (https://matplotlib.org/) -->\n<svg height=\"170.361975pt\" version=\"1.1\" viewBox=\"0 0 231.442187 170.361975\" width=\"231.442187pt\" xmlns=\"http://www.w3.org/2000/svg\" xmlns:xlink=\"http://www.w3.org/1999/xlink\">\n <defs>\n  <style type=\"text/css\">\n*{stroke-linecap:butt;stroke-linejoin:round;}\n  </style>\n </defs>\n <g id=\"figure_1\">\n  <g id=\"patch_1\">\n   <path d=\"M 0 170.361975 \nL 231.442187 170.361975 \nL 231.442187 0 \nL 0 0 \nz\n\" style=\"fill:none;\"/>\n  </g>\n  <g id=\"axes_1\">\n   <g id=\"patch_2\">\n    <path d=\"M 28.942188 146.48385 \nL 224.242188 146.48385 \nL 224.242188 10.58385 \nL 28.942188 10.58385 \nz\n\" style=\"fill:#ffffff;\"/>\n   </g>\n   <g id=\"PathCollection_1\">\n    <defs>\n     <path d=\"M 0 0.5 \nC 0.132602 0.5 0.25979 0.447317 0.353553 0.353553 \nC 0.447317 0.25979 0.5 0.132602 0.5 0 \nC 0.5 -0.132602 0.447317 -0.25979 0.353553 -0.353553 \nC 0.25979 -0.447317 0.132602 -0.5 0 -0.5 \nC -0.132602 -0.5 -0.25979 -0.447317 -0.353553 -0.353553 \nC -0.447317 -0.25979 -0.5 -0.132602 -0.5 0 \nC -0.5 0.132602 -0.447317 0.25979 -0.353553 0.353553 \nC -0.25979 0.447317 -0.132602 0.5 0 0.5 \nz\n\" id=\"mce4d598f3a\" style=\"stroke:#1f77b4;\"/>\n    </defs>\n    <g clip-path=\"url(#p61d5b1171f)\">\n     <use style=\"fill:#1f77b4;stroke:#1f77b4;\" x=\"87.16962\" xlink:href=\"#mce4d598f3a\" y=\"66.800472\"/>\n     <use style=\"fill:#1f77b4;stroke:#1f77b4;\" x=\"137.153192\" xlink:href=\"#mce4d598f3a\" y=\"85.873619\"/>\n     <use style=\"fill:#1f77b4;stroke:#1f77b4;\" x=\"164.294669\" xlink:href=\"#mce4d598f3a\" y=\"108.871271\"/>\n     <use style=\"fill:#1f77b4;stroke:#1f77b4;\" x=\"150.540972\" xlink:href=\"#mce4d598f3a\" y=\"100.831117\"/>\n     <use style=\"fill:#1f77b4;stroke:#1f77b4;\" x=\"144.65806\" xlink:href=\"#mce4d598f3a\" y=\"111.289554\"/>\n     <use style=\"fill:#1f77b4;stroke:#1f77b4;\" x=\"111.540649\" xlink:href=\"#mce4d598f3a\" y=\"67.793317\"/>\n     <use style=\"fill:#1f77b4;stroke:#1f77b4;\" x=\"144.808295\" xlink:href=\"#mce4d598f3a\" y=\"94.205286\"/>\n     <use style=\"fill:#1f77b4;stroke:#1f77b4;\" x=\"96.336058\" xlink:href=\"#mce4d598f3a\" y=\"55.670065\"/>\n     <use style=\"fill:#1f77b4;stroke:#1f77b4;\" x=\"185.774964\" xlink:href=\"#mce4d598f3a\" y=\"112.087418\"/>\n     <use style=\"fill:#1f77b4;stroke:#1f77b4;\" x=\"106.512366\" xlink:href=\"#mce4d598f3a\" y=\"69.219086\"/>\n     <use style=\"fill:#1f77b4;stroke:#1f77b4;\" x=\"140.169085\" xlink:href=\"#mce4d598f3a\" y=\"79.709659\"/>\n     <use style=\"fill:#1f77b4;stroke:#1f77b4;\" x=\"120.322154\" xlink:href=\"#mce4d598f3a\" y=\"76.581232\"/>\n     <use style=\"fill:#1f77b4;stroke:#1f77b4;\" x=\"136.783528\" xlink:href=\"#mce4d598f3a\" y=\"93.304857\"/>\n     <use style=\"fill:#1f77b4;stroke:#1f77b4;\" x=\"101.0602\" xlink:href=\"#mce4d598f3a\" y=\"52.927861\"/>\n     <use style=\"fill:#1f77b4;stroke:#1f77b4;\" x=\"110.457863\" xlink:href=\"#mce4d598f3a\" y=\"76.382647\"/>\n     <use style=\"fill:#1f77b4;stroke:#1f77b4;\" x=\"120.101914\" xlink:href=\"#mce4d598f3a\" y=\"92.514858\"/>\n     <use style=\"fill:#1f77b4;stroke:#1f77b4;\" x=\"160.20758\" xlink:href=\"#mce4d598f3a\" y=\"96.434199\"/>\n     <use style=\"fill:#1f77b4;stroke:#1f77b4;\" x=\"142.947425\" xlink:href=\"#mce4d598f3a\" y=\"110.554616\"/>\n     <use style=\"fill:#1f77b4;stroke:#1f77b4;\" x=\"55.299249\" xlink:href=\"#mce4d598f3a\" y=\"54.470518\"/>\n     <use style=\"fill:#1f77b4;stroke:#1f77b4;\" x=\"121.916022\" xlink:href=\"#mce4d598f3a\" y=\"81.330795\"/>\n     <use style=\"fill:#1f77b4;stroke:#1f77b4;\" x=\"101.354751\" xlink:href=\"#mce4d598f3a\" y=\"61.406222\"/>\n     <use style=\"fill:#1f77b4;stroke:#1f77b4;\" x=\"112.824963\" xlink:href=\"#mce4d598f3a\" y=\"77.499806\"/>\n     <use style=\"fill:#1f77b4;stroke:#1f77b4;\" x=\"72.808098\" xlink:href=\"#mce4d598f3a\" y=\"61.513799\"/>\n     <use style=\"fill:#1f77b4;stroke:#1f77b4;\" x=\"128.150872\" xlink:href=\"#mce4d598f3a\" y=\"88.506648\"/>\n     <use style=\"fill:#1f77b4;stroke:#1f77b4;\" x=\"152.198017\" xlink:href=\"#mce4d598f3a\" y=\"87.870698\"/>\n     <use style=\"fill:#1f77b4;stroke:#1f77b4;\" x=\"129.283656\" xlink:href=\"#mce4d598f3a\" y=\"81.917885\"/>\n     <use style=\"fill:#1f77b4;stroke:#1f77b4;\" x=\"156.15651\" xlink:href=\"#mce4d598f3a\" y=\"116.76734\"/>\n     <use style=\"fill:#1f77b4;stroke:#1f77b4;\" x=\"112.450027\" xlink:href=\"#mce4d598f3a\" y=\"72.9085\"/>\n     <use style=\"fill:#1f77b4;stroke:#1f77b4;\" x=\"95.097909\" xlink:href=\"#mce4d598f3a\" y=\"68.858292\"/>\n     <use style=\"fill:#1f77b4;stroke:#1f77b4;\" x=\"127.219743\" xlink:href=\"#mce4d598f3a\" y=\"90.271107\"/>\n     <use style=\"fill:#1f77b4;stroke:#1f77b4;\" x=\"120.131686\" xlink:href=\"#mce4d598f3a\" y=\"60.538608\"/>\n     <use style=\"fill:#1f77b4;stroke:#1f77b4;\" x=\"173.94883\" xlink:href=\"#mce4d598f3a\" y=\"108.099204\"/>\n     <use style=\"fill:#1f77b4;stroke:#1f77b4;\" x=\"118.892584\" xlink:href=\"#mce4d598f3a\" y=\"81.182758\"/>\n     <use style=\"fill:#1f77b4;stroke:#1f77b4;\" x=\"137.643902\" xlink:href=\"#mce4d598f3a\" y=\"103.369833\"/>\n     <use style=\"fill:#1f77b4;stroke:#1f77b4;\" x=\"148.229574\" xlink:href=\"#mce4d598f3a\" y=\"86.449424\"/>\n     <use style=\"fill:#1f77b4;stroke:#1f77b4;\" x=\"103.246617\" xlink:href=\"#mce4d598f3a\" y=\"70.108768\"/>\n     <use style=\"fill:#1f77b4;stroke:#1f77b4;\" x=\"148.217973\" xlink:href=\"#mce4d598f3a\" y=\"100.70954\"/>\n     <use style=\"fill:#1f77b4;stroke:#1f77b4;\" x=\"131.56912\" xlink:href=\"#mce4d598f3a\" y=\"94.989772\"/>\n     <use style=\"fill:#1f77b4;stroke:#1f77b4;\" x=\"117.41346\" xlink:href=\"#mce4d598f3a\" y=\"70.550577\"/>\n     <use style=\"fill:#1f77b4;stroke:#1f77b4;\" x=\"123.805386\" xlink:href=\"#mce4d598f3a\" y=\"74.010743\"/>\n     <use style=\"fill:#1f77b4;stroke:#1f77b4;\" x=\"150.429833\" xlink:href=\"#mce4d598f3a\" y=\"102.852143\"/>\n     <use style=\"fill:#1f77b4;stroke:#1f77b4;\" x=\"154.711891\" xlink:href=\"#mce4d598f3a\" y=\"90.357868\"/>\n     <use style=\"fill:#1f77b4;stroke:#1f77b4;\" x=\"163.87546\" xlink:href=\"#mce4d598f3a\" y=\"101.679896\"/>\n     <use style=\"fill:#1f77b4;stroke:#1f77b4;\" x=\"135.880171\" xlink:href=\"#mce4d598f3a\" y=\"86.472099\"/>\n     <use style=\"fill:#1f77b4;stroke:#1f77b4;\" x=\"183.344665\" xlink:href=\"#mce4d598f3a\" y=\"127.101681\"/>\n     <use style=\"fill:#1f77b4;stroke:#1f77b4;\" x=\"94.272872\" xlink:href=\"#mce4d598f3a\" y=\"62.6861\"/>\n     <use style=\"fill:#1f77b4;stroke:#1f77b4;\" x=\"140.878581\" xlink:href=\"#mce4d598f3a\" y=\"96.543185\"/>\n     <use style=\"fill:#1f77b4;stroke:#1f77b4;\" x=\"94.465287\" xlink:href=\"#mce4d598f3a\" y=\"77.698526\"/>\n     <use style=\"fill:#1f77b4;stroke:#1f77b4;\" x=\"101.834805\" xlink:href=\"#mce4d598f3a\" y=\"73.612371\"/>\n     <use style=\"fill:#1f77b4;stroke:#1f77b4;\" x=\"159.823542\" xlink:href=\"#mce4d598f3a\" y=\"104.168961\"/>\n     <use style=\"fill:#1f77b4;stroke:#1f77b4;\" x=\"101.980654\" xlink:href=\"#mce4d598f3a\" y=\"69.540018\"/>\n     <use style=\"fill:#1f77b4;stroke:#1f77b4;\" x=\"111.718274\" xlink:href=\"#mce4d598f3a\" y=\"76.151678\"/>\n     <use style=\"fill:#1f77b4;stroke:#1f77b4;\" x=\"117.391501\" xlink:href=\"#mce4d598f3a\" y=\"77.945171\"/>\n     <use style=\"fill:#1f77b4;stroke:#1f77b4;\" x=\"141.115803\" xlink:href=\"#mce4d598f3a\" y=\"84.923161\"/>\n     <use style=\"fill:#1f77b4;stroke:#1f77b4;\" x=\"124.136897\" xlink:href=\"#mce4d598f3a\" y=\"84.884259\"/>\n     <use style=\"fill:#1f77b4;stroke:#1f77b4;\" x=\"122.31299\" xlink:href=\"#mce4d598f3a\" y=\"60.828065\"/>\n     <use style=\"fill:#1f77b4;stroke:#1f77b4;\" x=\"91.227792\" xlink:href=\"#mce4d598f3a\" y=\"81.492915\"/>\n     <use style=\"fill:#1f77b4;stroke:#1f77b4;\" x=\"77.068593\" xlink:href=\"#mce4d598f3a\" y=\"57.519419\"/>\n     <use style=\"fill:#1f77b4;stroke:#1f77b4;\" x=\"159.604259\" xlink:href=\"#mce4d598f3a\" y=\"103.056564\"/>\n     <use style=\"fill:#1f77b4;stroke:#1f77b4;\" x=\"124.902239\" xlink:href=\"#mce4d598f3a\" y=\"69.450802\"/>\n     <use style=\"fill:#1f77b4;stroke:#1f77b4;\" x=\"116.545618\" xlink:href=\"#mce4d598f3a\" y=\"73.858327\"/>\n     <use style=\"fill:#1f77b4;stroke:#1f77b4;\" x=\"143.726139\" xlink:href=\"#mce4d598f3a\" y=\"104.713076\"/>\n     <use style=\"fill:#1f77b4;stroke:#1f77b4;\" x=\"115.939409\" xlink:href=\"#mce4d598f3a\" y=\"65.579934\"/>\n     <use style=\"fill:#1f77b4;stroke:#1f77b4;\" x=\"119.783007\" xlink:href=\"#mce4d598f3a\" y=\"80.109401\"/>\n     <use style=\"fill:#1f77b4;stroke:#1f77b4;\" x=\"141.694956\" xlink:href=\"#mce4d598f3a\" y=\"74.971769\"/>\n     <use style=\"fill:#1f77b4;stroke:#1f77b4;\" x=\"173.256443\" xlink:href=\"#mce4d598f3a\" y=\"115.486281\"/>\n     <use style=\"fill:#1f77b4;stroke:#1f77b4;\" x=\"52.336459\" xlink:href=\"#mce4d598f3a\" y=\"36.503176\"/>\n     <use style=\"fill:#1f77b4;stroke:#1f77b4;\" x=\"182.911596\" xlink:href=\"#mce4d598f3a\" y=\"92.321497\"/>\n     <use style=\"fill:#1f77b4;stroke:#1f77b4;\" x=\"162.627331\" xlink:href=\"#mce4d598f3a\" y=\"120.961325\"/>\n     <use style=\"fill:#1f77b4;stroke:#1f77b4;\" x=\"124.699886\" xlink:href=\"#mce4d598f3a\" y=\"77.152275\"/>\n     <use style=\"fill:#1f77b4;stroke:#1f77b4;\" x=\"111.84558\" xlink:href=\"#mce4d598f3a\" y=\"73.40088\"/>\n     <use style=\"fill:#1f77b4;stroke:#1f77b4;\" x=\"81.721374\" xlink:href=\"#mce4d598f3a\" y=\"53.726847\"/>\n     <use style=\"fill:#1f77b4;stroke:#1f77b4;\" x=\"148.399695\" xlink:href=\"#mce4d598f3a\" y=\"80.574895\"/>\n     <use style=\"fill:#1f77b4;stroke:#1f77b4;\" x=\"111.89048\" xlink:href=\"#mce4d598f3a\" y=\"66.901877\"/>\n     <use style=\"fill:#1f77b4;stroke:#1f77b4;\" x=\"158.893187\" xlink:href=\"#mce4d598f3a\" y=\"95.861731\"/>\n     <use style=\"fill:#1f77b4;stroke:#1f77b4;\" x=\"129.656252\" xlink:href=\"#mce4d598f3a\" y=\"66.517861\"/>\n     <use style=\"fill:#1f77b4;stroke:#1f77b4;\" x=\"140.900278\" xlink:href=\"#mce4d598f3a\" y=\"83.863941\"/>\n     <use style=\"fill:#1f77b4;stroke:#1f77b4;\" x=\"97.552537\" xlink:href=\"#mce4d598f3a\" y=\"79.845638\"/>\n     <use style=\"fill:#1f77b4;stroke:#1f77b4;\" x=\"79.958322\" xlink:href=\"#mce4d598f3a\" y=\"65.262549\"/>\n     <use style=\"fill:#1f77b4;stroke:#1f77b4;\" x=\"104.772059\" xlink:href=\"#mce4d598f3a\" y=\"86.792444\"/>\n     <use style=\"fill:#1f77b4;stroke:#1f77b4;\" x=\"84.23268\" xlink:href=\"#mce4d598f3a\" y=\"70.771589\"/>\n     <use style=\"fill:#1f77b4;stroke:#1f77b4;\" x=\"127.461399\" xlink:href=\"#mce4d598f3a\" y=\"78.847323\"/>\n     <use style=\"fill:#1f77b4;stroke:#1f77b4;\" x=\"132.067137\" xlink:href=\"#mce4d598f3a\" y=\"88.785646\"/>\n     <use style=\"fill:#1f77b4;stroke:#1f77b4;\" x=\"105.275305\" xlink:href=\"#mce4d598f3a\" y=\"86.336361\"/>\n     <use style=\"fill:#1f77b4;stroke:#1f77b4;\" x=\"193.111906\" xlink:href=\"#mce4d598f3a\" y=\"107.342103\"/>\n     <use style=\"fill:#1f77b4;stroke:#1f77b4;\" x=\"118.10478\" xlink:href=\"#mce4d598f3a\" y=\"92.383135\"/>\n     <use style=\"fill:#1f77b4;stroke:#1f77b4;\" x=\"117.99797\" xlink:href=\"#mce4d598f3a\" y=\"82.058763\"/>\n     <use style=\"fill:#1f77b4;stroke:#1f77b4;\" x=\"114.396341\" xlink:href=\"#mce4d598f3a\" y=\"87.319707\"/>\n     <use style=\"fill:#1f77b4;stroke:#1f77b4;\" x=\"149.400644\" xlink:href=\"#mce4d598f3a\" y=\"103.826018\"/>\n     <use style=\"fill:#1f77b4;stroke:#1f77b4;\" x=\"112.996985\" xlink:href=\"#mce4d598f3a\" y=\"71.093843\"/>\n     <use style=\"fill:#1f77b4;stroke:#1f77b4;\" x=\"105.452184\" xlink:href=\"#mce4d598f3a\" y=\"60.363425\"/>\n     <use style=\"fill:#1f77b4;stroke:#1f77b4;\" x=\"176.300641\" xlink:href=\"#mce4d598f3a\" y=\"109.57144\"/>\n     <use style=\"fill:#1f77b4;stroke:#1f77b4;\" x=\"104.565974\" xlink:href=\"#mce4d598f3a\" y=\"52.573841\"/>\n     <use style=\"fill:#1f77b4;stroke:#1f77b4;\" x=\"150.552589\" xlink:href=\"#mce4d598f3a\" y=\"113.326884\"/>\n     <use style=\"fill:#1f77b4;stroke:#1f77b4;\" x=\"104.382243\" xlink:href=\"#mce4d598f3a\" y=\"83.421714\"/>\n     <use style=\"fill:#1f77b4;stroke:#1f77b4;\" x=\"177.462571\" xlink:href=\"#mce4d598f3a\" y=\"108.871062\"/>\n     <use style=\"fill:#1f77b4;stroke:#1f77b4;\" x=\"111.714498\" xlink:href=\"#mce4d598f3a\" y=\"47.844326\"/>\n     <use style=\"fill:#1f77b4;stroke:#1f77b4;\" x=\"118.795738\" xlink:href=\"#mce4d598f3a\" y=\"72.595843\"/>\n     <use style=\"fill:#1f77b4;stroke:#1f77b4;\" x=\"115.862346\" xlink:href=\"#mce4d598f3a\" y=\"80.103069\"/>\n     <use style=\"fill:#1f77b4;stroke:#1f77b4;\" x=\"98.520643\" xlink:href=\"#mce4d598f3a\" y=\"88.108945\"/>\n     <use style=\"fill:#1f77b4;stroke:#1f77b4;\" x=\"68.44087\" xlink:href=\"#mce4d598f3a\" y=\"44.013724\"/>\n     <use style=\"fill:#1f77b4;stroke:#1f77b4;\" x=\"130.374146\" xlink:href=\"#mce4d598f3a\" y=\"99.944474\"/>\n     <use style=\"fill:#1f77b4;stroke:#1f77b4;\" x=\"88.353856\" xlink:href=\"#mce4d598f3a\" y=\"60.311035\"/>\n     <use style=\"fill:#1f77b4;stroke:#1f77b4;\" x=\"163.335794\" xlink:href=\"#mce4d598f3a\" y=\"93.711169\"/>\n     <use style=\"fill:#1f77b4;stroke:#1f77b4;\" x=\"158.589873\" xlink:href=\"#mce4d598f3a\" y=\"99.38899\"/>\n     <use style=\"fill:#1f77b4;stroke:#1f77b4;\" x=\"107.586022\" xlink:href=\"#mce4d598f3a\" y=\"62.741694\"/>\n     <use style=\"fill:#1f77b4;stroke:#1f77b4;\" x=\"106.381293\" xlink:href=\"#mce4d598f3a\" y=\"68.694721\"/>\n     <use style=\"fill:#1f77b4;stroke:#1f77b4;\" x=\"168.080803\" xlink:href=\"#mce4d598f3a\" y=\"110.914032\"/>\n     <use style=\"fill:#1f77b4;stroke:#1f77b4;\" x=\"118.993601\" xlink:href=\"#mce4d598f3a\" y=\"79.823653\"/>\n     <use style=\"fill:#1f77b4;stroke:#1f77b4;\" x=\"125.08482\" xlink:href=\"#mce4d598f3a\" y=\"75.503536\"/>\n     <use style=\"fill:#1f77b4;stroke:#1f77b4;\" x=\"147.536757\" xlink:href=\"#mce4d598f3a\" y=\"95.376342\"/>\n     <use style=\"fill:#1f77b4;stroke:#1f77b4;\" x=\"124.744081\" xlink:href=\"#mce4d598f3a\" y=\"75.483221\"/>\n     <use style=\"fill:#1f77b4;stroke:#1f77b4;\" x=\"185.751481\" xlink:href=\"#mce4d598f3a\" y=\"110.14101\"/>\n     <use style=\"fill:#1f77b4;stroke:#1f77b4;\" x=\"77.257513\" xlink:href=\"#mce4d598f3a\" y=\"65.378052\"/>\n     <use style=\"fill:#1f77b4;stroke:#1f77b4;\" x=\"146.366857\" xlink:href=\"#mce4d598f3a\" y=\"90.42929\"/>\n     <use style=\"fill:#1f77b4;stroke:#1f77b4;\" x=\"131.457901\" xlink:href=\"#mce4d598f3a\" y=\"96.202707\"/>\n     <use style=\"fill:#1f77b4;stroke:#1f77b4;\" x=\"72.845259\" xlink:href=\"#mce4d598f3a\" y=\"46.835721\"/>\n     <use style=\"fill:#1f77b4;stroke:#1f77b4;\" x=\"140.363859\" xlink:href=\"#mce4d598f3a\" y=\"93.778481\"/>\n     <use style=\"fill:#1f77b4;stroke:#1f77b4;\" x=\"67.936849\" xlink:href=\"#mce4d598f3a\" y=\"50.420902\"/>\n     <use style=\"fill:#1f77b4;stroke:#1f77b4;\" x=\"152.041644\" xlink:href=\"#mce4d598f3a\" y=\"110.347867\"/>\n     <use style=\"fill:#1f77b4;stroke:#1f77b4;\" x=\"198.633478\" xlink:href=\"#mce4d598f3a\" y=\"110.745506\"/>\n     <use style=\"fill:#1f77b4;stroke:#1f77b4;\" x=\"139.752492\" xlink:href=\"#mce4d598f3a\" y=\"89.363138\"/>\n     <use style=\"fill:#1f77b4;stroke:#1f77b4;\" x=\"138.246027\" xlink:href=\"#mce4d598f3a\" y=\"93.608481\"/>\n     <use style=\"fill:#1f77b4;stroke:#1f77b4;\" x=\"115.352558\" xlink:href=\"#mce4d598f3a\" y=\"75.938816\"/>\n     <use style=\"fill:#1f77b4;stroke:#1f77b4;\" x=\"100.339754\" xlink:href=\"#mce4d598f3a\" y=\"85.360231\"/>\n     <use style=\"fill:#1f77b4;stroke:#1f77b4;\" x=\"147.129519\" xlink:href=\"#mce4d598f3a\" y=\"99.614438\"/>\n     <use style=\"fill:#1f77b4;stroke:#1f77b4;\" x=\"68.496384\" xlink:href=\"#mce4d598f3a\" y=\"56.680659\"/>\n     <use style=\"fill:#1f77b4;stroke:#1f77b4;\" x=\"136.780032\" xlink:href=\"#mce4d598f3a\" y=\"89.142032\"/>\n     <use style=\"fill:#1f77b4;stroke:#1f77b4;\" x=\"147.583119\" xlink:href=\"#mce4d598f3a\" y=\"130.005619\"/>\n     <use style=\"fill:#1f77b4;stroke:#1f77b4;\" x=\"125.121714\" xlink:href=\"#mce4d598f3a\" y=\"81.276052\"/>\n     <use style=\"fill:#1f77b4;stroke:#1f77b4;\" x=\"134.715956\" xlink:href=\"#mce4d598f3a\" y=\"66.748611\"/>\n     <use style=\"fill:#1f77b4;stroke:#1f77b4;\" x=\"173.204709\" xlink:href=\"#mce4d598f3a\" y=\"101.549981\"/>\n     <use style=\"fill:#1f77b4;stroke:#1f77b4;\" x=\"91.369136\" xlink:href=\"#mce4d598f3a\" y=\"85.283857\"/>\n     <use style=\"fill:#1f77b4;stroke:#1f77b4;\" x=\"132.478915\" xlink:href=\"#mce4d598f3a\" y=\"102.643406\"/>\n     <use style=\"fill:#1f77b4;stroke:#1f77b4;\" x=\"149.792733\" xlink:href=\"#mce4d598f3a\" y=\"89.340718\"/>\n     <use style=\"fill:#1f77b4;stroke:#1f77b4;\" x=\"105.051667\" xlink:href=\"#mce4d598f3a\" y=\"77.922211\"/>\n     <use style=\"fill:#1f77b4;stroke:#1f77b4;\" x=\"164.387284\" xlink:href=\"#mce4d598f3a\" y=\"96.938927\"/>\n     <use style=\"fill:#1f77b4;stroke:#1f77b4;\" x=\"131.853825\" xlink:href=\"#mce4d598f3a\" y=\"80.547052\"/>\n     <use style=\"fill:#1f77b4;stroke:#1f77b4;\" x=\"121.500999\" xlink:href=\"#mce4d598f3a\" y=\"85.452601\"/>\n     <use style=\"fill:#1f77b4;stroke:#1f77b4;\" x=\"143.522197\" xlink:href=\"#mce4d598f3a\" y=\"106.678264\"/>\n     <use style=\"fill:#1f77b4;stroke:#1f77b4;\" x=\"146.933745\" xlink:href=\"#mce4d598f3a\" y=\"110.706256\"/>\n     <use style=\"fill:#1f77b4;stroke:#1f77b4;\" x=\"148.897406\" xlink:href=\"#mce4d598f3a\" y=\"101.134992\"/>\n     <use style=\"fill:#1f77b4;stroke:#1f77b4;\" x=\"111.428976\" xlink:href=\"#mce4d598f3a\" y=\"62.857791\"/>\n     <use style=\"fill:#1f77b4;stroke:#1f77b4;\" x=\"118.630317\" xlink:href=\"#mce4d598f3a\" y=\"73.294818\"/>\n     <use style=\"fill:#1f77b4;stroke:#1f77b4;\" x=\"120.100277\" xlink:href=\"#mce4d598f3a\" y=\"92.126844\"/>\n     <use style=\"fill:#1f77b4;stroke:#1f77b4;\" x=\"150.992359\" xlink:href=\"#mce4d598f3a\" y=\"86.106713\"/>\n     <use style=\"fill:#1f77b4;stroke:#1f77b4;\" x=\"53.534664\" xlink:href=\"#mce4d598f3a\" y=\"40.314802\"/>\n     <use style=\"fill:#1f77b4;stroke:#1f77b4;\" x=\"168.811946\" xlink:href=\"#mce4d598f3a\" y=\"107.550104\"/>\n     <use style=\"fill:#1f77b4;stroke:#1f77b4;\" x=\"106.552178\" xlink:href=\"#mce4d598f3a\" y=\"67.657882\"/>\n     <use style=\"fill:#1f77b4;stroke:#1f77b4;\" x=\"143.528568\" xlink:href=\"#mce4d598f3a\" y=\"93.69929\"/>\n     <use style=\"fill:#1f77b4;stroke:#1f77b4;\" x=\"140.875938\" xlink:href=\"#mce4d598f3a\" y=\"103.007714\"/>\n     <use style=\"fill:#1f77b4;stroke:#1f77b4;\" x=\"161.070789\" xlink:href=\"#mce4d598f3a\" y=\"105.580134\"/>\n     <use style=\"fill:#1f77b4;stroke:#1f77b4;\" x=\"132.798969\" xlink:href=\"#mce4d598f3a\" y=\"83.835481\"/>\n     <use style=\"fill:#1f77b4;stroke:#1f77b4;\" x=\"125.731816\" xlink:href=\"#mce4d598f3a\" y=\"93.515935\"/>\n     <use style=\"fill:#1f77b4;stroke:#1f77b4;\" x=\"106.021239\" xlink:href=\"#mce4d598f3a\" y=\"68.653279\"/>\n     <use style=\"fill:#1f77b4;stroke:#1f77b4;\" x=\"134.852805\" xlink:href=\"#mce4d598f3a\" y=\"79.367712\"/>\n     <use style=\"fill:#1f77b4;stroke:#1f77b4;\" x=\"131.282677\" xlink:href=\"#mce4d598f3a\" y=\"89.324149\"/>\n     <use style=\"fill:#1f77b4;stroke:#1f77b4;\" x=\"180.927002\" xlink:href=\"#mce4d598f3a\" y=\"134.01173\"/>\n     <use style=\"fill:#1f77b4;stroke:#1f77b4;\" x=\"127.715531\" xlink:href=\"#mce4d598f3a\" y=\"86.003973\"/>\n     <use style=\"fill:#1f77b4;stroke:#1f77b4;\" x=\"117.859675\" xlink:href=\"#mce4d598f3a\" y=\"69.906274\"/>\n     <use style=\"fill:#1f77b4;stroke:#1f77b4;\" x=\"111.416379\" xlink:href=\"#mce4d598f3a\" y=\"61.906248\"/>\n     <use style=\"fill:#1f77b4;stroke:#1f77b4;\" x=\"162.134123\" xlink:href=\"#mce4d598f3a\" y=\"106.897699\"/>\n     <use style=\"fill:#1f77b4;stroke:#1f77b4;\" x=\"155.65302\" xlink:href=\"#mce4d598f3a\" y=\"109.030924\"/>\n     <use style=\"fill:#1f77b4;stroke:#1f77b4;\" x=\"93.157937\" xlink:href=\"#mce4d598f3a\" y=\"76.833712\"/>\n     <use style=\"fill:#1f77b4;stroke:#1f77b4;\" x=\"123.246958\" xlink:href=\"#mce4d598f3a\" y=\"51.989878\"/>\n     <use style=\"fill:#1f77b4;stroke:#1f77b4;\" x=\"106.334234\" xlink:href=\"#mce4d598f3a\" y=\"73.092802\"/>\n     <use style=\"fill:#1f77b4;stroke:#1f77b4;\" x=\"111.103175\" xlink:href=\"#mce4d598f3a\" y=\"74.64122\"/>\n     <use style=\"fill:#1f77b4;stroke:#1f77b4;\" x=\"130.541064\" xlink:href=\"#mce4d598f3a\" y=\"96.593421\"/>\n     <use style=\"fill:#1f77b4;stroke:#1f77b4;\" x=\"149.463577\" xlink:href=\"#mce4d598f3a\" y=\"105.365016\"/>\n     <use style=\"fill:#1f77b4;stroke:#1f77b4;\" x=\"127.624718\" xlink:href=\"#mce4d598f3a\" y=\"84.694829\"/>\n     <use style=\"fill:#1f77b4;stroke:#1f77b4;\" x=\"78.737804\" xlink:href=\"#mce4d598f3a\" y=\"50.158263\"/>\n     <use style=\"fill:#1f77b4;stroke:#1f77b4;\" x=\"84.776123\" xlink:href=\"#mce4d598f3a\" y=\"55.271256\"/>\n     <use style=\"fill:#1f77b4;stroke:#1f77b4;\" x=\"122.439205\" xlink:href=\"#mce4d598f3a\" y=\"79.420908\"/>\n     <use style=\"fill:#1f77b4;stroke:#1f77b4;\" x=\"140.148414\" xlink:href=\"#mce4d598f3a\" y=\"87.501243\"/>\n     <use style=\"fill:#1f77b4;stroke:#1f77b4;\" x=\"84.061334\" xlink:href=\"#mce4d598f3a\" y=\"62.321414\"/>\n     <use style=\"fill:#1f77b4;stroke:#1f77b4;\" x=\"127.40896\" xlink:href=\"#mce4d598f3a\" y=\"99.411317\"/>\n     <use style=\"fill:#1f77b4;stroke:#1f77b4;\" x=\"173.384647\" xlink:href=\"#mce4d598f3a\" y=\"106.312757\"/>\n     <use style=\"fill:#1f77b4;stroke:#1f77b4;\" x=\"112.688796\" xlink:href=\"#mce4d598f3a\" y=\"87.1676\"/>\n     <use style=\"fill:#1f77b4;stroke:#1f77b4;\" x=\"121.71705\" xlink:href=\"#mce4d598f3a\" y=\"76.459787\"/>\n     <use style=\"fill:#1f77b4;stroke:#1f77b4;\" x=\"93.006134\" xlink:href=\"#mce4d598f3a\" y=\"64.458537\"/>\n     <use style=\"fill:#1f77b4;stroke:#1f77b4;\" x=\"126.551154\" xlink:href=\"#mce4d598f3a\" y=\"60.052435\"/>\n     <use style=\"fill:#1f77b4;stroke:#1f77b4;\" x=\"162.26117\" xlink:href=\"#mce4d598f3a\" y=\"106.728754\"/>\n     <use style=\"fill:#1f77b4;stroke:#1f77b4;\" x=\"123.17655\" xlink:href=\"#mce4d598f3a\" y=\"80.402661\"/>\n     <use style=\"fill:#1f77b4;stroke:#1f77b4;\" x=\"130.720228\" xlink:href=\"#mce4d598f3a\" y=\"88.883809\"/>\n     <use style=\"fill:#1f77b4;stroke:#1f77b4;\" x=\"144.172194\" xlink:href=\"#mce4d598f3a\" y=\"87.948387\"/>\n     <use style=\"fill:#1f77b4;stroke:#1f77b4;\" x=\"138.730415\" xlink:href=\"#mce4d598f3a\" y=\"88.631088\"/>\n     <use style=\"fill:#1f77b4;stroke:#1f77b4;\" x=\"73.859896\" xlink:href=\"#mce4d598f3a\" y=\"60.017242\"/>\n     <use style=\"fill:#1f77b4;stroke:#1f77b4;\" x=\"89.629871\" xlink:href=\"#mce4d598f3a\" y=\"69.3746\"/>\n     <use style=\"fill:#1f77b4;stroke:#1f77b4;\" x=\"162.89921\" xlink:href=\"#mce4d598f3a\" y=\"95.886089\"/>\n     <use style=\"fill:#1f77b4;stroke:#1f77b4;\" x=\"158.407592\" xlink:href=\"#mce4d598f3a\" y=\"95.976853\"/>\n     <use style=\"fill:#1f77b4;stroke:#1f77b4;\" x=\"105.456161\" xlink:href=\"#mce4d598f3a\" y=\"68.209827\"/>\n     <use style=\"fill:#1f77b4;stroke:#1f77b4;\" x=\"96.364713\" xlink:href=\"#mce4d598f3a\" y=\"71.407239\"/>\n     <use style=\"fill:#1f77b4;stroke:#1f77b4;\" x=\"114.140603\" xlink:href=\"#mce4d598f3a\" y=\"84.141521\"/>\n     <use style=\"fill:#1f77b4;stroke:#1f77b4;\" x=\"139.617891\" xlink:href=\"#mce4d598f3a\" y=\"103.56483\"/>\n     <use style=\"fill:#1f77b4;stroke:#1f77b4;\" x=\"70.655802\" xlink:href=\"#mce4d598f3a\" y=\"58.623012\"/>\n     <use style=\"fill:#1f77b4;stroke:#1f77b4;\" x=\"100.858971\" xlink:href=\"#mce4d598f3a\" y=\"49.29008\"/>\n     <use style=\"fill:#1f77b4;stroke:#1f77b4;\" x=\"110.230087\" xlink:href=\"#mce4d598f3a\" y=\"70.184861\"/>\n     <use style=\"fill:#1f77b4;stroke:#1f77b4;\" x=\"90.574969\" xlink:href=\"#mce4d598f3a\" y=\"66.200248\"/>\n     <use style=\"fill:#1f77b4;stroke:#1f77b4;\" x=\"136.785458\" xlink:href=\"#mce4d598f3a\" y=\"86.871125\"/>\n     <use style=\"fill:#1f77b4;stroke:#1f77b4;\" x=\"152.536649\" xlink:href=\"#mce4d598f3a\" y=\"112.00086\"/>\n     <use style=\"fill:#1f77b4;stroke:#1f77b4;\" x=\"143.880967\" xlink:href=\"#mce4d598f3a\" y=\"83.595818\"/>\n     <use style=\"fill:#1f77b4;stroke:#1f77b4;\" x=\"97.858145\" xlink:href=\"#mce4d598f3a\" y=\"58.946735\"/>\n     <use style=\"fill:#1f77b4;stroke:#1f77b4;\" x=\"125.15861\" xlink:href=\"#mce4d598f3a\" y=\"88.749984\"/>\n     <use style=\"fill:#1f77b4;stroke:#1f77b4;\" x=\"77.986036\" xlink:href=\"#mce4d598f3a\" y=\"43.941139\"/>\n     <use style=\"fill:#1f77b4;stroke:#1f77b4;\" x=\"91.636118\" xlink:href=\"#mce4d598f3a\" y=\"75.620435\"/>\n     <use style=\"fill:#1f77b4;stroke:#1f77b4;\" x=\"130.847296\" xlink:href=\"#mce4d598f3a\" y=\"80.055608\"/>\n     <use style=\"fill:#1f77b4;stroke:#1f77b4;\" x=\"151.308553\" xlink:href=\"#mce4d598f3a\" y=\"88.247581\"/>\n     <use style=\"fill:#1f77b4;stroke:#1f77b4;\" x=\"137.48766\" xlink:href=\"#mce4d598f3a\" y=\"74.021518\"/>\n     <use style=\"fill:#1f77b4;stroke:#1f77b4;\" x=\"107.924014\" xlink:href=\"#mce4d598f3a\" y=\"66.357767\"/>\n     <use style=\"fill:#1f77b4;stroke:#1f77b4;\" x=\"94.891521\" xlink:href=\"#mce4d598f3a\" y=\"67.828746\"/>\n     <use style=\"fill:#1f77b4;stroke:#1f77b4;\" x=\"143.337443\" xlink:href=\"#mce4d598f3a\" y=\"91.573653\"/>\n     <use style=\"fill:#1f77b4;stroke:#1f77b4;\" x=\"122.120574\" xlink:href=\"#mce4d598f3a\" y=\"84.299582\"/>\n     <use style=\"fill:#1f77b4;stroke:#1f77b4;\" x=\"169.311381\" xlink:href=\"#mce4d598f3a\" y=\"111.881799\"/>\n     <use style=\"fill:#1f77b4;stroke:#1f77b4;\" x=\"131.727955\" xlink:href=\"#mce4d598f3a\" y=\"72.858683\"/>\n     <use style=\"fill:#1f77b4;stroke:#1f77b4;\" x=\"124.140331\" xlink:href=\"#mce4d598f3a\" y=\"83.29615\"/>\n     <use style=\"fill:#1f77b4;stroke:#1f77b4;\" x=\"182.362725\" xlink:href=\"#mce4d598f3a\" y=\"134.475756\"/>\n     <use style=\"fill:#1f77b4;stroke:#1f77b4;\" x=\"113.088358\" xlink:href=\"#mce4d598f3a\" y=\"84.267899\"/>\n     <use style=\"fill:#1f77b4;stroke:#1f77b4;\" x=\"131.379571\" xlink:href=\"#mce4d598f3a\" y=\"83.437158\"/>\n     <use style=\"fill:#1f77b4;stroke:#1f77b4;\" x=\"149.859207\" xlink:href=\"#mce4d598f3a\" y=\"83.271931\"/>\n     <use style=\"fill:#1f77b4;stroke:#1f77b4;\" x=\"134.475897\" xlink:href=\"#mce4d598f3a\" y=\"64.762939\"/>\n     <use style=\"fill:#1f77b4;stroke:#1f77b4;\" x=\"168.740718\" xlink:href=\"#mce4d598f3a\" y=\"114.116875\"/>\n     <use style=\"fill:#1f77b4;stroke:#1f77b4;\" x=\"143.508257\" xlink:href=\"#mce4d598f3a\" y=\"101.791621\"/>\n     <use style=\"fill:#1f77b4;stroke:#1f77b4;\" x=\"74.390988\" xlink:href=\"#mce4d598f3a\" y=\"65.216542\"/>\n     <use style=\"fill:#1f77b4;stroke:#1f77b4;\" x=\"115.372355\" xlink:href=\"#mce4d598f3a\" y=\"78.854769\"/>\n     <use style=\"fill:#1f77b4;stroke:#1f77b4;\" x=\"117.205857\" xlink:href=\"#mce4d598f3a\" y=\"82.272149\"/>\n     <use style=\"fill:#1f77b4;stroke:#1f77b4;\" x=\"146.484022\" xlink:href=\"#mce4d598f3a\" y=\"96.567012\"/>\n     <use style=\"fill:#1f77b4;stroke:#1f77b4;\" x=\"127.414772\" xlink:href=\"#mce4d598f3a\" y=\"84.88137\"/>\n     <use style=\"fill:#1f77b4;stroke:#1f77b4;\" x=\"126.912092\" xlink:href=\"#mce4d598f3a\" y=\"63.19013\"/>\n     <use style=\"fill:#1f77b4;stroke:#1f77b4;\" x=\"137.514318\" xlink:href=\"#mce4d598f3a\" y=\"90.568759\"/>\n     <use style=\"fill:#1f77b4;stroke:#1f77b4;\" x=\"103.58774\" xlink:href=\"#mce4d598f3a\" y=\"70.782989\"/>\n     <use style=\"fill:#1f77b4;stroke:#1f77b4;\" x=\"149.247249\" xlink:href=\"#mce4d598f3a\" y=\"81.391071\"/>\n     <use style=\"fill:#1f77b4;stroke:#1f77b4;\" x=\"110.711488\" xlink:href=\"#mce4d598f3a\" y=\"58.690552\"/>\n     <use style=\"fill:#1f77b4;stroke:#1f77b4;\" x=\"88.008392\" xlink:href=\"#mce4d598f3a\" y=\"69.975064\"/>\n     <use style=\"fill:#1f77b4;stroke:#1f77b4;\" x=\"162.076103\" xlink:href=\"#mce4d598f3a\" y=\"107.124505\"/>\n     <use style=\"fill:#1f77b4;stroke:#1f77b4;\" x=\"88.347301\" xlink:href=\"#mce4d598f3a\" y=\"52.36398\"/>\n     <use style=\"fill:#1f77b4;stroke:#1f77b4;\" x=\"92.018156\" xlink:href=\"#mce4d598f3a\" y=\"65.976404\"/>\n     <use style=\"fill:#1f77b4;stroke:#1f77b4;\" x=\"66.282914\" xlink:href=\"#mce4d598f3a\" y=\"47.072556\"/>\n     <use style=\"fill:#1f77b4;stroke:#1f77b4;\" x=\"127.052606\" xlink:href=\"#mce4d598f3a\" y=\"87.132494\"/>\n     <use style=\"fill:#1f77b4;stroke:#1f77b4;\" x=\"118.206116\" xlink:href=\"#mce4d598f3a\" y=\"73.871834\"/>\n     <use style=\"fill:#1f77b4;stroke:#1f77b4;\" x=\"175.346159\" xlink:href=\"#mce4d598f3a\" y=\"112.158426\"/>\n     <use style=\"fill:#1f77b4;stroke:#1f77b4;\" x=\"56.75995\" xlink:href=\"#mce4d598f3a\" y=\"33.351257\"/>\n     <use style=\"fill:#1f77b4;stroke:#1f77b4;\" x=\"144.308719\" xlink:href=\"#mce4d598f3a\" y=\"88.847803\"/>\n     <use style=\"fill:#1f77b4;stroke:#1f77b4;\" x=\"142.622422\" xlink:href=\"#mce4d598f3a\" y=\"96.98495\"/>\n     <use style=\"fill:#1f77b4;stroke:#1f77b4;\" x=\"139.43316\" xlink:href=\"#mce4d598f3a\" y=\"86.836389\"/>\n     <use style=\"fill:#1f77b4;stroke:#1f77b4;\" x=\"121.613535\" xlink:href=\"#mce4d598f3a\" y=\"84.266889\"/>\n     <use style=\"fill:#1f77b4;stroke:#1f77b4;\" x=\"109.750342\" xlink:href=\"#mce4d598f3a\" y=\"87.178941\"/>\n     <use style=\"fill:#1f77b4;stroke:#1f77b4;\" x=\"123.85831\" xlink:href=\"#mce4d598f3a\" y=\"87.837866\"/>\n     <use style=\"fill:#1f77b4;stroke:#1f77b4;\" x=\"57.865326\" xlink:href=\"#mce4d598f3a\" y=\"41.824447\"/>\n     <use style=\"fill:#1f77b4;stroke:#1f77b4;\" x=\"127.539664\" xlink:href=\"#mce4d598f3a\" y=\"94.070043\"/>\n     <use style=\"fill:#1f77b4;stroke:#1f77b4;\" x=\"142.624642\" xlink:href=\"#mce4d598f3a\" y=\"91.231153\"/>\n     <use style=\"fill:#1f77b4;stroke:#1f77b4;\" x=\"150.041331\" xlink:href=\"#mce4d598f3a\" y=\"112.154399\"/>\n     <use style=\"fill:#1f77b4;stroke:#1f77b4;\" x=\"131.547743\" xlink:href=\"#mce4d598f3a\" y=\"92.470394\"/>\n     <use style=\"fill:#1f77b4;stroke:#1f77b4;\" x=\"72.07984\" xlink:href=\"#mce4d598f3a\" y=\"53.882508\"/>\n     <use style=\"fill:#1f77b4;stroke:#1f77b4;\" x=\"155.694633\" xlink:href=\"#mce4d598f3a\" y=\"99.286713\"/>\n     <use style=\"fill:#1f77b4;stroke:#1f77b4;\" x=\"146.945995\" xlink:href=\"#mce4d598f3a\" y=\"103.633827\"/>\n     <use style=\"fill:#1f77b4;stroke:#1f77b4;\" x=\"107.197363\" xlink:href=\"#mce4d598f3a\" y=\"73.436821\"/>\n     <use style=\"fill:#1f77b4;stroke:#1f77b4;\" x=\"129.187659\" xlink:href=\"#mce4d598f3a\" y=\"91.652231\"/>\n     <use style=\"fill:#1f77b4;stroke:#1f77b4;\" x=\"160.122067\" xlink:href=\"#mce4d598f3a\" y=\"102.017078\"/>\n     <use style=\"fill:#1f77b4;stroke:#1f77b4;\" x=\"110.484736\" xlink:href=\"#mce4d598f3a\" y=\"87.496035\"/>\n     <use style=\"fill:#1f77b4;stroke:#1f77b4;\" x=\"83.400778\" xlink:href=\"#mce4d598f3a\" y=\"73.622617\"/>\n     <use style=\"fill:#1f77b4;stroke:#1f77b4;\" x=\"111.58443\" xlink:href=\"#mce4d598f3a\" y=\"74.79518\"/>\n     <use style=\"fill:#1f77b4;stroke:#1f77b4;\" x=\"140.473027\" xlink:href=\"#mce4d598f3a\" y=\"87.063363\"/>\n     <use style=\"fill:#1f77b4;stroke:#1f77b4;\" x=\"96.499751\" xlink:href=\"#mce4d598f3a\" y=\"73.667622\"/>\n     <use style=\"fill:#1f77b4;stroke:#1f77b4;\" x=\"170.701776\" xlink:href=\"#mce4d598f3a\" y=\"94.872689\"/>\n     <use style=\"fill:#1f77b4;stroke:#1f77b4;\" x=\"205.292218\" xlink:href=\"#mce4d598f3a\" y=\"118.987922\"/>\n     <use style=\"fill:#1f77b4;stroke:#1f77b4;\" x=\"93.42009\" xlink:href=\"#mce4d598f3a\" y=\"53.795834\"/>\n     <use style=\"fill:#1f77b4;stroke:#1f77b4;\" x=\"86.724734\" xlink:href=\"#mce4d598f3a\" y=\"63.779539\"/>\n     <use style=\"fill:#1f77b4;stroke:#1f77b4;\" x=\"146.582897\" xlink:href=\"#mce4d598f3a\" y=\"80.57804\"/>\n     <use style=\"fill:#1f77b4;stroke:#1f77b4;\" x=\"158.698895\" xlink:href=\"#mce4d598f3a\" y=\"110.055267\"/>\n     <use style=\"fill:#1f77b4;stroke:#1f77b4;\" x=\"144.662707\" xlink:href=\"#mce4d598f3a\" y=\"81.97313\"/>\n     <use style=\"fill:#1f77b4;stroke:#1f77b4;\" x=\"144.776181\" xlink:href=\"#mce4d598f3a\" y=\"94.185599\"/>\n     <use style=\"fill:#1f77b4;stroke:#1f77b4;\" x=\"87.609433\" xlink:href=\"#mce4d598f3a\" y=\"55.051097\"/>\n     <use style=\"fill:#1f77b4;stroke:#1f77b4;\" x=\"92.276569\" xlink:href=\"#mce4d598f3a\" y=\"58.743414\"/>\n     <use style=\"fill:#1f77b4;stroke:#1f77b4;\" x=\"99.15472\" xlink:href=\"#mce4d598f3a\" y=\"71.836262\"/>\n     <use style=\"fill:#1f77b4;stroke:#1f77b4;\" x=\"158.025434\" xlink:href=\"#mce4d598f3a\" y=\"91.152116\"/>\n     <use style=\"fill:#1f77b4;stroke:#1f77b4;\" x=\"97.092225\" xlink:href=\"#mce4d598f3a\" y=\"80.60224\"/>\n     <use style=\"fill:#1f77b4;stroke:#1f77b4;\" x=\"215.364915\" xlink:href=\"#mce4d598f3a\" y=\"135.899868\"/>\n     <use style=\"fill:#1f77b4;stroke:#1f77b4;\" x=\"83.571229\" xlink:href=\"#mce4d598f3a\" y=\"63.248123\"/>\n     <use style=\"fill:#1f77b4;stroke:#1f77b4;\" x=\"117.418559\" xlink:href=\"#mce4d598f3a\" y=\"79.190747\"/>\n     <use style=\"fill:#1f77b4;stroke:#1f77b4;\" x=\"179.147827\" xlink:href=\"#mce4d598f3a\" y=\"105.909864\"/>\n     <use style=\"fill:#1f77b4;stroke:#1f77b4;\" x=\"170.123934\" xlink:href=\"#mce4d598f3a\" y=\"99.058537\"/>\n     <use style=\"fill:#1f77b4;stroke:#1f77b4;\" x=\"141.308793\" xlink:href=\"#mce4d598f3a\" y=\"96.77853\"/>\n     <use style=\"fill:#1f77b4;stroke:#1f77b4;\" x=\"175.392846\" xlink:href=\"#mce4d598f3a\" y=\"112.472638\"/>\n     <use style=\"fill:#1f77b4;stroke:#1f77b4;\" x=\"93.592922\" xlink:href=\"#mce4d598f3a\" y=\"61.545941\"/>\n     <use style=\"fill:#1f77b4;stroke:#1f77b4;\" x=\"76.726381\" xlink:href=\"#mce4d598f3a\" y=\"51.219402\"/>\n     <use style=\"fill:#1f77b4;stroke:#1f77b4;\" x=\"182.16766\" xlink:href=\"#mce4d598f3a\" y=\"107.18365\"/>\n     <use style=\"fill:#1f77b4;stroke:#1f77b4;\" x=\"85.221948\" xlink:href=\"#mce4d598f3a\" y=\"52.235483\"/>\n     <use style=\"fill:#1f77b4;stroke:#1f77b4;\" x=\"120.435457\" xlink:href=\"#mce4d598f3a\" y=\"83.197619\"/>\n     <use style=\"fill:#1f77b4;stroke:#1f77b4;\" x=\"147.011874\" xlink:href=\"#mce4d598f3a\" y=\"97.504667\"/>\n     <use style=\"fill:#1f77b4;stroke:#1f77b4;\" x=\"121.349607\" xlink:href=\"#mce4d598f3a\" y=\"68.189966\"/>\n     <use style=\"fill:#1f77b4;stroke:#1f77b4;\" x=\"164.735354\" xlink:href=\"#mce4d598f3a\" y=\"111.269808\"/>\n     <use style=\"fill:#1f77b4;stroke:#1f77b4;\" x=\"95.4762\" xlink:href=\"#mce4d598f3a\" y=\"66.153895\"/>\n     <use style=\"fill:#1f77b4;stroke:#1f77b4;\" x=\"152.648488\" xlink:href=\"#mce4d598f3a\" y=\"100.103015\"/>\n     <use style=\"fill:#1f77b4;stroke:#1f77b4;\" x=\"139.086856\" xlink:href=\"#mce4d598f3a\" y=\"102.284093\"/>\n     <use style=\"fill:#1f77b4;stroke:#1f77b4;\" x=\"79.587906\" xlink:href=\"#mce4d598f3a\" y=\"60.009015\"/>\n     <use style=\"fill:#1f77b4;stroke:#1f77b4;\" x=\"159.718188\" xlink:href=\"#mce4d598f3a\" y=\"106.819873\"/>\n     <use style=\"fill:#1f77b4;stroke:#1f77b4;\" x=\"72.063453\" xlink:href=\"#mce4d598f3a\" y=\"28.329527\"/>\n     <use style=\"fill:#1f77b4;stroke:#1f77b4;\" x=\"180.097657\" xlink:href=\"#mce4d598f3a\" y=\"113.00679\"/>\n     <use style=\"fill:#1f77b4;stroke:#1f77b4;\" x=\"97.141913\" xlink:href=\"#mce4d598f3a\" y=\"76.477311\"/>\n     <use style=\"fill:#1f77b4;stroke:#1f77b4;\" x=\"150.117392\" xlink:href=\"#mce4d598f3a\" y=\"91.846346\"/>\n     <use style=\"fill:#1f77b4;stroke:#1f77b4;\" x=\"160.758997\" xlink:href=\"#mce4d598f3a\" y=\"102.577114\"/>\n     <use style=\"fill:#1f77b4;stroke:#1f77b4;\" x=\"98.9671\" xlink:href=\"#mce4d598f3a\" y=\"64.005879\"/>\n     <use style=\"fill:#1f77b4;stroke:#1f77b4;\" x=\"58.174515\" xlink:href=\"#mce4d598f3a\" y=\"44.785358\"/>\n     <use style=\"fill:#1f77b4;stroke:#1f77b4;\" x=\"68.706847\" xlink:href=\"#mce4d598f3a\" y=\"57.930568\"/>\n     <use style=\"fill:#1f77b4;stroke:#1f77b4;\" x=\"149.090237\" xlink:href=\"#mce4d598f3a\" y=\"85.530709\"/>\n     <use style=\"fill:#1f77b4;stroke:#1f77b4;\" x=\"142.354054\" xlink:href=\"#mce4d598f3a\" y=\"76.922704\"/>\n     <use style=\"fill:#1f77b4;stroke:#1f77b4;\" x=\"134.782289\" xlink:href=\"#mce4d598f3a\" y=\"88.074779\"/>\n     <use style=\"fill:#1f77b4;stroke:#1f77b4;\" x=\"129.9722\" xlink:href=\"#mce4d598f3a\" y=\"79.221036\"/>\n     <use style=\"fill:#1f77b4;stroke:#1f77b4;\" x=\"121.914657\" xlink:href=\"#mce4d598f3a\" y=\"68.607324\"/>\n     <use style=\"fill:#1f77b4;stroke:#1f77b4;\" x=\"110.793848\" xlink:href=\"#mce4d598f3a\" y=\"78.599098\"/>\n     <use style=\"fill:#1f77b4;stroke:#1f77b4;\" x=\"105.02644\" xlink:href=\"#mce4d598f3a\" y=\"68.732205\"/>\n     <use style=\"fill:#1f77b4;stroke:#1f77b4;\" x=\"122.226951\" xlink:href=\"#mce4d598f3a\" y=\"86.52788\"/>\n     <use style=\"fill:#1f77b4;stroke:#1f77b4;\" x=\"37.81946\" xlink:href=\"#mce4d598f3a\" y=\"16.761123\"/>\n     <use style=\"fill:#1f77b4;stroke:#1f77b4;\" x=\"118.094303\" xlink:href=\"#mce4d598f3a\" y=\"93.020556\"/>\n     <use style=\"fill:#1f77b4;stroke:#1f77b4;\" x=\"95.481904\" xlink:href=\"#mce4d598f3a\" y=\"47.037936\"/>\n     <use style=\"fill:#1f77b4;stroke:#1f77b4;\" x=\"124.713653\" xlink:href=\"#mce4d598f3a\" y=\"88.188471\"/>\n     <use style=\"fill:#1f77b4;stroke:#1f77b4;\" x=\"88.136088\" xlink:href=\"#mce4d598f3a\" y=\"67.079779\"/>\n     <use style=\"fill:#1f77b4;stroke:#1f77b4;\" x=\"94.356398\" xlink:href=\"#mce4d598f3a\" y=\"73.373547\"/>\n     <use style=\"fill:#1f77b4;stroke:#1f77b4;\" x=\"91.200522\" xlink:href=\"#mce4d598f3a\" y=\"68.736233\"/>\n     <use style=\"fill:#1f77b4;stroke:#1f77b4;\" x=\"92.068802\" xlink:href=\"#mce4d598f3a\" y=\"63.545846\"/>\n     <use style=\"fill:#1f77b4;stroke:#1f77b4;\" x=\"129.285448\" xlink:href=\"#mce4d598f3a\" y=\"74.753446\"/>\n     <use style=\"fill:#1f77b4;stroke:#1f77b4;\" x=\"107.206432\" xlink:href=\"#mce4d598f3a\" y=\"67.416898\"/>\n     <use style=\"fill:#1f77b4;stroke:#1f77b4;\" x=\"119.88057\" xlink:href=\"#mce4d598f3a\" y=\"76.381298\"/>\n     <use style=\"fill:#1f77b4;stroke:#1f77b4;\" x=\"139.453092\" xlink:href=\"#mce4d598f3a\" y=\"92.985328\"/>\n     <use style=\"fill:#1f77b4;stroke:#1f77b4;\" x=\"96.08732\" xlink:href=\"#mce4d598f3a\" y=\"53.397375\"/>\n     <use style=\"fill:#1f77b4;stroke:#1f77b4;\" x=\"116.865181\" xlink:href=\"#mce4d598f3a\" y=\"70.89527\"/>\n     <use style=\"fill:#1f77b4;stroke:#1f77b4;\" x=\"105.766196\" xlink:href=\"#mce4d598f3a\" y=\"71.244427\"/>\n     <use style=\"fill:#1f77b4;stroke:#1f77b4;\" x=\"120.033431\" xlink:href=\"#mce4d598f3a\" y=\"69.973032\"/>\n     <use style=\"fill:#1f77b4;stroke:#1f77b4;\" x=\"150.413403\" xlink:href=\"#mce4d598f3a\" y=\"86.198648\"/>\n     <use style=\"fill:#1f77b4;stroke:#1f77b4;\" x=\"89.191146\" xlink:href=\"#mce4d598f3a\" y=\"54.972122\"/>\n     <use style=\"fill:#1f77b4;stroke:#1f77b4;\" x=\"81.657627\" xlink:href=\"#mce4d598f3a\" y=\"54.081427\"/>\n     <use style=\"fill:#1f77b4;stroke:#1f77b4;\" x=\"145.106724\" xlink:href=\"#mce4d598f3a\" y=\"97.087935\"/>\n     <use style=\"fill:#1f77b4;stroke:#1f77b4;\" x=\"77.173874\" xlink:href=\"#mce4d598f3a\" y=\"54.165596\"/>\n     <use style=\"fill:#1f77b4;stroke:#1f77b4;\" x=\"102.850164\" xlink:href=\"#mce4d598f3a\" y=\"54.004471\"/>\n     <use style=\"fill:#1f77b4;stroke:#1f77b4;\" x=\"161.117523\" xlink:href=\"#mce4d598f3a\" y=\"103.711703\"/>\n     <use style=\"fill:#1f77b4;stroke:#1f77b4;\" x=\"182.78891\" xlink:href=\"#mce4d598f3a\" y=\"97.779361\"/>\n     <use style=\"fill:#1f77b4;stroke:#1f77b4;\" x=\"186.44926\" xlink:href=\"#mce4d598f3a\" y=\"106.770932\"/>\n     <use style=\"fill:#1f77b4;stroke:#1f77b4;\" x=\"144.444889\" xlink:href=\"#mce4d598f3a\" y=\"76.580631\"/>\n     <use style=\"fill:#1f77b4;stroke:#1f77b4;\" x=\"92.573049\" xlink:href=\"#mce4d598f3a\" y=\"70.221375\"/>\n     <use style=\"fill:#1f77b4;stroke:#1f77b4;\" x=\"112.916116\" xlink:href=\"#mce4d598f3a\" y=\"74.796002\"/>\n     <use style=\"fill:#1f77b4;stroke:#1f77b4;\" x=\"117.952695\" xlink:href=\"#mce4d598f3a\" y=\"68.572701\"/>\n     <use style=\"fill:#1f77b4;stroke:#1f77b4;\" x=\"121.951558\" xlink:href=\"#mce4d598f3a\" y=\"68.819954\"/>\n     <use style=\"fill:#1f77b4;stroke:#1f77b4;\" x=\"158.893316\" xlink:href=\"#mce4d598f3a\" y=\"108.379339\"/>\n     <use style=\"fill:#1f77b4;stroke:#1f77b4;\" x=\"92.017957\" xlink:href=\"#mce4d598f3a\" y=\"67.764525\"/>\n     <use style=\"fill:#1f77b4;stroke:#1f77b4;\" x=\"75.056663\" xlink:href=\"#mce4d598f3a\" y=\"54.014288\"/>\n     <use style=\"fill:#1f77b4;stroke:#1f77b4;\" x=\"166.749797\" xlink:href=\"#mce4d598f3a\" y=\"103.27662\"/>\n     <use style=\"fill:#1f77b4;stroke:#1f77b4;\" x=\"145.705338\" xlink:href=\"#mce4d598f3a\" y=\"88.07132\"/>\n     <use style=\"fill:#1f77b4;stroke:#1f77b4;\" x=\"124.740847\" xlink:href=\"#mce4d598f3a\" y=\"97.642809\"/>\n     <use style=\"fill:#1f77b4;stroke:#1f77b4;\" x=\"140.36055\" xlink:href=\"#mce4d598f3a\" y=\"77.798567\"/>\n     <use style=\"fill:#1f77b4;stroke:#1f77b4;\" x=\"179.440845\" xlink:href=\"#mce4d598f3a\" y=\"108.266978\"/>\n     <use style=\"fill:#1f77b4;stroke:#1f77b4;\" x=\"129.362734\" xlink:href=\"#mce4d598f3a\" y=\"87.537842\"/>\n     <use style=\"fill:#1f77b4;stroke:#1f77b4;\" x=\"135.748732\" xlink:href=\"#mce4d598f3a\" y=\"67.086532\"/>\n     <use style=\"fill:#1f77b4;stroke:#1f77b4;\" x=\"129.610217\" xlink:href=\"#mce4d598f3a\" y=\"99.355899\"/>\n     <use style=\"fill:#1f77b4;stroke:#1f77b4;\" x=\"134.743823\" xlink:href=\"#mce4d598f3a\" y=\"67.549291\"/>\n     <use style=\"fill:#1f77b4;stroke:#1f77b4;\" x=\"119.139186\" xlink:href=\"#mce4d598f3a\" y=\"83.365959\"/>\n     <use style=\"fill:#1f77b4;stroke:#1f77b4;\" x=\"152.799191\" xlink:href=\"#mce4d598f3a\" y=\"109.311168\"/>\n     <use style=\"fill:#1f77b4;stroke:#1f77b4;\" x=\"151.004918\" xlink:href=\"#mce4d598f3a\" y=\"87.308111\"/>\n     <use style=\"fill:#1f77b4;stroke:#1f77b4;\" x=\"145.201562\" xlink:href=\"#mce4d598f3a\" y=\"111.544489\"/>\n     <use style=\"fill:#1f77b4;stroke:#1f77b4;\" x=\"98.978884\" xlink:href=\"#mce4d598f3a\" y=\"86.236702\"/>\n     <use style=\"fill:#1f77b4;stroke:#1f77b4;\" x=\"96.466878\" xlink:href=\"#mce4d598f3a\" y=\"78.158089\"/>\n     <use style=\"fill:#1f77b4;stroke:#1f77b4;\" x=\"144.99989\" xlink:href=\"#mce4d598f3a\" y=\"89.367991\"/>\n     <use style=\"fill:#1f77b4;stroke:#1f77b4;\" x=\"135.77974\" xlink:href=\"#mce4d598f3a\" y=\"80.619441\"/>\n     <use style=\"fill:#1f77b4;stroke:#1f77b4;\" x=\"120.033156\" xlink:href=\"#mce4d598f3a\" y=\"80.968441\"/>\n     <use style=\"fill:#1f77b4;stroke:#1f77b4;\" x=\"129.972922\" xlink:href=\"#mce4d598f3a\" y=\"88.375043\"/>\n     <use style=\"fill:#1f77b4;stroke:#1f77b4;\" x=\"153.392148\" xlink:href=\"#mce4d598f3a\" y=\"102.00024\"/>\n     <use style=\"fill:#1f77b4;stroke:#1f77b4;\" x=\"99.182348\" xlink:href=\"#mce4d598f3a\" y=\"78.191252\"/>\n     <use style=\"fill:#1f77b4;stroke:#1f77b4;\" x=\"100.269473\" xlink:href=\"#mce4d598f3a\" y=\"60.295465\"/>\n     <use style=\"fill:#1f77b4;stroke:#1f77b4;\" x=\"146.858531\" xlink:href=\"#mce4d598f3a\" y=\"92.901142\"/>\n     <use style=\"fill:#1f77b4;stroke:#1f77b4;\" x=\"97.819552\" xlink:href=\"#mce4d598f3a\" y=\"66.55859\"/>\n     <use style=\"fill:#1f77b4;stroke:#1f77b4;\" x=\"141.052034\" xlink:href=\"#mce4d598f3a\" y=\"94.765077\"/>\n     <use style=\"fill:#1f77b4;stroke:#1f77b4;\" x=\"139.393198\" xlink:href=\"#mce4d598f3a\" y=\"91.774566\"/>\n     <use style=\"fill:#1f77b4;stroke:#1f77b4;\" x=\"96.132216\" xlink:href=\"#mce4d598f3a\" y=\"64.295681\"/>\n     <use style=\"fill:#1f77b4;stroke:#1f77b4;\" x=\"153.429685\" xlink:href=\"#mce4d598f3a\" y=\"103.29833\"/>\n     <use style=\"fill:#1f77b4;stroke:#1f77b4;\" x=\"127.928667\" xlink:href=\"#mce4d598f3a\" y=\"82.641659\"/>\n     <use style=\"fill:#1f77b4;stroke:#1f77b4;\" x=\"142.616866\" xlink:href=\"#mce4d598f3a\" y=\"88.500024\"/>\n     <use style=\"fill:#1f77b4;stroke:#1f77b4;\" x=\"98.863889\" xlink:href=\"#mce4d598f3a\" y=\"70.214206\"/>\n     <use style=\"fill:#1f77b4;stroke:#1f77b4;\" x=\"100.561361\" xlink:href=\"#mce4d598f3a\" y=\"60.470853\"/>\n     <use style=\"fill:#1f77b4;stroke:#1f77b4;\" x=\"136.184571\" xlink:href=\"#mce4d598f3a\" y=\"88.59404\"/>\n     <use style=\"fill:#1f77b4;stroke:#1f77b4;\" x=\"107.923976\" xlink:href=\"#mce4d598f3a\" y=\"77.364376\"/>\n     <use style=\"fill:#1f77b4;stroke:#1f77b4;\" x=\"170.417904\" xlink:href=\"#mce4d598f3a\" y=\"115.415588\"/>\n     <use style=\"fill:#1f77b4;stroke:#1f77b4;\" x=\"118.559957\" xlink:href=\"#mce4d598f3a\" y=\"70.34247\"/>\n     <use style=\"fill:#1f77b4;stroke:#1f77b4;\" x=\"147.917593\" xlink:href=\"#mce4d598f3a\" y=\"108.035003\"/>\n     <use style=\"fill:#1f77b4;stroke:#1f77b4;\" x=\"115.332186\" xlink:href=\"#mce4d598f3a\" y=\"61.052849\"/>\n     <use style=\"fill:#1f77b4;stroke:#1f77b4;\" x=\"137.851868\" xlink:href=\"#mce4d598f3a\" y=\"86.239074\"/>\n     <use style=\"fill:#1f77b4;stroke:#1f77b4;\" x=\"151.109833\" xlink:href=\"#mce4d598f3a\" y=\"108.46614\"/>\n     <use style=\"fill:#1f77b4;stroke:#1f77b4;\" x=\"125.219764\" xlink:href=\"#mce4d598f3a\" y=\"75.722834\"/>\n     <use style=\"fill:#1f77b4;stroke:#1f77b4;\" x=\"142.351672\" xlink:href=\"#mce4d598f3a\" y=\"79.568111\"/>\n     <use style=\"fill:#1f77b4;stroke:#1f77b4;\" x=\"144.093621\" xlink:href=\"#mce4d598f3a\" y=\"91.661796\"/>\n     <use style=\"fill:#1f77b4;stroke:#1f77b4;\" x=\"110.37612\" xlink:href=\"#mce4d598f3a\" y=\"73.418562\"/>\n     <use style=\"fill:#1f77b4;stroke:#1f77b4;\" x=\"73.289243\" xlink:href=\"#mce4d598f3a\" y=\"37.40347\"/>\n     <use style=\"fill:#1f77b4;stroke:#1f77b4;\" x=\"182.081017\" xlink:href=\"#mce4d598f3a\" y=\"129.204796\"/>\n     <use style=\"fill:#1f77b4;stroke:#1f77b4;\" x=\"135.208243\" xlink:href=\"#mce4d598f3a\" y=\"100.354953\"/>\n     <use style=\"fill:#1f77b4;stroke:#1f77b4;\" x=\"106.481531\" xlink:href=\"#mce4d598f3a\" y=\"61.730759\"/>\n     <use style=\"fill:#1f77b4;stroke:#1f77b4;\" x=\"121.513711\" xlink:href=\"#mce4d598f3a\" y=\"92.326132\"/>\n     <use style=\"fill:#1f77b4;stroke:#1f77b4;\" x=\"135.472823\" xlink:href=\"#mce4d598f3a\" y=\"86.899617\"/>\n     <use style=\"fill:#1f77b4;stroke:#1f77b4;\" x=\"174.597843\" xlink:href=\"#mce4d598f3a\" y=\"120.358687\"/>\n     <use style=\"fill:#1f77b4;stroke:#1f77b4;\" x=\"134.942518\" xlink:href=\"#mce4d598f3a\" y=\"80.686787\"/>\n     <use style=\"fill:#1f77b4;stroke:#1f77b4;\" x=\"151.451835\" xlink:href=\"#mce4d598f3a\" y=\"101.407146\"/>\n     <use style=\"fill:#1f77b4;stroke:#1f77b4;\" x=\"137.27477\" xlink:href=\"#mce4d598f3a\" y=\"102.063765\"/>\n     <use style=\"fill:#1f77b4;stroke:#1f77b4;\" x=\"123.770847\" xlink:href=\"#mce4d598f3a\" y=\"101.452797\"/>\n     <use style=\"fill:#1f77b4;stroke:#1f77b4;\" x=\"107.322846\" xlink:href=\"#mce4d598f3a\" y=\"75.263448\"/>\n     <use style=\"fill:#1f77b4;stroke:#1f77b4;\" x=\"148.881286\" xlink:href=\"#mce4d598f3a\" y=\"123.307459\"/>\n     <use style=\"fill:#1f77b4;stroke:#1f77b4;\" x=\"133.442122\" xlink:href=\"#mce4d598f3a\" y=\"88.677464\"/>\n     <use style=\"fill:#1f77b4;stroke:#1f77b4;\" x=\"117.627194\" xlink:href=\"#mce4d598f3a\" y=\"74.699253\"/>\n     <use style=\"fill:#1f77b4;stroke:#1f77b4;\" x=\"135.075086\" xlink:href=\"#mce4d598f3a\" y=\"109.950011\"/>\n     <use style=\"fill:#1f77b4;stroke:#1f77b4;\" x=\"89.801761\" xlink:href=\"#mce4d598f3a\" y=\"72.313212\"/>\n     <use style=\"fill:#1f77b4;stroke:#1f77b4;\" x=\"106.952433\" xlink:href=\"#mce4d598f3a\" y=\"65.212175\"/>\n     <use style=\"fill:#1f77b4;stroke:#1f77b4;\" x=\"161.910735\" xlink:href=\"#mce4d598f3a\" y=\"93.882222\"/>\n     <use style=\"fill:#1f77b4;stroke:#1f77b4;\" x=\"74.276876\" xlink:href=\"#mce4d598f3a\" y=\"49.819406\"/>\n     <use style=\"fill:#1f77b4;stroke:#1f77b4;\" x=\"160.492012\" xlink:href=\"#mce4d598f3a\" y=\"97.916392\"/>\n     <use style=\"fill:#1f77b4;stroke:#1f77b4;\" x=\"114.734377\" xlink:href=\"#mce4d598f3a\" y=\"76.440269\"/>\n     <use style=\"fill:#1f77b4;stroke:#1f77b4;\" x=\"111.241313\" xlink:href=\"#mce4d598f3a\" y=\"76.254779\"/>\n     <use style=\"fill:#1f77b4;stroke:#1f77b4;\" x=\"106.09267\" xlink:href=\"#mce4d598f3a\" y=\"72.344833\"/>\n     <use style=\"fill:#1f77b4;stroke:#1f77b4;\" x=\"149.991572\" xlink:href=\"#mce4d598f3a\" y=\"99.448661\"/>\n     <use style=\"fill:#1f77b4;stroke:#1f77b4;\" x=\"121.529495\" xlink:href=\"#mce4d598f3a\" y=\"71.809077\"/>\n     <use style=\"fill:#1f77b4;stroke:#1f77b4;\" x=\"147.86766\" xlink:href=\"#mce4d598f3a\" y=\"98.438751\"/>\n     <use style=\"fill:#1f77b4;stroke:#1f77b4;\" x=\"131.950996\" xlink:href=\"#mce4d598f3a\" y=\"76.388251\"/>\n     <use style=\"fill:#1f77b4;stroke:#1f77b4;\" x=\"154.413505\" xlink:href=\"#mce4d598f3a\" y=\"89.914877\"/>\n     <use style=\"fill:#1f77b4;stroke:#1f77b4;\" x=\"137.7101\" xlink:href=\"#mce4d598f3a\" y=\"87.461585\"/>\n     <use style=\"fill:#1f77b4;stroke:#1f77b4;\" x=\"95.874161\" xlink:href=\"#mce4d598f3a\" y=\"78.493722\"/>\n     <use style=\"fill:#1f77b4;stroke:#1f77b4;\" x=\"115.127718\" xlink:href=\"#mce4d598f3a\" y=\"82.323124\"/>\n     <use style=\"fill:#1f77b4;stroke:#1f77b4;\" x=\"140.893882\" xlink:href=\"#mce4d598f3a\" y=\"85.594609\"/>\n     <use style=\"fill:#1f77b4;stroke:#1f77b4;\" x=\"111.899572\" xlink:href=\"#mce4d598f3a\" y=\"80.574098\"/>\n     <use style=\"fill:#1f77b4;stroke:#1f77b4;\" x=\"100.76066\" xlink:href=\"#mce4d598f3a\" y=\"66.138257\"/>\n     <use style=\"fill:#1f77b4;stroke:#1f77b4;\" x=\"105.304365\" xlink:href=\"#mce4d598f3a\" y=\"64.636138\"/>\n     <use style=\"fill:#1f77b4;stroke:#1f77b4;\" x=\"107.212276\" xlink:href=\"#mce4d598f3a\" y=\"64.445712\"/>\n     <use style=\"fill:#1f77b4;stroke:#1f77b4;\" x=\"94.156943\" xlink:href=\"#mce4d598f3a\" y=\"74.854984\"/>\n     <use style=\"fill:#1f77b4;stroke:#1f77b4;\" x=\"159.281313\" xlink:href=\"#mce4d598f3a\" y=\"103.502844\"/>\n     <use style=\"fill:#1f77b4;stroke:#1f77b4;\" x=\"49.308532\" xlink:href=\"#mce4d598f3a\" y=\"38.876632\"/>\n     <use style=\"fill:#1f77b4;stroke:#1f77b4;\" x=\"103.110507\" xlink:href=\"#mce4d598f3a\" y=\"74.421448\"/>\n     <use style=\"fill:#1f77b4;stroke:#1f77b4;\" x=\"89.858674\" xlink:href=\"#mce4d598f3a\" y=\"47.853204\"/>\n     <use style=\"fill:#1f77b4;stroke:#1f77b4;\" x=\"190.598684\" xlink:href=\"#mce4d598f3a\" y=\"126.020416\"/>\n     <use style=\"fill:#1f77b4;stroke:#1f77b4;\" x=\"141.477898\" xlink:href=\"#mce4d598f3a\" y=\"85.804603\"/>\n     <use style=\"fill:#1f77b4;stroke:#1f77b4;\" x=\"135.949247\" xlink:href=\"#mce4d598f3a\" y=\"84.371192\"/>\n     <use style=\"fill:#1f77b4;stroke:#1f77b4;\" x=\"143.262182\" xlink:href=\"#mce4d598f3a\" y=\"84.83542\"/>\n     <use style=\"fill:#1f77b4;stroke:#1f77b4;\" x=\"129.308259\" xlink:href=\"#mce4d598f3a\" y=\"83.750414\"/>\n     <use style=\"fill:#1f77b4;stroke:#1f77b4;\" x=\"127.809591\" xlink:href=\"#mce4d598f3a\" y=\"66.087472\"/>\n     <use style=\"fill:#1f77b4;stroke:#1f77b4;\" x=\"134.342767\" xlink:href=\"#mce4d598f3a\" y=\"86.427891\"/>\n     <use style=\"fill:#1f77b4;stroke:#1f77b4;\" x=\"107.923883\" xlink:href=\"#mce4d598f3a\" y=\"63.843193\"/>\n     <use style=\"fill:#1f77b4;stroke:#1f77b4;\" x=\"130.411019\" xlink:href=\"#mce4d598f3a\" y=\"98.466299\"/>\n     <use style=\"fill:#1f77b4;stroke:#1f77b4;\" x=\"109.817068\" xlink:href=\"#mce4d598f3a\" y=\"87.41547\"/>\n     <use style=\"fill:#1f77b4;stroke:#1f77b4;\" x=\"109.847955\" xlink:href=\"#mce4d598f3a\" y=\"80.828462\"/>\n     <use style=\"fill:#1f77b4;stroke:#1f77b4;\" x=\"113.754251\" xlink:href=\"#mce4d598f3a\" y=\"79.391395\"/>\n     <use style=\"fill:#1f77b4;stroke:#1f77b4;\" x=\"121.998685\" xlink:href=\"#mce4d598f3a\" y=\"78.114464\"/>\n     <use style=\"fill:#1f77b4;stroke:#1f77b4;\" x=\"85.854571\" xlink:href=\"#mce4d598f3a\" y=\"77.038596\"/>\n     <use style=\"fill:#1f77b4;stroke:#1f77b4;\" x=\"111.684871\" xlink:href=\"#mce4d598f3a\" y=\"75.484698\"/>\n     <use style=\"fill:#1f77b4;stroke:#1f77b4;\" x=\"189.782815\" xlink:href=\"#mce4d598f3a\" y=\"117.169821\"/>\n     <use style=\"fill:#1f77b4;stroke:#1f77b4;\" x=\"115.890145\" xlink:href=\"#mce4d598f3a\" y=\"86.03964\"/>\n     <use style=\"fill:#1f77b4;stroke:#1f77b4;\" x=\"138.324997\" xlink:href=\"#mce4d598f3a\" y=\"86.377432\"/>\n     <use style=\"fill:#1f77b4;stroke:#1f77b4;\" x=\"111.048235\" xlink:href=\"#mce4d598f3a\" y=\"83.64661\"/>\n     <use style=\"fill:#1f77b4;stroke:#1f77b4;\" x=\"131.286276\" xlink:href=\"#mce4d598f3a\" y=\"86.48885\"/>\n     <use style=\"fill:#1f77b4;stroke:#1f77b4;\" x=\"65.035992\" xlink:href=\"#mce4d598f3a\" y=\"48.975847\"/>\n     <use style=\"fill:#1f77b4;stroke:#1f77b4;\" x=\"135.505616\" xlink:href=\"#mce4d598f3a\" y=\"83.205586\"/>\n     <use style=\"fill:#1f77b4;stroke:#1f77b4;\" x=\"110.535112\" xlink:href=\"#mce4d598f3a\" y=\"85.196531\"/>\n     <use style=\"fill:#1f77b4;stroke:#1f77b4;\" x=\"167.213975\" xlink:href=\"#mce4d598f3a\" y=\"108.252682\"/>\n     <use style=\"fill:#1f77b4;stroke:#1f77b4;\" x=\"92.156307\" xlink:href=\"#mce4d598f3a\" y=\"38.96418\"/>\n     <use style=\"fill:#1f77b4;stroke:#1f77b4;\" x=\"105.584977\" xlink:href=\"#mce4d598f3a\" y=\"65.853287\"/>\n     <use style=\"fill:#1f77b4;stroke:#1f77b4;\" x=\"143.173234\" xlink:href=\"#mce4d598f3a\" y=\"73.837002\"/>\n     <use style=\"fill:#1f77b4;stroke:#1f77b4;\" x=\"111.965702\" xlink:href=\"#mce4d598f3a\" y=\"75.342134\"/>\n     <use style=\"fill:#1f77b4;stroke:#1f77b4;\" x=\"78.660064\" xlink:href=\"#mce4d598f3a\" y=\"67.386859\"/>\n     <use style=\"fill:#1f77b4;stroke:#1f77b4;\" x=\"109.014633\" xlink:href=\"#mce4d598f3a\" y=\"62.302233\"/>\n     <use style=\"fill:#1f77b4;stroke:#1f77b4;\" x=\"72.533576\" xlink:href=\"#mce4d598f3a\" y=\"62.514536\"/>\n     <use style=\"fill:#1f77b4;stroke:#1f77b4;\" x=\"123.959451\" xlink:href=\"#mce4d598f3a\" y=\"76.933797\"/>\n     <use style=\"fill:#1f77b4;stroke:#1f77b4;\" x=\"159.870126\" xlink:href=\"#mce4d598f3a\" y=\"92.329774\"/>\n     <use style=\"fill:#1f77b4;stroke:#1f77b4;\" x=\"95.04339\" xlink:href=\"#mce4d598f3a\" y=\"71.661641\"/>\n     <use style=\"fill:#1f77b4;stroke:#1f77b4;\" x=\"94.186073\" xlink:href=\"#mce4d598f3a\" y=\"54.791216\"/>\n     <use style=\"fill:#1f77b4;stroke:#1f77b4;\" x=\"124.938083\" xlink:href=\"#mce4d598f3a\" y=\"81.925382\"/>\n     <use style=\"fill:#1f77b4;stroke:#1f77b4;\" x=\"157.724028\" xlink:href=\"#mce4d598f3a\" y=\"100.356038\"/>\n     <use style=\"fill:#1f77b4;stroke:#1f77b4;\" x=\"117.838083\" xlink:href=\"#mce4d598f3a\" y=\"76.801325\"/>\n     <use style=\"fill:#1f77b4;stroke:#1f77b4;\" x=\"136.362638\" xlink:href=\"#mce4d598f3a\" y=\"73.163201\"/>\n     <use style=\"fill:#1f77b4;stroke:#1f77b4;\" x=\"139.790158\" xlink:href=\"#mce4d598f3a\" y=\"81.049895\"/>\n     <use style=\"fill:#1f77b4;stroke:#1f77b4;\" x=\"115.352399\" xlink:href=\"#mce4d598f3a\" y=\"80.605184\"/>\n     <use style=\"fill:#1f77b4;stroke:#1f77b4;\" x=\"97.690304\" xlink:href=\"#mce4d598f3a\" y=\"66.230203\"/>\n     <use style=\"fill:#1f77b4;stroke:#1f77b4;\" x=\"156.562339\" xlink:href=\"#mce4d598f3a\" y=\"111.171441\"/>\n     <use style=\"fill:#1f77b4;stroke:#1f77b4;\" x=\"136.537946\" xlink:href=\"#mce4d598f3a\" y=\"86.919341\"/>\n     <use style=\"fill:#1f77b4;stroke:#1f77b4;\" x=\"103.894296\" xlink:href=\"#mce4d598f3a\" y=\"67.322835\"/>\n     <use style=\"fill:#1f77b4;stroke:#1f77b4;\" x=\"69.486023\" xlink:href=\"#mce4d598f3a\" y=\"53.641318\"/>\n     <use style=\"fill:#1f77b4;stroke:#1f77b4;\" x=\"91.853707\" xlink:href=\"#mce4d598f3a\" y=\"57.073724\"/>\n     <use style=\"fill:#1f77b4;stroke:#1f77b4;\" x=\"132.120785\" xlink:href=\"#mce4d598f3a\" y=\"90.389515\"/>\n     <use style=\"fill:#1f77b4;stroke:#1f77b4;\" x=\"166.377631\" xlink:href=\"#mce4d598f3a\" y=\"119.718359\"/>\n     <use style=\"fill:#1f77b4;stroke:#1f77b4;\" x=\"166.318914\" xlink:href=\"#mce4d598f3a\" y=\"92.53234\"/>\n     <use style=\"fill:#1f77b4;stroke:#1f77b4;\" x=\"111.266319\" xlink:href=\"#mce4d598f3a\" y=\"61.442758\"/>\n     <use style=\"fill:#1f77b4;stroke:#1f77b4;\" x=\"162.825857\" xlink:href=\"#mce4d598f3a\" y=\"100.838461\"/>\n     <use style=\"fill:#1f77b4;stroke:#1f77b4;\" x=\"119.595995\" xlink:href=\"#mce4d598f3a\" y=\"67.685832\"/>\n     <use style=\"fill:#1f77b4;stroke:#1f77b4;\" x=\"140.88132\" xlink:href=\"#mce4d598f3a\" y=\"82.723629\"/>\n     <use style=\"fill:#1f77b4;stroke:#1f77b4;\" x=\"92.572833\" xlink:href=\"#mce4d598f3a\" y=\"74.946042\"/>\n     <use style=\"fill:#1f77b4;stroke:#1f77b4;\" x=\"151.268718\" xlink:href=\"#mce4d598f3a\" y=\"103.42934\"/>\n     <use style=\"fill:#1f77b4;stroke:#1f77b4;\" x=\"102.601457\" xlink:href=\"#mce4d598f3a\" y=\"73.842361\"/>\n     <use style=\"fill:#1f77b4;stroke:#1f77b4;\" x=\"95.634936\" xlink:href=\"#mce4d598f3a\" y=\"77.294879\"/>\n     <use style=\"fill:#1f77b4;stroke:#1f77b4;\" x=\"95.276384\" xlink:href=\"#mce4d598f3a\" y=\"75.39901\"/>\n     <use style=\"fill:#1f77b4;stroke:#1f77b4;\" x=\"99.10199\" xlink:href=\"#mce4d598f3a\" y=\"66.043726\"/>\n     <use style=\"fill:#1f77b4;stroke:#1f77b4;\" x=\"152.356458\" xlink:href=\"#mce4d598f3a\" y=\"88.357794\"/>\n     <use style=\"fill:#1f77b4;stroke:#1f77b4;\" x=\"114.783454\" xlink:href=\"#mce4d598f3a\" y=\"64.269807\"/>\n     <use style=\"fill:#1f77b4;stroke:#1f77b4;\" x=\"85.306548\" xlink:href=\"#mce4d598f3a\" y=\"74.398916\"/>\n     <use style=\"fill:#1f77b4;stroke:#1f77b4;\" x=\"159.934666\" xlink:href=\"#mce4d598f3a\" y=\"104.406614\"/>\n     <use style=\"fill:#1f77b4;stroke:#1f77b4;\" x=\"128.612178\" xlink:href=\"#mce4d598f3a\" y=\"80.883647\"/>\n     <use style=\"fill:#1f77b4;stroke:#1f77b4;\" x=\"118.010233\" xlink:href=\"#mce4d598f3a\" y=\"71.841822\"/>\n     <use style=\"fill:#1f77b4;stroke:#1f77b4;\" x=\"135.867017\" xlink:href=\"#mce4d598f3a\" y=\"74.42776\"/>\n     <use style=\"fill:#1f77b4;stroke:#1f77b4;\" x=\"73.217061\" xlink:href=\"#mce4d598f3a\" y=\"60.438821\"/>\n     <use style=\"fill:#1f77b4;stroke:#1f77b4;\" x=\"104.102373\" xlink:href=\"#mce4d598f3a\" y=\"59.840573\"/>\n     <use style=\"fill:#1f77b4;stroke:#1f77b4;\" x=\"126.151798\" xlink:href=\"#mce4d598f3a\" y=\"74.153067\"/>\n     <use style=\"fill:#1f77b4;stroke:#1f77b4;\" x=\"127.971085\" xlink:href=\"#mce4d598f3a\" y=\"101.17998\"/>\n     <use style=\"fill:#1f77b4;stroke:#1f77b4;\" x=\"137.895614\" xlink:href=\"#mce4d598f3a\" y=\"93.207886\"/>\n     <use style=\"fill:#1f77b4;stroke:#1f77b4;\" x=\"80.125778\" xlink:href=\"#mce4d598f3a\" y=\"59.330952\"/>\n     <use style=\"fill:#1f77b4;stroke:#1f77b4;\" x=\"143.788624\" xlink:href=\"#mce4d598f3a\" y=\"78.53173\"/>\n     <use style=\"fill:#1f77b4;stroke:#1f77b4;\" x=\"132.138328\" xlink:href=\"#mce4d598f3a\" y=\"83.723863\"/>\n     <use style=\"fill:#1f77b4;stroke:#1f77b4;\" x=\"137.386844\" xlink:href=\"#mce4d598f3a\" y=\"87.073165\"/>\n     <use style=\"fill:#1f77b4;stroke:#1f77b4;\" x=\"126.606283\" xlink:href=\"#mce4d598f3a\" y=\"98.992579\"/>\n     <use style=\"fill:#1f77b4;stroke:#1f77b4;\" x=\"120.348856\" xlink:href=\"#mce4d598f3a\" y=\"87.699251\"/>\n     <use style=\"fill:#1f77b4;stroke:#1f77b4;\" x=\"157.110491\" xlink:href=\"#mce4d598f3a\" y=\"100.483253\"/>\n     <use style=\"fill:#1f77b4;stroke:#1f77b4;\" x=\"113.424164\" xlink:href=\"#mce4d598f3a\" y=\"78.639034\"/>\n     <use style=\"fill:#1f77b4;stroke:#1f77b4;\" x=\"129.171845\" xlink:href=\"#mce4d598f3a\" y=\"91.376079\"/>\n     <use style=\"fill:#1f77b4;stroke:#1f77b4;\" x=\"106.991316\" xlink:href=\"#mce4d598f3a\" y=\"82.533927\"/>\n     <use style=\"fill:#1f77b4;stroke:#1f77b4;\" x=\"97.064575\" xlink:href=\"#mce4d598f3a\" y=\"65.265177\"/>\n     <use style=\"fill:#1f77b4;stroke:#1f77b4;\" x=\"111.315034\" xlink:href=\"#mce4d598f3a\" y=\"60.983\"/>\n     <use style=\"fill:#1f77b4;stroke:#1f77b4;\" x=\"88.356287\" xlink:href=\"#mce4d598f3a\" y=\"55.628726\"/>\n     <use style=\"fill:#1f77b4;stroke:#1f77b4;\" x=\"129.540938\" xlink:href=\"#mce4d598f3a\" y=\"84.467132\"/>\n     <use style=\"fill:#1f77b4;stroke:#1f77b4;\" x=\"133.896186\" xlink:href=\"#mce4d598f3a\" y=\"80.448334\"/>\n     <use style=\"fill:#1f77b4;stroke:#1f77b4;\" x=\"106.764279\" xlink:href=\"#mce4d598f3a\" y=\"65.570208\"/>\n     <use style=\"fill:#1f77b4;stroke:#1f77b4;\" x=\"155.554018\" xlink:href=\"#mce4d598f3a\" y=\"100.409388\"/>\n     <use style=\"fill:#1f77b4;stroke:#1f77b4;\" x=\"132.477053\" xlink:href=\"#mce4d598f3a\" y=\"87.403859\"/>\n     <use style=\"fill:#1f77b4;stroke:#1f77b4;\" x=\"164.862192\" xlink:href=\"#mce4d598f3a\" y=\"98.969129\"/>\n     <use style=\"fill:#1f77b4;stroke:#1f77b4;\" x=\"94.383922\" xlink:href=\"#mce4d598f3a\" y=\"69.311119\"/>\n     <use style=\"fill:#1f77b4;stroke:#1f77b4;\" x=\"93.573176\" xlink:href=\"#mce4d598f3a\" y=\"60.058218\"/>\n     <use style=\"fill:#1f77b4;stroke:#1f77b4;\" x=\"139.141545\" xlink:href=\"#mce4d598f3a\" y=\"83.818547\"/>\n     <use style=\"fill:#1f77b4;stroke:#1f77b4;\" x=\"169.195466\" xlink:href=\"#mce4d598f3a\" y=\"101.982191\"/>\n     <use style=\"fill:#1f77b4;stroke:#1f77b4;\" x=\"77.891661\" xlink:href=\"#mce4d598f3a\" y=\"57.54757\"/>\n     <use style=\"fill:#1f77b4;stroke:#1f77b4;\" x=\"122.09788\" xlink:href=\"#mce4d598f3a\" y=\"75.055728\"/>\n     <use style=\"fill:#1f77b4;stroke:#1f77b4;\" x=\"119.427172\" xlink:href=\"#mce4d598f3a\" y=\"74.95695\"/>\n     <use style=\"fill:#1f77b4;stroke:#1f77b4;\" x=\"110.170636\" xlink:href=\"#mce4d598f3a\" y=\"71.181129\"/>\n     <use style=\"fill:#1f77b4;stroke:#1f77b4;\" x=\"85.713926\" xlink:href=\"#mce4d598f3a\" y=\"68.808149\"/>\n     <use style=\"fill:#1f77b4;stroke:#1f77b4;\" x=\"104.004131\" xlink:href=\"#mce4d598f3a\" y=\"72.658138\"/>\n     <use style=\"fill:#1f77b4;stroke:#1f77b4;\" x=\"91.164158\" xlink:href=\"#mce4d598f3a\" y=\"54.433948\"/>\n     <use style=\"fill:#1f77b4;stroke:#1f77b4;\" x=\"150.879977\" xlink:href=\"#mce4d598f3a\" y=\"99.790156\"/>\n     <use style=\"fill:#1f77b4;stroke:#1f77b4;\" x=\"172.166751\" xlink:href=\"#mce4d598f3a\" y=\"102.502672\"/>\n     <use style=\"fill:#1f77b4;stroke:#1f77b4;\" x=\"138.977562\" xlink:href=\"#mce4d598f3a\" y=\"89.49651\"/>\n     <use style=\"fill:#1f77b4;stroke:#1f77b4;\" x=\"99.873105\" xlink:href=\"#mce4d598f3a\" y=\"73.008983\"/>\n     <use style=\"fill:#1f77b4;stroke:#1f77b4;\" x=\"123.491875\" xlink:href=\"#mce4d598f3a\" y=\"76.843458\"/>\n     <use style=\"fill:#1f77b4;stroke:#1f77b4;\" x=\"104.456281\" xlink:href=\"#mce4d598f3a\" y=\"69.319929\"/>\n     <use style=\"fill:#1f77b4;stroke:#1f77b4;\" x=\"100.314794\" xlink:href=\"#mce4d598f3a\" y=\"48.503912\"/>\n     <use style=\"fill:#1f77b4;stroke:#1f77b4;\" x=\"91.000295\" xlink:href=\"#mce4d598f3a\" y=\"66.081448\"/>\n     <use style=\"fill:#1f77b4;stroke:#1f77b4;\" x=\"142.337931\" xlink:href=\"#mce4d598f3a\" y=\"86.26701\"/>\n     <use style=\"fill:#1f77b4;stroke:#1f77b4;\" x=\"104.357177\" xlink:href=\"#mce4d598f3a\" y=\"83.83193\"/>\n     <use style=\"fill:#1f77b4;stroke:#1f77b4;\" x=\"111.160711\" xlink:href=\"#mce4d598f3a\" y=\"78.984721\"/>\n     <use style=\"fill:#1f77b4;stroke:#1f77b4;\" x=\"154.418731\" xlink:href=\"#mce4d598f3a\" y=\"103.201162\"/>\n     <use style=\"fill:#1f77b4;stroke:#1f77b4;\" x=\"179.148212\" xlink:href=\"#mce4d598f3a\" y=\"113.662907\"/>\n     <use style=\"fill:#1f77b4;stroke:#1f77b4;\" x=\"127.310284\" xlink:href=\"#mce4d598f3a\" y=\"89.66789\"/>\n     <use style=\"fill:#1f77b4;stroke:#1f77b4;\" x=\"129.843321\" xlink:href=\"#mce4d598f3a\" y=\"63.858235\"/>\n     <use style=\"fill:#1f77b4;stroke:#1f77b4;\" x=\"151.409253\" xlink:href=\"#mce4d598f3a\" y=\"81.624186\"/>\n     <use style=\"fill:#1f77b4;stroke:#1f77b4;\" x=\"158.814353\" xlink:href=\"#mce4d598f3a\" y=\"110.087894\"/>\n     <use style=\"fill:#1f77b4;stroke:#1f77b4;\" x=\"158.071448\" xlink:href=\"#mce4d598f3a\" y=\"102.539496\"/>\n     <use style=\"fill:#1f77b4;stroke:#1f77b4;\" x=\"165.878507\" xlink:href=\"#mce4d598f3a\" y=\"101.693865\"/>\n     <use style=\"fill:#1f77b4;stroke:#1f77b4;\" x=\"150.300723\" xlink:href=\"#mce4d598f3a\" y=\"91.310724\"/>\n     <use style=\"fill:#1f77b4;stroke:#1f77b4;\" x=\"144.30634\" xlink:href=\"#mce4d598f3a\" y=\"75.276519\"/>\n     <use style=\"fill:#1f77b4;stroke:#1f77b4;\" x=\"120.849473\" xlink:href=\"#mce4d598f3a\" y=\"88.873678\"/>\n     <use style=\"fill:#1f77b4;stroke:#1f77b4;\" x=\"106.147857\" xlink:href=\"#mce4d598f3a\" y=\"92.502414\"/>\n     <use style=\"fill:#1f77b4;stroke:#1f77b4;\" x=\"139.109242\" xlink:href=\"#mce4d598f3a\" y=\"83.251005\"/>\n     <use style=\"fill:#1f77b4;stroke:#1f77b4;\" x=\"119.647166\" xlink:href=\"#mce4d598f3a\" y=\"81.370047\"/>\n     <use style=\"fill:#1f77b4;stroke:#1f77b4;\" x=\"80.211281\" xlink:href=\"#mce4d598f3a\" y=\"49.370862\"/>\n     <use style=\"fill:#1f77b4;stroke:#1f77b4;\" x=\"117.478843\" xlink:href=\"#mce4d598f3a\" y=\"76.141132\"/>\n     <use style=\"fill:#1f77b4;stroke:#1f77b4;\" x=\"137.578167\" xlink:href=\"#mce4d598f3a\" y=\"93.514696\"/>\n     <use style=\"fill:#1f77b4;stroke:#1f77b4;\" x=\"128.715993\" xlink:href=\"#mce4d598f3a\" y=\"92.35678\"/>\n     <use style=\"fill:#1f77b4;stroke:#1f77b4;\" x=\"80.073166\" xlink:href=\"#mce4d598f3a\" y=\"46.562551\"/>\n     <use style=\"fill:#1f77b4;stroke:#1f77b4;\" x=\"121.822821\" xlink:href=\"#mce4d598f3a\" y=\"85.137649\"/>\n     <use style=\"fill:#1f77b4;stroke:#1f77b4;\" x=\"141.444292\" xlink:href=\"#mce4d598f3a\" y=\"85.477759\"/>\n     <use style=\"fill:#1f77b4;stroke:#1f77b4;\" x=\"139.380922\" xlink:href=\"#mce4d598f3a\" y=\"85.530794\"/>\n     <use style=\"fill:#1f77b4;stroke:#1f77b4;\" x=\"116.630678\" xlink:href=\"#mce4d598f3a\" y=\"75.333524\"/>\n     <use style=\"fill:#1f77b4;stroke:#1f77b4;\" x=\"135.696944\" xlink:href=\"#mce4d598f3a\" y=\"92.182923\"/>\n     <use style=\"fill:#1f77b4;stroke:#1f77b4;\" x=\"111.11617\" xlink:href=\"#mce4d598f3a\" y=\"73.560932\"/>\n     <use style=\"fill:#1f77b4;stroke:#1f77b4;\" x=\"154.217207\" xlink:href=\"#mce4d598f3a\" y=\"90.46053\"/>\n     <use style=\"fill:#1f77b4;stroke:#1f77b4;\" x=\"137.359232\" xlink:href=\"#mce4d598f3a\" y=\"73.047714\"/>\n     <use style=\"fill:#1f77b4;stroke:#1f77b4;\" x=\"145.506539\" xlink:href=\"#mce4d598f3a\" y=\"103.616846\"/>\n     <use style=\"fill:#1f77b4;stroke:#1f77b4;\" x=\"149.539679\" xlink:href=\"#mce4d598f3a\" y=\"96.36812\"/>\n     <use style=\"fill:#1f77b4;stroke:#1f77b4;\" x=\"57.587816\" xlink:href=\"#mce4d598f3a\" y=\"35.900307\"/>\n     <use style=\"fill:#1f77b4;stroke:#1f77b4;\" x=\"143.072764\" xlink:href=\"#mce4d598f3a\" y=\"98.468922\"/>\n     <use style=\"fill:#1f77b4;stroke:#1f77b4;\" x=\"149.475649\" xlink:href=\"#mce4d598f3a\" y=\"102.806629\"/>\n     <use style=\"fill:#1f77b4;stroke:#1f77b4;\" x=\"136.917514\" xlink:href=\"#mce4d598f3a\" y=\"99.925316\"/>\n     <use style=\"fill:#1f77b4;stroke:#1f77b4;\" x=\"160.626642\" xlink:href=\"#mce4d598f3a\" y=\"114.591571\"/>\n     <use style=\"fill:#1f77b4;stroke:#1f77b4;\" x=\"123.362479\" xlink:href=\"#mce4d598f3a\" y=\"96.646629\"/>\n     <use style=\"fill:#1f77b4;stroke:#1f77b4;\" x=\"137.124767\" xlink:href=\"#mce4d598f3a\" y=\"69.365178\"/>\n     <use style=\"fill:#1f77b4;stroke:#1f77b4;\" x=\"171.987305\" xlink:href=\"#mce4d598f3a\" y=\"120.159065\"/>\n     <use style=\"fill:#1f77b4;stroke:#1f77b4;\" x=\"108.504641\" xlink:href=\"#mce4d598f3a\" y=\"71.894308\"/>\n     <use style=\"fill:#1f77b4;stroke:#1f77b4;\" x=\"89.638639\" xlink:href=\"#mce4d598f3a\" y=\"49.449811\"/>\n     <use style=\"fill:#1f77b4;stroke:#1f77b4;\" x=\"126.855193\" xlink:href=\"#mce4d598f3a\" y=\"79.394812\"/>\n     <use style=\"fill:#1f77b4;stroke:#1f77b4;\" x=\"161.141655\" xlink:href=\"#mce4d598f3a\" y=\"108.007788\"/>\n     <use style=\"fill:#1f77b4;stroke:#1f77b4;\" x=\"168.195\" xlink:href=\"#mce4d598f3a\" y=\"94.234263\"/>\n     <use style=\"fill:#1f77b4;stroke:#1f77b4;\" x=\"134.75172\" xlink:href=\"#mce4d598f3a\" y=\"89.271767\"/>\n     <use style=\"fill:#1f77b4;stroke:#1f77b4;\" x=\"108.378366\" xlink:href=\"#mce4d598f3a\" y=\"76.325257\"/>\n     <use style=\"fill:#1f77b4;stroke:#1f77b4;\" x=\"55.620494\" xlink:href=\"#mce4d598f3a\" y=\"49.850285\"/>\n     <use style=\"fill:#1f77b4;stroke:#1f77b4;\" x=\"109.918589\" xlink:href=\"#mce4d598f3a\" y=\"74.598257\"/>\n     <use style=\"fill:#1f77b4;stroke:#1f77b4;\" x=\"109.764979\" xlink:href=\"#mce4d598f3a\" y=\"69.328472\"/>\n     <use style=\"fill:#1f77b4;stroke:#1f77b4;\" x=\"93.745278\" xlink:href=\"#mce4d598f3a\" y=\"63.507694\"/>\n     <use style=\"fill:#1f77b4;stroke:#1f77b4;\" x=\"139.342532\" xlink:href=\"#mce4d598f3a\" y=\"75.308379\"/>\n     <use style=\"fill:#1f77b4;stroke:#1f77b4;\" x=\"142.111298\" xlink:href=\"#mce4d598f3a\" y=\"96.702558\"/>\n     <use style=\"fill:#1f77b4;stroke:#1f77b4;\" x=\"108.356178\" xlink:href=\"#mce4d598f3a\" y=\"67.609273\"/>\n     <use style=\"fill:#1f77b4;stroke:#1f77b4;\" x=\"82.462608\" xlink:href=\"#mce4d598f3a\" y=\"67.574168\"/>\n     <use style=\"fill:#1f77b4;stroke:#1f77b4;\" x=\"114.521564\" xlink:href=\"#mce4d598f3a\" y=\"74.9844\"/>\n     <use style=\"fill:#1f77b4;stroke:#1f77b4;\" x=\"39.806133\" xlink:href=\"#mce4d598f3a\" y=\"29.936433\"/>\n     <use style=\"fill:#1f77b4;stroke:#1f77b4;\" x=\"172.324516\" xlink:href=\"#mce4d598f3a\" y=\"96.435347\"/>\n     <use style=\"fill:#1f77b4;stroke:#1f77b4;\" x=\"91.586536\" xlink:href=\"#mce4d598f3a\" y=\"61.881406\"/>\n     <use style=\"fill:#1f77b4;stroke:#1f77b4;\" x=\"107.898348\" xlink:href=\"#mce4d598f3a\" y=\"65.568202\"/>\n     <use style=\"fill:#1f77b4;stroke:#1f77b4;\" x=\"110.851009\" xlink:href=\"#mce4d598f3a\" y=\"54.194735\"/>\n     <use style=\"fill:#1f77b4;stroke:#1f77b4;\" x=\"138.517925\" xlink:href=\"#mce4d598f3a\" y=\"83.331804\"/>\n     <use style=\"fill:#1f77b4;stroke:#1f77b4;\" x=\"151.469656\" xlink:href=\"#mce4d598f3a\" y=\"100.487842\"/>\n     <use style=\"fill:#1f77b4;stroke:#1f77b4;\" x=\"109.703306\" xlink:href=\"#mce4d598f3a\" y=\"73.398762\"/>\n     <use style=\"fill:#1f77b4;stroke:#1f77b4;\" x=\"171.122563\" xlink:href=\"#mce4d598f3a\" y=\"128.549654\"/>\n     <use style=\"fill:#1f77b4;stroke:#1f77b4;\" x=\"131.712154\" xlink:href=\"#mce4d598f3a\" y=\"69.656106\"/>\n     <use style=\"fill:#1f77b4;stroke:#1f77b4;\" x=\"165.13115\" xlink:href=\"#mce4d598f3a\" y=\"103.610735\"/>\n     <use style=\"fill:#1f77b4;stroke:#1f77b4;\" x=\"92.411895\" xlink:href=\"#mce4d598f3a\" y=\"60.294971\"/>\n     <use style=\"fill:#1f77b4;stroke:#1f77b4;\" x=\"128.768847\" xlink:href=\"#mce4d598f3a\" y=\"89.962462\"/>\n     <use style=\"fill:#1f77b4;stroke:#1f77b4;\" x=\"149.532171\" xlink:href=\"#mce4d598f3a\" y=\"104.963823\"/>\n     <use style=\"fill:#1f77b4;stroke:#1f77b4;\" x=\"155.244239\" xlink:href=\"#mce4d598f3a\" y=\"90.959812\"/>\n     <use style=\"fill:#1f77b4;stroke:#1f77b4;\" x=\"84.447576\" xlink:href=\"#mce4d598f3a\" y=\"51.036574\"/>\n     <use style=\"fill:#1f77b4;stroke:#1f77b4;\" x=\"134.32784\" xlink:href=\"#mce4d598f3a\" y=\"83.204644\"/>\n     <use style=\"fill:#1f77b4;stroke:#1f77b4;\" x=\"122.899992\" xlink:href=\"#mce4d598f3a\" y=\"90.87183\"/>\n     <use style=\"fill:#1f77b4;stroke:#1f77b4;\" x=\"79.950732\" xlink:href=\"#mce4d598f3a\" y=\"38.065883\"/>\n     <use style=\"fill:#1f77b4;stroke:#1f77b4;\" x=\"103.981143\" xlink:href=\"#mce4d598f3a\" y=\"84.018734\"/>\n     <use style=\"fill:#1f77b4;stroke:#1f77b4;\" x=\"106.818732\" xlink:href=\"#mce4d598f3a\" y=\"76.874323\"/>\n     <use style=\"fill:#1f77b4;stroke:#1f77b4;\" x=\"113.488391\" xlink:href=\"#mce4d598f3a\" y=\"62.630445\"/>\n     <use style=\"fill:#1f77b4;stroke:#1f77b4;\" x=\"103.088138\" xlink:href=\"#mce4d598f3a\" y=\"89.991295\"/>\n     <use style=\"fill:#1f77b4;stroke:#1f77b4;\" x=\"133.392894\" xlink:href=\"#mce4d598f3a\" y=\"73.569865\"/>\n     <use style=\"fill:#1f77b4;stroke:#1f77b4;\" x=\"94.939193\" xlink:href=\"#mce4d598f3a\" y=\"69.244913\"/>\n     <use style=\"fill:#1f77b4;stroke:#1f77b4;\" x=\"138.765284\" xlink:href=\"#mce4d598f3a\" y=\"89.298107\"/>\n     <use style=\"fill:#1f77b4;stroke:#1f77b4;\" x=\"71.65888\" xlink:href=\"#mce4d598f3a\" y=\"70.981198\"/>\n     <use style=\"fill:#1f77b4;stroke:#1f77b4;\" x=\"111.603366\" xlink:href=\"#mce4d598f3a\" y=\"67.633156\"/>\n     <use style=\"fill:#1f77b4;stroke:#1f77b4;\" x=\"124.019544\" xlink:href=\"#mce4d598f3a\" y=\"78.54713\"/>\n     <use style=\"fill:#1f77b4;stroke:#1f77b4;\" x=\"117.863912\" xlink:href=\"#mce4d598f3a\" y=\"73.035625\"/>\n     <use style=\"fill:#1f77b4;stroke:#1f77b4;\" x=\"149.875155\" xlink:href=\"#mce4d598f3a\" y=\"97.930245\"/>\n     <use style=\"fill:#1f77b4;stroke:#1f77b4;\" x=\"133.779304\" xlink:href=\"#mce4d598f3a\" y=\"86.035142\"/>\n     <use style=\"fill:#1f77b4;stroke:#1f77b4;\" x=\"120.009921\" xlink:href=\"#mce4d598f3a\" y=\"76.018527\"/>\n     <use style=\"fill:#1f77b4;stroke:#1f77b4;\" x=\"167.95742\" xlink:href=\"#mce4d598f3a\" y=\"107.177631\"/>\n     <use style=\"fill:#1f77b4;stroke:#1f77b4;\" x=\"163.334786\" xlink:href=\"#mce4d598f3a\" y=\"110.87224\"/>\n     <use style=\"fill:#1f77b4;stroke:#1f77b4;\" x=\"72.844227\" xlink:href=\"#mce4d598f3a\" y=\"40.12772\"/>\n     <use style=\"fill:#1f77b4;stroke:#1f77b4;\" x=\"151.994533\" xlink:href=\"#mce4d598f3a\" y=\"112.221586\"/>\n     <use style=\"fill:#1f77b4;stroke:#1f77b4;\" x=\"136.383372\" xlink:href=\"#mce4d598f3a\" y=\"82.554242\"/>\n     <use style=\"fill:#1f77b4;stroke:#1f77b4;\" x=\"178.936956\" xlink:href=\"#mce4d598f3a\" y=\"100.695309\"/>\n     <use style=\"fill:#1f77b4;stroke:#1f77b4;\" x=\"92.449368\" xlink:href=\"#mce4d598f3a\" y=\"79.021973\"/>\n     <use style=\"fill:#1f77b4;stroke:#1f77b4;\" x=\"112.565243\" xlink:href=\"#mce4d598f3a\" y=\"87.672036\"/>\n     <use style=\"fill:#1f77b4;stroke:#1f77b4;\" x=\"124.287629\" xlink:href=\"#mce4d598f3a\" y=\"92.571446\"/>\n     <use style=\"fill:#1f77b4;stroke:#1f77b4;\" x=\"111.45964\" xlink:href=\"#mce4d598f3a\" y=\"84.053306\"/>\n     <use style=\"fill:#1f77b4;stroke:#1f77b4;\" x=\"179.207904\" xlink:href=\"#mce4d598f3a\" y=\"120.700824\"/>\n     <use style=\"fill:#1f77b4;stroke:#1f77b4;\" x=\"119.600985\" xlink:href=\"#mce4d598f3a\" y=\"95.560891\"/>\n     <use style=\"fill:#1f77b4;stroke:#1f77b4;\" x=\"130.877184\" xlink:href=\"#mce4d598f3a\" y=\"86.649824\"/>\n     <use style=\"fill:#1f77b4;stroke:#1f77b4;\" x=\"174.686134\" xlink:href=\"#mce4d598f3a\" y=\"140.306578\"/>\n     <use style=\"fill:#1f77b4;stroke:#1f77b4;\" x=\"129.117612\" xlink:href=\"#mce4d598f3a\" y=\"81.153521\"/>\n     <use style=\"fill:#1f77b4;stroke:#1f77b4;\" x=\"145.307132\" xlink:href=\"#mce4d598f3a\" y=\"103.25483\"/>\n     <use style=\"fill:#1f77b4;stroke:#1f77b4;\" x=\"149.741883\" xlink:href=\"#mce4d598f3a\" y=\"96.3111\"/>\n     <use style=\"fill:#1f77b4;stroke:#1f77b4;\" x=\"151.013403\" xlink:href=\"#mce4d598f3a\" y=\"124.449152\"/>\n     <use style=\"fill:#1f77b4;stroke:#1f77b4;\" x=\"74.437559\" xlink:href=\"#mce4d598f3a\" y=\"54.326874\"/>\n     <use style=\"fill:#1f77b4;stroke:#1f77b4;\" x=\"122.773938\" xlink:href=\"#mce4d598f3a\" y=\"69.865514\"/>\n     <use style=\"fill:#1f77b4;stroke:#1f77b4;\" x=\"145.145264\" xlink:href=\"#mce4d598f3a\" y=\"106.207309\"/>\n     <use style=\"fill:#1f77b4;stroke:#1f77b4;\" x=\"150.13979\" xlink:href=\"#mce4d598f3a\" y=\"110.809808\"/>\n     <use style=\"fill:#1f77b4;stroke:#1f77b4;\" x=\"92.909975\" xlink:href=\"#mce4d598f3a\" y=\"65.7672\"/>\n     <use style=\"fill:#1f77b4;stroke:#1f77b4;\" x=\"123.758918\" xlink:href=\"#mce4d598f3a\" y=\"88.908408\"/>\n     <use style=\"fill:#1f77b4;stroke:#1f77b4;\" x=\"173.595564\" xlink:href=\"#mce4d598f3a\" y=\"107.170278\"/>\n     <use style=\"fill:#1f77b4;stroke:#1f77b4;\" x=\"103.048328\" xlink:href=\"#mce4d598f3a\" y=\"75.223663\"/>\n     <use style=\"fill:#1f77b4;stroke:#1f77b4;\" x=\"145.13385\" xlink:href=\"#mce4d598f3a\" y=\"94.176554\"/>\n     <use style=\"fill:#1f77b4;stroke:#1f77b4;\" x=\"113.609653\" xlink:href=\"#mce4d598f3a\" y=\"89.917939\"/>\n     <use style=\"fill:#1f77b4;stroke:#1f77b4;\" x=\"116.118613\" xlink:href=\"#mce4d598f3a\" y=\"79.859583\"/>\n     <use style=\"fill:#1f77b4;stroke:#1f77b4;\" x=\"138.4443\" xlink:href=\"#mce4d598f3a\" y=\"102.836894\"/>\n     <use style=\"fill:#1f77b4;stroke:#1f77b4;\" x=\"149.342052\" xlink:href=\"#mce4d598f3a\" y=\"109.627745\"/>\n     <use style=\"fill:#1f77b4;stroke:#1f77b4;\" x=\"149.540319\" xlink:href=\"#mce4d598f3a\" y=\"105.203556\"/>\n     <use style=\"fill:#1f77b4;stroke:#1f77b4;\" x=\"111.601924\" xlink:href=\"#mce4d598f3a\" y=\"65.268403\"/>\n     <use style=\"fill:#1f77b4;stroke:#1f77b4;\" x=\"100.927944\" xlink:href=\"#mce4d598f3a\" y=\"52.443555\"/>\n     <use style=\"fill:#1f77b4;stroke:#1f77b4;\" x=\"130.761239\" xlink:href=\"#mce4d598f3a\" y=\"80.896116\"/>\n     <use style=\"fill:#1f77b4;stroke:#1f77b4;\" x=\"147.993713\" xlink:href=\"#mce4d598f3a\" y=\"103.03261\"/>\n     <use style=\"fill:#1f77b4;stroke:#1f77b4;\" x=\"163.969789\" xlink:href=\"#mce4d598f3a\" y=\"91.628226\"/>\n     <use style=\"fill:#1f77b4;stroke:#1f77b4;\" x=\"140.82088\" xlink:href=\"#mce4d598f3a\" y=\"94.087185\"/>\n     <use style=\"fill:#1f77b4;stroke:#1f77b4;\" x=\"143.616746\" xlink:href=\"#mce4d598f3a\" y=\"90.014413\"/>\n     <use style=\"fill:#1f77b4;stroke:#1f77b4;\" x=\"113.474166\" xlink:href=\"#mce4d598f3a\" y=\"65.109957\"/>\n     <use style=\"fill:#1f77b4;stroke:#1f77b4;\" x=\"103.544466\" xlink:href=\"#mce4d598f3a\" y=\"78.748082\"/>\n     <use style=\"fill:#1f77b4;stroke:#1f77b4;\" x=\"148.162123\" xlink:href=\"#mce4d598f3a\" y=\"98.559271\"/>\n     <use style=\"fill:#1f77b4;stroke:#1f77b4;\" x=\"88.236906\" xlink:href=\"#mce4d598f3a\" y=\"60.091829\"/>\n     <use style=\"fill:#1f77b4;stroke:#1f77b4;\" x=\"94.332573\" xlink:href=\"#mce4d598f3a\" y=\"71.530922\"/>\n     <use style=\"fill:#1f77b4;stroke:#1f77b4;\" x=\"105.521931\" xlink:href=\"#mce4d598f3a\" y=\"71.60773\"/>\n     <use style=\"fill:#1f77b4;stroke:#1f77b4;\" x=\"138.476537\" xlink:href=\"#mce4d598f3a\" y=\"81.46719\"/>\n     <use style=\"fill:#1f77b4;stroke:#1f77b4;\" x=\"118.567055\" xlink:href=\"#mce4d598f3a\" y=\"80.422517\"/>\n     <use style=\"fill:#1f77b4;stroke:#1f77b4;\" x=\"127.96755\" xlink:href=\"#mce4d598f3a\" y=\"101.97207\"/>\n     <use style=\"fill:#1f77b4;stroke:#1f77b4;\" x=\"160.865814\" xlink:href=\"#mce4d598f3a\" y=\"117.524049\"/>\n     <use style=\"fill:#1f77b4;stroke:#1f77b4;\" x=\"119.949032\" xlink:href=\"#mce4d598f3a\" y=\"80.242193\"/>\n     <use style=\"fill:#1f77b4;stroke:#1f77b4;\" x=\"135.789545\" xlink:href=\"#mce4d598f3a\" y=\"74.568169\"/>\n     <use style=\"fill:#1f77b4;stroke:#1f77b4;\" x=\"147.318291\" xlink:href=\"#mce4d598f3a\" y=\"102.562137\"/>\n     <use style=\"fill:#1f77b4;stroke:#1f77b4;\" x=\"110.662869\" xlink:href=\"#mce4d598f3a\" y=\"82.851327\"/>\n     <use style=\"fill:#1f77b4;stroke:#1f77b4;\" x=\"110.362469\" xlink:href=\"#mce4d598f3a\" y=\"66.718369\"/>\n     <use style=\"fill:#1f77b4;stroke:#1f77b4;\" x=\"136.165286\" xlink:href=\"#mce4d598f3a\" y=\"74.796677\"/>\n     <use style=\"fill:#1f77b4;stroke:#1f77b4;\" x=\"120.54094\" xlink:href=\"#mce4d598f3a\" y=\"77.266053\"/>\n     <use style=\"fill:#1f77b4;stroke:#1f77b4;\" x=\"65.704001\" xlink:href=\"#mce4d598f3a\" y=\"69.626289\"/>\n     <use style=\"fill:#1f77b4;stroke:#1f77b4;\" x=\"150.427131\" xlink:href=\"#mce4d598f3a\" y=\"90.093533\"/>\n     <use style=\"fill:#1f77b4;stroke:#1f77b4;\" x=\"116.376013\" xlink:href=\"#mce4d598f3a\" y=\"75.88395\"/>\n     <use style=\"fill:#1f77b4;stroke:#1f77b4;\" x=\"94.696998\" xlink:href=\"#mce4d598f3a\" y=\"70.745245\"/>\n     <use style=\"fill:#1f77b4;stroke:#1f77b4;\" x=\"129.296353\" xlink:href=\"#mce4d598f3a\" y=\"71.159406\"/>\n     <use style=\"fill:#1f77b4;stroke:#1f77b4;\" x=\"114.79791\" xlink:href=\"#mce4d598f3a\" y=\"78.673652\"/>\n     <use style=\"fill:#1f77b4;stroke:#1f77b4;\" x=\"135.281334\" xlink:href=\"#mce4d598f3a\" y=\"100.852932\"/>\n     <use style=\"fill:#1f77b4;stroke:#1f77b4;\" x=\"87.918506\" xlink:href=\"#mce4d598f3a\" y=\"76.596044\"/>\n     <use style=\"fill:#1f77b4;stroke:#1f77b4;\" x=\"129.276169\" xlink:href=\"#mce4d598f3a\" y=\"84.309472\"/>\n     <use style=\"fill:#1f77b4;stroke:#1f77b4;\" x=\"176.485515\" xlink:href=\"#mce4d598f3a\" y=\"105.404563\"/>\n     <use style=\"fill:#1f77b4;stroke:#1f77b4;\" x=\"79.716756\" xlink:href=\"#mce4d598f3a\" y=\"57.580669\"/>\n     <use style=\"fill:#1f77b4;stroke:#1f77b4;\" x=\"130.270396\" xlink:href=\"#mce4d598f3a\" y=\"76.987139\"/>\n     <use style=\"fill:#1f77b4;stroke:#1f77b4;\" x=\"161.386229\" xlink:href=\"#mce4d598f3a\" y=\"106.270752\"/>\n     <use style=\"fill:#1f77b4;stroke:#1f77b4;\" x=\"69.635667\" xlink:href=\"#mce4d598f3a\" y=\"47.487928\"/>\n     <use style=\"fill:#1f77b4;stroke:#1f77b4;\" x=\"154.307388\" xlink:href=\"#mce4d598f3a\" y=\"113.308936\"/>\n     <use style=\"fill:#1f77b4;stroke:#1f77b4;\" x=\"125.986461\" xlink:href=\"#mce4d598f3a\" y=\"83.87071\"/>\n     <use style=\"fill:#1f77b4;stroke:#1f77b4;\" x=\"154.786411\" xlink:href=\"#mce4d598f3a\" y=\"98.720424\"/>\n     <use style=\"fill:#1f77b4;stroke:#1f77b4;\" x=\"90.749107\" xlink:href=\"#mce4d598f3a\" y=\"63.979988\"/>\n     <use style=\"fill:#1f77b4;stroke:#1f77b4;\" x=\"139.107413\" xlink:href=\"#mce4d598f3a\" y=\"97.415802\"/>\n     <use style=\"fill:#1f77b4;stroke:#1f77b4;\" x=\"95.292599\" xlink:href=\"#mce4d598f3a\" y=\"67.396069\"/>\n     <use style=\"fill:#1f77b4;stroke:#1f77b4;\" x=\"113.282243\" xlink:href=\"#mce4d598f3a\" y=\"95.298073\"/>\n     <use style=\"fill:#1f77b4;stroke:#1f77b4;\" x=\"113.953555\" xlink:href=\"#mce4d598f3a\" y=\"95.407215\"/>\n     <use style=\"fill:#1f77b4;stroke:#1f77b4;\" x=\"178.012822\" xlink:href=\"#mce4d598f3a\" y=\"116.317785\"/>\n     <use style=\"fill:#1f77b4;stroke:#1f77b4;\" x=\"154.333713\" xlink:href=\"#mce4d598f3a\" y=\"101.832661\"/>\n     <use style=\"fill:#1f77b4;stroke:#1f77b4;\" x=\"125.626959\" xlink:href=\"#mce4d598f3a\" y=\"102.937328\"/>\n     <use style=\"fill:#1f77b4;stroke:#1f77b4;\" x=\"149.991313\" xlink:href=\"#mce4d598f3a\" y=\"75.582993\"/>\n     <use style=\"fill:#1f77b4;stroke:#1f77b4;\" x=\"153.803246\" xlink:href=\"#mce4d598f3a\" y=\"97.895126\"/>\n     <use style=\"fill:#1f77b4;stroke:#1f77b4;\" x=\"107.910136\" xlink:href=\"#mce4d598f3a\" y=\"78.138882\"/>\n     <use style=\"fill:#1f77b4;stroke:#1f77b4;\" x=\"179.990482\" xlink:href=\"#mce4d598f3a\" y=\"96.058826\"/>\n     <use style=\"fill:#1f77b4;stroke:#1f77b4;\" x=\"154.647802\" xlink:href=\"#mce4d598f3a\" y=\"95.771218\"/>\n     <use style=\"fill:#1f77b4;stroke:#1f77b4;\" x=\"122.848364\" xlink:href=\"#mce4d598f3a\" y=\"85.954675\"/>\n     <use style=\"fill:#1f77b4;stroke:#1f77b4;\" x=\"95.791567\" xlink:href=\"#mce4d598f3a\" y=\"62.426329\"/>\n     <use style=\"fill:#1f77b4;stroke:#1f77b4;\" x=\"193.664677\" xlink:href=\"#mce4d598f3a\" y=\"127.246529\"/>\n     <use style=\"fill:#1f77b4;stroke:#1f77b4;\" x=\"181.899654\" xlink:href=\"#mce4d598f3a\" y=\"110.013078\"/>\n     <use style=\"fill:#1f77b4;stroke:#1f77b4;\" x=\"107.612368\" xlink:href=\"#mce4d598f3a\" y=\"62.245651\"/>\n     <use style=\"fill:#1f77b4;stroke:#1f77b4;\" x=\"155.765791\" xlink:href=\"#mce4d598f3a\" y=\"89.759883\"/>\n     <use style=\"fill:#1f77b4;stroke:#1f77b4;\" x=\"114.052527\" xlink:href=\"#mce4d598f3a\" y=\"80.111189\"/>\n     <use style=\"fill:#1f77b4;stroke:#1f77b4;\" x=\"112.666715\" xlink:href=\"#mce4d598f3a\" y=\"70.022925\"/>\n     <use style=\"fill:#1f77b4;stroke:#1f77b4;\" x=\"110.764719\" xlink:href=\"#mce4d598f3a\" y=\"68.349605\"/>\n     <use style=\"fill:#1f77b4;stroke:#1f77b4;\" x=\"110.147294\" xlink:href=\"#mce4d598f3a\" y=\"64.731895\"/>\n     <use style=\"fill:#1f77b4;stroke:#1f77b4;\" x=\"146.118025\" xlink:href=\"#mce4d598f3a\" y=\"90.285322\"/>\n     <use style=\"fill:#1f77b4;stroke:#1f77b4;\" x=\"141.328216\" xlink:href=\"#mce4d598f3a\" y=\"93.304276\"/>\n     <use style=\"fill:#1f77b4;stroke:#1f77b4;\" x=\"110.609675\" xlink:href=\"#mce4d598f3a\" y=\"79.806437\"/>\n     <use style=\"fill:#1f77b4;stroke:#1f77b4;\" x=\"131.522958\" xlink:href=\"#mce4d598f3a\" y=\"82.974802\"/>\n     <use style=\"fill:#1f77b4;stroke:#1f77b4;\" x=\"153.982548\" xlink:href=\"#mce4d598f3a\" y=\"72.222023\"/>\n     <use style=\"fill:#1f77b4;stroke:#1f77b4;\" x=\"69.460338\" xlink:href=\"#mce4d598f3a\" y=\"38.408696\"/>\n     <use style=\"fill:#1f77b4;stroke:#1f77b4;\" x=\"119.501178\" xlink:href=\"#mce4d598f3a\" y=\"94.446687\"/>\n     <use style=\"fill:#1f77b4;stroke:#1f77b4;\" x=\"124.988605\" xlink:href=\"#mce4d598f3a\" y=\"81.467806\"/>\n     <use style=\"fill:#1f77b4;stroke:#1f77b4;\" x=\"120.209241\" xlink:href=\"#mce4d598f3a\" y=\"80.382044\"/>\n     <use style=\"fill:#1f77b4;stroke:#1f77b4;\" x=\"119.956436\" xlink:href=\"#mce4d598f3a\" y=\"85.471431\"/>\n     <use style=\"fill:#1f77b4;stroke:#1f77b4;\" x=\"93.825286\" xlink:href=\"#mce4d598f3a\" y=\"65.60016\"/>\n     <use style=\"fill:#1f77b4;stroke:#1f77b4;\" x=\"107.348752\" xlink:href=\"#mce4d598f3a\" y=\"69.739298\"/>\n     <use style=\"fill:#1f77b4;stroke:#1f77b4;\" x=\"129.475161\" xlink:href=\"#mce4d598f3a\" y=\"88.601035\"/>\n     <use style=\"fill:#1f77b4;stroke:#1f77b4;\" x=\"108.589515\" xlink:href=\"#mce4d598f3a\" y=\"83.804935\"/>\n     <use style=\"fill:#1f77b4;stroke:#1f77b4;\" x=\"127.773323\" xlink:href=\"#mce4d598f3a\" y=\"88.420352\"/>\n     <use style=\"fill:#1f77b4;stroke:#1f77b4;\" x=\"143.891495\" xlink:href=\"#mce4d598f3a\" y=\"101.525238\"/>\n     <use style=\"fill:#1f77b4;stroke:#1f77b4;\" x=\"119.855242\" xlink:href=\"#mce4d598f3a\" y=\"68.207724\"/>\n     <use style=\"fill:#1f77b4;stroke:#1f77b4;\" x=\"117.802078\" xlink:href=\"#mce4d598f3a\" y=\"80.440931\"/>\n     <use style=\"fill:#1f77b4;stroke:#1f77b4;\" x=\"173.502356\" xlink:href=\"#mce4d598f3a\" y=\"110.61152\"/>\n     <use style=\"fill:#1f77b4;stroke:#1f77b4;\" x=\"143.202473\" xlink:href=\"#mce4d598f3a\" y=\"100.812446\"/>\n     <use style=\"fill:#1f77b4;stroke:#1f77b4;\" x=\"122.243017\" xlink:href=\"#mce4d598f3a\" y=\"76.333593\"/>\n     <use style=\"fill:#1f77b4;stroke:#1f77b4;\" x=\"120.283881\" xlink:href=\"#mce4d598f3a\" y=\"73.794771\"/>\n     <use style=\"fill:#1f77b4;stroke:#1f77b4;\" x=\"149.401702\" xlink:href=\"#mce4d598f3a\" y=\"99.871154\"/>\n     <use style=\"fill:#1f77b4;stroke:#1f77b4;\" x=\"110.355378\" xlink:href=\"#mce4d598f3a\" y=\"74.613578\"/>\n     <use style=\"fill:#1f77b4;stroke:#1f77b4;\" x=\"86.61995\" xlink:href=\"#mce4d598f3a\" y=\"63.93593\"/>\n     <use style=\"fill:#1f77b4;stroke:#1f77b4;\" x=\"86.840098\" xlink:href=\"#mce4d598f3a\" y=\"68.805618\"/>\n     <use style=\"fill:#1f77b4;stroke:#1f77b4;\" x=\"118.823813\" xlink:href=\"#mce4d598f3a\" y=\"84.358885\"/>\n     <use style=\"fill:#1f77b4;stroke:#1f77b4;\" x=\"81.307428\" xlink:href=\"#mce4d598f3a\" y=\"67.695888\"/>\n     <use style=\"fill:#1f77b4;stroke:#1f77b4;\" x=\"149.16013\" xlink:href=\"#mce4d598f3a\" y=\"108.886745\"/>\n     <use style=\"fill:#1f77b4;stroke:#1f77b4;\" x=\"180.164292\" xlink:href=\"#mce4d598f3a\" y=\"113.277281\"/>\n     <use style=\"fill:#1f77b4;stroke:#1f77b4;\" x=\"133.076517\" xlink:href=\"#mce4d598f3a\" y=\"87.579314\"/>\n     <use style=\"fill:#1f77b4;stroke:#1f77b4;\" x=\"99.81189\" xlink:href=\"#mce4d598f3a\" y=\"62.752967\"/>\n     <use style=\"fill:#1f77b4;stroke:#1f77b4;\" x=\"109.667497\" xlink:href=\"#mce4d598f3a\" y=\"67.703085\"/>\n     <use style=\"fill:#1f77b4;stroke:#1f77b4;\" x=\"107.374948\" xlink:href=\"#mce4d598f3a\" y=\"64.952915\"/>\n     <use style=\"fill:#1f77b4;stroke:#1f77b4;\" x=\"142.904109\" xlink:href=\"#mce4d598f3a\" y=\"84.295252\"/>\n     <use style=\"fill:#1f77b4;stroke:#1f77b4;\" x=\"118.553089\" xlink:href=\"#mce4d598f3a\" y=\"66.139604\"/>\n     <use style=\"fill:#1f77b4;stroke:#1f77b4;\" x=\"116.872743\" xlink:href=\"#mce4d598f3a\" y=\"79.698134\"/>\n     <use style=\"fill:#1f77b4;stroke:#1f77b4;\" x=\"140.016269\" xlink:href=\"#mce4d598f3a\" y=\"89.638289\"/>\n     <use style=\"fill:#1f77b4;stroke:#1f77b4;\" x=\"130.17012\" xlink:href=\"#mce4d598f3a\" y=\"79.542508\"/>\n     <use style=\"fill:#1f77b4;stroke:#1f77b4;\" x=\"159.780473\" xlink:href=\"#mce4d598f3a\" y=\"107.819105\"/>\n     <use style=\"fill:#1f77b4;stroke:#1f77b4;\" x=\"131.286157\" xlink:href=\"#mce4d598f3a\" y=\"75.092313\"/>\n     <use style=\"fill:#1f77b4;stroke:#1f77b4;\" x=\"120.719204\" xlink:href=\"#mce4d598f3a\" y=\"87.847464\"/>\n     <use style=\"fill:#1f77b4;stroke:#1f77b4;\" x=\"91.600546\" xlink:href=\"#mce4d598f3a\" y=\"60.445793\"/>\n     <use style=\"fill:#1f77b4;stroke:#1f77b4;\" x=\"145.337597\" xlink:href=\"#mce4d598f3a\" y=\"79.287407\"/>\n     <use style=\"fill:#1f77b4;stroke:#1f77b4;\" x=\"106.518804\" xlink:href=\"#mce4d598f3a\" y=\"73.768445\"/>\n     <use style=\"fill:#1f77b4;stroke:#1f77b4;\" x=\"135.717111\" xlink:href=\"#mce4d598f3a\" y=\"92.749182\"/>\n     <use style=\"fill:#1f77b4;stroke:#1f77b4;\" x=\"168.962226\" xlink:href=\"#mce4d598f3a\" y=\"96.555186\"/>\n     <use style=\"fill:#1f77b4;stroke:#1f77b4;\" x=\"125.683921\" xlink:href=\"#mce4d598f3a\" y=\"100.648096\"/>\n     <use style=\"fill:#1f77b4;stroke:#1f77b4;\" x=\"103.816733\" xlink:href=\"#mce4d598f3a\" y=\"77.695722\"/>\n     <use style=\"fill:#1f77b4;stroke:#1f77b4;\" x=\"143.005554\" xlink:href=\"#mce4d598f3a\" y=\"91.401542\"/>\n     <use style=\"fill:#1f77b4;stroke:#1f77b4;\" x=\"106.99275\" xlink:href=\"#mce4d598f3a\" y=\"66.937092\"/>\n     <use style=\"fill:#1f77b4;stroke:#1f77b4;\" x=\"93.951212\" xlink:href=\"#mce4d598f3a\" y=\"52.046574\"/>\n     <use style=\"fill:#1f77b4;stroke:#1f77b4;\" x=\"136.793829\" xlink:href=\"#mce4d598f3a\" y=\"112.480304\"/>\n     <use style=\"fill:#1f77b4;stroke:#1f77b4;\" x=\"166.546871\" xlink:href=\"#mce4d598f3a\" y=\"108.645573\"/>\n     <use style=\"fill:#1f77b4;stroke:#1f77b4;\" x=\"126.478028\" xlink:href=\"#mce4d598f3a\" y=\"81.387196\"/>\n     <use style=\"fill:#1f77b4;stroke:#1f77b4;\" x=\"147.105386\" xlink:href=\"#mce4d598f3a\" y=\"94.686778\"/>\n     <use style=\"fill:#1f77b4;stroke:#1f77b4;\" x=\"119.657677\" xlink:href=\"#mce4d598f3a\" y=\"72.788362\"/>\n     <use style=\"fill:#1f77b4;stroke:#1f77b4;\" x=\"168.924542\" xlink:href=\"#mce4d598f3a\" y=\"103.038897\"/>\n     <use style=\"fill:#1f77b4;stroke:#1f77b4;\" x=\"146.230337\" xlink:href=\"#mce4d598f3a\" y=\"88.642549\"/>\n     <use style=\"fill:#1f77b4;stroke:#1f77b4;\" x=\"128.133364\" xlink:href=\"#mce4d598f3a\" y=\"82.650954\"/>\n     <use style=\"fill:#1f77b4;stroke:#1f77b4;\" x=\"152.424775\" xlink:href=\"#mce4d598f3a\" y=\"105.724176\"/>\n     <use style=\"fill:#1f77b4;stroke:#1f77b4;\" x=\"93.709576\" xlink:href=\"#mce4d598f3a\" y=\"71.66702\"/>\n     <use style=\"fill:#1f77b4;stroke:#1f77b4;\" x=\"90.118915\" xlink:href=\"#mce4d598f3a\" y=\"64.628086\"/>\n     <use style=\"fill:#1f77b4;stroke:#1f77b4;\" x=\"137.46326\" xlink:href=\"#mce4d598f3a\" y=\"85.277526\"/>\n     <use style=\"fill:#1f77b4;stroke:#1f77b4;\" x=\"102.041324\" xlink:href=\"#mce4d598f3a\" y=\"59.046824\"/>\n     <use style=\"fill:#1f77b4;stroke:#1f77b4;\" x=\"110.925653\" xlink:href=\"#mce4d598f3a\" y=\"64.796065\"/>\n     <use style=\"fill:#1f77b4;stroke:#1f77b4;\" x=\"137.602565\" xlink:href=\"#mce4d598f3a\" y=\"70.613762\"/>\n     <use style=\"fill:#1f77b4;stroke:#1f77b4;\" x=\"131.053843\" xlink:href=\"#mce4d598f3a\" y=\"92.314707\"/>\n     <use style=\"fill:#1f77b4;stroke:#1f77b4;\" x=\"132.838365\" xlink:href=\"#mce4d598f3a\" y=\"85.776271\"/>\n     <use style=\"fill:#1f77b4;stroke:#1f77b4;\" x=\"125.323946\" xlink:href=\"#mce4d598f3a\" y=\"77.075642\"/>\n     <use style=\"fill:#1f77b4;stroke:#1f77b4;\" x=\"111.728786\" xlink:href=\"#mce4d598f3a\" y=\"71.2329\"/>\n     <use style=\"fill:#1f77b4;stroke:#1f77b4;\" x=\"120.498298\" xlink:href=\"#mce4d598f3a\" y=\"70.198745\"/>\n     <use style=\"fill:#1f77b4;stroke:#1f77b4;\" x=\"138.237028\" xlink:href=\"#mce4d598f3a\" y=\"103.108938\"/>\n     <use style=\"fill:#1f77b4;stroke:#1f77b4;\" x=\"139.92873\" xlink:href=\"#mce4d598f3a\" y=\"85.813795\"/>\n     <use style=\"fill:#1f77b4;stroke:#1f77b4;\" x=\"68.34347\" xlink:href=\"#mce4d598f3a\" y=\"37.835141\"/>\n     <use style=\"fill:#1f77b4;stroke:#1f77b4;\" x=\"120.457392\" xlink:href=\"#mce4d598f3a\" y=\"89.305751\"/>\n     <use style=\"fill:#1f77b4;stroke:#1f77b4;\" x=\"113.954789\" xlink:href=\"#mce4d598f3a\" y=\"78.76228\"/>\n     <use style=\"fill:#1f77b4;stroke:#1f77b4;\" x=\"104.118238\" xlink:href=\"#mce4d598f3a\" y=\"75.69811\"/>\n     <use style=\"fill:#1f77b4;stroke:#1f77b4;\" x=\"128.141217\" xlink:href=\"#mce4d598f3a\" y=\"76.701767\"/>\n     <use style=\"fill:#1f77b4;stroke:#1f77b4;\" x=\"173.311914\" xlink:href=\"#mce4d598f3a\" y=\"111.238683\"/>\n     <use style=\"fill:#1f77b4;stroke:#1f77b4;\" x=\"129.836327\" xlink:href=\"#mce4d598f3a\" y=\"83.40461\"/>\n     <use style=\"fill:#1f77b4;stroke:#1f77b4;\" x=\"83.73723\" xlink:href=\"#mce4d598f3a\" y=\"71.680923\"/>\n     <use style=\"fill:#1f77b4;stroke:#1f77b4;\" x=\"146.441695\" xlink:href=\"#mce4d598f3a\" y=\"88.141229\"/>\n     <use style=\"fill:#1f77b4;stroke:#1f77b4;\" x=\"94.278336\" xlink:href=\"#mce4d598f3a\" y=\"64.969902\"/>\n     <use style=\"fill:#1f77b4;stroke:#1f77b4;\" x=\"94.943706\" xlink:href=\"#mce4d598f3a\" y=\"64.434246\"/>\n     <use style=\"fill:#1f77b4;stroke:#1f77b4;\" x=\"111.950823\" xlink:href=\"#mce4d598f3a\" y=\"68.474068\"/>\n     <use style=\"fill:#1f77b4;stroke:#1f77b4;\" x=\"133.049571\" xlink:href=\"#mce4d598f3a\" y=\"86.06515\"/>\n     <use style=\"fill:#1f77b4;stroke:#1f77b4;\" x=\"134.429478\" xlink:href=\"#mce4d598f3a\" y=\"85.922231\"/>\n     <use style=\"fill:#1f77b4;stroke:#1f77b4;\" x=\"159.114884\" xlink:href=\"#mce4d598f3a\" y=\"106.979062\"/>\n     <use style=\"fill:#1f77b4;stroke:#1f77b4;\" x=\"167.172309\" xlink:href=\"#mce4d598f3a\" y=\"97.78203\"/>\n     <use style=\"fill:#1f77b4;stroke:#1f77b4;\" x=\"154.44931\" xlink:href=\"#mce4d598f3a\" y=\"96.475492\"/>\n     <use style=\"fill:#1f77b4;stroke:#1f77b4;\" x=\"144.007399\" xlink:href=\"#mce4d598f3a\" y=\"95.331852\"/>\n     <use style=\"fill:#1f77b4;stroke:#1f77b4;\" x=\"97.050356\" xlink:href=\"#mce4d598f3a\" y=\"64.126417\"/>\n     <use style=\"fill:#1f77b4;stroke:#1f77b4;\" x=\"91.463893\" xlink:href=\"#mce4d598f3a\" y=\"69.615125\"/>\n     <use style=\"fill:#1f77b4;stroke:#1f77b4;\" x=\"144.493552\" xlink:href=\"#mce4d598f3a\" y=\"95.377875\"/>\n     <use style=\"fill:#1f77b4;stroke:#1f77b4;\" x=\"100.706797\" xlink:href=\"#mce4d598f3a\" y=\"62.215187\"/>\n     <use style=\"fill:#1f77b4;stroke:#1f77b4;\" x=\"132.066537\" xlink:href=\"#mce4d598f3a\" y=\"89.290008\"/>\n     <use style=\"fill:#1f77b4;stroke:#1f77b4;\" x=\"74.052477\" xlink:href=\"#mce4d598f3a\" y=\"58.498536\"/>\n     <use style=\"fill:#1f77b4;stroke:#1f77b4;\" x=\"127.106713\" xlink:href=\"#mce4d598f3a\" y=\"81.648335\"/>\n     <use style=\"fill:#1f77b4;stroke:#1f77b4;\" x=\"107.576959\" xlink:href=\"#mce4d598f3a\" y=\"66.7936\"/>\n     <use style=\"fill:#1f77b4;stroke:#1f77b4;\" x=\"128.802094\" xlink:href=\"#mce4d598f3a\" y=\"84.122733\"/>\n     <use style=\"fill:#1f77b4;stroke:#1f77b4;\" x=\"150.091651\" xlink:href=\"#mce4d598f3a\" y=\"87.385253\"/>\n     <use style=\"fill:#1f77b4;stroke:#1f77b4;\" x=\"142.636152\" xlink:href=\"#mce4d598f3a\" y=\"78.636831\"/>\n     <use style=\"fill:#1f77b4;stroke:#1f77b4;\" x=\"97.539483\" xlink:href=\"#mce4d598f3a\" y=\"69.271467\"/>\n     <use style=\"fill:#1f77b4;stroke:#1f77b4;\" x=\"150.113973\" xlink:href=\"#mce4d598f3a\" y=\"90.707988\"/>\n     <use style=\"fill:#1f77b4;stroke:#1f77b4;\" x=\"79.511801\" xlink:href=\"#mce4d598f3a\" y=\"56.782217\"/>\n     <use style=\"fill:#1f77b4;stroke:#1f77b4;\" x=\"119.888724\" xlink:href=\"#mce4d598f3a\" y=\"83.940805\"/>\n     <use style=\"fill:#1f77b4;stroke:#1f77b4;\" x=\"106.569361\" xlink:href=\"#mce4d598f3a\" y=\"80.719519\"/>\n     <use style=\"fill:#1f77b4;stroke:#1f77b4;\" x=\"104.505228\" xlink:href=\"#mce4d598f3a\" y=\"66.596808\"/>\n     <use style=\"fill:#1f77b4;stroke:#1f77b4;\" x=\"112.963513\" xlink:href=\"#mce4d598f3a\" y=\"83.797108\"/>\n     <use style=\"fill:#1f77b4;stroke:#1f77b4;\" x=\"118.602801\" xlink:href=\"#mce4d598f3a\" y=\"83.629245\"/>\n     <use style=\"fill:#1f77b4;stroke:#1f77b4;\" x=\"125.366989\" xlink:href=\"#mce4d598f3a\" y=\"102.5845\"/>\n     <use style=\"fill:#1f77b4;stroke:#1f77b4;\" x=\"127.744821\" xlink:href=\"#mce4d598f3a\" y=\"96.035835\"/>\n     <use style=\"fill:#1f77b4;stroke:#1f77b4;\" x=\"127.71634\" xlink:href=\"#mce4d598f3a\" y=\"77.871646\"/>\n     <use style=\"fill:#1f77b4;stroke:#1f77b4;\" x=\"133.517207\" xlink:href=\"#mce4d598f3a\" y=\"106.929363\"/>\n     <use style=\"fill:#1f77b4;stroke:#1f77b4;\" x=\"115.913667\" xlink:href=\"#mce4d598f3a\" y=\"80.968865\"/>\n     <use style=\"fill:#1f77b4;stroke:#1f77b4;\" x=\"108.972608\" xlink:href=\"#mce4d598f3a\" y=\"74.206523\"/>\n     <use style=\"fill:#1f77b4;stroke:#1f77b4;\" x=\"94.767651\" xlink:href=\"#mce4d598f3a\" y=\"63.666318\"/>\n     <use style=\"fill:#1f77b4;stroke:#1f77b4;\" x=\"147.51761\" xlink:href=\"#mce4d598f3a\" y=\"84.57144\"/>\n     <use style=\"fill:#1f77b4;stroke:#1f77b4;\" x=\"117.098618\" xlink:href=\"#mce4d598f3a\" y=\"69.326829\"/>\n     <use style=\"fill:#1f77b4;stroke:#1f77b4;\" x=\"95.752887\" xlink:href=\"#mce4d598f3a\" y=\"69.037245\"/>\n     <use style=\"fill:#1f77b4;stroke:#1f77b4;\" x=\"101.188437\" xlink:href=\"#mce4d598f3a\" y=\"69.790656\"/>\n     <use style=\"fill:#1f77b4;stroke:#1f77b4;\" x=\"66.278716\" xlink:href=\"#mce4d598f3a\" y=\"60.008211\"/>\n     <use style=\"fill:#1f77b4;stroke:#1f77b4;\" x=\"95.783486\" xlink:href=\"#mce4d598f3a\" y=\"51.080125\"/>\n     <use style=\"fill:#1f77b4;stroke:#1f77b4;\" x=\"195.615804\" xlink:href=\"#mce4d598f3a\" y=\"133.289445\"/>\n     <use style=\"fill:#1f77b4;stroke:#1f77b4;\" x=\"126.942647\" xlink:href=\"#mce4d598f3a\" y=\"91.30929\"/>\n     <use style=\"fill:#1f77b4;stroke:#1f77b4;\" x=\"171.276627\" xlink:href=\"#mce4d598f3a\" y=\"118.861629\"/>\n     <use style=\"fill:#1f77b4;stroke:#1f77b4;\" x=\"102.188506\" xlink:href=\"#mce4d598f3a\" y=\"86.69087\"/>\n     <use style=\"fill:#1f77b4;stroke:#1f77b4;\" x=\"100.650667\" xlink:href=\"#mce4d598f3a\" y=\"64.892416\"/>\n     <use style=\"fill:#1f77b4;stroke:#1f77b4;\" x=\"168.427567\" xlink:href=\"#mce4d598f3a\" y=\"105.77411\"/>\n     <use style=\"fill:#1f77b4;stroke:#1f77b4;\" x=\"150.558364\" xlink:href=\"#mce4d598f3a\" y=\"110.572128\"/>\n     <use style=\"fill:#1f77b4;stroke:#1f77b4;\" x=\"111.6978\" xlink:href=\"#mce4d598f3a\" y=\"76.676768\"/>\n     <use style=\"fill:#1f77b4;stroke:#1f77b4;\" x=\"98.478937\" xlink:href=\"#mce4d598f3a\" y=\"59.933672\"/>\n     <use style=\"fill:#1f77b4;stroke:#1f77b4;\" x=\"138.325284\" xlink:href=\"#mce4d598f3a\" y=\"79.627698\"/>\n     <use style=\"fill:#1f77b4;stroke:#1f77b4;\" x=\"124.073972\" xlink:href=\"#mce4d598f3a\" y=\"76.501889\"/>\n     <use style=\"fill:#1f77b4;stroke:#1f77b4;\" x=\"84.268743\" xlink:href=\"#mce4d598f3a\" y=\"51.983973\"/>\n     <use style=\"fill:#1f77b4;stroke:#1f77b4;\" x=\"81.121446\" xlink:href=\"#mce4d598f3a\" y=\"65.404961\"/>\n     <use style=\"fill:#1f77b4;stroke:#1f77b4;\" x=\"111.540619\" xlink:href=\"#mce4d598f3a\" y=\"81.456415\"/>\n     <use style=\"fill:#1f77b4;stroke:#1f77b4;\" x=\"131.911225\" xlink:href=\"#mce4d598f3a\" y=\"106.767654\"/>\n     <use style=\"fill:#1f77b4;stroke:#1f77b4;\" x=\"113.792997\" xlink:href=\"#mce4d598f3a\" y=\"87.972243\"/>\n     <use style=\"fill:#1f77b4;stroke:#1f77b4;\" x=\"135.355513\" xlink:href=\"#mce4d598f3a\" y=\"90.220263\"/>\n     <use style=\"fill:#1f77b4;stroke:#1f77b4;\" x=\"131.720267\" xlink:href=\"#mce4d598f3a\" y=\"76.840815\"/>\n     <use style=\"fill:#1f77b4;stroke:#1f77b4;\" x=\"178.739969\" xlink:href=\"#mce4d598f3a\" y=\"106.365589\"/>\n     <use style=\"fill:#1f77b4;stroke:#1f77b4;\" x=\"118.166244\" xlink:href=\"#mce4d598f3a\" y=\"73.538608\"/>\n     <use style=\"fill:#1f77b4;stroke:#1f77b4;\" x=\"70.082596\" xlink:href=\"#mce4d598f3a\" y=\"30.164019\"/>\n     <use style=\"fill:#1f77b4;stroke:#1f77b4;\" x=\"132.811723\" xlink:href=\"#mce4d598f3a\" y=\"82.404323\"/>\n     <use style=\"fill:#1f77b4;stroke:#1f77b4;\" x=\"102.706782\" xlink:href=\"#mce4d598f3a\" y=\"72.567086\"/>\n     <use style=\"fill:#1f77b4;stroke:#1f77b4;\" x=\"136.714816\" xlink:href=\"#mce4d598f3a\" y=\"74.481415\"/>\n     <use style=\"fill:#1f77b4;stroke:#1f77b4;\" x=\"78.274816\" xlink:href=\"#mce4d598f3a\" y=\"63.632205\"/>\n     <use style=\"fill:#1f77b4;stroke:#1f77b4;\" x=\"145.995353\" xlink:href=\"#mce4d598f3a\" y=\"83.723463\"/>\n     <use style=\"fill:#1f77b4;stroke:#1f77b4;\" x=\"152.524528\" xlink:href=\"#mce4d598f3a\" y=\"104.597109\"/>\n     <use style=\"fill:#1f77b4;stroke:#1f77b4;\" x=\"105.262037\" xlink:href=\"#mce4d598f3a\" y=\"78.095659\"/>\n     <use style=\"fill:#1f77b4;stroke:#1f77b4;\" x=\"126.472442\" xlink:href=\"#mce4d598f3a\" y=\"91.607592\"/>\n     <use style=\"fill:#1f77b4;stroke:#1f77b4;\" x=\"116.045454\" xlink:href=\"#mce4d598f3a\" y=\"82.326398\"/>\n     <use style=\"fill:#1f77b4;stroke:#1f77b4;\" x=\"159.71269\" xlink:href=\"#mce4d598f3a\" y=\"95.337371\"/>\n     <use style=\"fill:#1f77b4;stroke:#1f77b4;\" x=\"123.720133\" xlink:href=\"#mce4d598f3a\" y=\"87.084184\"/>\n     <use style=\"fill:#1f77b4;stroke:#1f77b4;\" x=\"118.669614\" xlink:href=\"#mce4d598f3a\" y=\"69.80085\"/>\n     <use style=\"fill:#1f77b4;stroke:#1f77b4;\" x=\"92.441818\" xlink:href=\"#mce4d598f3a\" y=\"56.947101\"/>\n     <use style=\"fill:#1f77b4;stroke:#1f77b4;\" x=\"147.83287\" xlink:href=\"#mce4d598f3a\" y=\"84.389717\"/>\n     <use style=\"fill:#1f77b4;stroke:#1f77b4;\" x=\"139.422193\" xlink:href=\"#mce4d598f3a\" y=\"87.84424\"/>\n     <use style=\"fill:#1f77b4;stroke:#1f77b4;\" x=\"128.129445\" xlink:href=\"#mce4d598f3a\" y=\"89.600643\"/>\n     <use style=\"fill:#1f77b4;stroke:#1f77b4;\" x=\"143.502302\" xlink:href=\"#mce4d598f3a\" y=\"94.980011\"/>\n     <use style=\"fill:#1f77b4;stroke:#1f77b4;\" x=\"171.856677\" xlink:href=\"#mce4d598f3a\" y=\"106.055284\"/>\n     <use style=\"fill:#1f77b4;stroke:#1f77b4;\" x=\"134.701774\" xlink:href=\"#mce4d598f3a\" y=\"105.66984\"/>\n     <use style=\"fill:#1f77b4;stroke:#1f77b4;\" x=\"111.450412\" xlink:href=\"#mce4d598f3a\" y=\"85.061163\"/>\n     <use style=\"fill:#1f77b4;stroke:#1f77b4;\" x=\"59.412683\" xlink:href=\"#mce4d598f3a\" y=\"50.577485\"/>\n     <use style=\"fill:#1f77b4;stroke:#1f77b4;\" x=\"84.194418\" xlink:href=\"#mce4d598f3a\" y=\"75.260212\"/>\n     <use style=\"fill:#1f77b4;stroke:#1f77b4;\" x=\"104.714844\" xlink:href=\"#mce4d598f3a\" y=\"65.74109\"/>\n     <use style=\"fill:#1f77b4;stroke:#1f77b4;\" x=\"145.973555\" xlink:href=\"#mce4d598f3a\" y=\"77.508193\"/>\n     <use style=\"fill:#1f77b4;stroke:#1f77b4;\" x=\"94.992267\" xlink:href=\"#mce4d598f3a\" y=\"52.282054\"/>\n     <use style=\"fill:#1f77b4;stroke:#1f77b4;\" x=\"113.928042\" xlink:href=\"#mce4d598f3a\" y=\"82.109983\"/>\n     <use style=\"fill:#1f77b4;stroke:#1f77b4;\" x=\"131.756398\" xlink:href=\"#mce4d598f3a\" y=\"86.922397\"/>\n     <use style=\"fill:#1f77b4;stroke:#1f77b4;\" x=\"142.787852\" xlink:href=\"#mce4d598f3a\" y=\"90.691499\"/>\n     <use style=\"fill:#1f77b4;stroke:#1f77b4;\" x=\"133.179656\" xlink:href=\"#mce4d598f3a\" y=\"85.690009\"/>\n     <use style=\"fill:#1f77b4;stroke:#1f77b4;\" x=\"130.363132\" xlink:href=\"#mce4d598f3a\" y=\"91.644556\"/>\n     <use style=\"fill:#1f77b4;stroke:#1f77b4;\" x=\"130.255329\" xlink:href=\"#mce4d598f3a\" y=\"67.72087\"/>\n     <use style=\"fill:#1f77b4;stroke:#1f77b4;\" x=\"120.209247\" xlink:href=\"#mce4d598f3a\" y=\"66.534229\"/>\n     <use style=\"fill:#1f77b4;stroke:#1f77b4;\" x=\"192.916484\" xlink:href=\"#mce4d598f3a\" y=\"134.35618\"/>\n     <use style=\"fill:#1f77b4;stroke:#1f77b4;\" x=\"174.443255\" xlink:href=\"#mce4d598f3a\" y=\"116.151204\"/>\n     <use style=\"fill:#1f77b4;stroke:#1f77b4;\" x=\"106.119476\" xlink:href=\"#mce4d598f3a\" y=\"53.098048\"/>\n     <use style=\"fill:#1f77b4;stroke:#1f77b4;\" x=\"162.207562\" xlink:href=\"#mce4d598f3a\" y=\"103.09926\"/>\n     <use style=\"fill:#1f77b4;stroke:#1f77b4;\" x=\"156.966295\" xlink:href=\"#mce4d598f3a\" y=\"123.448181\"/>\n     <use style=\"fill:#1f77b4;stroke:#1f77b4;\" x=\"125.867151\" xlink:href=\"#mce4d598f3a\" y=\"71.926208\"/>\n     <use style=\"fill:#1f77b4;stroke:#1f77b4;\" x=\"111.594135\" xlink:href=\"#mce4d598f3a\" y=\"81.227419\"/>\n     <use style=\"fill:#1f77b4;stroke:#1f77b4;\" x=\"79.883682\" xlink:href=\"#mce4d598f3a\" y=\"64.283031\"/>\n     <use style=\"fill:#1f77b4;stroke:#1f77b4;\" x=\"85.743609\" xlink:href=\"#mce4d598f3a\" y=\"76.556009\"/>\n     <use style=\"fill:#1f77b4;stroke:#1f77b4;\" x=\"149.341327\" xlink:href=\"#mce4d598f3a\" y=\"104.263519\"/>\n     <use style=\"fill:#1f77b4;stroke:#1f77b4;\" x=\"136.992492\" xlink:href=\"#mce4d598f3a\" y=\"90.342025\"/>\n     <use style=\"fill:#1f77b4;stroke:#1f77b4;\" x=\"137.09134\" xlink:href=\"#mce4d598f3a\" y=\"107.302015\"/>\n     <use style=\"fill:#1f77b4;stroke:#1f77b4;\" x=\"147.790122\" xlink:href=\"#mce4d598f3a\" y=\"94.440746\"/>\n     <use style=\"fill:#1f77b4;stroke:#1f77b4;\" x=\"131.709633\" xlink:href=\"#mce4d598f3a\" y=\"95.383588\"/>\n     <use style=\"fill:#1f77b4;stroke:#1f77b4;\" x=\"135.352532\" xlink:href=\"#mce4d598f3a\" y=\"96.960298\"/>\n     <use style=\"fill:#1f77b4;stroke:#1f77b4;\" x=\"96.726372\" xlink:href=\"#mce4d598f3a\" y=\"54.014511\"/>\n     <use style=\"fill:#1f77b4;stroke:#1f77b4;\" x=\"145.739004\" xlink:href=\"#mce4d598f3a\" y=\"96.616849\"/>\n     <use style=\"fill:#1f77b4;stroke:#1f77b4;\" x=\"109.74474\" xlink:href=\"#mce4d598f3a\" y=\"77.314641\"/>\n     <use style=\"fill:#1f77b4;stroke:#1f77b4;\" x=\"124.031263\" xlink:href=\"#mce4d598f3a\" y=\"93.482812\"/>\n     <use style=\"fill:#1f77b4;stroke:#1f77b4;\" x=\"109.678328\" xlink:href=\"#mce4d598f3a\" y=\"79.865683\"/>\n     <use style=\"fill:#1f77b4;stroke:#1f77b4;\" x=\"139.650657\" xlink:href=\"#mce4d598f3a\" y=\"94.233683\"/>\n     <use style=\"fill:#1f77b4;stroke:#1f77b4;\" x=\"128.262276\" xlink:href=\"#mce4d598f3a\" y=\"86.484551\"/>\n     <use style=\"fill:#1f77b4;stroke:#1f77b4;\" x=\"99.917367\" xlink:href=\"#mce4d598f3a\" y=\"57.272215\"/>\n     <use style=\"fill:#1f77b4;stroke:#1f77b4;\" x=\"164.62359\" xlink:href=\"#mce4d598f3a\" y=\"117.00324\"/>\n     <use style=\"fill:#1f77b4;stroke:#1f77b4;\" x=\"132.706801\" xlink:href=\"#mce4d598f3a\" y=\"80.87928\"/>\n     <use style=\"fill:#1f77b4;stroke:#1f77b4;\" x=\"83.31715\" xlink:href=\"#mce4d598f3a\" y=\"55.18012\"/>\n     <use style=\"fill:#1f77b4;stroke:#1f77b4;\" x=\"99.837558\" xlink:href=\"#mce4d598f3a\" y=\"61.088824\"/>\n     <use style=\"fill:#1f77b4;stroke:#1f77b4;\" x=\"111.700172\" xlink:href=\"#mce4d598f3a\" y=\"70.174259\"/>\n     <use style=\"fill:#1f77b4;stroke:#1f77b4;\" x=\"117.046051\" xlink:href=\"#mce4d598f3a\" y=\"75.885153\"/>\n     <use style=\"fill:#1f77b4;stroke:#1f77b4;\" x=\"135.952509\" xlink:href=\"#mce4d598f3a\" y=\"83.851725\"/>\n     <use style=\"fill:#1f77b4;stroke:#1f77b4;\" x=\"111.363827\" xlink:href=\"#mce4d598f3a\" y=\"68.931159\"/>\n     <use style=\"fill:#1f77b4;stroke:#1f77b4;\" x=\"141.483971\" xlink:href=\"#mce4d598f3a\" y=\"82.312159\"/>\n     <use style=\"fill:#1f77b4;stroke:#1f77b4;\" x=\"164.630895\" xlink:href=\"#mce4d598f3a\" y=\"110.607042\"/>\n     <use style=\"fill:#1f77b4;stroke:#1f77b4;\" x=\"84.094821\" xlink:href=\"#mce4d598f3a\" y=\"49.989672\"/>\n     <use style=\"fill:#1f77b4;stroke:#1f77b4;\" x=\"103.782156\" xlink:href=\"#mce4d598f3a\" y=\"60.191044\"/>\n     <use style=\"fill:#1f77b4;stroke:#1f77b4;\" x=\"116.743426\" xlink:href=\"#mce4d598f3a\" y=\"80.130921\"/>\n     <use style=\"fill:#1f77b4;stroke:#1f77b4;\" x=\"170.033634\" xlink:href=\"#mce4d598f3a\" y=\"128.428167\"/>\n     <use style=\"fill:#1f77b4;stroke:#1f77b4;\" x=\"92.603369\" xlink:href=\"#mce4d598f3a\" y=\"63.938828\"/>\n     <use style=\"fill:#1f77b4;stroke:#1f77b4;\" x=\"147.235917\" xlink:href=\"#mce4d598f3a\" y=\"77.526027\"/>\n     <use style=\"fill:#1f77b4;stroke:#1f77b4;\" x=\"116.92974\" xlink:href=\"#mce4d598f3a\" y=\"75.195643\"/>\n     <use style=\"fill:#1f77b4;stroke:#1f77b4;\" x=\"142.936289\" xlink:href=\"#mce4d598f3a\" y=\"92.178\"/>\n     <use style=\"fill:#1f77b4;stroke:#1f77b4;\" x=\"172.443113\" xlink:href=\"#mce4d598f3a\" y=\"111.739265\"/>\n     <use style=\"fill:#1f77b4;stroke:#1f77b4;\" x=\"126.785354\" xlink:href=\"#mce4d598f3a\" y=\"79.408992\"/>\n     <use style=\"fill:#1f77b4;stroke:#1f77b4;\" x=\"116.56715\" xlink:href=\"#mce4d598f3a\" y=\"80.187935\"/>\n     <use style=\"fill:#1f77b4;stroke:#1f77b4;\" x=\"141.650429\" xlink:href=\"#mce4d598f3a\" y=\"92.823945\"/>\n     <use style=\"fill:#1f77b4;stroke:#1f77b4;\" x=\"146.281431\" xlink:href=\"#mce4d598f3a\" y=\"95.804866\"/>\n     <use style=\"fill:#1f77b4;stroke:#1f77b4;\" x=\"98.25516\" xlink:href=\"#mce4d598f3a\" y=\"52.610096\"/>\n     <use style=\"fill:#1f77b4;stroke:#1f77b4;\" x=\"106.480856\" xlink:href=\"#mce4d598f3a\" y=\"60.728763\"/>\n     <use style=\"fill:#1f77b4;stroke:#1f77b4;\" x=\"160.542606\" xlink:href=\"#mce4d598f3a\" y=\"103.73292\"/>\n     <use style=\"fill:#1f77b4;stroke:#1f77b4;\" x=\"154.542723\" xlink:href=\"#mce4d598f3a\" y=\"99.303115\"/>\n     <use style=\"fill:#1f77b4;stroke:#1f77b4;\" x=\"157.890533\" xlink:href=\"#mce4d598f3a\" y=\"106.818301\"/>\n     <use style=\"fill:#1f77b4;stroke:#1f77b4;\" x=\"126.487214\" xlink:href=\"#mce4d598f3a\" y=\"75.275246\"/>\n     <use style=\"fill:#1f77b4;stroke:#1f77b4;\" x=\"109.526169\" xlink:href=\"#mce4d598f3a\" y=\"79.573387\"/>\n     <use style=\"fill:#1f77b4;stroke:#1f77b4;\" x=\"90.31259\" xlink:href=\"#mce4d598f3a\" y=\"69.002693\"/>\n     <use style=\"fill:#1f77b4;stroke:#1f77b4;\" x=\"126.884754\" xlink:href=\"#mce4d598f3a\" y=\"71.749549\"/>\n     <use style=\"fill:#1f77b4;stroke:#1f77b4;\" x=\"147.748977\" xlink:href=\"#mce4d598f3a\" y=\"112.037305\"/>\n     <use style=\"fill:#1f77b4;stroke:#1f77b4;\" x=\"129.054622\" xlink:href=\"#mce4d598f3a\" y=\"70.308503\"/>\n     <use style=\"fill:#1f77b4;stroke:#1f77b4;\" x=\"59.774587\" xlink:href=\"#mce4d598f3a\" y=\"51.490583\"/>\n     <use style=\"fill:#1f77b4;stroke:#1f77b4;\" x=\"157.74815\" xlink:href=\"#mce4d598f3a\" y=\"101.585185\"/>\n     <use style=\"fill:#1f77b4;stroke:#1f77b4;\" x=\"165.746185\" xlink:href=\"#mce4d598f3a\" y=\"123.179914\"/>\n     <use style=\"fill:#1f77b4;stroke:#1f77b4;\" x=\"139.227193\" xlink:href=\"#mce4d598f3a\" y=\"73.172877\"/>\n     <use style=\"fill:#1f77b4;stroke:#1f77b4;\" x=\"99.145333\" xlink:href=\"#mce4d598f3a\" y=\"55.491219\"/>\n     <use style=\"fill:#1f77b4;stroke:#1f77b4;\" x=\"164.82519\" xlink:href=\"#mce4d598f3a\" y=\"89.343746\"/>\n     <use style=\"fill:#1f77b4;stroke:#1f77b4;\" x=\"108.004329\" xlink:href=\"#mce4d598f3a\" y=\"76.866844\"/>\n     <use style=\"fill:#1f77b4;stroke:#1f77b4;\" x=\"119.056472\" xlink:href=\"#mce4d598f3a\" y=\"81.99814\"/>\n     <use style=\"fill:#1f77b4;stroke:#1f77b4;\" x=\"135.91447\" xlink:href=\"#mce4d598f3a\" y=\"74.163901\"/>\n     <use style=\"fill:#1f77b4;stroke:#1f77b4;\" x=\"143.768103\" xlink:href=\"#mce4d598f3a\" y=\"85.339449\"/>\n     <use style=\"fill:#1f77b4;stroke:#1f77b4;\" x=\"104.477022\" xlink:href=\"#mce4d598f3a\" y=\"86.143535\"/>\n     <use style=\"fill:#1f77b4;stroke:#1f77b4;\" x=\"165.072784\" xlink:href=\"#mce4d598f3a\" y=\"115.053661\"/>\n     <use style=\"fill:#1f77b4;stroke:#1f77b4;\" x=\"124.894147\" xlink:href=\"#mce4d598f3a\" y=\"87.411743\"/>\n     <use style=\"fill:#1f77b4;stroke:#1f77b4;\" x=\"138.020495\" xlink:href=\"#mce4d598f3a\" y=\"90.771797\"/>\n     <use style=\"fill:#1f77b4;stroke:#1f77b4;\" x=\"146.590615\" xlink:href=\"#mce4d598f3a\" y=\"85.193764\"/>\n     <use style=\"fill:#1f77b4;stroke:#1f77b4;\" x=\"119.759838\" xlink:href=\"#mce4d598f3a\" y=\"63.212454\"/>\n     <use style=\"fill:#1f77b4;stroke:#1f77b4;\" x=\"82.392282\" xlink:href=\"#mce4d598f3a\" y=\"41.593027\"/>\n     <use style=\"fill:#1f77b4;stroke:#1f77b4;\" x=\"155.718365\" xlink:href=\"#mce4d598f3a\" y=\"107.390367\"/>\n     <use style=\"fill:#1f77b4;stroke:#1f77b4;\" x=\"95.277565\" xlink:href=\"#mce4d598f3a\" y=\"78.42374\"/>\n     <use style=\"fill:#1f77b4;stroke:#1f77b4;\" x=\"144.020105\" xlink:href=\"#mce4d598f3a\" y=\"88.630412\"/>\n     <use style=\"fill:#1f77b4;stroke:#1f77b4;\" x=\"118.469238\" xlink:href=\"#mce4d598f3a\" y=\"73.556307\"/>\n     <use style=\"fill:#1f77b4;stroke:#1f77b4;\" x=\"136.399018\" xlink:href=\"#mce4d598f3a\" y=\"72.872109\"/>\n     <use style=\"fill:#1f77b4;stroke:#1f77b4;\" x=\"144.304137\" xlink:href=\"#mce4d598f3a\" y=\"78.203972\"/>\n     <use style=\"fill:#1f77b4;stroke:#1f77b4;\" x=\"112.025186\" xlink:href=\"#mce4d598f3a\" y=\"70.702398\"/>\n     <use style=\"fill:#1f77b4;stroke:#1f77b4;\" x=\"104.607543\" xlink:href=\"#mce4d598f3a\" y=\"72.245068\"/>\n     <use style=\"fill:#1f77b4;stroke:#1f77b4;\" x=\"124.130342\" xlink:href=\"#mce4d598f3a\" y=\"59.700863\"/>\n     <use style=\"fill:#1f77b4;stroke:#1f77b4;\" x=\"141.215366\" xlink:href=\"#mce4d598f3a\" y=\"87.465214\"/>\n     <use style=\"fill:#1f77b4;stroke:#1f77b4;\" x=\"150.430923\" xlink:href=\"#mce4d598f3a\" y=\"93.598405\"/>\n     <use style=\"fill:#1f77b4;stroke:#1f77b4;\" x=\"110.644228\" xlink:href=\"#mce4d598f3a\" y=\"80.084624\"/>\n     <use style=\"fill:#1f77b4;stroke:#1f77b4;\" x=\"78.048871\" xlink:href=\"#mce4d598f3a\" y=\"43.483301\"/>\n     <use style=\"fill:#1f77b4;stroke:#1f77b4;\" x=\"98.855734\" xlink:href=\"#mce4d598f3a\" y=\"79.651777\"/>\n     <use style=\"fill:#1f77b4;stroke:#1f77b4;\" x=\"138.469346\" xlink:href=\"#mce4d598f3a\" y=\"78.778851\"/>\n     <use style=\"fill:#1f77b4;stroke:#1f77b4;\" x=\"137.44995\" xlink:href=\"#mce4d598f3a\" y=\"107.828178\"/>\n     <use style=\"fill:#1f77b4;stroke:#1f77b4;\" x=\"104.786625\" xlink:href=\"#mce4d598f3a\" y=\"69.129765\"/>\n     <use style=\"fill:#1f77b4;stroke:#1f77b4;\" x=\"123.356602\" xlink:href=\"#mce4d598f3a\" y=\"69.558172\"/>\n     <use style=\"fill:#1f77b4;stroke:#1f77b4;\" x=\"111.481244\" xlink:href=\"#mce4d598f3a\" y=\"69.144368\"/>\n     <use style=\"fill:#1f77b4;stroke:#1f77b4;\" x=\"130.511501\" xlink:href=\"#mce4d598f3a\" y=\"96.441828\"/>\n     <use style=\"fill:#1f77b4;stroke:#1f77b4;\" x=\"137.877788\" xlink:href=\"#mce4d598f3a\" y=\"83.954352\"/>\n     <use style=\"fill:#1f77b4;stroke:#1f77b4;\" x=\"153.940086\" xlink:href=\"#mce4d598f3a\" y=\"108.892127\"/>\n     <use style=\"fill:#1f77b4;stroke:#1f77b4;\" x=\"112.297264\" xlink:href=\"#mce4d598f3a\" y=\"73.618867\"/>\n    </g>\n   </g>\n   <g id=\"matplotlib.axis_1\">\n    <g id=\"xtick_1\">\n     <g id=\"line2d_1\">\n      <defs>\n       <path d=\"M 0 0 \nL 0 3.5 \n\" id=\"mabda8daa95\" style=\"stroke:#000000;stroke-width:0.8;\"/>\n      </defs>\n      <g>\n       <use style=\"stroke:#000000;stroke-width:0.8;\" x=\"70.569547\" xlink:href=\"#mabda8daa95\" y=\"146.48385\"/>\n      </g>\n     </g>\n     <g id=\"text_1\">\n      <!-- −2 -->\n      <defs>\n       <path d=\"M 10.59375 35.5 \nL 73.1875 35.5 \nL 73.1875 27.203125 \nL 10.59375 27.203125 \nz\n\" id=\"DejaVuSans-8722\"/>\n       <path d=\"M 19.1875 8.296875 \nL 53.609375 8.296875 \nL 53.609375 0 \nL 7.328125 0 \nL 7.328125 8.296875 \nQ 12.9375 14.109375 22.625 23.890625 \nQ 32.328125 33.6875 34.8125 36.53125 \nQ 39.546875 41.84375 41.421875 45.53125 \nQ 43.3125 49.21875 43.3125 52.78125 \nQ 43.3125 58.59375 39.234375 62.25 \nQ 35.15625 65.921875 28.609375 65.921875 \nQ 23.96875 65.921875 18.8125 64.3125 \nQ 13.671875 62.703125 7.8125 59.421875 \nL 7.8125 69.390625 \nQ 13.765625 71.78125 18.9375 73 \nQ 24.125 74.21875 28.421875 74.21875 \nQ 39.75 74.21875 46.484375 68.546875 \nQ 53.21875 62.890625 53.21875 53.421875 \nQ 53.21875 48.921875 51.53125 44.890625 \nQ 49.859375 40.875 45.40625 35.40625 \nQ 44.1875 33.984375 37.640625 27.21875 \nQ 31.109375 20.453125 19.1875 8.296875 \nz\n\" id=\"DejaVuSans-50\"/>\n      </defs>\n      <g transform=\"translate(63.198453 161.082288)scale(0.1 -0.1)\">\n       <use xlink:href=\"#DejaVuSans-8722\"/>\n       <use x=\"83.789062\" xlink:href=\"#DejaVuSans-50\"/>\n      </g>\n     </g>\n    </g>\n    <g id=\"xtick_2\">\n     <g id=\"line2d_2\">\n      <g>\n       <use style=\"stroke:#000000;stroke-width:0.8;\" x=\"126.200132\" xlink:href=\"#mabda8daa95\" y=\"146.48385\"/>\n      </g>\n     </g>\n     <g id=\"text_2\">\n      <!-- 0 -->\n      <defs>\n       <path d=\"M 31.78125 66.40625 \nQ 24.171875 66.40625 20.328125 58.90625 \nQ 16.5 51.421875 16.5 36.375 \nQ 16.5 21.390625 20.328125 13.890625 \nQ 24.171875 6.390625 31.78125 6.390625 \nQ 39.453125 6.390625 43.28125 13.890625 \nQ 47.125 21.390625 47.125 36.375 \nQ 47.125 51.421875 43.28125 58.90625 \nQ 39.453125 66.40625 31.78125 66.40625 \nz\nM 31.78125 74.21875 \nQ 44.046875 74.21875 50.515625 64.515625 \nQ 56.984375 54.828125 56.984375 36.375 \nQ 56.984375 17.96875 50.515625 8.265625 \nQ 44.046875 -1.421875 31.78125 -1.421875 \nQ 19.53125 -1.421875 13.0625 8.265625 \nQ 6.59375 17.96875 6.59375 36.375 \nQ 6.59375 54.828125 13.0625 64.515625 \nQ 19.53125 74.21875 31.78125 74.21875 \nz\n\" id=\"DejaVuSans-48\"/>\n      </defs>\n      <g transform=\"translate(123.018882 161.082288)scale(0.1 -0.1)\">\n       <use xlink:href=\"#DejaVuSans-48\"/>\n      </g>\n     </g>\n    </g>\n    <g id=\"xtick_3\">\n     <g id=\"line2d_3\">\n      <g>\n       <use style=\"stroke:#000000;stroke-width:0.8;\" x=\"181.830718\" xlink:href=\"#mabda8daa95\" y=\"146.48385\"/>\n      </g>\n     </g>\n     <g id=\"text_3\">\n      <!-- 2 -->\n      <g transform=\"translate(178.649468 161.082288)scale(0.1 -0.1)\">\n       <use xlink:href=\"#DejaVuSans-50\"/>\n      </g>\n     </g>\n    </g>\n   </g>\n   <g id=\"matplotlib.axis_2\">\n    <g id=\"ytick_1\">\n     <g id=\"line2d_4\">\n      <defs>\n       <path d=\"M 0 0 \nL -3.5 0 \n\" id=\"ma396148780\" style=\"stroke:#000000;stroke-width:0.8;\"/>\n      </defs>\n      <g>\n       <use style=\"stroke:#000000;stroke-width:0.8;\" x=\"28.942188\" xlink:href=\"#ma396148780\" y=\"125.589481\"/>\n      </g>\n     </g>\n     <g id=\"text_4\">\n      <!-- −5 -->\n      <defs>\n       <path d=\"M 10.796875 72.90625 \nL 49.515625 72.90625 \nL 49.515625 64.59375 \nL 19.828125 64.59375 \nL 19.828125 46.734375 \nQ 21.96875 47.46875 24.109375 47.828125 \nQ 26.265625 48.1875 28.421875 48.1875 \nQ 40.625 48.1875 47.75 41.5 \nQ 54.890625 34.8125 54.890625 23.390625 \nQ 54.890625 11.625 47.5625 5.09375 \nQ 40.234375 -1.421875 26.90625 -1.421875 \nQ 22.3125 -1.421875 17.546875 -0.640625 \nQ 12.796875 0.140625 7.71875 1.703125 \nL 7.71875 11.625 \nQ 12.109375 9.234375 16.796875 8.0625 \nQ 21.484375 6.890625 26.703125 6.890625 \nQ 35.15625 6.890625 40.078125 11.328125 \nQ 45.015625 15.765625 45.015625 23.390625 \nQ 45.015625 31 40.078125 35.4375 \nQ 35.15625 39.890625 26.703125 39.890625 \nQ 22.75 39.890625 18.8125 39.015625 \nQ 14.890625 38.140625 10.796875 36.28125 \nz\n\" id=\"DejaVuSans-53\"/>\n      </defs>\n      <g transform=\"translate(7.2 129.3887)scale(0.1 -0.1)\">\n       <use xlink:href=\"#DejaVuSans-8722\"/>\n       <use x=\"83.789062\" xlink:href=\"#DejaVuSans-53\"/>\n      </g>\n     </g>\n    </g>\n    <g id=\"ytick_2\">\n     <g id=\"line2d_5\">\n      <g>\n       <use style=\"stroke:#000000;stroke-width:0.8;\" x=\"28.942188\" xlink:href=\"#ma396148780\" y=\"102.671428\"/>\n      </g>\n     </g>\n     <g id=\"text_5\">\n      <!-- 0 -->\n      <g transform=\"translate(15.579688 106.470647)scale(0.1 -0.1)\">\n       <use xlink:href=\"#DejaVuSans-48\"/>\n      </g>\n     </g>\n    </g>\n    <g id=\"ytick_3\">\n     <g id=\"line2d_6\">\n      <g>\n       <use style=\"stroke:#000000;stroke-width:0.8;\" x=\"28.942188\" xlink:href=\"#ma396148780\" y=\"79.753376\"/>\n      </g>\n     </g>\n     <g id=\"text_6\">\n      <!-- 5 -->\n      <g transform=\"translate(15.579688 83.552595)scale(0.1 -0.1)\">\n       <use xlink:href=\"#DejaVuSans-53\"/>\n      </g>\n     </g>\n    </g>\n    <g id=\"ytick_4\">\n     <g id=\"line2d_7\">\n      <g>\n       <use style=\"stroke:#000000;stroke-width:0.8;\" x=\"28.942188\" xlink:href=\"#ma396148780\" y=\"56.835324\"/>\n      </g>\n     </g>\n     <g id=\"text_7\">\n      <!-- 10 -->\n      <defs>\n       <path d=\"M 12.40625 8.296875 \nL 28.515625 8.296875 \nL 28.515625 63.921875 \nL 10.984375 60.40625 \nL 10.984375 69.390625 \nL 28.421875 72.90625 \nL 38.28125 72.90625 \nL 38.28125 8.296875 \nL 54.390625 8.296875 \nL 54.390625 0 \nL 12.40625 0 \nz\n\" id=\"DejaVuSans-49\"/>\n      </defs>\n      <g transform=\"translate(9.217188 60.634542)scale(0.1 -0.1)\">\n       <use xlink:href=\"#DejaVuSans-49\"/>\n       <use x=\"63.623047\" xlink:href=\"#DejaVuSans-48\"/>\n      </g>\n     </g>\n    </g>\n    <g id=\"ytick_5\">\n     <g id=\"line2d_8\">\n      <g>\n       <use style=\"stroke:#000000;stroke-width:0.8;\" x=\"28.942188\" xlink:href=\"#ma396148780\" y=\"33.917271\"/>\n      </g>\n     </g>\n     <g id=\"text_8\">\n      <!-- 15 -->\n      <g transform=\"translate(9.217188 37.71649)scale(0.1 -0.1)\">\n       <use xlink:href=\"#DejaVuSans-49\"/>\n       <use x=\"63.623047\" xlink:href=\"#DejaVuSans-53\"/>\n      </g>\n     </g>\n    </g>\n    <g id=\"ytick_6\">\n     <g id=\"line2d_9\">\n      <g>\n       <use style=\"stroke:#000000;stroke-width:0.8;\" x=\"28.942188\" xlink:href=\"#ma396148780\" y=\"10.999219\"/>\n      </g>\n     </g>\n     <g id=\"text_9\">\n      <!-- 20 -->\n      <g transform=\"translate(9.217188 14.798437)scale(0.1 -0.1)\">\n       <use xlink:href=\"#DejaVuSans-50\"/>\n       <use x=\"63.623047\" xlink:href=\"#DejaVuSans-48\"/>\n      </g>\n     </g>\n    </g>\n   </g>\n   <g id=\"patch_3\">\n    <path d=\"M 28.942188 146.48385 \nL 28.942188 10.58385 \n\" style=\"fill:none;stroke:#000000;stroke-linecap:square;stroke-linejoin:miter;stroke-width:0.8;\"/>\n   </g>\n   <g id=\"patch_4\">\n    <path d=\"M 224.242188 146.48385 \nL 224.242188 10.58385 \n\" style=\"fill:none;stroke:#000000;stroke-linecap:square;stroke-linejoin:miter;stroke-width:0.8;\"/>\n   </g>\n   <g id=\"patch_5\">\n    <path d=\"M 28.942187 146.48385 \nL 224.242188 146.48385 \n\" style=\"fill:none;stroke:#000000;stroke-linecap:square;stroke-linejoin:miter;stroke-width:0.8;\"/>\n   </g>\n   <g id=\"patch_6\">\n    <path d=\"M 28.942187 10.58385 \nL 224.242188 10.58385 \n\" style=\"fill:none;stroke:#000000;stroke-linecap:square;stroke-linejoin:miter;stroke-width:0.8;\"/>\n   </g>\n  </g>\n </g>\n <defs>\n  <clipPath id=\"p61d5b1171f\">\n   <rect height=\"135.9\" width=\"195.3\" x=\"28.942188\" y=\"10.58385\"/>\n  </clipPath>\n </defs>\n</svg>\n"
          },
          "metadata": {
            "needs_background": "light"
          }
        }
      ]
    },
    {
      "cell_type": "markdown",
      "metadata": {
        "origin_pos": 12,
        "id": "UjVeY7A34dWP"
      },
      "source": [
        "## Reading the Dataset\n",
        "\n",
        "Recall that training models consists of\n",
        "making multiple passes over the dataset,\n",
        "grabbing one minibatch of examples at a time,\n",
        "and using them to update our model.\n",
        "Since this process is so fundamental\n",
        "to training machine learning algorithms,\n",
        "it is worth defining a utility function\n",
        "to shuffle the dataset and access it in minibatches.\n",
        "\n",
        "In the following code, we [**define the `data_iter` function**] (~~that~~)\n",
        "to demonstrate one possible implementation of this functionality.\n",
        "The function (**takes a batch size, a matrix of features,\n",
        "and a vector of labels, yielding minibatches of the size `batch_size`.**)\n",
        "Each minibatch consists of a tuple of features and labels.\n"
      ]
    },
    {
      "cell_type": "code",
      "metadata": {
        "origin_pos": 13,
        "tab": [
          "pytorch"
        ],
        "id": "hJ25owSu4dWR"
      },
      "source": [
        "def data_iter(batch_size, features, labels):\n",
        "    num_examples = len(features)\n",
        "    indices = list(range(num_examples))\n",
        "    # The examples are read at random, in no particular order\n",
        "    random.shuffle(indices)\n",
        "    for i in range(0, num_examples, batch_size):\n",
        "        batch_indices = torch.tensor(indices[i:min(i +\n",
        "                                                   batch_size, num_examples)])\n",
        "        yield features[batch_indices], labels[batch_indices] # About yield: https://www.runoob.com/w3cnote/python-yield-used-analysis.html"
      ],
      "execution_count": 8,
      "outputs": []
    },
    {
      "cell_type": "markdown",
      "metadata": {
        "origin_pos": 15,
        "id": "P9ls14UK4dWS"
      },
      "source": [
        "In general, note that we want to use reasonably sized minibatches\n",
        "to take advantage of the GPU hardware,\n",
        "which excels at parallelizing operations.\n",
        "Because each example can be fed through our models in parallel\n",
        "and the gradient of the loss function for each example can also be taken in parallel,\n",
        "GPUs allow us to process hundreds of examples in scarcely more time\n",
        "than it might take to process just a single example.\n",
        "\n",
        "To build some intuition, let us read and print\n",
        "the first small batch of data examples.\n",
        "The shape of the features in each minibatch tells us\n",
        "both the minibatch size and the number of input features.\n",
        "Likewise, our minibatch of labels will have a shape given by `batch_size`.\n"
      ]
    },
    {
      "cell_type": "code",
      "metadata": {
        "origin_pos": 16,
        "tab": [
          "pytorch"
        ],
        "id": "Ds8fIZtu4dWT",
        "colab": {
          "base_uri": "https://localhost:8080/"
        },
        "outputId": "b11f6caa-32ba-4966-cfe8-03f81a6291f4"
      },
      "source": [
        "batch_size = 10\n",
        "\n",
        "for X, y in data_iter(batch_size, features, labels):\n",
        "    print(X, '\\n', y)\n",
        "    break"
      ],
      "execution_count": 9,
      "outputs": [
        {
          "output_type": "stream",
          "text": [
            "tensor([[ 0.7637, -2.0765],\n",
            "        [ 0.9638, -0.2999],\n",
            "        [-2.9582,  0.8921],\n",
            "        [ 0.1530,  0.6161],\n",
            "        [-0.4054, -1.1438],\n",
            "        [ 1.8883, -1.5750],\n",
            "        [-0.1233, -1.7368],\n",
            "        [-1.4210, -0.7988],\n",
            "        [-0.1319,  1.7669],\n",
            "        [ 1.7865, -0.9038]]) \n",
            " tensor([[12.7973],\n",
            "        [ 7.1483],\n",
            "        [-4.7512],\n",
            "        [ 2.4212],\n",
            "        [ 7.2782],\n",
            "        [13.3254],\n",
            "        [ 9.8446],\n",
            "        [ 4.0694],\n",
            "        [-2.0698],\n",
            "        [10.8525]])\n"
          ],
          "name": "stdout"
        }
      ]
    },
    {
      "cell_type": "markdown",
      "metadata": {
        "id": "eZs0fAPY8wZP"
      },
      "source": [
        "As we run the iteration, we obtain distinct minibatches successively until the entire dataset has been exhausted (try this). While the iteration implemented above is good for didactic purposes, it is inefficient in ways that might get us in trouble on real problems. For example, it requires that we load all the data in memory and that we perform lots of random memory access. The built-in iterators implemented in a deep learning framework are considerably more efficient and they can deal with both data stored in files and data fed via data streams."
      ]
    },
    {
      "cell_type": "markdown",
      "metadata": {
        "origin_pos": 17,
        "id": "LcPLPBil4dWU"
      },
      "source": [
        "\n",
        "## Initializing Model Parameters\n",
        "\n",
        "[**Before we can begin optimizing our model's parameters**] by minibatch stochastic gradient descent,\n",
        "(**we need to have some parameters in the first place.**)\n",
        "In the following code, we initialize weights by sampling\n",
        "random numbers from a normal distribution with mean 0\n",
        "and a standard deviation of 0.01, and setting the bias to 0.\n"
      ]
    },
    {
      "cell_type": "code",
      "metadata": {
        "origin_pos": 19,
        "tab": [
          "pytorch"
        ],
        "id": "aG97X5fv4dWV"
      },
      "source": [
        "w = torch.normal(0, 0.01, size=(2, 1), requires_grad=True)\n",
        "b = torch.zeros(1, requires_grad=True)"
      ],
      "execution_count": 10,
      "outputs": []
    },
    {
      "cell_type": "markdown",
      "metadata": {
        "id": "mq6Dhh2R85m5"
      },
      "source": [
        "After initializing our parameters, our next task is to update them until they fit our data sufficiently well. Each update requires taking the gradient of our loss function with respect to the parameters. Given this gradient, we can update each parameter in the direction that may reduce the loss.\n",
        "\n",
        "Since nobody wants to compute gradients explicitly (this is tedious and error prone), we use automatic differentiation, as introduced in 2-5 Automatic differentiation, to compute the gradient."
      ]
    },
    {
      "cell_type": "markdown",
      "metadata": {
        "origin_pos": 21,
        "id": "yyH0l29E4dWV"
      },
      "source": [
        "## Defining the Model\n",
        "\n",
        "Next, we must [**define our model,\n",
        "relating its inputs and parameters to its outputs.**]\n",
        "Recall that to calculate the output of the linear model,\n",
        "we simply take the matrix-vector dot product\n",
        "of the input features $\\mathbf{X}$ and the model weights $\\mathbf{w}$,\n",
        "and add the offset $b$ to each example.\n",
        "Note that below $\\mathbf{Xw}$  is a vector and $b$ is a scalar.\n",
        "Recall the broadcasting mechanism as described in :numref:`subsec_broadcasting`.\n",
        "When we add a vector and a scalar,\n",
        "the scalar is added to each component of the vector.\n"
      ]
    },
    {
      "cell_type": "code",
      "metadata": {
        "origin_pos": 22,
        "tab": [
          "pytorch"
        ],
        "id": "zJT2Br1L4dWW"
      },
      "source": [
        "def linreg(X, w, b): \n",
        "    \"\"\"The linear regression model.\"\"\"\n",
        "    return torch.matmul(X, w) + b"
      ],
      "execution_count": 11,
      "outputs": []
    },
    {
      "cell_type": "markdown",
      "metadata": {
        "origin_pos": 23,
        "id": "JY5w8Ac44dWX"
      },
      "source": [
        "## Defining the Loss Function\n",
        "\n",
        "Since [**updating our model requires taking\n",
        "the gradient of our loss function,**]\n",
        "we ought to (**define the loss function first.**)\n",
        "Here we will use the squared loss function\n",
        "as described in :numref:`sec_linear_regression`.\n",
        "In the implementation, we need to transform the true value `y`\n",
        "into the predicted value's shape `y_hat`.\n",
        "The result returned by the following function\n",
        "will also have the same shape as `y_hat`.\n"
      ]
    },
    {
      "cell_type": "code",
      "metadata": {
        "origin_pos": 24,
        "tab": [
          "pytorch"
        ],
        "id": "8yHpZuJ54dWX"
      },
      "source": [
        "def squared_loss(y_hat, y): \n",
        "    \"\"\"Squared loss.\"\"\"\n",
        "    return (y_hat - y.reshape(y_hat.shape))**2 / 2"
      ],
      "execution_count": 12,
      "outputs": []
    },
    {
      "cell_type": "markdown",
      "metadata": {
        "origin_pos": 25,
        "id": "4YD-2TFX4dWb"
      },
      "source": [
        "## Defining the Optimization Algorithm\n",
        "\n",
        "As we discussed in :numref:`sec_linear_regression`,\n",
        "linear regression has a closed-form solution.\n",
        "However, this is not a book about linear regression:\n",
        "it is a book about deep learning.\n",
        "Since none of the other models that this book introduces\n",
        "can be solved analytically, we will take this opportunity to introduce your first working example of\n",
        "minibatch stochastic gradient descent.\n",
        "\n",
        "At each step, using one minibatch randomly drawn from our dataset,\n",
        "we will estimate the gradient of the loss with respect to our parameters.\n",
        "Next, we will update our parameters\n",
        "in the direction that may reduce the loss.\n",
        "The following code applies the minibatch stochastic gradient descent update,\n",
        "given a set of parameters, a learning rate, and a batch size.\n",
        "The size of the update step is determined by the learning rate `lr`.\n",
        "Because our loss is calculated as a sum over the minibatch of examples,\n",
        "we normalize our step size by the batch size (`batch_size`),\n",
        "so that the magnitude of a typical step size\n",
        "does not depend heavily on our choice of the batch size.\n"
      ]
    },
    {
      "cell_type": "code",
      "metadata": {
        "origin_pos": 27,
        "tab": [
          "pytorch"
        ],
        "id": "PMfABi754dWc"
      },
      "source": [
        "def sgd(params, lr, batch_size): \n",
        "    \"\"\"Minibatch stochastic gradient descent.\"\"\"\n",
        "    with torch.no_grad():\n",
        "        for param in params:\n",
        "            param -= lr * param.grad / batch_size\n",
        "            param.grad.zero_()"
      ],
      "execution_count": 13,
      "outputs": []
    },
    {
      "cell_type": "markdown",
      "metadata": {
        "origin_pos": 29,
        "id": "SQN5bxcN4dWc"
      },
      "source": [
        "## Training\n",
        "\n",
        "Now that we have all of the parts in place,\n",
        "we are ready to [**implement the main training loop.**]\n",
        "It is crucial that you understand this code\n",
        "because you will see nearly identical training loops\n",
        "over and over again throughout your career in deep learning.\n",
        "\n",
        "In each iteration, we will grab a minibatch of training examples,\n",
        "and pass them through our model to obtain a set of predictions.\n",
        "After calculating the loss, we initiate the backwards pass through the network,\n",
        "storing the gradients with respect to each parameter.\n",
        "Finally, we will call the optimization algorithm `sgd`\n",
        "to update the model parameters.\n",
        "\n",
        "In summary, we will execute the following loop:\n",
        "\n",
        "* Initialize parameters $(\\mathbf{w}, b)$\n",
        "* Repeat until done\n",
        "    * Compute gradient $\\mathbf{g} \\leftarrow \\partial_{(\\mathbf{w},b)} \\frac{1}{|\\mathcal{B}|} \\sum_{i \\in \\mathcal{B}} l(\\mathbf{x}^{(i)}, y^{(i)}, \\mathbf{w}, b)$\n",
        "    * Update parameters $(\\mathbf{w}, b) \\leftarrow (\\mathbf{w}, b) - \\eta \\mathbf{g}$\n",
        "\n",
        "In each *epoch*,\n",
        "we will iterate through the entire dataset\n",
        "(using the `data_iter` function) once\n",
        "passing through every example in the training dataset\n",
        "(assuming that the number of examples is divisible by the batch size).\n",
        "The number of epochs `num_epochs` and the learning rate `lr` are both hyperparameters,\n",
        "which we set here to 3 and 0.03, respectively.\n",
        "Unfortunately, setting hyperparameters is tricky\n",
        "and requires some adjustment by trial and error.\n",
        "We elide these details for now but revise them\n",
        "later in\n",
        ":numref:`chap_optimization`.\n"
      ]
    },
    {
      "cell_type": "code",
      "metadata": {
        "origin_pos": 30,
        "tab": [
          "pytorch"
        ],
        "id": "nuVvWubc4dWd"
      },
      "source": [
        "lr = 0.03\n",
        "num_epochs = 3\n",
        "net = linreg\n",
        "loss = squared_loss"
      ],
      "execution_count": 14,
      "outputs": []
    },
    {
      "cell_type": "code",
      "metadata": {
        "origin_pos": 32,
        "tab": [
          "pytorch"
        ],
        "id": "72FSmEFg4dWd",
        "colab": {
          "base_uri": "https://localhost:8080/"
        },
        "outputId": "824ecf5c-46e2-4ecd-ee46-1811774bfcab"
      },
      "source": [
        "for epoch in range(num_epochs):\n",
        "    for X, y in data_iter(batch_size, features, labels):\n",
        "        l = loss(net(X, w, b), y)  # Minibatch loss in `X` and `y`\n",
        "        # Compute gradient on `l` with respect to [`w`, `b`]\n",
        "        l.sum().backward()\n",
        "        sgd([w, b], lr, batch_size)  # Update parameters using their gradient\n",
        "    with torch.no_grad():\n",
        "        train_l = loss(net(features, w, b), labels)\n",
        "        print(f'epoch {epoch + 1}, loss {float(train_l.mean()):f}')"
      ],
      "execution_count": 15,
      "outputs": [
        {
          "output_type": "stream",
          "text": [
            "epoch 1, loss 0.025391\n",
            "epoch 2, loss 0.000089\n",
            "epoch 3, loss 0.000049\n"
          ],
          "name": "stdout"
        }
      ]
    },
    {
      "cell_type": "markdown",
      "metadata": {
        "origin_pos": 34,
        "id": "-VxRkDiS4dWe"
      },
      "source": [
        "In this case, because we synthesized the dataset ourselves,\n",
        "we know precisely what the true parameters are.\n",
        "Thus, we can [**evaluate our success in training\n",
        "by comparing the true parameters\n",
        "with those that we learned**] through our training loop.\n",
        "Indeed they turn out to be very close to each other.\n"
      ]
    },
    {
      "cell_type": "code",
      "metadata": {
        "origin_pos": 35,
        "tab": [
          "pytorch"
        ],
        "id": "pAThRIhC4dWe",
        "colab": {
          "base_uri": "https://localhost:8080/"
        },
        "outputId": "88d164a6-9645-4408-e085-11b7eec1a457"
      },
      "source": [
        "print(f'error in estimating w: {true_w - w.reshape(true_w.shape)}')\n",
        "print(f'error in estimating b: {true_b - b}')"
      ],
      "execution_count": 16,
      "outputs": [
        {
          "output_type": "stream",
          "text": [
            "error in estimating w: tensor([-0.0007, -0.0004], grad_fn=<SubBackward0>)\n",
            "error in estimating b: tensor([9.5367e-06], grad_fn=<RsubBackward1>)\n"
          ],
          "name": "stdout"
        }
      ]
    },
    {
      "cell_type": "markdown",
      "metadata": {
        "id": "aQm8yvkr-19c"
      },
      "source": [
        "Note that we should not take it for granted that we are able to recover the parameters perfectly. However, in machine learning, we are typically less concerned with recovering true underlying parameters, and more concerned with parameters that lead to highly accurate prediction. Fortunately, even on difficult optimization problems, stochastic gradient descent can often find remarkably good solutions, owing partly to the fact that, for deep networks, there exist many configurations of the parameters that lead to highly accurate prediction."
      ]
    },
    {
      "cell_type": "markdown",
      "metadata": {
        "origin_pos": 36,
        "id": "eY6di0Dm4dWf"
      },
      "source": [
        "## Summary\n",
        "\n",
        "* We saw how a deep network can be implemented and optimized from scratch, using just tensors and auto differentiation, without any need for defining layers or fancy optimizers.\n",
        "* This section only scratches the surface of what is possible. In the following sections, we will describe additional models based on the concepts that we have just introduced and learn how to implement them more concisely.\n",
        "\n",
        "\n",
        "## Exercises\n",
        "\n",
        "1. What would happen if we were to initialize the weights to zero. Would the algorithm still work?\n",
        "1. Assume that you are\n",
        "   [Georg Simon Ohm](https://en.wikipedia.org/wiki/Georg_Ohm) trying to come up\n",
        "   with a model between voltage and current. Can you use auto differentiation to learn the parameters of your model?\n",
        "1. Can you use [Planck's Law](https://en.wikipedia.org/wiki/Planck%27s_law) to determine the temperature of an object using spectral energy density?\n",
        "1. What are the problems you might encounter if you wanted to  compute the second derivatives? How would you fix them?\n",
        "1.  Why is the `reshape` function needed in the `squared_loss` function?\n",
        "1. Experiment using different learning rates to find out how fast the loss function value drops.\n",
        "1. If the number of examples cannot be divided by the batch size, what happens to the `data_iter` function's behavior?\n"
      ]
    },
    {
      "cell_type": "markdown",
      "metadata": {
        "origin_pos": 38,
        "tab": [
          "pytorch"
        ],
        "id": "rrufzH0H4dWg"
      },
      "source": [
        "[Discussions](https://discuss.d2l.ai/t/43)\n"
      ]
    }
  ]
}