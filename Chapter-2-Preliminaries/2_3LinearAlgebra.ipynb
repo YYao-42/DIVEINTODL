{
  "nbformat": 4,
  "nbformat_minor": 0,
  "metadata": {
    "kernelspec": {
      "display_name": "Python 3",
      "name": "python3"
    },
    "language_info": {
      "name": "python"
    },
    "colab": {
      "name": "2_3LinearAlgebra.ipynb",
      "provenance": [],
      "include_colab_link": true
    }
  },
  "cells": [
    {
      "cell_type": "markdown",
      "metadata": {
        "id": "view-in-github",
        "colab_type": "text"
      },
      "source": [
        "<a href=\"https://colab.research.google.com/github/YYao-42/DIVEINTODL/blob/main/Chapter-2-Preliminaries/2_3LinearAlgebra.ipynb\" target=\"_parent\"><img src=\"https://colab.research.google.com/assets/colab-badge.svg\" alt=\"Open In Colab\"/></a>"
      ]
    },
    {
      "cell_type": "markdown",
      "metadata": {
        "origin_pos": 0,
        "id": "_hW_S82xCtxD"
      },
      "source": [
        "# Linear Algebra\n",
        "\n",
        "Now that you can store and manipulate data,\n",
        "let us briefly review the subset of basic linear algebra\n",
        "that you will need to understand and implement\n",
        "most of models covered in this book.\n",
        "Below, we introduce the basic mathematical objects, arithmetic,\n",
        "and operations in linear algebra,\n",
        "expressing each of them through mathematical notation\n",
        "and the corresponding implementation in code.\n",
        "\n",
        "## Scalars\n",
        "\n",
        "In this book, we adopt the mathematical notation\n",
        "where scalar variables are denoted\n",
        "by ordinary lower-cased letters (e.g., $x$, $y$, and $z$).\n",
        "We denote the space of all (continuous) *real-valued* scalars by $\\mathbb{R}$.\n",
        "For expedience, we will punt on rigorous definitions\n",
        "of what precisely *space* is,\n",
        "but just remember for now that the expression $x \\in \\mathbb{R}$\n",
        "is a formal way to say that $x$ is a real-valued scalar.\n",
        "The symbol $\\in$ can be pronounced \"in\"\n",
        "and simply denotes membership in a set.\n",
        "Analogously, we could write $x, y \\in \\{0, 1\\}$\n",
        "to state that $x$ and $y$ are numbers\n",
        "whose value can only be $0$ or $1$.\n",
        "\n",
        "(**A scalar is represented by a tensor with just one element.**)\n",
        "In the next snippet, we instantiate two scalars\n",
        "and perform some familiar arithmetic operations with them,\n",
        "namely addition, multiplication, division, and exponentiation.\n"
      ]
    },
    {
      "cell_type": "code",
      "metadata": {
        "origin_pos": 2,
        "tab": [
          "pytorch"
        ],
        "id": "kYUMQgRjCtxL",
        "colab": {
          "base_uri": "https://localhost:8080/"
        },
        "outputId": "9212b143-0d40-4883-911c-86707acd2ea3"
      },
      "source": [
        "import torch\n",
        "\n",
        "x = torch.tensor(3.0)\n",
        "y = torch.tensor(2.0)\n",
        "\n",
        "x + y, x * y, x / y, x**y"
      ],
      "execution_count": 1,
      "outputs": [
        {
          "output_type": "execute_result",
          "data": {
            "text/plain": [
              "(tensor(5.), tensor(6.), tensor(1.5000), tensor(9.))"
            ]
          },
          "metadata": {},
          "execution_count": 1
        }
      ]
    },
    {
      "cell_type": "markdown",
      "metadata": {
        "origin_pos": 4,
        "id": "FLcBvVViCtxQ"
      },
      "source": [
        "## Vectors\n",
        "\n",
        "[**You can think of a vector as simply a list of scalar values.**]\n",
        "We call these values the *elements* (*entries* or *components*) of the vector.\n",
        "\n"
      ]
    },
    {
      "cell_type": "code",
      "metadata": {
        "origin_pos": 6,
        "tab": [
          "pytorch"
        ],
        "id": "uas5SDHRCtxS",
        "colab": {
          "base_uri": "https://localhost:8080/"
        },
        "outputId": "1343bf86-85b1-4e93-97fb-7a4cc872685e"
      },
      "source": [
        "x = torch.arange(4)\n",
        "x"
      ],
      "execution_count": 2,
      "outputs": [
        {
          "output_type": "execute_result",
          "data": {
            "text/plain": [
              "tensor([0, 1, 2, 3])"
            ]
          },
          "metadata": {},
          "execution_count": 2
        }
      ]
    },
    {
      "cell_type": "markdown",
      "metadata": {
        "origin_pos": 8,
        "id": "5cv83VypCtxU"
      },
      "source": [
        "We can refer to any element of a vector by using a subscript.\n",
        "For example, we can refer to the $i^\\mathrm{th}$ element of $\\mathbf{x}$ by $x_i$.\n",
        "Note that the element $x_i$ is a scalar,\n",
        "so we do not bold-face the font when referring to it.\n",
        "Extensive literature considers column vectors to be the default\n",
        "orientation of vectors, so does this book.\n",
        "In math, a vector $\\mathbf{x}$ can be written as\n",
        "\n",
        "$$\\mathbf{x} =\\begin{bmatrix}x_{1}  \\\\x_{2}  \\\\ \\vdots  \\\\x_{n}\\end{bmatrix},$$\n",
        "\n",
        "where $x_1, \\ldots, x_n$ are elements of the vector.\n",
        "In code,\n",
        "we (**access any element by indexing into the tensor.**)\n"
      ]
    },
    {
      "cell_type": "code",
      "metadata": {
        "origin_pos": 10,
        "tab": [
          "pytorch"
        ],
        "id": "dcnE4X9iCtxV",
        "colab": {
          "base_uri": "https://localhost:8080/"
        },
        "outputId": "e37ed74e-b6d7-4b12-e840-ac8529f82b63"
      },
      "source": [
        "x[3]"
      ],
      "execution_count": 3,
      "outputs": [
        {
          "output_type": "execute_result",
          "data": {
            "text/plain": [
              "tensor(3)"
            ]
          },
          "metadata": {},
          "execution_count": 3
        }
      ]
    },
    {
      "cell_type": "markdown",
      "metadata": {
        "origin_pos": 12,
        "id": "ezNzTlhQCtxX"
      },
      "source": [
        "### Length, Dimensionality, and Shape\n",
        "\n",
        "As with an ordinary Python array,\n",
        "we [**can access the length of a tensor**]\n",
        "by calling Python's built-in `len()` function.\n"
      ]
    },
    {
      "cell_type": "code",
      "metadata": {
        "origin_pos": 14,
        "tab": [
          "pytorch"
        ],
        "id": "98vBRkffCtxa",
        "colab": {
          "base_uri": "https://localhost:8080/"
        },
        "outputId": "6b04f27d-fbad-4d46-f834-39ad83eff0df"
      },
      "source": [
        "len(x)"
      ],
      "execution_count": 4,
      "outputs": [
        {
          "output_type": "execute_result",
          "data": {
            "text/plain": [
              "4"
            ]
          },
          "metadata": {},
          "execution_count": 4
        }
      ]
    },
    {
      "cell_type": "markdown",
      "metadata": {
        "origin_pos": 16,
        "id": "Uz2ZXbL-Ctxb"
      },
      "source": [
        "When a tensor represents a vector (with precisely one axis),\n",
        "we can also access its length via the `.shape` attribute.\n",
        "The shape is a tuple that lists the length (dimensionality)\n",
        "along each axis of the tensor.\n",
        "(**For tensors with just one axis, the shape has just one element.**)\n"
      ]
    },
    {
      "cell_type": "code",
      "metadata": {
        "origin_pos": 18,
        "tab": [
          "pytorch"
        ],
        "id": "WRNZ2JfICtxe",
        "colab": {
          "base_uri": "https://localhost:8080/"
        },
        "outputId": "56060f4f-08c1-46b5-c983-25181b09f16b"
      },
      "source": [
        "x.shape"
      ],
      "execution_count": 5,
      "outputs": [
        {
          "output_type": "execute_result",
          "data": {
            "text/plain": [
              "torch.Size([4])"
            ]
          },
          "metadata": {},
          "execution_count": 5
        }
      ]
    },
    {
      "cell_type": "markdown",
      "metadata": {
        "origin_pos": 20,
        "id": "wQfv_UrhCtxf"
      },
      "source": [
        "## Matrices\n",
        "\n",
        "Just as vectors generalize scalars from order zero to order one,\n",
        "matrices generalize vectors from order one to order two.\n",
        "Matrices, which we will typically denote with bold-faced, capital letters\n",
        "(e.g., $\\mathbf{X}$, $\\mathbf{Y}$, and $\\mathbf{Z}$),\n",
        "are represented in code as tensors with two axes.\n",
        "\n",
        "In math notation, we use $\\mathbf{A} \\in \\mathbb{R}^{m \\times n}$\n",
        "to express that the matrix $\\mathbf{A}$ consists of $m$ rows and $n$ columns of real-valued scalars.\n",
        "Visually, we can illustrate any matrix $\\mathbf{A} \\in \\mathbb{R}^{m \\times n}$ as a table,\n",
        "where each element $a_{ij}$ belongs to the $i^{\\mathrm{th}}$ row and $j^{\\mathrm{th}}$ column:\n",
        "\n",
        "$$\\mathbf{A}=\\begin{bmatrix} a_{11} & a_{12} & \\cdots & a_{1n} \\\\ a_{21} & a_{22} & \\cdots & a_{2n} \\\\ \\vdots & \\vdots & \\ddots & \\vdots \\\\ a_{m1} & a_{m2} & \\cdots & a_{mn} \\\\ \\end{bmatrix}.$$\n",
        "\n",
        "\n",
        "For any $\\mathbf{A} \\in \\mathbb{R}^{m \\times n}$, the shape of $\\mathbf{A}$\n",
        "is ($m$, $n$) or $m \\times n$.\n",
        "Specifically, when a matrix has the same number of rows and columns,\n",
        "its shape becomes a square; thus, it is called a *square matrix*.\n",
        "\n",
        "We can [**create an $m \\times n$ matrix**]\n",
        "by specifying a shape with two components $m$ and $n$\n",
        "when calling any of our favorite functions for instantiating a tensor.\n"
      ]
    },
    {
      "cell_type": "code",
      "metadata": {
        "origin_pos": 22,
        "tab": [
          "pytorch"
        ],
        "id": "IJm7qHlBCtxg",
        "colab": {
          "base_uri": "https://localhost:8080/"
        },
        "outputId": "77fe2c84-1f83-48a8-81af-85247079a22c"
      },
      "source": [
        "A = torch.arange(20).reshape(5, 4)\n",
        "A"
      ],
      "execution_count": 6,
      "outputs": [
        {
          "output_type": "execute_result",
          "data": {
            "text/plain": [
              "tensor([[ 0,  1,  2,  3],\n",
              "        [ 4,  5,  6,  7],\n",
              "        [ 8,  9, 10, 11],\n",
              "        [12, 13, 14, 15],\n",
              "        [16, 17, 18, 19]])"
            ]
          },
          "metadata": {},
          "execution_count": 6
        }
      ]
    },
    {
      "cell_type": "markdown",
      "metadata": {
        "origin_pos": 24,
        "id": "WtELqzLqCtxi"
      },
      "source": [
        "We can access the scalar element $a_{ij}$ of a matrix $\\mathbf{A}$ in :eqref:`eq_matrix_def`\n",
        "by specifying the indices for the row ($i$) and column ($j$),\n",
        "such as $[\\mathbf{A}]_{ij}$.\n",
        "When the scalar elements of a matrix $\\mathbf{A}$, such as in :eqref:`eq_matrix_def`, are not given,\n",
        "we may simply use the lower-case letter of the matrix $\\mathbf{A}$ with the index subscript, $a_{ij}$,\n",
        "to refer to $[\\mathbf{A}]_{ij}$.\n",
        "To keep notation simple, commas are inserted to separate indices only when necessary,\n",
        "such as $a_{2, 3j}$ and $[\\mathbf{A}]_{2i-1, 3}$.\n",
        "\n",
        "\n",
        "Sometimes, we want to flip the axes.\n",
        "When we exchange a matrix's rows and columns,\n",
        "the result is called the *transpose* of the matrix.\n",
        "Formally, we signify a matrix $\\mathbf{A}$'s transpose by $\\mathbf{A}^\\top$\n",
        "and if $\\mathbf{B} = \\mathbf{A}^\\top$, then $b_{ij} = a_{ji}$ for any $i$ and $j$.\n",
        "Thus, the transpose of $\\mathbf{A}$ in :eqref:`eq_matrix_def` is\n",
        "a $n \\times m$ matrix:\n",
        "\n",
        "$$\n",
        "\\mathbf{A}^\\top =\n",
        "\\begin{bmatrix}\n",
        "    a_{11} & a_{21} & \\dots  & a_{m1} \\\\\n",
        "    a_{12} & a_{22} & \\dots  & a_{m2} \\\\\n",
        "    \\vdots & \\vdots & \\ddots  & \\vdots \\\\\n",
        "    a_{1n} & a_{2n} & \\dots  & a_{mn}\n",
        "\\end{bmatrix}.\n",
        "$$\n",
        "\n",
        "Now we access a (**matrix's transpose**) in code.\n"
      ]
    },
    {
      "cell_type": "code",
      "metadata": {
        "origin_pos": 26,
        "tab": [
          "pytorch"
        ],
        "id": "a46s7C9PCtxj",
        "colab": {
          "base_uri": "https://localhost:8080/"
        },
        "outputId": "85627ee9-a913-45c6-a285-fd8fb84fbed7"
      },
      "source": [
        "A.T"
      ],
      "execution_count": 7,
      "outputs": [
        {
          "output_type": "execute_result",
          "data": {
            "text/plain": [
              "tensor([[ 0,  4,  8, 12, 16],\n",
              "        [ 1,  5,  9, 13, 17],\n",
              "        [ 2,  6, 10, 14, 18],\n",
              "        [ 3,  7, 11, 15, 19]])"
            ]
          },
          "metadata": {},
          "execution_count": 7
        }
      ]
    },
    {
      "cell_type": "markdown",
      "metadata": {
        "origin_pos": 28,
        "id": "4L4QRCu4Ctxl"
      },
      "source": [
        "As a special type of the square matrix,\n",
        "[**a *symmetric matrix* $\\mathbf{A}$ is equal to its transpose:\n",
        "$\\mathbf{A} = \\mathbf{A}^\\top$.**]\n",
        "Here we define a symmetric matrix `B`.\n"
      ]
    },
    {
      "cell_type": "code",
      "metadata": {
        "origin_pos": 30,
        "tab": [
          "pytorch"
        ],
        "id": "cwbvXuIeCtxl",
        "colab": {
          "base_uri": "https://localhost:8080/"
        },
        "outputId": "e83abab1-577c-4a50-cd11-b3058184602d"
      },
      "source": [
        "B = torch.tensor([[1, 2, 3], [2, 0, 4], [3, 4, 5]])\n",
        "B"
      ],
      "execution_count": 8,
      "outputs": [
        {
          "output_type": "execute_result",
          "data": {
            "text/plain": [
              "tensor([[1, 2, 3],\n",
              "        [2, 0, 4],\n",
              "        [3, 4, 5]])"
            ]
          },
          "metadata": {},
          "execution_count": 8
        }
      ]
    },
    {
      "cell_type": "markdown",
      "metadata": {
        "origin_pos": 32,
        "id": "Nvx-KmVZCtxm"
      },
      "source": [
        "Now we compare `B` with its transpose.\n"
      ]
    },
    {
      "cell_type": "code",
      "metadata": {
        "origin_pos": 34,
        "tab": [
          "pytorch"
        ],
        "id": "HpnivU7JCtxm",
        "colab": {
          "base_uri": "https://localhost:8080/"
        },
        "outputId": "8cc96808-0df7-4bbd-df97-bbc2bd82a1ab"
      },
      "source": [
        "B == B.T"
      ],
      "execution_count": 9,
      "outputs": [
        {
          "output_type": "execute_result",
          "data": {
            "text/plain": [
              "tensor([[True, True, True],\n",
              "        [True, True, True],\n",
              "        [True, True, True]])"
            ]
          },
          "metadata": {},
          "execution_count": 9
        }
      ]
    },
    {
      "cell_type": "markdown",
      "metadata": {
        "origin_pos": 36,
        "id": "_pzlqqgnCtxo"
      },
      "source": [
        "## Tensors\n",
        "\n",
        "Just as vectors generalize scalars, and matrices generalize vectors, we can build data structures with even more axes.\n",
        "[**Tensors**]\n",
        "(\"tensors\" in this subsection refer to algebraic objects)\n",
        "(**give us a generic way of describing $n$-dimensional arrays with an arbitrary number of axes.**)\n",
        "Vectors, for example, are first-order tensors, and matrices are second-order tensors.\n",
        "Tensors are denoted with capital letters of a special font face\n",
        "(e.g., $\\mathsf{X}$, $\\mathsf{Y}$, and $\\mathsf{Z}$)\n",
        "and their indexing mechanism (e.g., $x_{ijk}$ and $[\\mathsf{X}]_{1, 2i-1, 3}$) is similar to that of matrices.\n",
        "\n",
        "Tensors will become more important when we start working with images,\n",
        " which arrive as $n$-dimensional arrays with 3 axes corresponding to the height, width, and a *channel* axis for stacking the color channels (red, green, and blue). For now, we will skip over higher order tensors and focus on the basics.\n"
      ]
    },
    {
      "cell_type": "code",
      "metadata": {
        "origin_pos": 38,
        "tab": [
          "pytorch"
        ],
        "id": "AacdfqN6Ctxp",
        "colab": {
          "base_uri": "https://localhost:8080/"
        },
        "outputId": "ffc21eb7-b630-4058-8767-5d68071a2eca"
      },
      "source": [
        "X = torch.arange(24).reshape(2, 3, 4)\n",
        "X"
      ],
      "execution_count": 10,
      "outputs": [
        {
          "output_type": "execute_result",
          "data": {
            "text/plain": [
              "tensor([[[ 0,  1,  2,  3],\n",
              "         [ 4,  5,  6,  7],\n",
              "         [ 8,  9, 10, 11]],\n",
              "\n",
              "        [[12, 13, 14, 15],\n",
              "         [16, 17, 18, 19],\n",
              "         [20, 21, 22, 23]]])"
            ]
          },
          "metadata": {},
          "execution_count": 10
        }
      ]
    },
    {
      "cell_type": "markdown",
      "metadata": {
        "origin_pos": 40,
        "id": "3rtitE3tCtxq"
      },
      "source": [
        "## Basic Properties of Tensor Arithmetic\n",
        "\n",
        "Scalars, vectors, matrices, and tensors (\"tensors\" in this subsection refer to algebraic objects)\n",
        "of an arbitrary number of axes\n",
        "have some nice properties that often come in handy.\n",
        "For example, you might have noticed\n",
        "from the definition of an elementwise operation\n",
        "that any elementwise unary operation does not change the shape of its operand.\n",
        "Similarly,\n",
        "[**given any two tensors with the same shape,\n",
        "the result of any binary elementwise operation\n",
        "will be a tensor of that same shape.**]\n",
        "For example, adding two matrices of the same shape\n",
        "performs elementwise addition over these two matrices.\n"
      ]
    },
    {
      "cell_type": "code",
      "metadata": {
        "origin_pos": 42,
        "tab": [
          "pytorch"
        ],
        "id": "6X85FLn7Ctxq",
        "colab": {
          "base_uri": "https://localhost:8080/"
        },
        "outputId": "9d55a91b-7b45-4e6f-abac-bf2647b13235"
      },
      "source": [
        "A = torch.arange(20, dtype=torch.float32).reshape(5, 4)\n",
        "B = A.clone()  # Assign a copy of `A` to `B` by allocating new memory\n",
        "A, A + B"
      ],
      "execution_count": 11,
      "outputs": [
        {
          "output_type": "execute_result",
          "data": {
            "text/plain": [
              "(tensor([[ 0.,  1.,  2.,  3.],\n",
              "         [ 4.,  5.,  6.,  7.],\n",
              "         [ 8.,  9., 10., 11.],\n",
              "         [12., 13., 14., 15.],\n",
              "         [16., 17., 18., 19.]]), tensor([[ 0.,  2.,  4.,  6.],\n",
              "         [ 8., 10., 12., 14.],\n",
              "         [16., 18., 20., 22.],\n",
              "         [24., 26., 28., 30.],\n",
              "         [32., 34., 36., 38.]]))"
            ]
          },
          "metadata": {},
          "execution_count": 11
        }
      ]
    },
    {
      "cell_type": "markdown",
      "metadata": {
        "origin_pos": 44,
        "id": "WzRCc0JGCtxr"
      },
      "source": [
        "Specifically,\n",
        "[**elementwise multiplication of two matrices is called their *Hadamard product***]\n",
        "(math notation $\\odot$).\n",
        "Consider matrix $\\mathbf{B} \\in \\mathbb{R}^{m \\times n}$ whose element of row $i$ and column $j$ is $b_{ij}$. The Hadamard product of matrices $\\mathbf{A}$ (defined in :eqref:`eq_matrix_def`) and $\\mathbf{B}$\n",
        "\n",
        "$$\n",
        "\\mathbf{A} \\odot \\mathbf{B} =\n",
        "\\begin{bmatrix}\n",
        "    a_{11}  b_{11} & a_{12}  b_{12} & \\dots  & a_{1n}  b_{1n} \\\\\n",
        "    a_{21}  b_{21} & a_{22}  b_{22} & \\dots  & a_{2n}  b_{2n} \\\\\n",
        "    \\vdots & \\vdots & \\ddots & \\vdots \\\\\n",
        "    a_{m1}  b_{m1} & a_{m2}  b_{m2} & \\dots  & a_{mn}  b_{mn}\n",
        "\\end{bmatrix}.\n",
        "$$\n"
      ]
    },
    {
      "cell_type": "code",
      "metadata": {
        "origin_pos": 46,
        "tab": [
          "pytorch"
        ],
        "id": "1iclIxj2Ctxs",
        "colab": {
          "base_uri": "https://localhost:8080/"
        },
        "outputId": "378c403e-aeef-4cce-a061-cd86e2f4eb72"
      },
      "source": [
        "A * B"
      ],
      "execution_count": 12,
      "outputs": [
        {
          "output_type": "execute_result",
          "data": {
            "text/plain": [
              "tensor([[  0.,   1.,   4.,   9.],\n",
              "        [ 16.,  25.,  36.,  49.],\n",
              "        [ 64.,  81., 100., 121.],\n",
              "        [144., 169., 196., 225.],\n",
              "        [256., 289., 324., 361.]])"
            ]
          },
          "metadata": {},
          "execution_count": 12
        }
      ]
    },
    {
      "cell_type": "markdown",
      "metadata": {
        "origin_pos": 48,
        "id": "-nuhRe_2Ctxs"
      },
      "source": [
        "[**Multiplying or adding a tensor by a scalar**] also does not change the shape of the tensor,\n",
        "where each element of the operand tensor will be added or multiplied by the scalar.\n"
      ]
    },
    {
      "cell_type": "code",
      "metadata": {
        "origin_pos": 50,
        "tab": [
          "pytorch"
        ],
        "id": "u2tF0zjNCtxs",
        "colab": {
          "base_uri": "https://localhost:8080/"
        },
        "outputId": "d5795080-6fb7-4f42-a159-4337438ce923"
      },
      "source": [
        "a = 2\n",
        "X = torch.arange(24).reshape(2, 3, 4)\n",
        "a + X, (a * X).shape"
      ],
      "execution_count": 13,
      "outputs": [
        {
          "output_type": "execute_result",
          "data": {
            "text/plain": [
              "(tensor([[[ 2,  3,  4,  5],\n",
              "          [ 6,  7,  8,  9],\n",
              "          [10, 11, 12, 13]],\n",
              " \n",
              "         [[14, 15, 16, 17],\n",
              "          [18, 19, 20, 21],\n",
              "          [22, 23, 24, 25]]]), torch.Size([2, 3, 4]))"
            ]
          },
          "metadata": {},
          "execution_count": 13
        }
      ]
    },
    {
      "cell_type": "markdown",
      "metadata": {
        "origin_pos": 52,
        "id": "pTDiFlpeCtxt"
      },
      "source": [
        "## Reduction\n",
        ":label:`subseq_lin-alg-reduction`\n",
        "\n",
        "One useful operation that we can perform with arbitrary tensors\n",
        "is to\n",
        "calculate [**the sum of their elements.**]\n",
        "In mathematical notation, we express sums using the $\\sum$ symbol.\n",
        "To express the sum of the elements in a vector $\\mathbf{x}$ of length $d$,\n",
        "we write $\\sum_{i=1}^d x_i$.\n",
        "In code, we can just call the function for calculating the sum.\n"
      ]
    },
    {
      "cell_type": "code",
      "metadata": {
        "origin_pos": 54,
        "tab": [
          "pytorch"
        ],
        "id": "lUG_2isrCtxt",
        "colab": {
          "base_uri": "https://localhost:8080/"
        },
        "outputId": "0ab9b109-6295-4dd9-d550-f2676064e995"
      },
      "source": [
        "x = torch.arange(4, dtype=torch.float32)\n",
        "x, x.sum()"
      ],
      "execution_count": 14,
      "outputs": [
        {
          "output_type": "execute_result",
          "data": {
            "text/plain": [
              "(tensor([0., 1., 2., 3.]), tensor(6.))"
            ]
          },
          "metadata": {},
          "execution_count": 14
        }
      ]
    },
    {
      "cell_type": "markdown",
      "metadata": {
        "origin_pos": 56,
        "id": "tYHiIaqTCtxu"
      },
      "source": [
        "We can express [**sums over the elements of tensors of arbitrary shape.**]\n",
        "For example, the sum of the elements of an $m \\times n$ matrix $\\mathbf{A}$ could be written $\\sum_{i=1}^{m} \\sum_{j=1}^{n} a_{ij}$.\n"
      ]
    },
    {
      "cell_type": "code",
      "metadata": {
        "origin_pos": 58,
        "tab": [
          "pytorch"
        ],
        "id": "adfGZD5kCtxv",
        "colab": {
          "base_uri": "https://localhost:8080/"
        },
        "outputId": "2ca074ad-3717-44c5-a6dc-425d7017d2a9"
      },
      "source": [
        "A.shape, A.sum()"
      ],
      "execution_count": 15,
      "outputs": [
        {
          "output_type": "execute_result",
          "data": {
            "text/plain": [
              "(torch.Size([5, 4]), tensor(190.))"
            ]
          },
          "metadata": {},
          "execution_count": 15
        }
      ]
    },
    {
      "cell_type": "markdown",
      "metadata": {
        "origin_pos": 60,
        "id": "ReNEYbbECtxv"
      },
      "source": [
        "By default, invoking the function for calculating the sum\n",
        "*reduces* a tensor along all its axes to a scalar.\n",
        "We can also [**specify the axes along which the tensor is reduced via summation.**]\n",
        "Take matrices as an example.\n",
        "To reduce the row dimension (axis 0) by summing up elements of all the rows,\n",
        "we specify `axis=0` when invoking the function.\n",
        "Since the input matrix reduces along axis 0 to generate the output vector,\n",
        "the dimension of axis 0 of the input is lost in the output shape.\n"
      ]
    },
    {
      "cell_type": "code",
      "metadata": {
        "colab": {
          "base_uri": "https://localhost:8080/"
        },
        "id": "EzNuSeJOFf39",
        "outputId": "bd6f00b4-7ecc-4a58-d15c-56c3db7f801c"
      },
      "source": [
        "A"
      ],
      "execution_count": 17,
      "outputs": [
        {
          "output_type": "execute_result",
          "data": {
            "text/plain": [
              "tensor([[ 0.,  1.,  2.,  3.],\n",
              "        [ 4.,  5.,  6.,  7.],\n",
              "        [ 8.,  9., 10., 11.],\n",
              "        [12., 13., 14., 15.],\n",
              "        [16., 17., 18., 19.]])"
            ]
          },
          "metadata": {},
          "execution_count": 17
        }
      ]
    },
    {
      "cell_type": "markdown",
      "metadata": {
        "id": "yRh4myKYFqd1"
      },
      "source": [
        "[5,4] -> sum(axis=0) -> reduces along axis 0 -> the dimension of axis 0 of the input is lost -> [4]"
      ]
    },
    {
      "cell_type": "code",
      "metadata": {
        "origin_pos": 62,
        "tab": [
          "pytorch"
        ],
        "id": "IfKX3OwiCtxw",
        "colab": {
          "base_uri": "https://localhost:8080/"
        },
        "outputId": "9e08bf1a-08dd-453c-d5e9-2404d8c4dea2"
      },
      "source": [
        "A_sum_axis0 = A.sum(axis=0)\n",
        "A_sum_axis0, A_sum_axis0.shape"
      ],
      "execution_count": 18,
      "outputs": [
        {
          "output_type": "execute_result",
          "data": {
            "text/plain": [
              "(tensor([40., 45., 50., 55.]), torch.Size([4]))"
            ]
          },
          "metadata": {},
          "execution_count": 18
        }
      ]
    },
    {
      "cell_type": "markdown",
      "metadata": {
        "origin_pos": 64,
        "id": "OoHArAd8Ctxx"
      },
      "source": [
        "Specifying\n",
        "`axis=1` will reduce the column dimension (axis 1) by summing up elements of all the columns.\n",
        "Thus, the dimension of axis 1 of the input is lost in the output shape.\n"
      ]
    },
    {
      "cell_type": "code",
      "metadata": {
        "origin_pos": 66,
        "tab": [
          "pytorch"
        ],
        "id": "cVY_HfjYCtxx",
        "colab": {
          "base_uri": "https://localhost:8080/"
        },
        "outputId": "135a1203-89c2-43eb-bc3c-76f1ef949d1f"
      },
      "source": [
        "A_sum_axis1 = A.sum(axis=1)\n",
        "A_sum_axis1, A_sum_axis1.shape"
      ],
      "execution_count": 19,
      "outputs": [
        {
          "output_type": "execute_result",
          "data": {
            "text/plain": [
              "(tensor([ 6., 22., 38., 54., 70.]), torch.Size([5]))"
            ]
          },
          "metadata": {},
          "execution_count": 19
        }
      ]
    },
    {
      "cell_type": "markdown",
      "metadata": {
        "origin_pos": 68,
        "id": "dUxdA6S_Ctxy"
      },
      "source": [
        "Reducing a matrix along both rows and columns via summation\n",
        "is equivalent to summing up all the elements of the matrix.\n"
      ]
    },
    {
      "cell_type": "code",
      "metadata": {
        "origin_pos": 70,
        "tab": [
          "pytorch"
        ],
        "id": "OV_WcC1TCtxy",
        "colab": {
          "base_uri": "https://localhost:8080/"
        },
        "outputId": "30231c93-082e-4c30-d3ca-7e1a040bb97b"
      },
      "source": [
        "A.sum(axis=[0, 1])  # Same as `A.sum()`"
      ],
      "execution_count": 20,
      "outputs": [
        {
          "output_type": "execute_result",
          "data": {
            "text/plain": [
              "tensor(190.)"
            ]
          },
          "metadata": {},
          "execution_count": 20
        }
      ]
    },
    {
      "cell_type": "markdown",
      "metadata": {
        "origin_pos": 72,
        "id": "xvCre6TiCtxy"
      },
      "source": [
        "[**A related quantity is the *mean*, which is also called the *average*.**]\n",
        "We calculate the mean by dividing the sum by the total number of elements.\n",
        "In code, we could just call the function for calculating the mean\n",
        "on tensors of arbitrary shape.\n"
      ]
    },
    {
      "cell_type": "code",
      "metadata": {
        "origin_pos": 74,
        "tab": [
          "pytorch"
        ],
        "id": "QReSwstuCtxy",
        "colab": {
          "base_uri": "https://localhost:8080/"
        },
        "outputId": "36cc11a5-d389-45db-f60e-48838cc08274"
      },
      "source": [
        "A.mean(), A.sum() / A.numel()"
      ],
      "execution_count": 21,
      "outputs": [
        {
          "output_type": "execute_result",
          "data": {
            "text/plain": [
              "(tensor(9.5000), tensor(9.5000))"
            ]
          },
          "metadata": {},
          "execution_count": 21
        }
      ]
    },
    {
      "cell_type": "markdown",
      "metadata": {
        "origin_pos": 76,
        "id": "CgwrAN5eCtxz"
      },
      "source": [
        "Likewise, the function for calculating the mean can also reduce a tensor along the specified axes.\n"
      ]
    },
    {
      "cell_type": "code",
      "metadata": {
        "origin_pos": 78,
        "tab": [
          "pytorch"
        ],
        "id": "ceVaHW-WCtx0",
        "colab": {
          "base_uri": "https://localhost:8080/"
        },
        "outputId": "abaeb9c4-06e5-4a1f-94c6-655ad13c61d2"
      },
      "source": [
        "A.mean(axis=0), A.sum(axis=0) / A.shape[0]"
      ],
      "execution_count": 22,
      "outputs": [
        {
          "output_type": "execute_result",
          "data": {
            "text/plain": [
              "(tensor([ 8.,  9., 10., 11.]), tensor([ 8.,  9., 10., 11.]))"
            ]
          },
          "metadata": {},
          "execution_count": 22
        }
      ]
    },
    {
      "cell_type": "markdown",
      "metadata": {
        "origin_pos": 80,
        "id": "00if19JeCtx0"
      },
      "source": [
        "### Non-Reduction Sum\n",
        ":label:`subseq_lin-alg-non-reduction`\n",
        "\n",
        "However,\n",
        "sometimes it can be useful to [**keep the number of axes unchanged**]\n",
        "when invoking the function for calculating the sum or mean.\n"
      ]
    },
    {
      "cell_type": "code",
      "metadata": {
        "origin_pos": 82,
        "tab": [
          "pytorch"
        ],
        "id": "YK63Cbh7Ctx0",
        "colab": {
          "base_uri": "https://localhost:8080/"
        },
        "outputId": "60a62b3d-0bae-4f70-96e7-afc109665878"
      },
      "source": [
        "sum_A = A.sum(axis=1, keepdims=True)\n",
        "sum_A"
      ],
      "execution_count": 23,
      "outputs": [
        {
          "output_type": "execute_result",
          "data": {
            "text/plain": [
              "tensor([[ 6.],\n",
              "        [22.],\n",
              "        [38.],\n",
              "        [54.],\n",
              "        [70.]])"
            ]
          },
          "metadata": {},
          "execution_count": 23
        }
      ]
    },
    {
      "cell_type": "code",
      "metadata": {
        "colab": {
          "base_uri": "https://localhost:8080/"
        },
        "id": "CDk4KBtzGXH_",
        "outputId": "a85e1343-6ab3-4670-9899-f601b6904b5e"
      },
      "source": [
        "sum_A.shape"
      ],
      "execution_count": 24,
      "outputs": [
        {
          "output_type": "execute_result",
          "data": {
            "text/plain": [
              "torch.Size([5, 1])"
            ]
          },
          "metadata": {},
          "execution_count": 24
        }
      ]
    },
    {
      "cell_type": "markdown",
      "metadata": {
        "origin_pos": 84,
        "id": "-IsqDPYYCtx1"
      },
      "source": [
        "For instance,\n",
        "since `sum_A` still keeps its two axes after summing each row, we can (**divide `A` by `sum_A` with broadcasting.**)\n"
      ]
    },
    {
      "cell_type": "code",
      "metadata": {
        "origin_pos": 86,
        "tab": [
          "pytorch"
        ],
        "id": "eeZK8YBFCtx1",
        "colab": {
          "base_uri": "https://localhost:8080/"
        },
        "outputId": "84516c8b-f51d-4738-c489-35944c484f23"
      },
      "source": [
        "A / sum_A"
      ],
      "execution_count": 25,
      "outputs": [
        {
          "output_type": "execute_result",
          "data": {
            "text/plain": [
              "tensor([[0.0000, 0.1667, 0.3333, 0.5000],\n",
              "        [0.1818, 0.2273, 0.2727, 0.3182],\n",
              "        [0.2105, 0.2368, 0.2632, 0.2895],\n",
              "        [0.2222, 0.2407, 0.2593, 0.2778],\n",
              "        [0.2286, 0.2429, 0.2571, 0.2714]])"
            ]
          },
          "metadata": {},
          "execution_count": 25
        }
      ]
    },
    {
      "cell_type": "markdown",
      "metadata": {
        "origin_pos": 88,
        "id": "sU4aJYmkCtx1"
      },
      "source": [
        "If we want to calculate [**the cumulative sum of elements of `A` along some axis**], say `axis=0` (row by row),\n",
        "we can call the `cumsum` function. This function will not reduce the input tensor along any axis.\n"
      ]
    },
    {
      "cell_type": "code",
      "metadata": {
        "colab": {
          "base_uri": "https://localhost:8080/"
        },
        "id": "OngzP2PZGsr2",
        "outputId": "ca5ff3a2-f00f-4d33-ac0b-c9065a83b8d3"
      },
      "source": [
        "A"
      ],
      "execution_count": 26,
      "outputs": [
        {
          "output_type": "execute_result",
          "data": {
            "text/plain": [
              "tensor([[ 0.,  1.,  2.,  3.],\n",
              "        [ 4.,  5.,  6.,  7.],\n",
              "        [ 8.,  9., 10., 11.],\n",
              "        [12., 13., 14., 15.],\n",
              "        [16., 17., 18., 19.]])"
            ]
          },
          "metadata": {},
          "execution_count": 26
        }
      ]
    },
    {
      "cell_type": "code",
      "metadata": {
        "origin_pos": 90,
        "tab": [
          "pytorch"
        ],
        "id": "0CREdRH-Ctx2",
        "colab": {
          "base_uri": "https://localhost:8080/"
        },
        "outputId": "0de967c4-a4e9-47e3-cd3e-c00ad7ea342f"
      },
      "source": [
        "A.cumsum(axis=0)"
      ],
      "execution_count": 27,
      "outputs": [
        {
          "output_type": "execute_result",
          "data": {
            "text/plain": [
              "tensor([[ 0.,  1.,  2.,  3.],\n",
              "        [ 4.,  6.,  8., 10.],\n",
              "        [12., 15., 18., 21.],\n",
              "        [24., 28., 32., 36.],\n",
              "        [40., 45., 50., 55.]])"
            ]
          },
          "metadata": {},
          "execution_count": 27
        }
      ]
    },
    {
      "cell_type": "markdown",
      "metadata": {
        "origin_pos": 92,
        "id": "V6P5Lvd1Ctx2"
      },
      "source": [
        "## Dot Products\n",
        "\n",
        "So far, we have only performed elementwise operations, sums, and averages. And if this was all we could do, linear algebra probably would not deserve its own section. However, one of the most fundamental operations is the dot product.\n",
        "Given two vectors $\\mathbf{x}, \\mathbf{y} \\in \\mathbb{R}^d$, their *dot product* $\\mathbf{x}^\\top \\mathbf{y}$ (or $\\langle \\mathbf{x}, \\mathbf{y}  \\rangle$) is a sum over the products of the elements at the same position: $\\mathbf{x}^\\top \\mathbf{y} = \\sum_{i=1}^{d} x_i y_i$.\n"
      ]
    },
    {
      "cell_type": "code",
      "metadata": {
        "origin_pos": 94,
        "tab": [
          "pytorch"
        ],
        "id": "lida9ULeCtx2",
        "colab": {
          "base_uri": "https://localhost:8080/"
        },
        "outputId": "d977acd6-e416-44da-9f11-e953aeaded5c"
      },
      "source": [
        "y = torch.ones(4, dtype=torch.float32)\n",
        "x, y, torch.dot(x, y)"
      ],
      "execution_count": 28,
      "outputs": [
        {
          "output_type": "execute_result",
          "data": {
            "text/plain": [
              "(tensor([0., 1., 2., 3.]), tensor([1., 1., 1., 1.]), tensor(6.))"
            ]
          },
          "metadata": {},
          "execution_count": 28
        }
      ]
    },
    {
      "cell_type": "markdown",
      "metadata": {
        "origin_pos": 96,
        "id": "6wUtrrpVCtx3"
      },
      "source": [
        "Note that\n",
        "(**we can express the dot product of two vectors equivalently by performing an elementwise multiplication and then a sum:**)\n"
      ]
    },
    {
      "cell_type": "code",
      "metadata": {
        "origin_pos": 98,
        "tab": [
          "pytorch"
        ],
        "id": "1XMtnVqPCtx3",
        "colab": {
          "base_uri": "https://localhost:8080/"
        },
        "outputId": "f2e6d10f-2b7f-4694-dd85-cce0e1882f77"
      },
      "source": [
        "torch.sum(x * y)"
      ],
      "execution_count": 29,
      "outputs": [
        {
          "output_type": "execute_result",
          "data": {
            "text/plain": [
              "tensor(6.)"
            ]
          },
          "metadata": {},
          "execution_count": 29
        }
      ]
    },
    {
      "cell_type": "markdown",
      "metadata": {
        "origin_pos": 100,
        "id": "2RNkBnBFCtx3"
      },
      "source": [
        "## Matrix-Vector Products\n",
        "\n",
        "Now that we know how to calculate dot products,\n",
        "we can begin to understand *matrix-vector products*.\n",
        "Recall the matrix $\\mathbf{A} \\in \\mathbb{R}^{m \\times n}$\n",
        "and the vector $\\mathbf{x} \\in \\mathbb{R}^n$\n",
        "defined and visualized in :eqref:`eq_matrix_def` and :eqref:`eq_vec_def` respectively.\n",
        "Let us start off by visualizing the matrix $\\mathbf{A}$ in terms of its row vectors\n",
        "\n",
        "$$\\mathbf{A}=\n",
        "\\begin{bmatrix}\n",
        "\\mathbf{a}^\\top_{1} \\\\\n",
        "\\mathbf{a}^\\top_{2} \\\\\n",
        "\\vdots \\\\\n",
        "\\mathbf{a}^\\top_m \\\\\n",
        "\\end{bmatrix},$$\n",
        "\n",
        "where each $\\mathbf{a}^\\top_{i} \\in \\mathbb{R}^n$\n",
        "is a row vector representing the $i^\\mathrm{th}$ row of the matrix $\\mathbf{A}$.\n",
        "\n",
        "[**The matrix-vector product $\\mathbf{A}\\mathbf{x}$\n",
        "is simply a column vector of length $m$,\n",
        "whose $i^\\mathrm{th}$ element is the dot product $\\mathbf{a}^\\top_i \\mathbf{x}$:**]\n",
        "\n",
        "$$\n",
        "\\mathbf{A}\\mathbf{x}\n",
        "= \\begin{bmatrix}\n",
        "\\mathbf{a}^\\top_{1} \\\\\n",
        "\\mathbf{a}^\\top_{2} \\\\\n",
        "\\vdots \\\\\n",
        "\\mathbf{a}^\\top_m \\\\\n",
        "\\end{bmatrix}\\mathbf{x}\n",
        "= \\begin{bmatrix}\n",
        " \\mathbf{a}^\\top_{1} \\mathbf{x}  \\\\\n",
        " \\mathbf{a}^\\top_{2} \\mathbf{x} \\\\\n",
        "\\vdots\\\\\n",
        " \\mathbf{a}^\\top_{m} \\mathbf{x}\\\\\n",
        "\\end{bmatrix}.\n",
        "$$\n",
        "\n",
        "We can think of multiplication by a matrix $\\mathbf{A}\\in \\mathbb{R}^{m \\times n}$\n",
        "as a transformation that projects vectors\n",
        "from $\\mathbb{R}^{n}$ to $\\mathbb{R}^{m}$.\n",
        "These transformations turn out to be remarkably useful.\n",
        "For example, we can represent rotations\n",
        "as multiplications by a square matrix.\n",
        "As we will see in subsequent chapters,\n",
        "we can also use matrix-vector products\n",
        "to describe the most intensive calculations\n",
        "required when computing each layer in a neural network\n",
        "given the values of the previous layer.\n"
      ]
    },
    {
      "cell_type": "markdown",
      "metadata": {
        "origin_pos": 102,
        "tab": [
          "pytorch"
        ],
        "id": "nrKGIPGDCtx4"
      },
      "source": [
        "Expressing matrix-vector products in code with tensors, we use\n",
        "the `mv` function. When we call `torch.mv(A, x)` with a matrix\n",
        "`A` and a vector `x`, the matrix-vector product is performed.\n",
        "Note that **the column dimension of `A` (its length along axis 1)\n",
        "must be the same as the dimension of `x` (its length).**\n"
      ]
    },
    {
      "cell_type": "code",
      "metadata": {
        "origin_pos": 105,
        "tab": [
          "pytorch"
        ],
        "id": "NDHZg0HRCtx4",
        "colab": {
          "base_uri": "https://localhost:8080/"
        },
        "outputId": "88cd72a3-2c84-4dfd-df34-e6f6461b5ebe"
      },
      "source": [
        "A.shape, x.shape, torch.mv(A, x)"
      ],
      "execution_count": 32,
      "outputs": [
        {
          "output_type": "execute_result",
          "data": {
            "text/plain": [
              "(torch.Size([5, 4]), torch.Size([4]), tensor([ 14.,  38.,  62.,  86., 110.]))"
            ]
          },
          "metadata": {},
          "execution_count": 32
        }
      ]
    },
    {
      "cell_type": "markdown",
      "metadata": {
        "origin_pos": 107,
        "id": "S8cjiVsMCtx4"
      },
      "source": [
        "## Matrix-Matrix Multiplication\n",
        "\n",
        "If you have gotten the hang of dot products and matrix-vector products,\n",
        "then *matrix-matrix multiplication* should be straightforward.\n",
        "\n",
        "Say that we have two matrices $\\mathbf{A} \\in \\mathbb{R}^{n \\times k}$ and $\\mathbf{B} \\in \\mathbb{R}^{k \\times m}$:\n",
        "\n",
        "$$\\mathbf{A}=\\begin{bmatrix}\n",
        " a_{11} & a_{12} & \\cdots & a_{1k} \\\\\n",
        " a_{21} & a_{22} & \\cdots & a_{2k} \\\\\n",
        "\\vdots & \\vdots & \\ddots & \\vdots \\\\\n",
        " a_{n1} & a_{n2} & \\cdots & a_{nk} \\\\\n",
        "\\end{bmatrix},\\quad\n",
        "\\mathbf{B}=\\begin{bmatrix}\n",
        " b_{11} & b_{12} & \\cdots & b_{1m} \\\\\n",
        " b_{21} & b_{22} & \\cdots & b_{2m} \\\\\n",
        "\\vdots & \\vdots & \\ddots & \\vdots \\\\\n",
        " b_{k1} & b_{k2} & \\cdots & b_{km} \\\\\n",
        "\\end{bmatrix}.$$\n",
        "\n",
        "\n",
        "Denote by $\\mathbf{a}^\\top_{i} \\in \\mathbb{R}^k$\n",
        "the row vector representing the $i^\\mathrm{th}$ row of the matrix $\\mathbf{A}$,\n",
        "and let $\\mathbf{b}_{j} \\in \\mathbb{R}^k$\n",
        "be the column vector from the $j^\\mathrm{th}$ column of the matrix $\\mathbf{B}$.\n",
        "To produce the matrix product $\\mathbf{C} = \\mathbf{A}\\mathbf{B}$, it is easiest to think of $\\mathbf{A}$ in terms of its row vectors and $\\mathbf{B}$ in terms of its column vectors:\n",
        "\n",
        "$$\\mathbf{A}=\n",
        "\\begin{bmatrix}\n",
        "\\mathbf{a}^\\top_{1} \\\\\n",
        "\\mathbf{a}^\\top_{2} \\\\\n",
        "\\vdots \\\\\n",
        "\\mathbf{a}^\\top_n \\\\\n",
        "\\end{bmatrix},\n",
        "\\quad \\mathbf{B}=\\begin{bmatrix}\n",
        " \\mathbf{b}_{1} & \\mathbf{b}_{2} & \\cdots & \\mathbf{b}_{m} \\\\\n",
        "\\end{bmatrix}.\n",
        "$$\n",
        "\n",
        "\n",
        "Then the matrix product $\\mathbf{C} \\in \\mathbb{R}^{n \\times m}$ is produced as we simply compute each element $c_{ij}$ as the dot product $\\mathbf{a}^\\top_i \\mathbf{b}_j$:\n",
        "\n",
        "$$\\mathbf{C} = \\mathbf{AB} = \\begin{bmatrix}\n",
        "\\mathbf{a}^\\top_{1} \\\\\n",
        "\\mathbf{a}^\\top_{2} \\\\\n",
        "\\vdots \\\\\n",
        "\\mathbf{a}^\\top_n \\\\\n",
        "\\end{bmatrix}\n",
        "\\begin{bmatrix}\n",
        " \\mathbf{b}_{1} & \\mathbf{b}_{2} & \\cdots & \\mathbf{b}_{m} \\\\\n",
        "\\end{bmatrix}\n",
        "= \\begin{bmatrix}\n",
        "\\mathbf{a}^\\top_{1} \\mathbf{b}_1 & \\mathbf{a}^\\top_{1}\\mathbf{b}_2& \\cdots & \\mathbf{a}^\\top_{1} \\mathbf{b}_m \\\\\n",
        " \\mathbf{a}^\\top_{2}\\mathbf{b}_1 & \\mathbf{a}^\\top_{2} \\mathbf{b}_2 & \\cdots & \\mathbf{a}^\\top_{2} \\mathbf{b}_m \\\\\n",
        " \\vdots & \\vdots & \\ddots &\\vdots\\\\\n",
        "\\mathbf{a}^\\top_{n} \\mathbf{b}_1 & \\mathbf{a}^\\top_{n}\\mathbf{b}_2& \\cdots& \\mathbf{a}^\\top_{n} \\mathbf{b}_m\n",
        "\\end{bmatrix}.\n",
        "$$\n",
        "\n",
        "[**We can think of the matrix-matrix multiplication $\\mathbf{AB}$ as simply performing $m$ matrix-vector products and stitching the results together to form an $n \\times m$ matrix.**]\n",
        "In the following snippet, we perform matrix multiplication on `A` and `B`.\n",
        "Here, `A` is a matrix with 5 rows and 4 columns,\n",
        "and `B` is a matrix with 4 rows and 3 columns.\n",
        "After multiplication, we obtain a matrix with 5 rows and 3 columns.\n"
      ]
    },
    {
      "cell_type": "code",
      "metadata": {
        "origin_pos": 109,
        "tab": [
          "pytorch"
        ],
        "id": "N9cQHMvsCtx5",
        "colab": {
          "base_uri": "https://localhost:8080/"
        },
        "outputId": "5037b518-986a-4a46-bf96-09757eb42b47"
      },
      "source": [
        "B = torch.ones(4, 3)\n",
        "torch.mm(A, B)"
      ],
      "execution_count": 33,
      "outputs": [
        {
          "output_type": "execute_result",
          "data": {
            "text/plain": [
              "tensor([[ 6.,  6.,  6.],\n",
              "        [22., 22., 22.],\n",
              "        [38., 38., 38.],\n",
              "        [54., 54., 54.],\n",
              "        [70., 70., 70.]])"
            ]
          },
          "metadata": {},
          "execution_count": 33
        }
      ]
    },
    {
      "cell_type": "markdown",
      "metadata": {
        "origin_pos": 111,
        "id": "-9HkepuMCtx5"
      },
      "source": [
        "Matrix-matrix multiplication can be simply called *matrix multiplication*, and should not be confused with the Hadamard product.\n",
        "\n",
        "\n",
        "## Norms\n",
        ":label:`subsec_lin-algebra-norms`\n",
        "\n",
        "Some of the most useful operators in linear algebra are *norms*.\n",
        "Informally, the norm of a vector tells us how *big* a vector is.\n",
        "The notion of *size* under consideration here\n",
        "concerns not dimensionality\n",
        "but rather the magnitude of the components.\n",
        "\n",
        "In linear algebra, a vector norm is a function $f$ that maps a vector\n",
        "to a scalar, satisfying a handful of properties.\n",
        "Given any vector $\\mathbf{x}$,\n",
        "the first property says\n",
        "that if we scale all the elements of a vector\n",
        "by a constant factor $\\alpha$,\n",
        "its norm also scales by the *absolute value*\n",
        "of the same constant factor:\n",
        "\n",
        "$$f(\\alpha \\mathbf{x}) = |\\alpha| f(\\mathbf{x}).$$\n",
        "\n",
        "\n",
        "The second property is the familiar triangle inequality:\n",
        "\n",
        "$$f(\\mathbf{x} + \\mathbf{y}) \\leq f(\\mathbf{x}) + f(\\mathbf{y}).$$\n",
        "\n",
        "\n",
        "The third property simply says that the norm must be non-negative:\n",
        "\n",
        "$$f(\\mathbf{x}) \\geq 0.$$\n",
        "\n",
        "That makes sense, as in most contexts the smallest *size* for anything is 0.\n",
        "The final property requires that the smallest norm is achieved and only achieved\n",
        "by a vector consisting of all zeros.\n",
        "\n",
        "$$\\forall i, [\\mathbf{x}]_i = 0 \\Leftrightarrow f(\\mathbf{x})=0.$$\n",
        "\n",
        "You might notice that norms sound a lot like measures of distance.\n",
        "And if you remember Euclidean distances\n",
        "(think Pythagoras' theorem) from grade school,\n",
        "then the concepts of non-negativity and the triangle inequality might ring a bell.\n",
        "In fact, the Euclidean distance is a norm:\n",
        "specifically it is the $L_2$ norm.\n",
        "Suppose that the elements in the $n$-dimensional vector\n",
        "$\\mathbf{x}$ are $x_1, \\ldots, x_n$.\n",
        "\n",
        "[**The $L_2$ *norm* of $\\mathbf{x}$ is the square root of the sum of the squares of the vector elements:**]\n",
        "\n",
        "(**$$\\|\\mathbf{x}\\|_2 = \\sqrt{\\sum_{i=1}^n x_i^2},$$**)\n",
        "\n",
        "\n",
        "where the subscript $2$ is often omitted in $L_2$ norms, i.e., $\\|\\mathbf{x}\\|$ is equivalent to $\\|\\mathbf{x}\\|_2$. In code,\n",
        "we can calculate the $L_2$ norm of a vector as follows.\n"
      ]
    },
    {
      "cell_type": "code",
      "metadata": {
        "origin_pos": 113,
        "tab": [
          "pytorch"
        ],
        "id": "SGlmZaYKCtx6",
        "colab": {
          "base_uri": "https://localhost:8080/"
        },
        "outputId": "c42e5257-da6e-452a-f44b-ed9774ce5075"
      },
      "source": [
        "u = torch.tensor([3.0, -4.0])\n",
        "torch.norm(u)"
      ],
      "execution_count": 34,
      "outputs": [
        {
          "output_type": "execute_result",
          "data": {
            "text/plain": [
              "tensor(5.)"
            ]
          },
          "metadata": {},
          "execution_count": 34
        }
      ]
    },
    {
      "cell_type": "markdown",
      "metadata": {
        "origin_pos": 115,
        "id": "tolFoy6ECtx6"
      },
      "source": [
        "In deep learning, we work more often\n",
        "with the squared $L_2$ norm.\n",
        "\n",
        "You will also frequently encounter [**the $L_1$ *norm***],\n",
        "which is expressed as the sum of the absolute values of the vector elements:\n",
        "\n",
        "(**$$\\|\\mathbf{x}\\|_1 = \\sum_{i=1}^n \\left|x_i \\right|.$$**)\n",
        "\n",
        "\n",
        "As compared with the $L_2$ norm,\n",
        "it is less influenced by outliers.\n",
        "To calculate the $L_1$ norm, we compose\n",
        "the absolute value function with a sum over the elements.\n"
      ]
    },
    {
      "cell_type": "code",
      "metadata": {
        "origin_pos": 117,
        "tab": [
          "pytorch"
        ],
        "id": "JuxRNk6iCtx6",
        "colab": {
          "base_uri": "https://localhost:8080/"
        },
        "outputId": "62b094e4-778e-4895-f2ec-797e8815a762"
      },
      "source": [
        "torch.abs(u).sum()"
      ],
      "execution_count": 35,
      "outputs": [
        {
          "output_type": "execute_result",
          "data": {
            "text/plain": [
              "tensor(7.)"
            ]
          },
          "metadata": {},
          "execution_count": 35
        }
      ]
    },
    {
      "cell_type": "markdown",
      "metadata": {
        "origin_pos": 119,
        "id": "Cd7YxbMrCtx7"
      },
      "source": [
        "Both the $L_2$ norm and the $L_1$ norm\n",
        "are special cases of the more general $L_p$ *norm*:\n",
        "\n",
        "$$\\|\\mathbf{x}\\|_p = \\left(\\sum_{i=1}^n \\left|x_i \\right|^p \\right)^{1/p}.$$\n",
        "\n",
        "Analogous to $L_2$ norms of vectors,\n",
        "[**the *Frobenius norm* of a matrix $\\mathbf{X} \\in \\mathbb{R}^{m \\times n}$**]\n",
        "is the square root of the sum of the squares of the matrix elements:\n",
        "\n",
        "[**$$\\|\\mathbf{X}\\|_F = \\sqrt{\\sum_{i=1}^m \\sum_{j=1}^n x_{ij}^2}.$$**]\n",
        "\n",
        "The Frobenius norm satisfies all the properties of vector norms.\n",
        "It behaves as if it were an $L_2$ norm of a matrix-shaped vector.\n",
        "Invoking the following function will calculate the Frobenius norm of a matrix.\n"
      ]
    },
    {
      "cell_type": "code",
      "metadata": {
        "origin_pos": 121,
        "tab": [
          "pytorch"
        ],
        "id": "wtMtH1wXCtx7",
        "colab": {
          "base_uri": "https://localhost:8080/"
        },
        "outputId": "198904bc-0a1e-467a-df99-bb84c3aeb161"
      },
      "source": [
        "torch.norm(torch.ones((4, 9)))"
      ],
      "execution_count": 36,
      "outputs": [
        {
          "output_type": "execute_result",
          "data": {
            "text/plain": [
              "tensor(6.)"
            ]
          },
          "metadata": {},
          "execution_count": 36
        }
      ]
    },
    {
      "cell_type": "markdown",
      "metadata": {
        "origin_pos": 123,
        "id": "2BRSCL50Ctx7"
      },
      "source": [
        "### Norms and Objectives\n",
        ":label:`subsec_norms_and_objectives`\n",
        "\n",
        "While we do not want to get too far ahead of ourselves,\n",
        "we can plant some intuition already about why these concepts are useful.\n",
        "In deep learning, we are often trying to solve optimization problems:\n",
        "*maximize* the probability assigned to observed data;\n",
        "*minimize* the distance between predictions\n",
        "and the ground-truth observations.\n",
        "Assign vector representations to items (like words, products, or news articles)\n",
        "such that the distance between similar items is minimized,\n",
        "and the distance between dissimilar items is maximized.\n",
        "Oftentimes, the objectives, perhaps the most important components\n",
        "of deep learning algorithms (besides the data),\n",
        "are expressed as norms.\n",
        "\n",
        "\n",
        "\n",
        "## More on Linear Algebra\n",
        "\n",
        "In just this section,\n",
        "we have taught you all the linear algebra\n",
        "that you will need to understand\n",
        "a remarkable chunk of modern deep learning.\n",
        "There is a lot more to linear algebra\n",
        "and a lot of that mathematics is useful for machine learning.\n",
        "For example, matrices can be decomposed into factors,\n",
        "and these decompositions can reveal\n",
        "low-dimensional structure in real-world datasets.\n",
        "There are entire subfields of machine learning\n",
        "that focus on using matrix decompositions\n",
        "and their generalizations to high-order tensors\n",
        "to discover structure in datasets and solve prediction problems.\n",
        "But this book focuses on deep learning.\n",
        "And we believe you will be much more inclined to learn more mathematics\n",
        "once you have gotten your hands dirty\n",
        "deploying useful machine learning models on real datasets.\n",
        "So while we reserve the right to introduce more mathematics much later on,\n",
        "we will wrap up this section here.\n",
        "\n",
        "If you are eager to learn more about linear algebra,\n",
        "you may refer to either the\n",
        "[online appendix on linear algebraic operations](https://d2l.ai/chapter_appendix-mathematics-for-deep-learning/geometry-linear-algebraic-ops.html)\n",
        "or other excellent resources :cite:`Strang.1993,Kolter.2008,Petersen.Pedersen.ea.2008`.\n",
        "\n",
        "\n",
        "\n",
        "## Summary\n",
        "\n",
        "* Scalars, vectors, matrices, and tensors are basic mathematical objects in linear algebra.\n",
        "* Vectors generalize scalars, and matrices generalize vectors.\n",
        "* Scalars, vectors, matrices, and tensors have zero, one, two, and an arbitrary number of axes, respectively.\n",
        "* A tensor can be reduced along the specified axes by `sum` and `mean`.\n",
        "* Elementwise multiplication of two matrices is called their Hadamard product. It is different from matrix multiplication.\n",
        "* In deep learning, we often work with norms such as the $L_1$ norm, the $L_2$ norm, and the Frobenius norm.\n",
        "* We can perform a variety of operations over scalars, vectors, matrices, and tensors.\n",
        "\n",
        "## Exercises\n",
        "\n",
        "1. Prove that the transpose of a matrix $\\mathbf{A}$'s transpose is $\\mathbf{A}$: $(\\mathbf{A}^\\top)^\\top = \\mathbf{A}$.\n",
        "1. Given two matrices $\\mathbf{A}$ and $\\mathbf{B}$, show that the sum of transposes is equal to the transpose of a sum: $\\mathbf{A}^\\top + \\mathbf{B}^\\top = (\\mathbf{A} + \\mathbf{B})^\\top$.\n",
        "1. Given any square matrix $\\mathbf{A}$, is $\\mathbf{A} + \\mathbf{A}^\\top$ always symmetric? Why?\n",
        "1. We defined the tensor `X` of shape (2, 3, 4) in this section. What is the output of `len(X)`?\n",
        "1. For a tensor `X` of arbitrary shape, does `len(X)` always correspond to the length of a certain axis of `X`? What is that axis?\n",
        "1. Run `A / A.sum(axis=1)` and see what happens. Can you analyze the reason?\n",
        "1. When traveling between two points in Manhattan, what is the distance that you need to cover in terms of the coordinates, i.e., in terms of avenues and streets? Can you travel diagonally?\n",
        "1. Consider a tensor with shape (2, 3, 4). What are the shapes of the summation outputs along axis 0, 1, and 2?\n",
        "1. Feed a tensor with 3 or more axes to the `linalg.norm` function and observe its output. What does this function compute for tensors of arbitrary shape?\n"
      ]
    },
    {
      "cell_type": "markdown",
      "metadata": {
        "origin_pos": 125,
        "tab": [
          "pytorch"
        ],
        "id": "fAXT1W60Ctx8"
      },
      "source": [
        "[Discussions](https://discuss.d2l.ai/t/31)\n"
      ]
    }
  ]
}